{
 "cells": [
  {
   "cell_type": "code",
   "execution_count": null,
   "metadata": {},
   "outputs": [],
   "source": [
    "from _utils import *\n",
    "import pandas as pd\n",
    "from gudhi import SimplexTree\n",
    "import pickle as pkl\n",
    "import matplotlib.pyplot as plt\n",
    "from joblib import Parallel, delayed"
   ]
  },
  {
   "cell_type": "code",
   "execution_count": null,
   "metadata": {},
   "outputs": [],
   "source": [
    "df = pd.read_csv('/Users/anibal/Downloads/champs-scalar-coupling/train.csv') "
   ]
  },
  {
   "cell_type": "code",
   "execution_count": null,
   "metadata": {},
   "outputs": [],
   "source": [
    "df.head()"
   ]
  },
  {
   "cell_type": "markdown",
   "metadata": {},
   "source": [
    "### Getting and filtering the interesting molecules"
   ]
  },
  {
   "cell_type": "code",
   "execution_count": null,
   "metadata": {},
   "outputs": [],
   "source": [
    "def save_interesting_molecules(df):\n",
    "    \n",
    "    st = SimplexTree()\n",
    "    interesting_molecules = {}\n",
    "    for i in range(1,len(df)):\n",
    "        if df['molecule_name'][i] == df['molecule_name'][i-1]:\n",
    "\n",
    "            st.insert([df['atom_index_1'][i-1],\n",
    "                       df['atom_index_0'][i-1]], \n",
    "                      df['scalar_coupling_constant'][i-1])\n",
    "\n",
    "        else:\n",
    "            st.expansion(3)\n",
    "            barcode = st.persistence(homology_coeff_field=2)\n",
    "            if len(barcode) > 3 and barcode[0][0]>1:\n",
    "                interesting_molecules[df['molecule_name'][i-1]] = \\\n",
    "                            tuple([tuple(pair[0]) for pair in st.get_filtration()])\n",
    "\n",
    "            st = SimplexTree()\n",
    "\n",
    "    pkl.dump(interesting_molecules, open(\"interesting_filtered_molecules.pkl\", \"wb\"))"
   ]
  },
  {
   "cell_type": "code",
   "execution_count": null,
   "metadata": {},
   "outputs": [],
   "source": [
    "def save_filter_interesting_molecules():\n",
    "    with open('interesting_molecules.txt') as f:\n",
    "        interesting_names = f.readlines()\n",
    "        interesting_names = [name[:-1] for name in interesting_names]\n",
    "    \n",
    "    interesting_filtered_molecules = {}\n",
    "    for name in interesting_names:\n",
    "        molecule_df = df[df['molecule_name'] == name]\n",
    "        st = SimplexTree()\n",
    "        for index, row in molecule_df.iterrows():\n",
    "            st.insert([row['atom_index_1'],\n",
    "                       row['atom_index_0']], \n",
    "                      -row['scalar_coupling_constant'])\n",
    "\n",
    "        st.expansion(3)\n",
    "        filtration = tuple([tuple(pair[0]) for pair in st.get_filtration()])\n",
    "\n",
    "        interesting_filtered_molecules[name] = filtration\n",
    "        \n",
    "    pkl.dump(interesting_filtered_molecules, open(\"interesting_filtered_molecules.pkl\", \"wb\"))"
   ]
  },
  {
   "cell_type": "code",
   "execution_count": null,
   "metadata": {},
   "outputs": [],
   "source": [
    "def save_super_interesting_molecules():\n",
    "    \n",
    "    interesting_filtered_molecules = pkl.load(open(\"interesting_filtered_molecules.pkl\", \"rb\"))\n",
    "\n",
    "    curves = {}\n",
    "    for name, filtration in interesting_filtered_molecules.items():\n",
    "\n",
    "        coboundary = get_coboundary(filtration)\n",
    "        reduced, triangular = get_reduced_triangular(coboundary)\n",
    "\n",
    "        barcode = get_barcode(reduced, filtration)\n",
    "        coho_reps = get_coho_reps(barcode, reduced, triangular, filtration)\n",
    "        steenrod_reps = get_steenrod_reps(1, coho_reps, filtration)\n",
    "        \n",
    "        curve = tuple(get_steenrod_curve(barcode, steenrod_reps, filtration, reduced))\n",
    "        if sum(curve) > 0:\n",
    "            curves[name] = curve\n",
    "        \n",
    "    pkl.dump(curves, open(\"super_interesting_filtered_molecules.pkl\", \"wb\"))"
   ]
  },
  {
   "cell_type": "code",
   "execution_count": null,
   "metadata": {},
   "outputs": [],
   "source": [
    "def plot_steenrod_curves():\n",
    "    super_interesting_filtered_molecules = (\n",
    "        pkl.load(open(\"super_interesting_filtered_molecules.pkl\", \"rb\")) )\n",
    "    for name, curve in super_interesting_filtered_molecules.items():\n",
    "        plot = plt.plot(range(len(curve)), \n",
    "                        curve, \n",
    "                        label=f'length={sum(curve)}')\n",
    "        plt.legend()\n",
    "        plt.suptitle(name)    \n",
    "        plt.show()"
   ]
  },
  {
   "cell_type": "markdown",
   "metadata": {},
   "source": [
    "### Main"
   ]
  },
  {
   "cell_type": "code",
   "execution_count": null,
   "metadata": {},
   "outputs": [],
   "source": [
    "save_interesting_molecules(df)"
   ]
  },
  {
   "cell_type": "code",
   "execution_count": null,
   "metadata": {},
   "outputs": [],
   "source": [
    "save_filter_interesting_molecules()"
   ]
  },
  {
   "cell_type": "code",
   "execution_count": null,
   "metadata": {},
   "outputs": [],
   "source": [
    "save_super_interesting_molecules()"
   ]
  },
  {
   "cell_type": "code",
   "execution_count": null,
   "metadata": {},
   "outputs": [],
   "source": [
    "plot_steenrod_curves()"
   ]
  }
 ],
 "metadata": {
  "kernelspec": {
   "display_name": "Python 3",
   "language": "python",
   "name": "python3"
  },
  "language_info": {
   "codemirror_mode": {
    "name": "ipython",
    "version": 3
   },
   "file_extension": ".py",
   "mimetype": "text/x-python",
   "name": "python",
   "nbconvert_exporter": "python",
   "pygments_lexer": "ipython3",
   "version": "3.7.3"
  }
 },
 "nbformat": 4,
 "nbformat_minor": 2
}
