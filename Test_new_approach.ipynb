{
 "cells": [
  {
   "cell_type": "code",
   "execution_count": null,
   "id": "photographic-helicopter",
   "metadata": {},
   "outputs": [],
   "source": [
    "%load_ext autoreload\n",
    "%autoreload 2\n",
    "\n",
    "import numpy as np\n",
    "import pickle\n",
    "from steenroder import barcodes"
   ]
  },
  {
   "cell_type": "code",
   "execution_count": null,
   "id": "stretch-philip",
   "metadata": {},
   "outputs": [],
   "source": [
    "with open('notebooks/rp4.pkl', 'rb') as f:\n",
    "    filtration = pickle.load(f)"
   ]
  },
  {
   "cell_type": "code",
   "execution_count": null,
   "id": "incoming-volume",
   "metadata": {},
   "outputs": [],
   "source": [
    "filtration = (\n",
    "    (0,), \n",
    "    (1,), (0,1), \n",
    "    (2,), (0,2), (1,2), (0,1,2),\n",
    "    (3,), (0,3), (1,3), (0,1,3), (2,3),\n",
    "    (4,), (0,4), (1,4), (2,4), (1,2,4), (3,4), (0,3,4), (2,3,4),\n",
    "    (5,), (0,5), (1,5), (2,5), (0,2,5), (3,5), (1,3,5), (2,3,5), (4,5), (0,4,5), (1,4,5)\n",
    "    )"
   ]
  },
  {
   "cell_type": "markdown",
   "id": "thrown-psychiatry",
   "metadata": {},
   "source": [
    "# New approach"
   ]
  },
  {
   "cell_type": "code",
   "execution_count": null,
   "id": "loved-consciousness",
   "metadata": {},
   "outputs": [],
   "source": [
    "# %%timeit\n",
    "barcodes(1, filtration)[1]"
   ]
  },
  {
   "cell_type": "markdown",
   "id": "central-expansion",
   "metadata": {},
   "source": [
    "# Using the previous approach"
   ]
  },
  {
   "cell_type": "code",
   "execution_count": null,
   "id": "mighty-background",
   "metadata": {},
   "outputs": [],
   "source": [
    "barcodes(1, filtration)[1]"
   ]
  }
 ],
 "metadata": {
  "kernelspec": {
   "display_name": "Python 3",
   "language": "python",
   "name": "python3"
  },
  "language_info": {
   "codemirror_mode": {
    "name": "ipython",
    "version": 3
   },
   "file_extension": ".py",
   "mimetype": "text/x-python",
   "name": "python",
   "nbconvert_exporter": "python",
   "pygments_lexer": "ipython3",
   "version": "3.9.2"
  }
 },
 "nbformat": 4,
 "nbformat_minor": 5
}
