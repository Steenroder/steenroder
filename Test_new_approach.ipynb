{
 "cells": [
  {
   "cell_type": "code",
   "execution_count": 1,
   "id": "afraid-biography",
   "metadata": {},
   "outputs": [],
   "source": [
    "%load_ext autoreload\n",
    "%autoreload 2\n",
    "\n",
    "import numpy as np\n",
    "import pickle\n",
    "from steenroder import *"
   ]
  },
  {
   "cell_type": "code",
   "execution_count": 2,
   "id": "completed-attribute",
   "metadata": {},
   "outputs": [],
   "source": [
    "# with open('notebooks/cone_rp4.pkl', 'rb') as f:\n",
    "#     filtration = pickle.load(f)"
   ]
  },
  {
   "cell_type": "code",
   "execution_count": 3,
   "id": "consecutive-month",
   "metadata": {},
   "outputs": [],
   "source": [
    "filtration = (\n",
    "    (0,), \n",
    "    (1,), (0,1), \n",
    "    (2,), (0,2), (1,2), (0,1,2),\n",
    "    (3,), (0,3), (1,3), (0,1,3), (2,3),\n",
    "    (4,), (0,4), (1,4), (2,4), (1,2,4), (3,4), (0,3,4), (2,3,4),\n",
    "    (5,), (0,5), (1,5), (2,5), (0,2,5), (3,5), (1,3,5), (2,3,5), (4,5), (0,4,5), (1,4,5)\n",
    "    )"
   ]
  },
  {
   "cell_type": "markdown",
   "id": "changing-endorsement",
   "metadata": {},
   "source": [
    "# New approach"
   ]
  },
  {
   "cell_type": "code",
   "execution_count": 4,
   "id": "rural-suicide",
   "metadata": {},
   "outputs": [
    {
     "data": {
      "text/plain": [
       "[(array([20, 12,  7,  3,  1,  0]),\n",
       "  ([[21, 22, 23, 25, 28],\n",
       "    [13, 14, 15, 17, 28],\n",
       "    [8, 9, 11, 17, 25],\n",
       "    [4, 5, 11, 15, 23],\n",
       "    [2, 5, 9, 14, 22],\n",
       "    []],\n",
       "   [[20], [12], [7], [3], [1], [0, 1, 3, 7, 12, 20]])),\n",
       " (array([28, 25, 23, 22, 21, 17, 15, 14, 13, 11,  9,  8,  5,  4,  2]),\n",
       "  ([[29, 30],\n",
       "    [26, 27],\n",
       "    [24, 27],\n",
       "    [27, 30],\n",
       "    [],\n",
       "    [18, 19],\n",
       "    [16, 19],\n",
       "    [19, 30],\n",
       "    [],\n",
       "    [],\n",
       "    [10, 26],\n",
       "    [],\n",
       "    [6, 16],\n",
       "    [],\n",
       "    []],\n",
       "   [[28],\n",
       "    [25],\n",
       "    [23],\n",
       "    [22, 25],\n",
       "    [21, 22, 23, 25, 28],\n",
       "    [17],\n",
       "    [15],\n",
       "    [14, 15],\n",
       "    [13, 14, 15, 17, 28],\n",
       "    [11, 14, 15, 22, 25],\n",
       "    [9],\n",
       "    [8, 9, 14, 15, 17, 22],\n",
       "    [5],\n",
       "    [4, 5, 14, 22, 23, 25],\n",
       "    [2, 5, 9, 14, 22]])),\n",
       " (array([30, 29, 27, 26, 24, 19, 18, 16, 10,  6]),\n",
       "  ([[], [], [], [], [], [], [], [], [], []],\n",
       "   [[30], [29], [27], [26], [24], [19], [18], [16], [10], [6]]))]"
      ]
     },
     "execution_count": 4,
     "metadata": {},
     "output_type": "execute_result"
    }
   ],
   "source": [
    "filtration_by_dim, spx_filtration_idx_by_dim = sort_filtration_by_dim(filtration, maxdim=None)\n",
    "matrix_gen = gen_coboundary_by_dim(filtration_by_dim, spx_filtration_idx_by_dim)\n",
    "result_after_reduction = get_reduced_triangular_sparse(matrix_gen)\n",
    "result_after_reduction"
   ]
  },
  {
   "cell_type": "code",
   "execution_count": 5,
   "id": "preceding-teens",
   "metadata": {},
   "outputs": [
    {
     "data": {
      "text/plain": [
       "[[(30, inf)],\n",
       " [(9, 10), (17, 18), (19, inf), (22, 23), (26, 27), (28, 29)],\n",
       " [(0, inf),\n",
       "  (1, 2),\n",
       "  (3, 8),\n",
       "  (4, 5),\n",
       "  (6, 7),\n",
       "  (11, 16),\n",
       "  (12, 13),\n",
       "  (14, 15),\n",
       "  (20, 21),\n",
       "  (24, 25)]]"
      ]
     },
     "execution_count": 5,
     "metadata": {},
     "output_type": "execute_result"
    }
   ],
   "source": [
    "barcode = get_barcode_from_sparse(filtration, result_after_reduction)\n",
    "barcode"
   ]
  },
  {
   "cell_type": "code",
   "execution_count": 16,
   "id": "several-philippines",
   "metadata": {},
   "outputs": [
    {
     "data": {
      "text/plain": [
       "[(0,), (1,), (2,), (3,), (4,), (5,)]"
      ]
     },
     "execution_count": 16,
     "metadata": {},
     "output_type": "execute_result"
    }
   ],
   "source": [
    "[filtration[30 - x] for x in coho_reps[0][0]]"
   ]
  },
  {
   "cell_type": "code",
   "execution_count": 6,
   "id": "turkish-emphasis",
   "metadata": {},
   "outputs": [
    {
     "data": {
      "text/plain": [
       "[[[30, 29, 27, 23, 18, 10]],\n",
       " [[9, 8, 7, 5, 2],\n",
       "  [17, 16, 15, 13, 2],\n",
       "  [19, 16, 15, 8, 5],\n",
       "  [22, 21, 19, 13, 5],\n",
       "  [26, 25, 19, 15, 7],\n",
       "  [28, 25, 21, 16, 8]],\n",
       " [[0],\n",
       "  [1, 0],\n",
       "  [3, 0],\n",
       "  [4, 3],\n",
       "  [6, 3],\n",
       "  [11, 0],\n",
       "  [12, 11],\n",
       "  [14, 11],\n",
       "  [20, 4],\n",
       "  [24, 14]]]"
      ]
     },
     "execution_count": 6,
     "metadata": {},
     "output_type": "execute_result"
    }
   ],
   "source": [
    "coho_reps = get_coho_reps_from_sparse(filtration, barcode, result_after_reduction)\n",
    "coho_reps"
   ]
  },
  {
   "cell_type": "code",
   "execution_count": 18,
   "id": "deadly-pierre",
   "metadata": {},
   "outputs": [
    {
     "data": {
      "text/plain": [
       "[[[]], [[]], [[], [0, 1], [3], [12, 11, 3, 4], [14, 6], [24, 20]]]"
      ]
     },
     "execution_count": 18,
     "metadata": {},
     "output_type": "execute_result"
    }
   ],
   "source": [
    "k = 1\n",
    "get_steenrod_matrix_sparse(k, coho_reps, filtration, spx_filtration_idx_by_dim)"
   ]
  },
  {
   "cell_type": "markdown",
   "id": "successful-contact",
   "metadata": {},
   "source": [
    "# Using the previous approach"
   ]
  },
  {
   "cell_type": "code",
   "execution_count": 8,
   "id": "clear-enterprise",
   "metadata": {},
   "outputs": [],
   "source": [
    "matrix = get_coboundary(filtration)\n",
    "reduced, triangular = get_reduced_triangular(matrix)"
   ]
  },
  {
   "cell_type": "code",
   "execution_count": 9,
   "id": "lesbian-stations",
   "metadata": {},
   "outputs": [
    {
     "data": {
      "text/plain": [
       "[(0, inf),\n",
       " (1, 2),\n",
       " (3, 8),\n",
       " (4, 5),\n",
       " (6, 7),\n",
       " (9, 10),\n",
       " (11, 16),\n",
       " (12, 13),\n",
       " (14, 15),\n",
       " (17, 18),\n",
       " (19, inf),\n",
       " (20, 21),\n",
       " (22, 23),\n",
       " (24, 25),\n",
       " (26, 27),\n",
       " (28, 29),\n",
       " (30, inf)]"
      ]
     },
     "execution_count": 9,
     "metadata": {},
     "output_type": "execute_result"
    }
   ],
   "source": [
    "barcode = get_barcode(filtration, reduced)\n",
    "barcode"
   ]
  },
  {
   "cell_type": "code",
   "execution_count": 10,
   "id": "quality-influence",
   "metadata": {},
   "outputs": [
    {
     "data": {
      "text/plain": [
       "{0: [(30, inf)],\n",
       " 1: [(9, 10), (17, 18), (19, inf), (22, 23), (26, 27), (28, 29)],\n",
       " 2: [(0, inf),\n",
       "  (1, 2),\n",
       "  (3, 8),\n",
       "  (4, 5),\n",
       "  (6, 7),\n",
       "  (11, 16),\n",
       "  (12, 13),\n",
       "  (14, 15),\n",
       "  (20, 21),\n",
       "  (24, 25)]}"
      ]
     },
     "execution_count": 10,
     "metadata": {},
     "output_type": "execute_result"
    }
   ],
   "source": [
    "filter_barcode_by_dim(barcode, filtration)"
   ]
  },
  {
   "cell_type": "code",
   "execution_count": 11,
   "id": "hungry-dream",
   "metadata": {},
   "outputs": [
    {
     "name": "stdout",
     "output_type": "stream",
     "text": [
      "[0]\n",
      "[0 1]\n",
      "[0 3]\n",
      "[3 4]\n",
      "[3 6]\n",
      "[2 5 7 8 9]\n",
      "[ 0 11]\n",
      "[11 12]\n",
      "[11 14]\n",
      "[ 2 13 15 16 17]\n",
      "[ 5  8 15 16 19]\n",
      "[ 4 20]\n",
      "[ 5 13 19 21 22]\n",
      "[14 24]\n",
      "[ 7 15 19 25 26]\n",
      "[ 8 16 21 25 28]\n",
      "[10 18 23 27 29 30]\n"
     ]
    }
   ],
   "source": [
    "cohoreps = get_coho_reps(filtration, barcode, reduced, triangular)\n",
    "for j in range(len(barcode)):\n",
    "    print(np.flatnonzero(cohoreps[:, j]))"
   ]
  },
  {
   "cell_type": "code",
   "execution_count": 12,
   "id": "comic-notion",
   "metadata": {},
   "outputs": [],
   "source": [
    "steenrod_matrix = get_steenrod_matrix(k, cohoreps, barcode, filtration)"
   ]
  },
  {
   "cell_type": "markdown",
   "id": "consecutive-timothy",
   "metadata": {},
   "source": [
    "# Check that the reduced and triangular matrices are the same in both approaches"
   ]
  },
  {
   "cell_type": "code",
   "execution_count": 10,
   "id": "ahead-costume",
   "metadata": {},
   "outputs": [],
   "source": [
    "N = len(filtration)\n",
    "for idxs, (red, tri) in result_after_reduction:\n",
    "    for i in range(len(idxs)):\n",
    "        assert set(N - 1 - np.flatnonzero(reduced[:, N - 1 - idxs[i]])) == red[i]\n",
    "        assert set(N - 1 - np.flatnonzero(triangular[:, N - 1 - idxs[i]])) == tri[i]"
   ]
  },
  {
   "cell_type": "code",
   "execution_count": null,
   "id": "inclusive-posting",
   "metadata": {},
   "outputs": [],
   "source": [
    "# N = len(filtration)\n",
    "# matrix_gen = gen_coboundary_by_dim(filtration)\n",
    "# for idxs, data in matrix_gen:\n",
    "#     print(idxs)\n",
    "#     for i in range(len(idxs)):\n",
    "#         assert set(N - 1 - np.flatnonzero(matrix[:, N - 1 - idxs[i]])) == set(data[i])"
   ]
  }
 ],
 "metadata": {
  "kernelspec": {
   "display_name": "Python 3",
   "language": "python",
   "name": "python3"
  },
  "language_info": {
   "codemirror_mode": {
    "name": "ipython",
    "version": 3
   },
   "file_extension": ".py",
   "mimetype": "text/x-python",
   "name": "python",
   "nbconvert_exporter": "python",
   "pygments_lexer": "ipython3",
   "version": "3.9.2"
  }
 },
 "nbformat": 4,
 "nbformat_minor": 5
}
