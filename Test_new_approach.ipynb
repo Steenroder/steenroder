{
 "cells": [
  {
   "cell_type": "code",
   "execution_count": 1,
   "id": "posted-portal",
   "metadata": {},
   "outputs": [],
   "source": [
    "%load_ext autoreload\n",
    "%autoreload 2\n",
    "\n",
    "import numpy as np\n",
    "import pickle\n",
    "from steenroder import *"
   ]
  },
  {
   "cell_type": "code",
   "execution_count": 2,
   "id": "later-savings",
   "metadata": {},
   "outputs": [],
   "source": [
    "# with open('cone_rp4.pkl', 'rb') as f:\n",
    "#     filtration = pickle.load(f)"
   ]
  },
  {
   "cell_type": "code",
   "execution_count": 3,
   "id": "centered-payday",
   "metadata": {},
   "outputs": [],
   "source": [
    "filtration = (\n",
    "    (0,), \n",
    "    (1,), (0,1), \n",
    "    (2,), (0,2), (1,2), (0,1,2),\n",
    "    (3,), (0,3), (1,3), (0,1,3), (2,3),\n",
    "    (4,), (0,4), (1,4), (2,4), (1,2,4), (3,4), (0,3,4), (2,3,4),\n",
    "    (5,), (0,5), (1,5), (2,5), (0,2,5), (3,5), (1,3,5), (2,3,5), (4,5), (0,4,5), (1,4,5)\n",
    "    )"
   ]
  },
  {
   "cell_type": "markdown",
   "id": "veterinary-investment",
   "metadata": {},
   "source": [
    "# New approach"
   ]
  },
  {
   "cell_type": "code",
   "execution_count": 4,
   "id": "emerging-reservation",
   "metadata": {},
   "outputs": [
    {
     "data": {
      "text/plain": [
       "[(array([20, 12,  7,  3,  1,  0]),\n",
       "  ([{21, 22, 23, 25, 28},\n",
       "    {13, 14, 15, 17, 28},\n",
       "    {8, 9, 11, 17, 25},\n",
       "    {4, 5, 11, 15, 23},\n",
       "    {2, 5, 9, 14, 22},\n",
       "    set()],\n",
       "   [{20}, {12}, {7}, {3}, {1}, {0, 1, 3, 7, 12, 20}])),\n",
       " (array([28, 25, 23, 22, 21, 17, 15, 14, 13, 11,  9,  8,  5,  4,  2]),\n",
       "  ([{29, 30},\n",
       "    {26, 27},\n",
       "    {24, 27},\n",
       "    {27, 30},\n",
       "    set(),\n",
       "    {18, 19},\n",
       "    {16, 19},\n",
       "    {19, 30},\n",
       "    set(),\n",
       "    set(),\n",
       "    {10, 26},\n",
       "    set(),\n",
       "    {6, 16},\n",
       "    set(),\n",
       "    set()],\n",
       "   [{28},\n",
       "    {25},\n",
       "    {23},\n",
       "    {22, 25},\n",
       "    {21, 22, 23, 25, 28},\n",
       "    {17},\n",
       "    {15},\n",
       "    {14, 15},\n",
       "    {13, 14, 15, 17, 28},\n",
       "    {11, 14, 15, 22, 25},\n",
       "    {9},\n",
       "    {8, 9, 14, 15, 17, 22},\n",
       "    {5},\n",
       "    {4, 5, 14, 22, 23, 25},\n",
       "    {2, 5, 9, 14, 22}])),\n",
       " (array([30, 29, 27, 26, 24, 19, 18, 16, 10,  6]),\n",
       "  ([set(), set(), set(), set(), set(), set(), set(), set(), set(), set()],\n",
       "   [{30}, {29}, {27}, {26}, {24}, {19}, {18}, {16}, {10}, {6}]))]"
      ]
     },
     "execution_count": 4,
     "metadata": {},
     "output_type": "execute_result"
    }
   ],
   "source": [
    "matrix_gen = gen_coboundary_by_dim(filtration)\n",
    "result_after_reduction = get_reduced_triangular_sparse(matrix_gen)\n",
    "result_after_reduction"
   ]
  },
  {
   "cell_type": "code",
   "execution_count": 5,
   "id": "durable-generation",
   "metadata": {},
   "outputs": [
    {
     "data": {
      "text/plain": [
       "[[(9, 10), (17, 18), (22, 23), (26, 27), (28, 29), (30, inf)],\n",
       " [(1, 2),\n",
       "  (3, 8),\n",
       "  (4, 5),\n",
       "  (6, 7),\n",
       "  (11, 16),\n",
       "  (12, 13),\n",
       "  (14, 15),\n",
       "  (19, inf),\n",
       "  (20, 21),\n",
       "  (24, 25)],\n",
       " [(0, inf)]]"
      ]
     },
     "execution_count": 5,
     "metadata": {},
     "output_type": "execute_result"
    }
   ],
   "source": [
    "barcode_sparse = get_barcode_from_sparse(filtration, result_after_reduction)\n",
    "barcode_sparse"
   ]
  },
  {
   "cell_type": "code",
   "execution_count": 6,
   "id": "musical-ordering",
   "metadata": {},
   "outputs": [
    {
     "data": {
      "text/plain": [
       "[[{2, 5, 7, 8, 9},\n",
       "  {2, 13, 15, 16, 17},\n",
       "  {5, 13, 19, 21, 22},\n",
       "  {7, 15, 19, 25, 26},\n",
       "  {8, 16, 21, 25, 28},\n",
       "  {10, 18, 23, 27, 29, 30}],\n",
       " [{0, 1},\n",
       "  {0, 3},\n",
       "  {3, 4},\n",
       "  {3, 6},\n",
       "  {0, 11},\n",
       "  {11, 12},\n",
       "  {11, 14},\n",
       "  {5, 8, 15, 16, 19},\n",
       "  {4, 20},\n",
       "  {14, 24}],\n",
       " [{0}]]"
      ]
     },
     "execution_count": 6,
     "metadata": {},
     "output_type": "execute_result"
    }
   ],
   "source": [
    "get_coho_reps_from_sparse(filtration, barcode_sparse, result_after_reduction)"
   ]
  },
  {
   "cell_type": "markdown",
   "id": "forced-education",
   "metadata": {},
   "source": [
    "# Using the previous approach"
   ]
  },
  {
   "cell_type": "code",
   "execution_count": 7,
   "id": "infrared-institute",
   "metadata": {},
   "outputs": [],
   "source": [
    "matrix = get_coboundary(filtration)\n",
    "reduced, triangular = get_reduced_triangular(matrix)"
   ]
  },
  {
   "cell_type": "code",
   "execution_count": 8,
   "id": "downtown-stretch",
   "metadata": {},
   "outputs": [
    {
     "data": {
      "text/plain": [
       "[(0, inf),\n",
       " (1, 2),\n",
       " (3, 8),\n",
       " (4, 5),\n",
       " (6, 7),\n",
       " (9, 10),\n",
       " (11, 16),\n",
       " (12, 13),\n",
       " (14, 15),\n",
       " (17, 18),\n",
       " (19, inf),\n",
       " (20, 21),\n",
       " (22, 23),\n",
       " (24, 25),\n",
       " (26, 27),\n",
       " (28, 29),\n",
       " (30, inf)]"
      ]
     },
     "execution_count": 8,
     "metadata": {},
     "output_type": "execute_result"
    }
   ],
   "source": [
    "barcode = get_barcode(filtration, reduced)\n",
    "barcode"
   ]
  },
  {
   "cell_type": "code",
   "execution_count": 9,
   "id": "closing-bidder",
   "metadata": {},
   "outputs": [
    {
     "name": "stdout",
     "output_type": "stream",
     "text": [
      "[0]\n",
      "[0 1]\n",
      "[0 3]\n",
      "[3 4]\n",
      "[3 6]\n",
      "[2 5 7 8 9]\n",
      "[ 0 11]\n",
      "[11 12]\n",
      "[11 14]\n",
      "[ 2 13 15 16 17]\n",
      "[ 5  8 15 16 19]\n",
      "[ 4 20]\n",
      "[ 5 13 19 21 22]\n",
      "[14 24]\n",
      "[ 7 15 19 25 26]\n",
      "[ 8 16 21 25 28]\n",
      "[10 18 23 27 29 30]\n"
     ]
    }
   ],
   "source": [
    "cohoreps = get_coho_reps(filtration, barcode, reduced, triangular)\n",
    "for j in range(len(barcode)):\n",
    "    print(np.flatnonzero(cohoreps[:, j]))"
   ]
  },
  {
   "cell_type": "markdown",
   "id": "heated-hypothetical",
   "metadata": {},
   "source": [
    "# Check that the reduced and triangular matrices are the same in both approaches"
   ]
  },
  {
   "cell_type": "code",
   "execution_count": 10,
   "id": "partial-dominican",
   "metadata": {},
   "outputs": [],
   "source": [
    "N = len(filtration)\n",
    "for idxs, (red, tri) in result_after_reduction:\n",
    "    for i in range(len(idxs)):\n",
    "        assert set(N - 1 - np.flatnonzero(reduced[:, N - 1 - idxs[i]])) == red[i]\n",
    "        assert set(N - 1 - np.flatnonzero(triangular[:, N - 1 - idxs[i]])) == tri[i]"
   ]
  },
  {
   "cell_type": "code",
   "execution_count": null,
   "id": "previous-climb",
   "metadata": {},
   "outputs": [],
   "source": [
    "# N = len(filtration)\n",
    "# matrix_gen = gen_coboundary_by_dim(filtration)\n",
    "# for idxs, data in matrix_gen:\n",
    "#     print(idxs)\n",
    "#     for i in range(len(idxs)):\n",
    "#         assert set(N - 1 - np.flatnonzero(matrix[:, N - 1 - idxs[i]])) == set(data[i])"
   ]
  }
 ],
 "metadata": {
  "kernelspec": {
   "display_name": "Python 3",
   "language": "python",
   "name": "python3"
  },
  "language_info": {
   "codemirror_mode": {
    "name": "ipython",
    "version": 3
   },
   "file_extension": ".py",
   "mimetype": "text/x-python",
   "name": "python",
   "nbconvert_exporter": "python",
   "pygments_lexer": "ipython3",
   "version": "3.8.5"
  }
 },
 "nbformat": 4,
 "nbformat_minor": 5
}
