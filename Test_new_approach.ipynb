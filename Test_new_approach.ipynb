{
 "cells": [
  {
   "cell_type": "code",
   "execution_count": null,
   "id": "informative-belief",
   "metadata": {},
   "outputs": [],
   "source": [
    "%load_ext autoreload\n",
    "%autoreload 2\n",
    "\n",
    "import numpy as np\n",
    "import pickle\n",
    "from steenroder import *"
   ]
  },
  {
   "cell_type": "code",
   "execution_count": null,
   "id": "determined-iraqi",
   "metadata": {},
   "outputs": [],
   "source": [
    "# with open('cone_rp4.pkl', 'rb') as f:\n",
    "#     filtration = pickle.load(f)"
   ]
  },
  {
   "cell_type": "code",
   "execution_count": null,
   "id": "dutch-bahrain",
   "metadata": {},
   "outputs": [],
   "source": [
    "filtration = (\n",
    "    (0,), \n",
    "    (1,), (0,1), \n",
    "    (2,), (0,2), (1,2), (0,1,2),\n",
    "    (3,), (0,3), (1,3), (0,1,3), (2,3),\n",
    "    (4,), (0,4), (1,4), (2,4), (1,2,4), (3,4), (0,3,4), (2,3,4),\n",
    "    (5,), (0,5), (1,5), (2,5), (0,2,5), (3,5), (1,3,5), (2,3,5), (4,5), (0,4,5), (1,4,5)\n",
    "    )"
   ]
  },
  {
   "cell_type": "markdown",
   "id": "official-classification",
   "metadata": {},
   "source": [
    "# New approach"
   ]
  },
  {
   "cell_type": "code",
   "execution_count": null,
   "id": "assumed-leone",
   "metadata": {},
   "outputs": [],
   "source": [
    "matrix_gen = gen_coboundary_by_dim(filtration)\n",
    "result_after_reduction = get_reduced_triangular_sparse(matrix_gen)\n",
    "result_after_reduction"
   ]
  },
  {
   "cell_type": "code",
   "execution_count": null,
   "id": "coordinated-regular",
   "metadata": {},
   "outputs": [],
   "source": [
    "barcode_sparse = get_barcode_from_sparse(filtration, result_after_reduction)\n",
    "barcode_sparse"
   ]
  },
  {
   "cell_type": "code",
   "execution_count": null,
   "id": "lonely-lover",
   "metadata": {},
   "outputs": [],
   "source": [
    "get_coho_reps_from_sparse(filtration, barcode_sparse, result_after_reduction)"
   ]
  },
  {
   "cell_type": "markdown",
   "id": "systematic-crystal",
   "metadata": {},
   "source": [
    "# Using the previous approach"
   ]
  },
  {
   "cell_type": "code",
   "execution_count": null,
   "id": "atlantic-appearance",
   "metadata": {},
   "outputs": [],
   "source": [
    "matrix = get_coboundary(filtration)\n",
    "reduced, triangular = get_reduced_triangular(matrix)"
   ]
  },
  {
   "cell_type": "code",
   "execution_count": null,
   "id": "ongoing-fitness",
   "metadata": {},
   "outputs": [],
   "source": [
    "barcode = get_barcode(filtration, reduced)\n",
    "barcode"
   ]
  },
  {
   "cell_type": "code",
   "execution_count": null,
   "id": "superb-poetry",
   "metadata": {},
   "outputs": [],
   "source": [
    "cohoreps = get_coho_reps(filtration, barcode, reduced, triangular)\n",
    "for j in range(len(barcode)):\n",
    "    print(np.flatnonzero(cohoreps[:, j]))"
   ]
  },
  {
   "cell_type": "markdown",
   "id": "rotary-pleasure",
   "metadata": {},
   "source": [
    "# Check that the reduced and triangular matrices are the same in both approaches"
   ]
  },
  {
   "cell_type": "code",
   "execution_count": null,
   "id": "possible-animation",
   "metadata": {},
   "outputs": [],
   "source": [
    "N = len(filtration)\n",
    "for idxs, (red, tri) in result_after_reduction:\n",
    "    for i in range(len(idxs)):\n",
    "        assert set(N - 1 - np.flatnonzero(reduced[:, N - 1 - idxs[i]])) == red[i]\n",
    "        assert set(N - 1 - np.flatnonzero(triangular[:, N - 1 - idxs[i]])) == tri[i]"
   ]
  },
  {
   "cell_type": "code",
   "execution_count": null,
   "id": "royal-occasion",
   "metadata": {},
   "outputs": [],
   "source": [
    "# N = len(filtration)\n",
    "# matrix_gen = gen_coboundary_by_dim(filtration)\n",
    "# for idxs, data in matrix_gen:\n",
    "#     print(idxs)\n",
    "#     for i in range(len(idxs)):\n",
    "#         assert set(N - 1 - np.flatnonzero(matrix[:, N - 1 - idxs[i]])) == set(data[i])"
   ]
  }
 ],
 "metadata": {
  "kernelspec": {
   "display_name": "Python 3",
   "language": "python",
   "name": "python3"
  },
  "language_info": {
   "codemirror_mode": {
    "name": "ipython",
    "version": 3
   },
   "file_extension": ".py",
   "mimetype": "text/x-python",
   "name": "python",
   "nbconvert_exporter": "python",
   "pygments_lexer": "ipython3",
   "version": "3.8.5"
  }
 },
 "nbformat": 4,
 "nbformat_minor": 5
}
