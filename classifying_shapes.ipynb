{
 "cells": [
  {
   "cell_type": "code",
   "execution_count": 216,
   "metadata": {},
   "outputs": [],
   "source": [
    "import numpy as np\n",
    "\n",
    "from gtda.homology import VietorisRipsPersistence\n",
    "\n",
    "import gudhi\n",
    "\n",
    "from steenroder import *"
   ]
  },
  {
   "cell_type": "markdown",
   "metadata": {},
   "source": [
    "## Generating non-orientable surfaces\n",
    "\n",
    "We are going to consider different classical shapes: the real projective space and the Klein bottle.\n",
    "The purpose of the second part of the tutorial is to define shapes via a distance matrix. We also add noise to the distance matrix: the main reason is not to have overlapping points in the persistence diagram.\n",
    "\n",
    "Each of the topological spaces we are going to encounter will be sampled discretely. Afterwards, the Vietoris–Rips technique will be applied to the surface and the persistent homology groups will be computed."
   ]
  },
  {
   "cell_type": "code",
   "execution_count": 218,
   "metadata": {},
   "outputs": [
    {
     "data": {
      "application/vnd.plotly.v1+json": {
       "config": {
        "plotlyServerURL": "https://plot.ly"
       },
       "data": [
        {
         "hoverinfo": "none",
         "line": {
          "color": "black",
          "dash": "dash",
          "width": 1
         },
         "mode": "lines",
         "showlegend": false,
         "type": "scatter",
         "x": [
          -0.1,
          5.1
         ],
         "y": [
          -0.1,
          5.1
         ]
        },
        {
         "hoverinfo": "text",
         "hovertext": [
          "(0.0, 1.0), multiplicity: 99",
          "(0.0, 1.0), multiplicity: 99",
          "(0.0, 1.0), multiplicity: 99",
          "(0.0, 1.0), multiplicity: 99",
          "(0.0, 1.0), multiplicity: 99",
          "(0.0, 1.0), multiplicity: 99",
          "(0.0, 1.0), multiplicity: 99",
          "(0.0, 1.0), multiplicity: 99",
          "(0.0, 1.0), multiplicity: 99",
          "(0.0, 1.0), multiplicity: 99",
          "(0.0, 1.0), multiplicity: 99",
          "(0.0, 1.0), multiplicity: 99",
          "(0.0, 1.0), multiplicity: 99",
          "(0.0, 1.0), multiplicity: 99",
          "(0.0, 1.0), multiplicity: 99",
          "(0.0, 1.0), multiplicity: 99",
          "(0.0, 1.0), multiplicity: 99",
          "(0.0, 1.0), multiplicity: 99",
          "(0.0, 1.0), multiplicity: 99",
          "(0.0, 1.0), multiplicity: 99",
          "(0.0, 1.0), multiplicity: 99",
          "(0.0, 1.0), multiplicity: 99",
          "(0.0, 1.0), multiplicity: 99",
          "(0.0, 1.0), multiplicity: 99",
          "(0.0, 1.0), multiplicity: 99",
          "(0.0, 1.0), multiplicity: 99",
          "(0.0, 1.0), multiplicity: 99",
          "(0.0, 1.0), multiplicity: 99",
          "(0.0, 1.0), multiplicity: 99",
          "(0.0, 1.0), multiplicity: 99",
          "(0.0, 1.0), multiplicity: 99",
          "(0.0, 1.0), multiplicity: 99",
          "(0.0, 1.0), multiplicity: 99",
          "(0.0, 1.0), multiplicity: 99",
          "(0.0, 1.0), multiplicity: 99",
          "(0.0, 1.0), multiplicity: 99",
          "(0.0, 1.0), multiplicity: 99",
          "(0.0, 1.0), multiplicity: 99",
          "(0.0, 1.0), multiplicity: 99",
          "(0.0, 1.0), multiplicity: 99",
          "(0.0, 1.0), multiplicity: 99",
          "(0.0, 1.0), multiplicity: 99",
          "(0.0, 1.0), multiplicity: 99",
          "(0.0, 1.0), multiplicity: 99",
          "(0.0, 1.0), multiplicity: 99",
          "(0.0, 1.0), multiplicity: 99",
          "(0.0, 1.0), multiplicity: 99",
          "(0.0, 1.0), multiplicity: 99",
          "(0.0, 1.0), multiplicity: 99",
          "(0.0, 1.0), multiplicity: 99",
          "(0.0, 1.0), multiplicity: 99",
          "(0.0, 1.0), multiplicity: 99",
          "(0.0, 1.0), multiplicity: 99",
          "(0.0, 1.0), multiplicity: 99",
          "(0.0, 1.0), multiplicity: 99",
          "(0.0, 1.0), multiplicity: 99",
          "(0.0, 1.0), multiplicity: 99",
          "(0.0, 1.0), multiplicity: 99",
          "(0.0, 1.0), multiplicity: 99",
          "(0.0, 1.0), multiplicity: 99",
          "(0.0, 1.0), multiplicity: 99",
          "(0.0, 1.0), multiplicity: 99",
          "(0.0, 1.0), multiplicity: 99",
          "(0.0, 1.0), multiplicity: 99",
          "(0.0, 1.0), multiplicity: 99",
          "(0.0, 1.0), multiplicity: 99",
          "(0.0, 1.0), multiplicity: 99",
          "(0.0, 1.0), multiplicity: 99",
          "(0.0, 1.0), multiplicity: 99",
          "(0.0, 1.0), multiplicity: 99",
          "(0.0, 1.0), multiplicity: 99",
          "(0.0, 1.0), multiplicity: 99",
          "(0.0, 1.0), multiplicity: 99",
          "(0.0, 1.0), multiplicity: 99",
          "(0.0, 1.0), multiplicity: 99",
          "(0.0, 1.0), multiplicity: 99",
          "(0.0, 1.0), multiplicity: 99",
          "(0.0, 1.0), multiplicity: 99",
          "(0.0, 1.0), multiplicity: 99",
          "(0.0, 1.0), multiplicity: 99",
          "(0.0, 1.0), multiplicity: 99",
          "(0.0, 1.0), multiplicity: 99",
          "(0.0, 1.0), multiplicity: 99",
          "(0.0, 1.0), multiplicity: 99",
          "(0.0, 1.0), multiplicity: 99",
          "(0.0, 1.0), multiplicity: 99",
          "(0.0, 1.0), multiplicity: 99",
          "(0.0, 1.0), multiplicity: 99",
          "(0.0, 1.0), multiplicity: 99",
          "(0.0, 1.0), multiplicity: 99",
          "(0.0, 1.0), multiplicity: 99",
          "(0.0, 1.0), multiplicity: 99",
          "(0.0, 1.0), multiplicity: 99",
          "(0.0, 1.0), multiplicity: 99",
          "(0.0, 1.0), multiplicity: 99",
          "(0.0, 1.0), multiplicity: 99",
          "(0.0, 1.0), multiplicity: 99",
          "(0.0, 1.0), multiplicity: 99",
          "(0.0, 1.0), multiplicity: 99"
         ],
         "mode": "markers",
         "name": "H0",
         "type": "scatter",
         "x": [
          0,
          0,
          0,
          0,
          0,
          0,
          0,
          0,
          0,
          0,
          0,
          0,
          0,
          0,
          0,
          0,
          0,
          0,
          0,
          0,
          0,
          0,
          0,
          0,
          0,
          0,
          0,
          0,
          0,
          0,
          0,
          0,
          0,
          0,
          0,
          0,
          0,
          0,
          0,
          0,
          0,
          0,
          0,
          0,
          0,
          0,
          0,
          0,
          0,
          0,
          0,
          0,
          0,
          0,
          0,
          0,
          0,
          0,
          0,
          0,
          0,
          0,
          0,
          0,
          0,
          0,
          0,
          0,
          0,
          0,
          0,
          0,
          0,
          0,
          0,
          0,
          0,
          0,
          0,
          0,
          0,
          0,
          0,
          0,
          0,
          0,
          0,
          0,
          0,
          0,
          0,
          0,
          0,
          0,
          0,
          0,
          0,
          0,
          0
         ],
         "y": [
          1,
          1,
          1,
          1,
          1,
          1,
          1,
          1,
          1,
          1,
          1,
          1,
          1,
          1,
          1,
          1,
          1,
          1,
          1,
          1,
          1,
          1,
          1,
          1,
          1,
          1,
          1,
          1,
          1,
          1,
          1,
          1,
          1,
          1,
          1,
          1,
          1,
          1,
          1,
          1,
          1,
          1,
          1,
          1,
          1,
          1,
          1,
          1,
          1,
          1,
          1,
          1,
          1,
          1,
          1,
          1,
          1,
          1,
          1,
          1,
          1,
          1,
          1,
          1,
          1,
          1,
          1,
          1,
          1,
          1,
          1,
          1,
          1,
          1,
          1,
          1,
          1,
          1,
          1,
          1,
          1,
          1,
          1,
          1,
          1,
          1,
          1,
          1,
          1,
          1,
          1,
          1,
          1,
          1,
          1,
          1,
          1,
          1,
          1
         ]
        },
        {
         "hoverinfo": "text",
         "hovertext": [
          "(1.0, 2.0), multiplicity: 98",
          "(1.0, 2.0), multiplicity: 98",
          "(1.0, 2.0), multiplicity: 98",
          "(1.0, 2.0), multiplicity: 98",
          "(1.0, 2.0), multiplicity: 98",
          "(1.0, 2.0), multiplicity: 98",
          "(1.0, 2.0), multiplicity: 98",
          "(1.0, 2.0), multiplicity: 98",
          "(1.0, 2.0), multiplicity: 98",
          "(1.0, 2.0), multiplicity: 98",
          "(1.0, 2.0), multiplicity: 98",
          "(1.0, 2.0), multiplicity: 98",
          "(1.0, 2.0), multiplicity: 98",
          "(1.0, 2.0), multiplicity: 98",
          "(1.0, 2.0), multiplicity: 98",
          "(1.0, 2.0), multiplicity: 98",
          "(1.0, 2.0), multiplicity: 98",
          "(1.0, 2.0), multiplicity: 98",
          "(1.0, 2.0), multiplicity: 98",
          "(1.0, 2.0), multiplicity: 98",
          "(1.0, 2.0), multiplicity: 98",
          "(1.0, 2.0), multiplicity: 98",
          "(1.0, 2.0), multiplicity: 98",
          "(1.0, 2.0), multiplicity: 98",
          "(1.0, 2.0), multiplicity: 98",
          "(1.0, 2.0), multiplicity: 98",
          "(1.0, 2.0), multiplicity: 98",
          "(1.0, 2.0), multiplicity: 98",
          "(1.0, 2.0), multiplicity: 98",
          "(1.0, 2.0), multiplicity: 98",
          "(1.0, 2.0), multiplicity: 98",
          "(1.0, 2.0), multiplicity: 98",
          "(1.0, 2.0), multiplicity: 98",
          "(1.0, 2.0), multiplicity: 98",
          "(1.0, 2.0), multiplicity: 98",
          "(1.0, 2.0), multiplicity: 98",
          "(1.0, 2.0), multiplicity: 98",
          "(1.0, 2.0), multiplicity: 98",
          "(1.0, 2.0), multiplicity: 98",
          "(1.0, 2.0), multiplicity: 98",
          "(1.0, 2.0), multiplicity: 98",
          "(1.0, 2.0), multiplicity: 98",
          "(1.0, 2.0), multiplicity: 98",
          "(1.0, 2.0), multiplicity: 98",
          "(1.0, 2.0), multiplicity: 98",
          "(1.0, 2.0), multiplicity: 98",
          "(1.0, 2.0), multiplicity: 98",
          "(1.0, 2.0), multiplicity: 98",
          "(1.0, 2.0), multiplicity: 98",
          "(1.0, 2.0), multiplicity: 98",
          "(1.0, 2.0), multiplicity: 98",
          "(1.0, 2.0), multiplicity: 98",
          "(1.0, 2.0), multiplicity: 98",
          "(1.0, 2.0), multiplicity: 98",
          "(1.0, 2.0), multiplicity: 98",
          "(1.0, 2.0), multiplicity: 98",
          "(1.0, 2.0), multiplicity: 98",
          "(1.0, 2.0), multiplicity: 98",
          "(1.0, 2.0), multiplicity: 98",
          "(1.0, 2.0), multiplicity: 98",
          "(1.0, 2.0), multiplicity: 98",
          "(1.0, 2.0), multiplicity: 98",
          "(1.0, 4.0)",
          "(1.0, 2.0), multiplicity: 98",
          "(1.0, 2.0), multiplicity: 98",
          "(1.0, 2.0), multiplicity: 98",
          "(1.0, 2.0), multiplicity: 98",
          "(1.0, 2.0), multiplicity: 98",
          "(1.0, 2.0), multiplicity: 98",
          "(1.0, 2.0), multiplicity: 98",
          "(1.0, 2.0), multiplicity: 98",
          "(1.0, 2.0), multiplicity: 98",
          "(1.0, 2.0), multiplicity: 98",
          "(1.0, 2.0), multiplicity: 98",
          "(1.0, 2.0), multiplicity: 98",
          "(1.0, 2.0), multiplicity: 98",
          "(1.0, 2.0), multiplicity: 98",
          "(1.0, 2.0), multiplicity: 98",
          "(1.0, 2.0), multiplicity: 98",
          "(1.0, 2.0), multiplicity: 98",
          "(1.0, 2.0), multiplicity: 98",
          "(1.0, 2.0), multiplicity: 98",
          "(1.0, 2.0), multiplicity: 98",
          "(1.0, 2.0), multiplicity: 98",
          "(1.0, 2.0), multiplicity: 98",
          "(1.0, 2.0), multiplicity: 98",
          "(1.0, 2.0), multiplicity: 98",
          "(1.0, 2.0), multiplicity: 98",
          "(1.0, 2.0), multiplicity: 98",
          "(1.0, 2.0), multiplicity: 98",
          "(1.0, 2.0), multiplicity: 98",
          "(1.0, 2.0), multiplicity: 98",
          "(1.0, 2.0), multiplicity: 98",
          "(1.0, 2.0), multiplicity: 98",
          "(1.0, 2.0), multiplicity: 98",
          "(1.0, 2.0), multiplicity: 98",
          "(1.0, 2.0), multiplicity: 98",
          "(1.0, 2.0), multiplicity: 98",
          "(1.0, 2.0), multiplicity: 98"
         ],
         "mode": "markers",
         "name": "H1",
         "type": "scatter",
         "x": [
          1,
          1,
          1,
          1,
          1,
          1,
          1,
          1,
          1,
          1,
          1,
          1,
          1,
          1,
          1,
          1,
          1,
          1,
          1,
          1,
          1,
          1,
          1,
          1,
          1,
          1,
          1,
          1,
          1,
          1,
          1,
          1,
          1,
          1,
          1,
          1,
          1,
          1,
          1,
          1,
          1,
          1,
          1,
          1,
          1,
          1,
          1,
          1,
          1,
          1,
          1,
          1,
          1,
          1,
          1,
          1,
          1,
          1,
          1,
          1,
          1,
          1,
          1,
          1,
          1,
          1,
          1,
          1,
          1,
          1,
          1,
          1,
          1,
          1,
          1,
          1,
          1,
          1,
          1,
          1,
          1,
          1,
          1,
          1,
          1,
          1,
          1,
          1,
          1,
          1,
          1,
          1,
          1,
          1,
          1,
          1,
          1,
          1,
          1
         ],
         "y": [
          2,
          2,
          2,
          2,
          2,
          2,
          2,
          2,
          2,
          2,
          2,
          2,
          2,
          2,
          2,
          2,
          2,
          2,
          2,
          2,
          2,
          2,
          2,
          2,
          2,
          2,
          2,
          2,
          2,
          2,
          2,
          2,
          2,
          2,
          2,
          2,
          2,
          2,
          2,
          2,
          2,
          2,
          2,
          2,
          2,
          2,
          2,
          2,
          2,
          2,
          2,
          2,
          2,
          2,
          2,
          2,
          2,
          2,
          2,
          2,
          2,
          2,
          4,
          2,
          2,
          2,
          2,
          2,
          2,
          2,
          2,
          2,
          2,
          2,
          2,
          2,
          2,
          2,
          2,
          2,
          2,
          2,
          2,
          2,
          2,
          2,
          2,
          2,
          2,
          2,
          2,
          2,
          2,
          2,
          2,
          2,
          2,
          2,
          2
         ]
        },
        {
         "hoverinfo": "text",
         "hovertext": [
          "(4.0, 5.0)",
          "(2.0, 5.0)"
         ],
         "mode": "markers",
         "name": "H2",
         "type": "scatter",
         "x": [
          4,
          2
         ],
         "y": [
          5,
          5
         ]
        }
       ],
       "layout": {
        "height": 500,
        "plot_bgcolor": "white",
        "template": {
         "data": {
          "bar": [
           {
            "error_x": {
             "color": "#2a3f5f"
            },
            "error_y": {
             "color": "#2a3f5f"
            },
            "marker": {
             "line": {
              "color": "#E5ECF6",
              "width": 0.5
             }
            },
            "type": "bar"
           }
          ],
          "barpolar": [
           {
            "marker": {
             "line": {
              "color": "#E5ECF6",
              "width": 0.5
             }
            },
            "type": "barpolar"
           }
          ],
          "carpet": [
           {
            "aaxis": {
             "endlinecolor": "#2a3f5f",
             "gridcolor": "white",
             "linecolor": "white",
             "minorgridcolor": "white",
             "startlinecolor": "#2a3f5f"
            },
            "baxis": {
             "endlinecolor": "#2a3f5f",
             "gridcolor": "white",
             "linecolor": "white",
             "minorgridcolor": "white",
             "startlinecolor": "#2a3f5f"
            },
            "type": "carpet"
           }
          ],
          "choropleth": [
           {
            "colorbar": {
             "outlinewidth": 0,
             "ticks": ""
            },
            "type": "choropleth"
           }
          ],
          "contour": [
           {
            "colorbar": {
             "outlinewidth": 0,
             "ticks": ""
            },
            "colorscale": [
             [
              0,
              "#0d0887"
             ],
             [
              0.1111111111111111,
              "#46039f"
             ],
             [
              0.2222222222222222,
              "#7201a8"
             ],
             [
              0.3333333333333333,
              "#9c179e"
             ],
             [
              0.4444444444444444,
              "#bd3786"
             ],
             [
              0.5555555555555556,
              "#d8576b"
             ],
             [
              0.6666666666666666,
              "#ed7953"
             ],
             [
              0.7777777777777778,
              "#fb9f3a"
             ],
             [
              0.8888888888888888,
              "#fdca26"
             ],
             [
              1,
              "#f0f921"
             ]
            ],
            "type": "contour"
           }
          ],
          "contourcarpet": [
           {
            "colorbar": {
             "outlinewidth": 0,
             "ticks": ""
            },
            "type": "contourcarpet"
           }
          ],
          "heatmap": [
           {
            "colorbar": {
             "outlinewidth": 0,
             "ticks": ""
            },
            "colorscale": [
             [
              0,
              "#0d0887"
             ],
             [
              0.1111111111111111,
              "#46039f"
             ],
             [
              0.2222222222222222,
              "#7201a8"
             ],
             [
              0.3333333333333333,
              "#9c179e"
             ],
             [
              0.4444444444444444,
              "#bd3786"
             ],
             [
              0.5555555555555556,
              "#d8576b"
             ],
             [
              0.6666666666666666,
              "#ed7953"
             ],
             [
              0.7777777777777778,
              "#fb9f3a"
             ],
             [
              0.8888888888888888,
              "#fdca26"
             ],
             [
              1,
              "#f0f921"
             ]
            ],
            "type": "heatmap"
           }
          ],
          "heatmapgl": [
           {
            "colorbar": {
             "outlinewidth": 0,
             "ticks": ""
            },
            "colorscale": [
             [
              0,
              "#0d0887"
             ],
             [
              0.1111111111111111,
              "#46039f"
             ],
             [
              0.2222222222222222,
              "#7201a8"
             ],
             [
              0.3333333333333333,
              "#9c179e"
             ],
             [
              0.4444444444444444,
              "#bd3786"
             ],
             [
              0.5555555555555556,
              "#d8576b"
             ],
             [
              0.6666666666666666,
              "#ed7953"
             ],
             [
              0.7777777777777778,
              "#fb9f3a"
             ],
             [
              0.8888888888888888,
              "#fdca26"
             ],
             [
              1,
              "#f0f921"
             ]
            ],
            "type": "heatmapgl"
           }
          ],
          "histogram": [
           {
            "marker": {
             "colorbar": {
              "outlinewidth": 0,
              "ticks": ""
             }
            },
            "type": "histogram"
           }
          ],
          "histogram2d": [
           {
            "colorbar": {
             "outlinewidth": 0,
             "ticks": ""
            },
            "colorscale": [
             [
              0,
              "#0d0887"
             ],
             [
              0.1111111111111111,
              "#46039f"
             ],
             [
              0.2222222222222222,
              "#7201a8"
             ],
             [
              0.3333333333333333,
              "#9c179e"
             ],
             [
              0.4444444444444444,
              "#bd3786"
             ],
             [
              0.5555555555555556,
              "#d8576b"
             ],
             [
              0.6666666666666666,
              "#ed7953"
             ],
             [
              0.7777777777777778,
              "#fb9f3a"
             ],
             [
              0.8888888888888888,
              "#fdca26"
             ],
             [
              1,
              "#f0f921"
             ]
            ],
            "type": "histogram2d"
           }
          ],
          "histogram2dcontour": [
           {
            "colorbar": {
             "outlinewidth": 0,
             "ticks": ""
            },
            "colorscale": [
             [
              0,
              "#0d0887"
             ],
             [
              0.1111111111111111,
              "#46039f"
             ],
             [
              0.2222222222222222,
              "#7201a8"
             ],
             [
              0.3333333333333333,
              "#9c179e"
             ],
             [
              0.4444444444444444,
              "#bd3786"
             ],
             [
              0.5555555555555556,
              "#d8576b"
             ],
             [
              0.6666666666666666,
              "#ed7953"
             ],
             [
              0.7777777777777778,
              "#fb9f3a"
             ],
             [
              0.8888888888888888,
              "#fdca26"
             ],
             [
              1,
              "#f0f921"
             ]
            ],
            "type": "histogram2dcontour"
           }
          ],
          "mesh3d": [
           {
            "colorbar": {
             "outlinewidth": 0,
             "ticks": ""
            },
            "type": "mesh3d"
           }
          ],
          "parcoords": [
           {
            "line": {
             "colorbar": {
              "outlinewidth": 0,
              "ticks": ""
             }
            },
            "type": "parcoords"
           }
          ],
          "pie": [
           {
            "automargin": true,
            "type": "pie"
           }
          ],
          "scatter": [
           {
            "marker": {
             "colorbar": {
              "outlinewidth": 0,
              "ticks": ""
             }
            },
            "type": "scatter"
           }
          ],
          "scatter3d": [
           {
            "line": {
             "colorbar": {
              "outlinewidth": 0,
              "ticks": ""
             }
            },
            "marker": {
             "colorbar": {
              "outlinewidth": 0,
              "ticks": ""
             }
            },
            "type": "scatter3d"
           }
          ],
          "scattercarpet": [
           {
            "marker": {
             "colorbar": {
              "outlinewidth": 0,
              "ticks": ""
             }
            },
            "type": "scattercarpet"
           }
          ],
          "scattergeo": [
           {
            "marker": {
             "colorbar": {
              "outlinewidth": 0,
              "ticks": ""
             }
            },
            "type": "scattergeo"
           }
          ],
          "scattergl": [
           {
            "marker": {
             "colorbar": {
              "outlinewidth": 0,
              "ticks": ""
             }
            },
            "type": "scattergl"
           }
          ],
          "scattermapbox": [
           {
            "marker": {
             "colorbar": {
              "outlinewidth": 0,
              "ticks": ""
             }
            },
            "type": "scattermapbox"
           }
          ],
          "scatterpolar": [
           {
            "marker": {
             "colorbar": {
              "outlinewidth": 0,
              "ticks": ""
             }
            },
            "type": "scatterpolar"
           }
          ],
          "scatterpolargl": [
           {
            "marker": {
             "colorbar": {
              "outlinewidth": 0,
              "ticks": ""
             }
            },
            "type": "scatterpolargl"
           }
          ],
          "scatterternary": [
           {
            "marker": {
             "colorbar": {
              "outlinewidth": 0,
              "ticks": ""
             }
            },
            "type": "scatterternary"
           }
          ],
          "surface": [
           {
            "colorbar": {
             "outlinewidth": 0,
             "ticks": ""
            },
            "colorscale": [
             [
              0,
              "#0d0887"
             ],
             [
              0.1111111111111111,
              "#46039f"
             ],
             [
              0.2222222222222222,
              "#7201a8"
             ],
             [
              0.3333333333333333,
              "#9c179e"
             ],
             [
              0.4444444444444444,
              "#bd3786"
             ],
             [
              0.5555555555555556,
              "#d8576b"
             ],
             [
              0.6666666666666666,
              "#ed7953"
             ],
             [
              0.7777777777777778,
              "#fb9f3a"
             ],
             [
              0.8888888888888888,
              "#fdca26"
             ],
             [
              1,
              "#f0f921"
             ]
            ],
            "type": "surface"
           }
          ],
          "table": [
           {
            "cells": {
             "fill": {
              "color": "#EBF0F8"
             },
             "line": {
              "color": "white"
             }
            },
            "header": {
             "fill": {
              "color": "#C8D4E3"
             },
             "line": {
              "color": "white"
             }
            },
            "type": "table"
           }
          ]
         },
         "layout": {
          "annotationdefaults": {
           "arrowcolor": "#2a3f5f",
           "arrowhead": 0,
           "arrowwidth": 1
          },
          "autotypenumbers": "strict",
          "coloraxis": {
           "colorbar": {
            "outlinewidth": 0,
            "ticks": ""
           }
          },
          "colorscale": {
           "diverging": [
            [
             0,
             "#8e0152"
            ],
            [
             0.1,
             "#c51b7d"
            ],
            [
             0.2,
             "#de77ae"
            ],
            [
             0.3,
             "#f1b6da"
            ],
            [
             0.4,
             "#fde0ef"
            ],
            [
             0.5,
             "#f7f7f7"
            ],
            [
             0.6,
             "#e6f5d0"
            ],
            [
             0.7,
             "#b8e186"
            ],
            [
             0.8,
             "#7fbc41"
            ],
            [
             0.9,
             "#4d9221"
            ],
            [
             1,
             "#276419"
            ]
           ],
           "sequential": [
            [
             0,
             "#0d0887"
            ],
            [
             0.1111111111111111,
             "#46039f"
            ],
            [
             0.2222222222222222,
             "#7201a8"
            ],
            [
             0.3333333333333333,
             "#9c179e"
            ],
            [
             0.4444444444444444,
             "#bd3786"
            ],
            [
             0.5555555555555556,
             "#d8576b"
            ],
            [
             0.6666666666666666,
             "#ed7953"
            ],
            [
             0.7777777777777778,
             "#fb9f3a"
            ],
            [
             0.8888888888888888,
             "#fdca26"
            ],
            [
             1,
             "#f0f921"
            ]
           ],
           "sequentialminus": [
            [
             0,
             "#0d0887"
            ],
            [
             0.1111111111111111,
             "#46039f"
            ],
            [
             0.2222222222222222,
             "#7201a8"
            ],
            [
             0.3333333333333333,
             "#9c179e"
            ],
            [
             0.4444444444444444,
             "#bd3786"
            ],
            [
             0.5555555555555556,
             "#d8576b"
            ],
            [
             0.6666666666666666,
             "#ed7953"
            ],
            [
             0.7777777777777778,
             "#fb9f3a"
            ],
            [
             0.8888888888888888,
             "#fdca26"
            ],
            [
             1,
             "#f0f921"
            ]
           ]
          },
          "colorway": [
           "#636efa",
           "#EF553B",
           "#00cc96",
           "#ab63fa",
           "#FFA15A",
           "#19d3f3",
           "#FF6692",
           "#B6E880",
           "#FF97FF",
           "#FECB52"
          ],
          "font": {
           "color": "#2a3f5f"
          },
          "geo": {
           "bgcolor": "white",
           "lakecolor": "white",
           "landcolor": "#E5ECF6",
           "showlakes": true,
           "showland": true,
           "subunitcolor": "white"
          },
          "hoverlabel": {
           "align": "left"
          },
          "hovermode": "closest",
          "mapbox": {
           "style": "light"
          },
          "paper_bgcolor": "white",
          "plot_bgcolor": "#E5ECF6",
          "polar": {
           "angularaxis": {
            "gridcolor": "white",
            "linecolor": "white",
            "ticks": ""
           },
           "bgcolor": "#E5ECF6",
           "radialaxis": {
            "gridcolor": "white",
            "linecolor": "white",
            "ticks": ""
           }
          },
          "scene": {
           "xaxis": {
            "backgroundcolor": "#E5ECF6",
            "gridcolor": "white",
            "gridwidth": 2,
            "linecolor": "white",
            "showbackground": true,
            "ticks": "",
            "zerolinecolor": "white"
           },
           "yaxis": {
            "backgroundcolor": "#E5ECF6",
            "gridcolor": "white",
            "gridwidth": 2,
            "linecolor": "white",
            "showbackground": true,
            "ticks": "",
            "zerolinecolor": "white"
           },
           "zaxis": {
            "backgroundcolor": "#E5ECF6",
            "gridcolor": "white",
            "gridwidth": 2,
            "linecolor": "white",
            "showbackground": true,
            "ticks": "",
            "zerolinecolor": "white"
           }
          },
          "shapedefaults": {
           "line": {
            "color": "#2a3f5f"
           }
          },
          "ternary": {
           "aaxis": {
            "gridcolor": "white",
            "linecolor": "white",
            "ticks": ""
           },
           "baxis": {
            "gridcolor": "white",
            "linecolor": "white",
            "ticks": ""
           },
           "bgcolor": "#E5ECF6",
           "caxis": {
            "gridcolor": "white",
            "linecolor": "white",
            "ticks": ""
           }
          },
          "title": {
           "x": 0.05
          },
          "xaxis": {
           "automargin": true,
           "gridcolor": "white",
           "linecolor": "white",
           "ticks": "",
           "title": {
            "standoff": 15
           },
           "zerolinecolor": "white",
           "zerolinewidth": 2
          },
          "yaxis": {
           "automargin": true,
           "gridcolor": "white",
           "linecolor": "white",
           "ticks": "",
           "title": {
            "standoff": 15
           },
           "zerolinecolor": "white",
           "zerolinewidth": 2
          }
         }
        },
        "width": 500,
        "xaxis": {
         "autorange": false,
         "domain": [
          0,
          1
         ],
         "exponentformat": "e",
         "linecolor": "black",
         "linewidth": 1,
         "mirror": false,
         "range": [
          -0.2462500000000003,
          5.24625
         ],
         "showexponent": "all",
         "showline": true,
         "side": "bottom",
         "ticks": "outside",
         "title": {
          "text": "Birth"
         },
         "type": "linear",
         "zeroline": true
        },
        "yaxis": {
         "autorange": false,
         "domain": [
          0,
          1
         ],
         "exponentformat": "e",
         "linecolor": "black",
         "linewidth": 1,
         "mirror": false,
         "range": [
          -0.1,
          5.1
         ],
         "scaleanchor": "x",
         "scaleratio": 1,
         "showexponent": "all",
         "showline": true,
         "side": "left",
         "ticks": "outside",
         "title": {
          "text": "Death"
         },
         "type": "linear",
         "zeroline": true
        }
       }
      },
      "image/png": "[encoded data removed]",
      "text/html": [
       "<div>                            <div id=\"ed80b3ab-b7a1-4186-8999-b71ce622edec\" class=\"plotly-graph-div\" style=\"height:500px; width:500px;\"></div>            <script type=\"text/javascript\">                require([\"plotly\"], function(Plotly) {                    window.PLOTLYENV=window.PLOTLYENV || {};                                    if (document.getElementById(\"ed80b3ab-b7a1-4186-8999-b71ce622edec\")) {                    Plotly.newPlot(                        \"ed80b3ab-b7a1-4186-8999-b71ce622edec\",                        [{\"hoverinfo\": \"none\", \"line\": {\"color\": \"black\", \"dash\": \"dash\", \"width\": 1}, \"mode\": \"lines\", \"showlegend\": false, \"type\": \"scatter\", \"x\": [-0.1, 5.1], \"y\": [-0.1, 5.1]}, {\"hoverinfo\": \"text\", \"hovertext\": [\"(0.0, 1.0), multiplicity: 99\", \"(0.0, 1.0), multiplicity: 99\", \"(0.0, 1.0), multiplicity: 99\", \"(0.0, 1.0), multiplicity: 99\", \"(0.0, 1.0), multiplicity: 99\", \"(0.0, 1.0), multiplicity: 99\", \"(0.0, 1.0), multiplicity: 99\", \"(0.0, 1.0), multiplicity: 99\", \"(0.0, 1.0), multiplicity: 99\", \"(0.0, 1.0), multiplicity: 99\", \"(0.0, 1.0), multiplicity: 99\", \"(0.0, 1.0), multiplicity: 99\", \"(0.0, 1.0), multiplicity: 99\", \"(0.0, 1.0), multiplicity: 99\", \"(0.0, 1.0), multiplicity: 99\", \"(0.0, 1.0), multiplicity: 99\", \"(0.0, 1.0), multiplicity: 99\", \"(0.0, 1.0), multiplicity: 99\", \"(0.0, 1.0), multiplicity: 99\", \"(0.0, 1.0), multiplicity: 99\", \"(0.0, 1.0), multiplicity: 99\", \"(0.0, 1.0), multiplicity: 99\", \"(0.0, 1.0), multiplicity: 99\", \"(0.0, 1.0), multiplicity: 99\", \"(0.0, 1.0), multiplicity: 99\", \"(0.0, 1.0), multiplicity: 99\", \"(0.0, 1.0), multiplicity: 99\", \"(0.0, 1.0), multiplicity: 99\", \"(0.0, 1.0), multiplicity: 99\", \"(0.0, 1.0), multiplicity: 99\", \"(0.0, 1.0), multiplicity: 99\", \"(0.0, 1.0), multiplicity: 99\", \"(0.0, 1.0), multiplicity: 99\", \"(0.0, 1.0), multiplicity: 99\", \"(0.0, 1.0), multiplicity: 99\", \"(0.0, 1.0), multiplicity: 99\", \"(0.0, 1.0), multiplicity: 99\", \"(0.0, 1.0), multiplicity: 99\", \"(0.0, 1.0), multiplicity: 99\", \"(0.0, 1.0), multiplicity: 99\", \"(0.0, 1.0), multiplicity: 99\", \"(0.0, 1.0), multiplicity: 99\", \"(0.0, 1.0), multiplicity: 99\", \"(0.0, 1.0), multiplicity: 99\", \"(0.0, 1.0), multiplicity: 99\", \"(0.0, 1.0), multiplicity: 99\", \"(0.0, 1.0), multiplicity: 99\", \"(0.0, 1.0), multiplicity: 99\", \"(0.0, 1.0), multiplicity: 99\", \"(0.0, 1.0), multiplicity: 99\", \"(0.0, 1.0), multiplicity: 99\", \"(0.0, 1.0), multiplicity: 99\", \"(0.0, 1.0), multiplicity: 99\", \"(0.0, 1.0), multiplicity: 99\", \"(0.0, 1.0), multiplicity: 99\", \"(0.0, 1.0), multiplicity: 99\", \"(0.0, 1.0), multiplicity: 99\", \"(0.0, 1.0), multiplicity: 99\", \"(0.0, 1.0), multiplicity: 99\", \"(0.0, 1.0), multiplicity: 99\", \"(0.0, 1.0), multiplicity: 99\", \"(0.0, 1.0), multiplicity: 99\", \"(0.0, 1.0), multiplicity: 99\", \"(0.0, 1.0), multiplicity: 99\", \"(0.0, 1.0), multiplicity: 99\", \"(0.0, 1.0), multiplicity: 99\", \"(0.0, 1.0), multiplicity: 99\", \"(0.0, 1.0), multiplicity: 99\", \"(0.0, 1.0), multiplicity: 99\", \"(0.0, 1.0), multiplicity: 99\", \"(0.0, 1.0), multiplicity: 99\", \"(0.0, 1.0), multiplicity: 99\", \"(0.0, 1.0), multiplicity: 99\", \"(0.0, 1.0), multiplicity: 99\", \"(0.0, 1.0), multiplicity: 99\", \"(0.0, 1.0), multiplicity: 99\", \"(0.0, 1.0), multiplicity: 99\", \"(0.0, 1.0), multiplicity: 99\", \"(0.0, 1.0), multiplicity: 99\", \"(0.0, 1.0), multiplicity: 99\", \"(0.0, 1.0), multiplicity: 99\", \"(0.0, 1.0), multiplicity: 99\", \"(0.0, 1.0), multiplicity: 99\", \"(0.0, 1.0), multiplicity: 99\", \"(0.0, 1.0), multiplicity: 99\", \"(0.0, 1.0), multiplicity: 99\", \"(0.0, 1.0), multiplicity: 99\", \"(0.0, 1.0), multiplicity: 99\", \"(0.0, 1.0), multiplicity: 99\", \"(0.0, 1.0), multiplicity: 99\", \"(0.0, 1.0), multiplicity: 99\", \"(0.0, 1.0), multiplicity: 99\", \"(0.0, 1.0), multiplicity: 99\", \"(0.0, 1.0), multiplicity: 99\", \"(0.0, 1.0), multiplicity: 99\", \"(0.0, 1.0), multiplicity: 99\", \"(0.0, 1.0), multiplicity: 99\", \"(0.0, 1.0), multiplicity: 99\", \"(0.0, 1.0), multiplicity: 99\"], \"mode\": \"markers\", \"name\": \"H0\", \"type\": \"scatter\", \"x\": [0.0, 0.0, 0.0, 0.0, 0.0, 0.0, 0.0, 0.0, 0.0, 0.0, 0.0, 0.0, 0.0, 0.0, 0.0, 0.0, 0.0, 0.0, 0.0, 0.0, 0.0, 0.0, 0.0, 0.0, 0.0, 0.0, 0.0, 0.0, 0.0, 0.0, 0.0, 0.0, 0.0, 0.0, 0.0, 0.0, 0.0, 0.0, 0.0, 0.0, 0.0, 0.0, 0.0, 0.0, 0.0, 0.0, 0.0, 0.0, 0.0, 0.0, 0.0, 0.0, 0.0, 0.0, 0.0, 0.0, 0.0, 0.0, 0.0, 0.0, 0.0, 0.0, 0.0, 0.0, 0.0, 0.0, 0.0, 0.0, 0.0, 0.0, 0.0, 0.0, 0.0, 0.0, 0.0, 0.0, 0.0, 0.0, 0.0, 0.0, 0.0, 0.0, 0.0, 0.0, 0.0, 0.0, 0.0, 0.0, 0.0, 0.0, 0.0, 0.0, 0.0, 0.0, 0.0, 0.0, 0.0, 0.0, 0.0], \"y\": [1.0, 1.0, 1.0, 1.0, 1.0, 1.0, 1.0, 1.0, 1.0, 1.0, 1.0, 1.0, 1.0, 1.0, 1.0, 1.0, 1.0, 1.0, 1.0, 1.0, 1.0, 1.0, 1.0, 1.0, 1.0, 1.0, 1.0, 1.0, 1.0, 1.0, 1.0, 1.0, 1.0, 1.0, 1.0, 1.0, 1.0, 1.0, 1.0, 1.0, 1.0, 1.0, 1.0, 1.0, 1.0, 1.0, 1.0, 1.0, 1.0, 1.0, 1.0, 1.0, 1.0, 1.0, 1.0, 1.0, 1.0, 1.0, 1.0, 1.0, 1.0, 1.0, 1.0, 1.0, 1.0, 1.0, 1.0, 1.0, 1.0, 1.0, 1.0, 1.0, 1.0, 1.0, 1.0, 1.0, 1.0, 1.0, 1.0, 1.0, 1.0, 1.0, 1.0, 1.0, 1.0, 1.0, 1.0, 1.0, 1.0, 1.0, 1.0, 1.0, 1.0, 1.0, 1.0, 1.0, 1.0, 1.0, 1.0]}, {\"hoverinfo\": \"text\", \"hovertext\": [\"(1.0, 2.0), multiplicity: 98\", \"(1.0, 2.0), multiplicity: 98\", \"(1.0, 2.0), multiplicity: 98\", \"(1.0, 2.0), multiplicity: 98\", \"(1.0, 2.0), multiplicity: 98\", \"(1.0, 2.0), multiplicity: 98\", \"(1.0, 2.0), multiplicity: 98\", \"(1.0, 2.0), multiplicity: 98\", \"(1.0, 2.0), multiplicity: 98\", \"(1.0, 2.0), multiplicity: 98\", \"(1.0, 2.0), multiplicity: 98\", \"(1.0, 2.0), multiplicity: 98\", \"(1.0, 2.0), multiplicity: 98\", \"(1.0, 2.0), multiplicity: 98\", \"(1.0, 2.0), multiplicity: 98\", \"(1.0, 2.0), multiplicity: 98\", \"(1.0, 2.0), multiplicity: 98\", \"(1.0, 2.0), multiplicity: 98\", \"(1.0, 2.0), multiplicity: 98\", \"(1.0, 2.0), multiplicity: 98\", \"(1.0, 2.0), multiplicity: 98\", \"(1.0, 2.0), multiplicity: 98\", \"(1.0, 2.0), multiplicity: 98\", \"(1.0, 2.0), multiplicity: 98\", \"(1.0, 2.0), multiplicity: 98\", \"(1.0, 2.0), multiplicity: 98\", \"(1.0, 2.0), multiplicity: 98\", \"(1.0, 2.0), multiplicity: 98\", \"(1.0, 2.0), multiplicity: 98\", \"(1.0, 2.0), multiplicity: 98\", \"(1.0, 2.0), multiplicity: 98\", \"(1.0, 2.0), multiplicity: 98\", \"(1.0, 2.0), multiplicity: 98\", \"(1.0, 2.0), multiplicity: 98\", \"(1.0, 2.0), multiplicity: 98\", \"(1.0, 2.0), multiplicity: 98\", \"(1.0, 2.0), multiplicity: 98\", \"(1.0, 2.0), multiplicity: 98\", \"(1.0, 2.0), multiplicity: 98\", \"(1.0, 2.0), multiplicity: 98\", \"(1.0, 2.0), multiplicity: 98\", \"(1.0, 2.0), multiplicity: 98\", \"(1.0, 2.0), multiplicity: 98\", \"(1.0, 2.0), multiplicity: 98\", \"(1.0, 2.0), multiplicity: 98\", \"(1.0, 2.0), multiplicity: 98\", \"(1.0, 2.0), multiplicity: 98\", \"(1.0, 2.0), multiplicity: 98\", \"(1.0, 2.0), multiplicity: 98\", \"(1.0, 2.0), multiplicity: 98\", \"(1.0, 2.0), multiplicity: 98\", \"(1.0, 2.0), multiplicity: 98\", \"(1.0, 2.0), multiplicity: 98\", \"(1.0, 2.0), multiplicity: 98\", \"(1.0, 2.0), multiplicity: 98\", \"(1.0, 2.0), multiplicity: 98\", \"(1.0, 2.0), multiplicity: 98\", \"(1.0, 2.0), multiplicity: 98\", \"(1.0, 2.0), multiplicity: 98\", \"(1.0, 2.0), multiplicity: 98\", \"(1.0, 2.0), multiplicity: 98\", \"(1.0, 2.0), multiplicity: 98\", \"(1.0, 4.0)\", \"(1.0, 2.0), multiplicity: 98\", \"(1.0, 2.0), multiplicity: 98\", \"(1.0, 2.0), multiplicity: 98\", \"(1.0, 2.0), multiplicity: 98\", \"(1.0, 2.0), multiplicity: 98\", \"(1.0, 2.0), multiplicity: 98\", \"(1.0, 2.0), multiplicity: 98\", \"(1.0, 2.0), multiplicity: 98\", \"(1.0, 2.0), multiplicity: 98\", \"(1.0, 2.0), multiplicity: 98\", \"(1.0, 2.0), multiplicity: 98\", \"(1.0, 2.0), multiplicity: 98\", \"(1.0, 2.0), multiplicity: 98\", \"(1.0, 2.0), multiplicity: 98\", \"(1.0, 2.0), multiplicity: 98\", \"(1.0, 2.0), multiplicity: 98\", \"(1.0, 2.0), multiplicity: 98\", \"(1.0, 2.0), multiplicity: 98\", \"(1.0, 2.0), multiplicity: 98\", \"(1.0, 2.0), multiplicity: 98\", \"(1.0, 2.0), multiplicity: 98\", \"(1.0, 2.0), multiplicity: 98\", \"(1.0, 2.0), multiplicity: 98\", \"(1.0, 2.0), multiplicity: 98\", \"(1.0, 2.0), multiplicity: 98\", \"(1.0, 2.0), multiplicity: 98\", \"(1.0, 2.0), multiplicity: 98\", \"(1.0, 2.0), multiplicity: 98\", \"(1.0, 2.0), multiplicity: 98\", \"(1.0, 2.0), multiplicity: 98\", \"(1.0, 2.0), multiplicity: 98\", \"(1.0, 2.0), multiplicity: 98\", \"(1.0, 2.0), multiplicity: 98\", \"(1.0, 2.0), multiplicity: 98\", \"(1.0, 2.0), multiplicity: 98\", \"(1.0, 2.0), multiplicity: 98\"], \"mode\": \"markers\", \"name\": \"H1\", \"type\": \"scatter\", \"x\": [1.0, 1.0, 1.0, 1.0, 1.0, 1.0, 1.0, 1.0, 1.0, 1.0, 1.0, 1.0, 1.0, 1.0, 1.0, 1.0, 1.0, 1.0, 1.0, 1.0, 1.0, 1.0, 1.0, 1.0, 1.0, 1.0, 1.0, 1.0, 1.0, 1.0, 1.0, 1.0, 1.0, 1.0, 1.0, 1.0, 1.0, 1.0, 1.0, 1.0, 1.0, 1.0, 1.0, 1.0, 1.0, 1.0, 1.0, 1.0, 1.0, 1.0, 1.0, 1.0, 1.0, 1.0, 1.0, 1.0, 1.0, 1.0, 1.0, 1.0, 1.0, 1.0, 1.0, 1.0, 1.0, 1.0, 1.0, 1.0, 1.0, 1.0, 1.0, 1.0, 1.0, 1.0, 1.0, 1.0, 1.0, 1.0, 1.0, 1.0, 1.0, 1.0, 1.0, 1.0, 1.0, 1.0, 1.0, 1.0, 1.0, 1.0, 1.0, 1.0, 1.0, 1.0, 1.0, 1.0, 1.0, 1.0, 1.0], \"y\": [2.0, 2.0, 2.0, 2.0, 2.0, 2.0, 2.0, 2.0, 2.0, 2.0, 2.0, 2.0, 2.0, 2.0, 2.0, 2.0, 2.0, 2.0, 2.0, 2.0, 2.0, 2.0, 2.0, 2.0, 2.0, 2.0, 2.0, 2.0, 2.0, 2.0, 2.0, 2.0, 2.0, 2.0, 2.0, 2.0, 2.0, 2.0, 2.0, 2.0, 2.0, 2.0, 2.0, 2.0, 2.0, 2.0, 2.0, 2.0, 2.0, 2.0, 2.0, 2.0, 2.0, 2.0, 2.0, 2.0, 2.0, 2.0, 2.0, 2.0, 2.0, 2.0, 4.0, 2.0, 2.0, 2.0, 2.0, 2.0, 2.0, 2.0, 2.0, 2.0, 2.0, 2.0, 2.0, 2.0, 2.0, 2.0, 2.0, 2.0, 2.0, 2.0, 2.0, 2.0, 2.0, 2.0, 2.0, 2.0, 2.0, 2.0, 2.0, 2.0, 2.0, 2.0, 2.0, 2.0, 2.0, 2.0, 2.0]}, {\"hoverinfo\": \"text\", \"hovertext\": [\"(4.0, 5.0)\", \"(2.0, 5.0)\"], \"mode\": \"markers\", \"name\": \"H2\", \"type\": \"scatter\", \"x\": [4.0, 2.0], \"y\": [5.0, 5.0]}],                        {\"height\": 500, \"plot_bgcolor\": \"white\", \"template\": {\"data\": {\"bar\": [{\"error_x\": {\"color\": \"#2a3f5f\"}, \"error_y\": {\"color\": \"#2a3f5f\"}, \"marker\": {\"line\": {\"color\": \"#E5ECF6\", \"width\": 0.5}}, \"type\": \"bar\"}], \"barpolar\": [{\"marker\": {\"line\": {\"color\": \"#E5ECF6\", \"width\": 0.5}}, \"type\": \"barpolar\"}], \"carpet\": [{\"aaxis\": {\"endlinecolor\": \"#2a3f5f\", \"gridcolor\": \"white\", \"linecolor\": \"white\", \"minorgridcolor\": \"white\", \"startlinecolor\": \"#2a3f5f\"}, \"baxis\": {\"endlinecolor\": \"#2a3f5f\", \"gridcolor\": \"white\", \"linecolor\": \"white\", \"minorgridcolor\": \"white\", \"startlinecolor\": \"#2a3f5f\"}, \"type\": \"carpet\"}], \"choropleth\": [{\"colorbar\": {\"outlinewidth\": 0, \"ticks\": \"\"}, \"type\": \"choropleth\"}], \"contour\": [{\"colorbar\": {\"outlinewidth\": 0, \"ticks\": \"\"}, \"colorscale\": [[0.0, \"#0d0887\"], [0.1111111111111111, \"#46039f\"], [0.2222222222222222, \"#7201a8\"], [0.3333333333333333, \"#9c179e\"], [0.4444444444444444, \"#bd3786\"], [0.5555555555555556, \"#d8576b\"], [0.6666666666666666, \"#ed7953\"], [0.7777777777777778, \"#fb9f3a\"], [0.8888888888888888, \"#fdca26\"], [1.0, \"#f0f921\"]], \"type\": \"contour\"}], \"contourcarpet\": [{\"colorbar\": {\"outlinewidth\": 0, \"ticks\": \"\"}, \"type\": \"contourcarpet\"}], \"heatmap\": [{\"colorbar\": {\"outlinewidth\": 0, \"ticks\": \"\"}, \"colorscale\": [[0.0, \"#0d0887\"], [0.1111111111111111, \"#46039f\"], [0.2222222222222222, \"#7201a8\"], [0.3333333333333333, \"#9c179e\"], [0.4444444444444444, \"#bd3786\"], [0.5555555555555556, \"#d8576b\"], [0.6666666666666666, \"#ed7953\"], [0.7777777777777778, \"#fb9f3a\"], [0.8888888888888888, \"#fdca26\"], [1.0, \"#f0f921\"]], \"type\": \"heatmap\"}], \"heatmapgl\": [{\"colorbar\": {\"outlinewidth\": 0, \"ticks\": \"\"}, \"colorscale\": [[0.0, \"#0d0887\"], [0.1111111111111111, \"#46039f\"], [0.2222222222222222, \"#7201a8\"], [0.3333333333333333, \"#9c179e\"], [0.4444444444444444, \"#bd3786\"], [0.5555555555555556, \"#d8576b\"], [0.6666666666666666, \"#ed7953\"], [0.7777777777777778, \"#fb9f3a\"], [0.8888888888888888, \"#fdca26\"], [1.0, \"#f0f921\"]], \"type\": \"heatmapgl\"}], \"histogram\": [{\"marker\": {\"colorbar\": {\"outlinewidth\": 0, \"ticks\": \"\"}}, \"type\": \"histogram\"}], \"histogram2d\": [{\"colorbar\": {\"outlinewidth\": 0, \"ticks\": \"\"}, \"colorscale\": [[0.0, \"#0d0887\"], [0.1111111111111111, \"#46039f\"], [0.2222222222222222, \"#7201a8\"], [0.3333333333333333, \"#9c179e\"], [0.4444444444444444, \"#bd3786\"], [0.5555555555555556, \"#d8576b\"], [0.6666666666666666, \"#ed7953\"], [0.7777777777777778, \"#fb9f3a\"], [0.8888888888888888, \"#fdca26\"], [1.0, \"#f0f921\"]], \"type\": \"histogram2d\"}], \"histogram2dcontour\": [{\"colorbar\": {\"outlinewidth\": 0, \"ticks\": \"\"}, \"colorscale\": [[0.0, \"#0d0887\"], [0.1111111111111111, \"#46039f\"], [0.2222222222222222, \"#7201a8\"], [0.3333333333333333, \"#9c179e\"], [0.4444444444444444, \"#bd3786\"], [0.5555555555555556, \"#d8576b\"], [0.6666666666666666, \"#ed7953\"], [0.7777777777777778, \"#fb9f3a\"], [0.8888888888888888, \"#fdca26\"], [1.0, \"#f0f921\"]], \"type\": \"histogram2dcontour\"}], \"mesh3d\": [{\"colorbar\": {\"outlinewidth\": 0, \"ticks\": \"\"}, \"type\": \"mesh3d\"}], \"parcoords\": [{\"line\": {\"colorbar\": {\"outlinewidth\": 0, \"ticks\": \"\"}}, \"type\": \"parcoords\"}], \"pie\": [{\"automargin\": true, \"type\": \"pie\"}], \"scatter\": [{\"marker\": {\"colorbar\": {\"outlinewidth\": 0, \"ticks\": \"\"}}, \"type\": \"scatter\"}], \"scatter3d\": [{\"line\": {\"colorbar\": {\"outlinewidth\": 0, \"ticks\": \"\"}}, \"marker\": {\"colorbar\": {\"outlinewidth\": 0, \"ticks\": \"\"}}, \"type\": \"scatter3d\"}], \"scattercarpet\": [{\"marker\": {\"colorbar\": {\"outlinewidth\": 0, \"ticks\": \"\"}}, \"type\": \"scattercarpet\"}], \"scattergeo\": [{\"marker\": {\"colorbar\": {\"outlinewidth\": 0, \"ticks\": \"\"}}, \"type\": \"scattergeo\"}], \"scattergl\": [{\"marker\": {\"colorbar\": {\"outlinewidth\": 0, \"ticks\": \"\"}}, \"type\": \"scattergl\"}], \"scattermapbox\": [{\"marker\": {\"colorbar\": {\"outlinewidth\": 0, \"ticks\": \"\"}}, \"type\": \"scattermapbox\"}], \"scatterpolar\": [{\"marker\": {\"colorbar\": {\"outlinewidth\": 0, \"ticks\": \"\"}}, \"type\": \"scatterpolar\"}], \"scatterpolargl\": [{\"marker\": {\"colorbar\": {\"outlinewidth\": 0, \"ticks\": \"\"}}, \"type\": \"scatterpolargl\"}], \"scatterternary\": [{\"marker\": {\"colorbar\": {\"outlinewidth\": 0, \"ticks\": \"\"}}, \"type\": \"scatterternary\"}], \"surface\": [{\"colorbar\": {\"outlinewidth\": 0, \"ticks\": \"\"}, \"colorscale\": [[0.0, \"#0d0887\"], [0.1111111111111111, \"#46039f\"], [0.2222222222222222, \"#7201a8\"], [0.3333333333333333, \"#9c179e\"], [0.4444444444444444, \"#bd3786\"], [0.5555555555555556, \"#d8576b\"], [0.6666666666666666, \"#ed7953\"], [0.7777777777777778, \"#fb9f3a\"], [0.8888888888888888, \"#fdca26\"], [1.0, \"#f0f921\"]], \"type\": \"surface\"}], \"table\": [{\"cells\": {\"fill\": {\"color\": \"#EBF0F8\"}, \"line\": {\"color\": \"white\"}}, \"header\": {\"fill\": {\"color\": \"#C8D4E3\"}, \"line\": {\"color\": \"white\"}}, \"type\": \"table\"}]}, \"layout\": {\"annotationdefaults\": {\"arrowcolor\": \"#2a3f5f\", \"arrowhead\": 0, \"arrowwidth\": 1}, \"autotypenumbers\": \"strict\", \"coloraxis\": {\"colorbar\": {\"outlinewidth\": 0, \"ticks\": \"\"}}, \"colorscale\": {\"diverging\": [[0, \"#8e0152\"], [0.1, \"#c51b7d\"], [0.2, \"#de77ae\"], [0.3, \"#f1b6da\"], [0.4, \"#fde0ef\"], [0.5, \"#f7f7f7\"], [0.6, \"#e6f5d0\"], [0.7, \"#b8e186\"], [0.8, \"#7fbc41\"], [0.9, \"#4d9221\"], [1, \"#276419\"]], \"sequential\": [[0.0, \"#0d0887\"], [0.1111111111111111, \"#46039f\"], [0.2222222222222222, \"#7201a8\"], [0.3333333333333333, \"#9c179e\"], [0.4444444444444444, \"#bd3786\"], [0.5555555555555556, \"#d8576b\"], [0.6666666666666666, \"#ed7953\"], [0.7777777777777778, \"#fb9f3a\"], [0.8888888888888888, \"#fdca26\"], [1.0, \"#f0f921\"]], \"sequentialminus\": [[0.0, \"#0d0887\"], [0.1111111111111111, \"#46039f\"], [0.2222222222222222, \"#7201a8\"], [0.3333333333333333, \"#9c179e\"], [0.4444444444444444, \"#bd3786\"], [0.5555555555555556, \"#d8576b\"], [0.6666666666666666, \"#ed7953\"], [0.7777777777777778, \"#fb9f3a\"], [0.8888888888888888, \"#fdca26\"], [1.0, \"#f0f921\"]]}, \"colorway\": [\"#636efa\", \"#EF553B\", \"#00cc96\", \"#ab63fa\", \"#FFA15A\", \"#19d3f3\", \"#FF6692\", \"#B6E880\", \"#FF97FF\", \"#FECB52\"], \"font\": {\"color\": \"#2a3f5f\"}, \"geo\": {\"bgcolor\": \"white\", \"lakecolor\": \"white\", \"landcolor\": \"#E5ECF6\", \"showlakes\": true, \"showland\": true, \"subunitcolor\": \"white\"}, \"hoverlabel\": {\"align\": \"left\"}, \"hovermode\": \"closest\", \"mapbox\": {\"style\": \"light\"}, \"paper_bgcolor\": \"white\", \"plot_bgcolor\": \"#E5ECF6\", \"polar\": {\"angularaxis\": {\"gridcolor\": \"white\", \"linecolor\": \"white\", \"ticks\": \"\"}, \"bgcolor\": \"#E5ECF6\", \"radialaxis\": {\"gridcolor\": \"white\", \"linecolor\": \"white\", \"ticks\": \"\"}}, \"scene\": {\"xaxis\": {\"backgroundcolor\": \"#E5ECF6\", \"gridcolor\": \"white\", \"gridwidth\": 2, \"linecolor\": \"white\", \"showbackground\": true, \"ticks\": \"\", \"zerolinecolor\": \"white\"}, \"yaxis\": {\"backgroundcolor\": \"#E5ECF6\", \"gridcolor\": \"white\", \"gridwidth\": 2, \"linecolor\": \"white\", \"showbackground\": true, \"ticks\": \"\", \"zerolinecolor\": \"white\"}, \"zaxis\": {\"backgroundcolor\": \"#E5ECF6\", \"gridcolor\": \"white\", \"gridwidth\": 2, \"linecolor\": \"white\", \"showbackground\": true, \"ticks\": \"\", \"zerolinecolor\": \"white\"}}, \"shapedefaults\": {\"line\": {\"color\": \"#2a3f5f\"}}, \"ternary\": {\"aaxis\": {\"gridcolor\": \"white\", \"linecolor\": \"white\", \"ticks\": \"\"}, \"baxis\": {\"gridcolor\": \"white\", \"linecolor\": \"white\", \"ticks\": \"\"}, \"bgcolor\": \"#E5ECF6\", \"caxis\": {\"gridcolor\": \"white\", \"linecolor\": \"white\", \"ticks\": \"\"}}, \"title\": {\"x\": 0.05}, \"xaxis\": {\"automargin\": true, \"gridcolor\": \"white\", \"linecolor\": \"white\", \"ticks\": \"\", \"title\": {\"standoff\": 15}, \"zerolinecolor\": \"white\", \"zerolinewidth\": 2}, \"yaxis\": {\"automargin\": true, \"gridcolor\": \"white\", \"linecolor\": \"white\", \"ticks\": \"\", \"title\": {\"standoff\": 15}, \"zerolinecolor\": \"white\", \"zerolinewidth\": 2}}}, \"width\": 500, \"xaxis\": {\"autorange\": false, \"exponentformat\": \"e\", \"linecolor\": \"black\", \"linewidth\": 1, \"mirror\": false, \"range\": [-0.1, 5.1], \"showexponent\": \"all\", \"showline\": true, \"side\": \"bottom\", \"ticks\": \"outside\", \"title\": {\"text\": \"Birth\"}, \"type\": \"linear\", \"zeroline\": true}, \"yaxis\": {\"autorange\": false, \"exponentformat\": \"e\", \"linecolor\": \"black\", \"linewidth\": 1, \"mirror\": false, \"range\": [-0.1, 5.1], \"scaleanchor\": \"x\", \"scaleratio\": 1, \"showexponent\": \"all\", \"showline\": true, \"side\": \"left\", \"ticks\": \"outside\", \"title\": {\"text\": \"Death\"}, \"type\": \"linear\", \"zeroline\": true}},                        {\"responsive\": true}                    ).then(function(){\n",
       "                            \n",
       "var gd = document.getElementById('ed80b3ab-b7a1-4186-8999-b71ce622edec');\n",
       "var x = new MutationObserver(function (mutations, observer) {{\n",
       "        var display = window.getComputedStyle(gd).display;\n",
       "        if (!display || display === 'none') {{\n",
       "            console.log([gd, 'removed!']);\n",
       "            Plotly.purge(gd);\n",
       "            observer.disconnect();\n",
       "        }}\n",
       "}});\n",
       "\n",
       "// Listen for the removal of the full notebook cells\n",
       "var notebookContainer = gd.closest('#notebook-container');\n",
       "if (notebookContainer) {{\n",
       "    x.observe(notebookContainer, {childList: true});\n",
       "}}\n",
       "\n",
       "// Listen for the clearing of the current output cell\n",
       "var outputEl = gd.closest('.output');\n",
       "if (outputEl) {{\n",
       "    x.observe(outputEl, {childList: true});\n",
       "}}\n",
       "\n",
       "                        })                };                });            </script>        </div>"
      ]
     },
     "metadata": {},
     "output_type": "display_data"
    }
   ],
   "source": [
    "# Compute the adjacency matrix of the grid points, with boundaries identified as in the real projective space\n",
    "from sklearn.utils.graph_shortest_path import graph_shortest_path\n",
    "\n",
    "# This functions prepares the grid matrix with boundary identification\n",
    "def make_rp2_matrix(rows, cols):\n",
    "    n = rows * cols\n",
    "    M = np.zeros((n, n))\n",
    "    for r in range(rows):\n",
    "        for c in range(cols):\n",
    "            i = r * cols + c\n",
    "            # Two inner diagonals\n",
    "            if c > 0: M[i - 1, i] = M[i, i - 1] = 1\n",
    "            # Two outer diagonals\n",
    "            if r > 0: M[i - cols, i] = M[i,i - cols] = 1\n",
    "            # vertical twisted boundary identification\n",
    "            if c == 0: M[n-i-1, i] = M[i, n - i - 1] = 1\n",
    "            # horizontal twisted boundary identification\n",
    "            if r == 0: M[n - i - 1, i] = M[i, n - i - 1] = 1\n",
    "                \n",
    "    return M\n",
    "\n",
    "M = make_rp2_matrix(10, 10)\n",
    "\n",
    "# Compute the distance matrix of the points over the Klein bottle\n",
    "\n",
    "rp2 = graph_shortest_path(M)\n",
    "\n",
    "VietorisRipsPersistence(metric='precomputed', homology_dimensions=[0, 1, 2]).fit_transform_plot([rp2]);"
   ]
  },
  {
   "cell_type": "code",
   "execution_count": 198,
   "metadata": {},
   "outputs": [
    {
     "data": {
      "application/vnd.plotly.v1+json": {
       "config": {
        "plotlyServerURL": "https://plot.ly"
       },
       "data": [
        {
         "hoverinfo": "none",
         "line": {
          "color": "black",
          "dash": "dash",
          "width": 1
         },
         "mode": "lines",
         "showlegend": false,
         "type": "scatter",
         "x": [
          -0.1,
          5.1
         ],
         "y": [
          -0.1,
          5.1
         ]
        },
        {
         "hoverinfo": "text",
         "hovertext": [
          "(0.0, 1.0), multiplicity: 99",
          "(0.0, 1.0), multiplicity: 99",
          "(0.0, 1.0), multiplicity: 99",
          "(0.0, 1.0), multiplicity: 99",
          "(0.0, 1.0), multiplicity: 99",
          "(0.0, 1.0), multiplicity: 99",
          "(0.0, 1.0), multiplicity: 99",
          "(0.0, 1.0), multiplicity: 99",
          "(0.0, 1.0), multiplicity: 99",
          "(0.0, 1.0), multiplicity: 99",
          "(0.0, 1.0), multiplicity: 99",
          "(0.0, 1.0), multiplicity: 99",
          "(0.0, 1.0), multiplicity: 99",
          "(0.0, 1.0), multiplicity: 99",
          "(0.0, 1.0), multiplicity: 99",
          "(0.0, 1.0), multiplicity: 99",
          "(0.0, 1.0), multiplicity: 99",
          "(0.0, 1.0), multiplicity: 99",
          "(0.0, 1.0), multiplicity: 99",
          "(0.0, 1.0), multiplicity: 99",
          "(0.0, 1.0), multiplicity: 99",
          "(0.0, 1.0), multiplicity: 99",
          "(0.0, 1.0), multiplicity: 99",
          "(0.0, 1.0), multiplicity: 99",
          "(0.0, 1.0), multiplicity: 99",
          "(0.0, 1.0), multiplicity: 99",
          "(0.0, 1.0), multiplicity: 99",
          "(0.0, 1.0), multiplicity: 99",
          "(0.0, 1.0), multiplicity: 99",
          "(0.0, 1.0), multiplicity: 99",
          "(0.0, 1.0), multiplicity: 99",
          "(0.0, 1.0), multiplicity: 99",
          "(0.0, 1.0), multiplicity: 99",
          "(0.0, 1.0), multiplicity: 99",
          "(0.0, 1.0), multiplicity: 99",
          "(0.0, 1.0), multiplicity: 99",
          "(0.0, 1.0), multiplicity: 99",
          "(0.0, 1.0), multiplicity: 99",
          "(0.0, 1.0), multiplicity: 99",
          "(0.0, 1.0), multiplicity: 99",
          "(0.0, 1.0), multiplicity: 99",
          "(0.0, 1.0), multiplicity: 99",
          "(0.0, 1.0), multiplicity: 99",
          "(0.0, 1.0), multiplicity: 99",
          "(0.0, 1.0), multiplicity: 99",
          "(0.0, 1.0), multiplicity: 99",
          "(0.0, 1.0), multiplicity: 99",
          "(0.0, 1.0), multiplicity: 99",
          "(0.0, 1.0), multiplicity: 99",
          "(0.0, 1.0), multiplicity: 99",
          "(0.0, 1.0), multiplicity: 99",
          "(0.0, 1.0), multiplicity: 99",
          "(0.0, 1.0), multiplicity: 99",
          "(0.0, 1.0), multiplicity: 99",
          "(0.0, 1.0), multiplicity: 99",
          "(0.0, 1.0), multiplicity: 99",
          "(0.0, 1.0), multiplicity: 99",
          "(0.0, 1.0), multiplicity: 99",
          "(0.0, 1.0), multiplicity: 99",
          "(0.0, 1.0), multiplicity: 99",
          "(0.0, 1.0), multiplicity: 99",
          "(0.0, 1.0), multiplicity: 99",
          "(0.0, 1.0), multiplicity: 99",
          "(0.0, 1.0), multiplicity: 99",
          "(0.0, 1.0), multiplicity: 99",
          "(0.0, 1.0), multiplicity: 99",
          "(0.0, 1.0), multiplicity: 99",
          "(0.0, 1.0), multiplicity: 99",
          "(0.0, 1.0), multiplicity: 99",
          "(0.0, 1.0), multiplicity: 99",
          "(0.0, 1.0), multiplicity: 99",
          "(0.0, 1.0), multiplicity: 99",
          "(0.0, 1.0), multiplicity: 99",
          "(0.0, 1.0), multiplicity: 99",
          "(0.0, 1.0), multiplicity: 99",
          "(0.0, 1.0), multiplicity: 99",
          "(0.0, 1.0), multiplicity: 99",
          "(0.0, 1.0), multiplicity: 99",
          "(0.0, 1.0), multiplicity: 99",
          "(0.0, 1.0), multiplicity: 99",
          "(0.0, 1.0), multiplicity: 99",
          "(0.0, 1.0), multiplicity: 99",
          "(0.0, 1.0), multiplicity: 99",
          "(0.0, 1.0), multiplicity: 99",
          "(0.0, 1.0), multiplicity: 99",
          "(0.0, 1.0), multiplicity: 99",
          "(0.0, 1.0), multiplicity: 99",
          "(0.0, 1.0), multiplicity: 99",
          "(0.0, 1.0), multiplicity: 99",
          "(0.0, 1.0), multiplicity: 99",
          "(0.0, 1.0), multiplicity: 99",
          "(0.0, 1.0), multiplicity: 99",
          "(0.0, 1.0), multiplicity: 99",
          "(0.0, 1.0), multiplicity: 99",
          "(0.0, 1.0), multiplicity: 99",
          "(0.0, 1.0), multiplicity: 99",
          "(0.0, 1.0), multiplicity: 99",
          "(0.0, 1.0), multiplicity: 99",
          "(0.0, 1.0), multiplicity: 99"
         ],
         "mode": "markers",
         "name": "H0",
         "type": "scatter",
         "x": [
          0,
          0,
          0,
          0,
          0,
          0,
          0,
          0,
          0,
          0,
          0,
          0,
          0,
          0,
          0,
          0,
          0,
          0,
          0,
          0,
          0,
          0,
          0,
          0,
          0,
          0,
          0,
          0,
          0,
          0,
          0,
          0,
          0,
          0,
          0,
          0,
          0,
          0,
          0,
          0,
          0,
          0,
          0,
          0,
          0,
          0,
          0,
          0,
          0,
          0,
          0,
          0,
          0,
          0,
          0,
          0,
          0,
          0,
          0,
          0,
          0,
          0,
          0,
          0,
          0,
          0,
          0,
          0,
          0,
          0,
          0,
          0,
          0,
          0,
          0,
          0,
          0,
          0,
          0,
          0,
          0,
          0,
          0,
          0,
          0,
          0,
          0,
          0,
          0,
          0,
          0,
          0,
          0,
          0,
          0,
          0,
          0,
          0,
          0
         ],
         "y": [
          1,
          1,
          1,
          1,
          1,
          1,
          1,
          1,
          1,
          1,
          1,
          1,
          1,
          1,
          1,
          1,
          1,
          1,
          1,
          1,
          1,
          1,
          1,
          1,
          1,
          1,
          1,
          1,
          1,
          1,
          1,
          1,
          1,
          1,
          1,
          1,
          1,
          1,
          1,
          1,
          1,
          1,
          1,
          1,
          1,
          1,
          1,
          1,
          1,
          1,
          1,
          1,
          1,
          1,
          1,
          1,
          1,
          1,
          1,
          1,
          1,
          1,
          1,
          1,
          1,
          1,
          1,
          1,
          1,
          1,
          1,
          1,
          1,
          1,
          1,
          1,
          1,
          1,
          1,
          1,
          1,
          1,
          1,
          1,
          1,
          1,
          1,
          1,
          1,
          1,
          1,
          1,
          1,
          1,
          1,
          1,
          1,
          1,
          1
         ]
        },
        {
         "hoverinfo": "text",
         "hovertext": [
          "(1.0, 2.0), multiplicity: 99",
          "(1.0, 2.0), multiplicity: 99",
          "(1.0, 2.0), multiplicity: 99",
          "(1.0, 2.0), multiplicity: 99",
          "(1.0, 2.0), multiplicity: 99",
          "(1.0, 2.0), multiplicity: 99",
          "(1.0, 2.0), multiplicity: 99",
          "(1.0, 2.0), multiplicity: 99",
          "(1.0, 2.0), multiplicity: 99",
          "(1.0, 2.0), multiplicity: 99",
          "(1.0, 2.0), multiplicity: 99",
          "(1.0, 2.0), multiplicity: 99",
          "(1.0, 2.0), multiplicity: 99",
          "(1.0, 2.0), multiplicity: 99",
          "(1.0, 2.0), multiplicity: 99",
          "(1.0, 2.0), multiplicity: 99",
          "(1.0, 2.0), multiplicity: 99",
          "(1.0, 2.0), multiplicity: 99",
          "(1.0, 2.0), multiplicity: 99",
          "(1.0, 2.0), multiplicity: 99",
          "(1.0, 2.0), multiplicity: 99",
          "(1.0, 2.0), multiplicity: 99",
          "(1.0, 2.0), multiplicity: 99",
          "(1.0, 2.0), multiplicity: 99",
          "(1.0, 2.0), multiplicity: 99",
          "(1.0, 2.0), multiplicity: 99",
          "(1.0, 2.0), multiplicity: 99",
          "(1.0, 4.0), multiplicity: 2",
          "(1.0, 2.0), multiplicity: 99",
          "(1.0, 2.0), multiplicity: 99",
          "(1.0, 2.0), multiplicity: 99",
          "(1.0, 2.0), multiplicity: 99",
          "(1.0, 2.0), multiplicity: 99",
          "(1.0, 2.0), multiplicity: 99",
          "(1.0, 2.0), multiplicity: 99",
          "(1.0, 2.0), multiplicity: 99",
          "(1.0, 2.0), multiplicity: 99",
          "(1.0, 2.0), multiplicity: 99",
          "(1.0, 2.0), multiplicity: 99",
          "(1.0, 2.0), multiplicity: 99",
          "(1.0, 2.0), multiplicity: 99",
          "(1.0, 2.0), multiplicity: 99",
          "(1.0, 2.0), multiplicity: 99",
          "(1.0, 2.0), multiplicity: 99",
          "(1.0, 2.0), multiplicity: 99",
          "(1.0, 2.0), multiplicity: 99",
          "(1.0, 2.0), multiplicity: 99",
          "(1.0, 2.0), multiplicity: 99",
          "(1.0, 2.0), multiplicity: 99",
          "(1.0, 2.0), multiplicity: 99",
          "(1.0, 2.0), multiplicity: 99",
          "(1.0, 2.0), multiplicity: 99",
          "(1.0, 2.0), multiplicity: 99",
          "(1.0, 2.0), multiplicity: 99",
          "(1.0, 2.0), multiplicity: 99",
          "(1.0, 2.0), multiplicity: 99",
          "(1.0, 2.0), multiplicity: 99",
          "(1.0, 2.0), multiplicity: 99",
          "(1.0, 2.0), multiplicity: 99",
          "(1.0, 2.0), multiplicity: 99",
          "(1.0, 2.0), multiplicity: 99",
          "(1.0, 2.0), multiplicity: 99",
          "(1.0, 2.0), multiplicity: 99",
          "(1.0, 2.0), multiplicity: 99",
          "(1.0, 2.0), multiplicity: 99",
          "(1.0, 2.0), multiplicity: 99",
          "(1.0, 2.0), multiplicity: 99",
          "(1.0, 2.0), multiplicity: 99",
          "(1.0, 2.0), multiplicity: 99",
          "(1.0, 2.0), multiplicity: 99",
          "(1.0, 2.0), multiplicity: 99",
          "(1.0, 2.0), multiplicity: 99",
          "(1.0, 2.0), multiplicity: 99",
          "(1.0, 2.0), multiplicity: 99",
          "(1.0, 2.0), multiplicity: 99",
          "(1.0, 2.0), multiplicity: 99",
          "(1.0, 2.0), multiplicity: 99",
          "(1.0, 2.0), multiplicity: 99",
          "(1.0, 2.0), multiplicity: 99",
          "(1.0, 2.0), multiplicity: 99",
          "(1.0, 2.0), multiplicity: 99",
          "(1.0, 2.0), multiplicity: 99",
          "(1.0, 2.0), multiplicity: 99",
          "(1.0, 2.0), multiplicity: 99",
          "(1.0, 2.0), multiplicity: 99",
          "(1.0, 2.0), multiplicity: 99",
          "(1.0, 2.0), multiplicity: 99",
          "(1.0, 2.0), multiplicity: 99",
          "(1.0, 2.0), multiplicity: 99",
          "(1.0, 2.0), multiplicity: 99",
          "(1.0, 2.0), multiplicity: 99",
          "(1.0, 2.0), multiplicity: 99",
          "(1.0, 2.0), multiplicity: 99",
          "(1.0, 2.0), multiplicity: 99",
          "(1.0, 2.0), multiplicity: 99",
          "(1.0, 2.0), multiplicity: 99",
          "(1.0, 2.0), multiplicity: 99",
          "(1.0, 2.0), multiplicity: 99",
          "(1.0, 2.0), multiplicity: 99",
          "(1.0, 2.0), multiplicity: 99",
          "(1.0, 4.0), multiplicity: 2"
         ],
         "mode": "markers",
         "name": "H1",
         "type": "scatter",
         "x": [
          1,
          1,
          1,
          1,
          1,
          1,
          1,
          1,
          1,
          1,
          1,
          1,
          1,
          1,
          1,
          1,
          1,
          1,
          1,
          1,
          1,
          1,
          1,
          1,
          1,
          1,
          1,
          1,
          1,
          1,
          1,
          1,
          1,
          1,
          1,
          1,
          1,
          1,
          1,
          1,
          1,
          1,
          1,
          1,
          1,
          1,
          1,
          1,
          1,
          1,
          1,
          1,
          1,
          1,
          1,
          1,
          1,
          1,
          1,
          1,
          1,
          1,
          1,
          1,
          1,
          1,
          1,
          1,
          1,
          1,
          1,
          1,
          1,
          1,
          1,
          1,
          1,
          1,
          1,
          1,
          1,
          1,
          1,
          1,
          1,
          1,
          1,
          1,
          1,
          1,
          1,
          1,
          1,
          1,
          1,
          1,
          1,
          1,
          1,
          1,
          1
         ],
         "y": [
          2,
          2,
          2,
          2,
          2,
          2,
          2,
          2,
          2,
          2,
          2,
          2,
          2,
          2,
          2,
          2,
          2,
          2,
          2,
          2,
          2,
          2,
          2,
          2,
          2,
          2,
          2,
          4,
          2,
          2,
          2,
          2,
          2,
          2,
          2,
          2,
          2,
          2,
          2,
          2,
          2,
          2,
          2,
          2,
          2,
          2,
          2,
          2,
          2,
          2,
          2,
          2,
          2,
          2,
          2,
          2,
          2,
          2,
          2,
          2,
          2,
          2,
          2,
          2,
          2,
          2,
          2,
          2,
          2,
          2,
          2,
          2,
          2,
          2,
          2,
          2,
          2,
          2,
          2,
          2,
          2,
          2,
          2,
          2,
          2,
          2,
          2,
          2,
          2,
          2,
          2,
          2,
          2,
          2,
          2,
          2,
          2,
          2,
          2,
          2,
          4
         ]
        },
        {
         "hoverinfo": "text",
         "hovertext": [
          "(4.0, 5.0)",
          "(2.0, 4.0)"
         ],
         "mode": "markers",
         "name": "H2",
         "type": "scatter",
         "x": [
          4,
          2
         ],
         "y": [
          5,
          4
         ]
        }
       ],
       "layout": {
        "height": 500,
        "plot_bgcolor": "white",
        "template": {
         "data": {
          "bar": [
           {
            "error_x": {
             "color": "#2a3f5f"
            },
            "error_y": {
             "color": "#2a3f5f"
            },
            "marker": {
             "line": {
              "color": "#E5ECF6",
              "width": 0.5
             }
            },
            "type": "bar"
           }
          ],
          "barpolar": [
           {
            "marker": {
             "line": {
              "color": "#E5ECF6",
              "width": 0.5
             }
            },
            "type": "barpolar"
           }
          ],
          "carpet": [
           {
            "aaxis": {
             "endlinecolor": "#2a3f5f",
             "gridcolor": "white",
             "linecolor": "white",
             "minorgridcolor": "white",
             "startlinecolor": "#2a3f5f"
            },
            "baxis": {
             "endlinecolor": "#2a3f5f",
             "gridcolor": "white",
             "linecolor": "white",
             "minorgridcolor": "white",
             "startlinecolor": "#2a3f5f"
            },
            "type": "carpet"
           }
          ],
          "choropleth": [
           {
            "colorbar": {
             "outlinewidth": 0,
             "ticks": ""
            },
            "type": "choropleth"
           }
          ],
          "contour": [
           {
            "colorbar": {
             "outlinewidth": 0,
             "ticks": ""
            },
            "colorscale": [
             [
              0,
              "#0d0887"
             ],
             [
              0.1111111111111111,
              "#46039f"
             ],
             [
              0.2222222222222222,
              "#7201a8"
             ],
             [
              0.3333333333333333,
              "#9c179e"
             ],
             [
              0.4444444444444444,
              "#bd3786"
             ],
             [
              0.5555555555555556,
              "#d8576b"
             ],
             [
              0.6666666666666666,
              "#ed7953"
             ],
             [
              0.7777777777777778,
              "#fb9f3a"
             ],
             [
              0.8888888888888888,
              "#fdca26"
             ],
             [
              1,
              "#f0f921"
             ]
            ],
            "type": "contour"
           }
          ],
          "contourcarpet": [
           {
            "colorbar": {
             "outlinewidth": 0,
             "ticks": ""
            },
            "type": "contourcarpet"
           }
          ],
          "heatmap": [
           {
            "colorbar": {
             "outlinewidth": 0,
             "ticks": ""
            },
            "colorscale": [
             [
              0,
              "#0d0887"
             ],
             [
              0.1111111111111111,
              "#46039f"
             ],
             [
              0.2222222222222222,
              "#7201a8"
             ],
             [
              0.3333333333333333,
              "#9c179e"
             ],
             [
              0.4444444444444444,
              "#bd3786"
             ],
             [
              0.5555555555555556,
              "#d8576b"
             ],
             [
              0.6666666666666666,
              "#ed7953"
             ],
             [
              0.7777777777777778,
              "#fb9f3a"
             ],
             [
              0.8888888888888888,
              "#fdca26"
             ],
             [
              1,
              "#f0f921"
             ]
            ],
            "type": "heatmap"
           }
          ],
          "heatmapgl": [
           {
            "colorbar": {
             "outlinewidth": 0,
             "ticks": ""
            },
            "colorscale": [
             [
              0,
              "#0d0887"
             ],
             [
              0.1111111111111111,
              "#46039f"
             ],
             [
              0.2222222222222222,
              "#7201a8"
             ],
             [
              0.3333333333333333,
              "#9c179e"
             ],
             [
              0.4444444444444444,
              "#bd3786"
             ],
             [
              0.5555555555555556,
              "#d8576b"
             ],
             [
              0.6666666666666666,
              "#ed7953"
             ],
             [
              0.7777777777777778,
              "#fb9f3a"
             ],
             [
              0.8888888888888888,
              "#fdca26"
             ],
             [
              1,
              "#f0f921"
             ]
            ],
            "type": "heatmapgl"
           }
          ],
          "histogram": [
           {
            "marker": {
             "colorbar": {
              "outlinewidth": 0,
              "ticks": ""
             }
            },
            "type": "histogram"
           }
          ],
          "histogram2d": [
           {
            "colorbar": {
             "outlinewidth": 0,
             "ticks": ""
            },
            "colorscale": [
             [
              0,
              "#0d0887"
             ],
             [
              0.1111111111111111,
              "#46039f"
             ],
             [
              0.2222222222222222,
              "#7201a8"
             ],
             [
              0.3333333333333333,
              "#9c179e"
             ],
             [
              0.4444444444444444,
              "#bd3786"
             ],
             [
              0.5555555555555556,
              "#d8576b"
             ],
             [
              0.6666666666666666,
              "#ed7953"
             ],
             [
              0.7777777777777778,
              "#fb9f3a"
             ],
             [
              0.8888888888888888,
              "#fdca26"
             ],
             [
              1,
              "#f0f921"
             ]
            ],
            "type": "histogram2d"
           }
          ],
          "histogram2dcontour": [
           {
            "colorbar": {
             "outlinewidth": 0,
             "ticks": ""
            },
            "colorscale": [
             [
              0,
              "#0d0887"
             ],
             [
              0.1111111111111111,
              "#46039f"
             ],
             [
              0.2222222222222222,
              "#7201a8"
             ],
             [
              0.3333333333333333,
              "#9c179e"
             ],
             [
              0.4444444444444444,
              "#bd3786"
             ],
             [
              0.5555555555555556,
              "#d8576b"
             ],
             [
              0.6666666666666666,
              "#ed7953"
             ],
             [
              0.7777777777777778,
              "#fb9f3a"
             ],
             [
              0.8888888888888888,
              "#fdca26"
             ],
             [
              1,
              "#f0f921"
             ]
            ],
            "type": "histogram2dcontour"
           }
          ],
          "mesh3d": [
           {
            "colorbar": {
             "outlinewidth": 0,
             "ticks": ""
            },
            "type": "mesh3d"
           }
          ],
          "parcoords": [
           {
            "line": {
             "colorbar": {
              "outlinewidth": 0,
              "ticks": ""
             }
            },
            "type": "parcoords"
           }
          ],
          "pie": [
           {
            "automargin": true,
            "type": "pie"
           }
          ],
          "scatter": [
           {
            "marker": {
             "colorbar": {
              "outlinewidth": 0,
              "ticks": ""
             }
            },
            "type": "scatter"
           }
          ],
          "scatter3d": [
           {
            "line": {
             "colorbar": {
              "outlinewidth": 0,
              "ticks": ""
             }
            },
            "marker": {
             "colorbar": {
              "outlinewidth": 0,
              "ticks": ""
             }
            },
            "type": "scatter3d"
           }
          ],
          "scattercarpet": [
           {
            "marker": {
             "colorbar": {
              "outlinewidth": 0,
              "ticks": ""
             }
            },
            "type": "scattercarpet"
           }
          ],
          "scattergeo": [
           {
            "marker": {
             "colorbar": {
              "outlinewidth": 0,
              "ticks": ""
             }
            },
            "type": "scattergeo"
           }
          ],
          "scattergl": [
           {
            "marker": {
             "colorbar": {
              "outlinewidth": 0,
              "ticks": ""
             }
            },
            "type": "scattergl"
           }
          ],
          "scattermapbox": [
           {
            "marker": {
             "colorbar": {
              "outlinewidth": 0,
              "ticks": ""
             }
            },
            "type": "scattermapbox"
           }
          ],
          "scatterpolar": [
           {
            "marker": {
             "colorbar": {
              "outlinewidth": 0,
              "ticks": ""
             }
            },
            "type": "scatterpolar"
           }
          ],
          "scatterpolargl": [
           {
            "marker": {
             "colorbar": {
              "outlinewidth": 0,
              "ticks": ""
             }
            },
            "type": "scatterpolargl"
           }
          ],
          "scatterternary": [
           {
            "marker": {
             "colorbar": {
              "outlinewidth": 0,
              "ticks": ""
             }
            },
            "type": "scatterternary"
           }
          ],
          "surface": [
           {
            "colorbar": {
             "outlinewidth": 0,
             "ticks": ""
            },
            "colorscale": [
             [
              0,
              "#0d0887"
             ],
             [
              0.1111111111111111,
              "#46039f"
             ],
             [
              0.2222222222222222,
              "#7201a8"
             ],
             [
              0.3333333333333333,
              "#9c179e"
             ],
             [
              0.4444444444444444,
              "#bd3786"
             ],
             [
              0.5555555555555556,
              "#d8576b"
             ],
             [
              0.6666666666666666,
              "#ed7953"
             ],
             [
              0.7777777777777778,
              "#fb9f3a"
             ],
             [
              0.8888888888888888,
              "#fdca26"
             ],
             [
              1,
              "#f0f921"
             ]
            ],
            "type": "surface"
           }
          ],
          "table": [
           {
            "cells": {
             "fill": {
              "color": "#EBF0F8"
             },
             "line": {
              "color": "white"
             }
            },
            "header": {
             "fill": {
              "color": "#C8D4E3"
             },
             "line": {
              "color": "white"
             }
            },
            "type": "table"
           }
          ]
         },
         "layout": {
          "annotationdefaults": {
           "arrowcolor": "#2a3f5f",
           "arrowhead": 0,
           "arrowwidth": 1
          },
          "autotypenumbers": "strict",
          "coloraxis": {
           "colorbar": {
            "outlinewidth": 0,
            "ticks": ""
           }
          },
          "colorscale": {
           "diverging": [
            [
             0,
             "#8e0152"
            ],
            [
             0.1,
             "#c51b7d"
            ],
            [
             0.2,
             "#de77ae"
            ],
            [
             0.3,
             "#f1b6da"
            ],
            [
             0.4,
             "#fde0ef"
            ],
            [
             0.5,
             "#f7f7f7"
            ],
            [
             0.6,
             "#e6f5d0"
            ],
            [
             0.7,
             "#b8e186"
            ],
            [
             0.8,
             "#7fbc41"
            ],
            [
             0.9,
             "#4d9221"
            ],
            [
             1,
             "#276419"
            ]
           ],
           "sequential": [
            [
             0,
             "#0d0887"
            ],
            [
             0.1111111111111111,
             "#46039f"
            ],
            [
             0.2222222222222222,
             "#7201a8"
            ],
            [
             0.3333333333333333,
             "#9c179e"
            ],
            [
             0.4444444444444444,
             "#bd3786"
            ],
            [
             0.5555555555555556,
             "#d8576b"
            ],
            [
             0.6666666666666666,
             "#ed7953"
            ],
            [
             0.7777777777777778,
             "#fb9f3a"
            ],
            [
             0.8888888888888888,
             "#fdca26"
            ],
            [
             1,
             "#f0f921"
            ]
           ],
           "sequentialminus": [
            [
             0,
             "#0d0887"
            ],
            [
             0.1111111111111111,
             "#46039f"
            ],
            [
             0.2222222222222222,
             "#7201a8"
            ],
            [
             0.3333333333333333,
             "#9c179e"
            ],
            [
             0.4444444444444444,
             "#bd3786"
            ],
            [
             0.5555555555555556,
             "#d8576b"
            ],
            [
             0.6666666666666666,
             "#ed7953"
            ],
            [
             0.7777777777777778,
             "#fb9f3a"
            ],
            [
             0.8888888888888888,
             "#fdca26"
            ],
            [
             1,
             "#f0f921"
            ]
           ]
          },
          "colorway": [
           "#636efa",
           "#EF553B",
           "#00cc96",
           "#ab63fa",
           "#FFA15A",
           "#19d3f3",
           "#FF6692",
           "#B6E880",
           "#FF97FF",
           "#FECB52"
          ],
          "font": {
           "color": "#2a3f5f"
          },
          "geo": {
           "bgcolor": "white",
           "lakecolor": "white",
           "landcolor": "#E5ECF6",
           "showlakes": true,
           "showland": true,
           "subunitcolor": "white"
          },
          "hoverlabel": {
           "align": "left"
          },
          "hovermode": "closest",
          "mapbox": {
           "style": "light"
          },
          "paper_bgcolor": "white",
          "plot_bgcolor": "#E5ECF6",
          "polar": {
           "angularaxis": {
            "gridcolor": "white",
            "linecolor": "white",
            "ticks": ""
           },
           "bgcolor": "#E5ECF6",
           "radialaxis": {
            "gridcolor": "white",
            "linecolor": "white",
            "ticks": ""
           }
          },
          "scene": {
           "xaxis": {
            "backgroundcolor": "#E5ECF6",
            "gridcolor": "white",
            "gridwidth": 2,
            "linecolor": "white",
            "showbackground": true,
            "ticks": "",
            "zerolinecolor": "white"
           },
           "yaxis": {
            "backgroundcolor": "#E5ECF6",
            "gridcolor": "white",
            "gridwidth": 2,
            "linecolor": "white",
            "showbackground": true,
            "ticks": "",
            "zerolinecolor": "white"
           },
           "zaxis": {
            "backgroundcolor": "#E5ECF6",
            "gridcolor": "white",
            "gridwidth": 2,
            "linecolor": "white",
            "showbackground": true,
            "ticks": "",
            "zerolinecolor": "white"
           }
          },
          "shapedefaults": {
           "line": {
            "color": "#2a3f5f"
           }
          },
          "ternary": {
           "aaxis": {
            "gridcolor": "white",
            "linecolor": "white",
            "ticks": ""
           },
           "baxis": {
            "gridcolor": "white",
            "linecolor": "white",
            "ticks": ""
           },
           "bgcolor": "#E5ECF6",
           "caxis": {
            "gridcolor": "white",
            "linecolor": "white",
            "ticks": ""
           }
          },
          "title": {
           "x": 0.05
          },
          "xaxis": {
           "automargin": true,
           "gridcolor": "white",
           "linecolor": "white",
           "ticks": "",
           "title": {
            "standoff": 15
           },
           "zerolinecolor": "white",
           "zerolinewidth": 2
          },
          "yaxis": {
           "automargin": true,
           "gridcolor": "white",
           "linecolor": "white",
           "ticks": "",
           "title": {
            "standoff": 15
           },
           "zerolinecolor": "white",
           "zerolinewidth": 2
          }
         }
        },
        "width": 500,
        "xaxis": {
         "autorange": false,
         "domain": [
          0,
          1
         ],
         "exponentformat": "e",
         "linecolor": "black",
         "linewidth": 1,
         "mirror": false,
         "range": [
          -0.2462500000000003,
          5.24625
         ],
         "showexponent": "all",
         "showline": true,
         "side": "bottom",
         "ticks": "outside",
         "title": {
          "text": "Birth"
         },
         "type": "linear",
         "zeroline": true
        },
        "yaxis": {
         "autorange": false,
         "domain": [
          0,
          1
         ],
         "exponentformat": "e",
         "linecolor": "black",
         "linewidth": 1,
         "mirror": false,
         "range": [
          -0.1,
          5.1
         ],
         "scaleanchor": "x",
         "scaleratio": 1,
         "showexponent": "all",
         "showline": true,
         "side": "left",
         "ticks": "outside",
         "title": {
          "text": "Death"
         },
         "type": "linear",
         "zeroline": true
        }
       }
      },
      "image/png": "[encoded data removed]",
      "text/html": [
       "<div>                            <div id=\"c416aebd-a169-4a2d-ac74-9455171098ed\" class=\"plotly-graph-div\" style=\"height:500px; width:500px;\"></div>            <script type=\"text/javascript\">                require([\"plotly\"], function(Plotly) {                    window.PLOTLYENV=window.PLOTLYENV || {};                                    if (document.getElementById(\"c416aebd-a169-4a2d-ac74-9455171098ed\")) {                    Plotly.newPlot(                        \"c416aebd-a169-4a2d-ac74-9455171098ed\",                        [{\"hoverinfo\": \"none\", \"line\": {\"color\": \"black\", \"dash\": \"dash\", \"width\": 1}, \"mode\": \"lines\", \"showlegend\": false, \"type\": \"scatter\", \"x\": [-0.1, 5.1], \"y\": [-0.1, 5.1]}, {\"hoverinfo\": \"text\", \"hovertext\": [\"(0.0, 1.0), multiplicity: 99\", \"(0.0, 1.0), multiplicity: 99\", \"(0.0, 1.0), multiplicity: 99\", \"(0.0, 1.0), multiplicity: 99\", \"(0.0, 1.0), multiplicity: 99\", \"(0.0, 1.0), multiplicity: 99\", \"(0.0, 1.0), multiplicity: 99\", \"(0.0, 1.0), multiplicity: 99\", \"(0.0, 1.0), multiplicity: 99\", \"(0.0, 1.0), multiplicity: 99\", \"(0.0, 1.0), multiplicity: 99\", \"(0.0, 1.0), multiplicity: 99\", \"(0.0, 1.0), multiplicity: 99\", \"(0.0, 1.0), multiplicity: 99\", \"(0.0, 1.0), multiplicity: 99\", \"(0.0, 1.0), multiplicity: 99\", \"(0.0, 1.0), multiplicity: 99\", \"(0.0, 1.0), multiplicity: 99\", \"(0.0, 1.0), multiplicity: 99\", \"(0.0, 1.0), multiplicity: 99\", \"(0.0, 1.0), multiplicity: 99\", \"(0.0, 1.0), multiplicity: 99\", \"(0.0, 1.0), multiplicity: 99\", \"(0.0, 1.0), multiplicity: 99\", \"(0.0, 1.0), multiplicity: 99\", \"(0.0, 1.0), multiplicity: 99\", \"(0.0, 1.0), multiplicity: 99\", \"(0.0, 1.0), multiplicity: 99\", \"(0.0, 1.0), multiplicity: 99\", \"(0.0, 1.0), multiplicity: 99\", \"(0.0, 1.0), multiplicity: 99\", \"(0.0, 1.0), multiplicity: 99\", \"(0.0, 1.0), multiplicity: 99\", \"(0.0, 1.0), multiplicity: 99\", \"(0.0, 1.0), multiplicity: 99\", \"(0.0, 1.0), multiplicity: 99\", \"(0.0, 1.0), multiplicity: 99\", \"(0.0, 1.0), multiplicity: 99\", \"(0.0, 1.0), multiplicity: 99\", \"(0.0, 1.0), multiplicity: 99\", \"(0.0, 1.0), multiplicity: 99\", \"(0.0, 1.0), multiplicity: 99\", \"(0.0, 1.0), multiplicity: 99\", \"(0.0, 1.0), multiplicity: 99\", \"(0.0, 1.0), multiplicity: 99\", \"(0.0, 1.0), multiplicity: 99\", \"(0.0, 1.0), multiplicity: 99\", \"(0.0, 1.0), multiplicity: 99\", \"(0.0, 1.0), multiplicity: 99\", \"(0.0, 1.0), multiplicity: 99\", \"(0.0, 1.0), multiplicity: 99\", \"(0.0, 1.0), multiplicity: 99\", \"(0.0, 1.0), multiplicity: 99\", \"(0.0, 1.0), multiplicity: 99\", \"(0.0, 1.0), multiplicity: 99\", \"(0.0, 1.0), multiplicity: 99\", \"(0.0, 1.0), multiplicity: 99\", \"(0.0, 1.0), multiplicity: 99\", \"(0.0, 1.0), multiplicity: 99\", \"(0.0, 1.0), multiplicity: 99\", \"(0.0, 1.0), multiplicity: 99\", \"(0.0, 1.0), multiplicity: 99\", \"(0.0, 1.0), multiplicity: 99\", \"(0.0, 1.0), multiplicity: 99\", \"(0.0, 1.0), multiplicity: 99\", \"(0.0, 1.0), multiplicity: 99\", \"(0.0, 1.0), multiplicity: 99\", \"(0.0, 1.0), multiplicity: 99\", \"(0.0, 1.0), multiplicity: 99\", \"(0.0, 1.0), multiplicity: 99\", \"(0.0, 1.0), multiplicity: 99\", \"(0.0, 1.0), multiplicity: 99\", \"(0.0, 1.0), multiplicity: 99\", \"(0.0, 1.0), multiplicity: 99\", \"(0.0, 1.0), multiplicity: 99\", \"(0.0, 1.0), multiplicity: 99\", \"(0.0, 1.0), multiplicity: 99\", \"(0.0, 1.0), multiplicity: 99\", \"(0.0, 1.0), multiplicity: 99\", \"(0.0, 1.0), multiplicity: 99\", \"(0.0, 1.0), multiplicity: 99\", \"(0.0, 1.0), multiplicity: 99\", \"(0.0, 1.0), multiplicity: 99\", \"(0.0, 1.0), multiplicity: 99\", \"(0.0, 1.0), multiplicity: 99\", \"(0.0, 1.0), multiplicity: 99\", \"(0.0, 1.0), multiplicity: 99\", \"(0.0, 1.0), multiplicity: 99\", \"(0.0, 1.0), multiplicity: 99\", \"(0.0, 1.0), multiplicity: 99\", \"(0.0, 1.0), multiplicity: 99\", \"(0.0, 1.0), multiplicity: 99\", \"(0.0, 1.0), multiplicity: 99\", \"(0.0, 1.0), multiplicity: 99\", \"(0.0, 1.0), multiplicity: 99\", \"(0.0, 1.0), multiplicity: 99\", \"(0.0, 1.0), multiplicity: 99\", \"(0.0, 1.0), multiplicity: 99\", \"(0.0, 1.0), multiplicity: 99\"], \"mode\": \"markers\", \"name\": \"H0\", \"type\": \"scatter\", \"x\": [0.0, 0.0, 0.0, 0.0, 0.0, 0.0, 0.0, 0.0, 0.0, 0.0, 0.0, 0.0, 0.0, 0.0, 0.0, 0.0, 0.0, 0.0, 0.0, 0.0, 0.0, 0.0, 0.0, 0.0, 0.0, 0.0, 0.0, 0.0, 0.0, 0.0, 0.0, 0.0, 0.0, 0.0, 0.0, 0.0, 0.0, 0.0, 0.0, 0.0, 0.0, 0.0, 0.0, 0.0, 0.0, 0.0, 0.0, 0.0, 0.0, 0.0, 0.0, 0.0, 0.0, 0.0, 0.0, 0.0, 0.0, 0.0, 0.0, 0.0, 0.0, 0.0, 0.0, 0.0, 0.0, 0.0, 0.0, 0.0, 0.0, 0.0, 0.0, 0.0, 0.0, 0.0, 0.0, 0.0, 0.0, 0.0, 0.0, 0.0, 0.0, 0.0, 0.0, 0.0, 0.0, 0.0, 0.0, 0.0, 0.0, 0.0, 0.0, 0.0, 0.0, 0.0, 0.0, 0.0, 0.0, 0.0, 0.0], \"y\": [1.0, 1.0, 1.0, 1.0, 1.0, 1.0, 1.0, 1.0, 1.0, 1.0, 1.0, 1.0, 1.0, 1.0, 1.0, 1.0, 1.0, 1.0, 1.0, 1.0, 1.0, 1.0, 1.0, 1.0, 1.0, 1.0, 1.0, 1.0, 1.0, 1.0, 1.0, 1.0, 1.0, 1.0, 1.0, 1.0, 1.0, 1.0, 1.0, 1.0, 1.0, 1.0, 1.0, 1.0, 1.0, 1.0, 1.0, 1.0, 1.0, 1.0, 1.0, 1.0, 1.0, 1.0, 1.0, 1.0, 1.0, 1.0, 1.0, 1.0, 1.0, 1.0, 1.0, 1.0, 1.0, 1.0, 1.0, 1.0, 1.0, 1.0, 1.0, 1.0, 1.0, 1.0, 1.0, 1.0, 1.0, 1.0, 1.0, 1.0, 1.0, 1.0, 1.0, 1.0, 1.0, 1.0, 1.0, 1.0, 1.0, 1.0, 1.0, 1.0, 1.0, 1.0, 1.0, 1.0, 1.0, 1.0, 1.0]}, {\"hoverinfo\": \"text\", \"hovertext\": [\"(1.0, 2.0), multiplicity: 99\", \"(1.0, 2.0), multiplicity: 99\", \"(1.0, 2.0), multiplicity: 99\", \"(1.0, 2.0), multiplicity: 99\", \"(1.0, 2.0), multiplicity: 99\", \"(1.0, 2.0), multiplicity: 99\", \"(1.0, 2.0), multiplicity: 99\", \"(1.0, 2.0), multiplicity: 99\", \"(1.0, 2.0), multiplicity: 99\", \"(1.0, 2.0), multiplicity: 99\", \"(1.0, 2.0), multiplicity: 99\", \"(1.0, 2.0), multiplicity: 99\", \"(1.0, 2.0), multiplicity: 99\", \"(1.0, 2.0), multiplicity: 99\", \"(1.0, 2.0), multiplicity: 99\", \"(1.0, 2.0), multiplicity: 99\", \"(1.0, 2.0), multiplicity: 99\", \"(1.0, 2.0), multiplicity: 99\", \"(1.0, 2.0), multiplicity: 99\", \"(1.0, 2.0), multiplicity: 99\", \"(1.0, 2.0), multiplicity: 99\", \"(1.0, 2.0), multiplicity: 99\", \"(1.0, 2.0), multiplicity: 99\", \"(1.0, 2.0), multiplicity: 99\", \"(1.0, 2.0), multiplicity: 99\", \"(1.0, 2.0), multiplicity: 99\", \"(1.0, 2.0), multiplicity: 99\", \"(1.0, 4.0), multiplicity: 2\", \"(1.0, 2.0), multiplicity: 99\", \"(1.0, 2.0), multiplicity: 99\", \"(1.0, 2.0), multiplicity: 99\", \"(1.0, 2.0), multiplicity: 99\", \"(1.0, 2.0), multiplicity: 99\", \"(1.0, 2.0), multiplicity: 99\", \"(1.0, 2.0), multiplicity: 99\", \"(1.0, 2.0), multiplicity: 99\", \"(1.0, 2.0), multiplicity: 99\", \"(1.0, 2.0), multiplicity: 99\", \"(1.0, 2.0), multiplicity: 99\", \"(1.0, 2.0), multiplicity: 99\", \"(1.0, 2.0), multiplicity: 99\", \"(1.0, 2.0), multiplicity: 99\", \"(1.0, 2.0), multiplicity: 99\", \"(1.0, 2.0), multiplicity: 99\", \"(1.0, 2.0), multiplicity: 99\", \"(1.0, 2.0), multiplicity: 99\", \"(1.0, 2.0), multiplicity: 99\", \"(1.0, 2.0), multiplicity: 99\", \"(1.0, 2.0), multiplicity: 99\", \"(1.0, 2.0), multiplicity: 99\", \"(1.0, 2.0), multiplicity: 99\", \"(1.0, 2.0), multiplicity: 99\", \"(1.0, 2.0), multiplicity: 99\", \"(1.0, 2.0), multiplicity: 99\", \"(1.0, 2.0), multiplicity: 99\", \"(1.0, 2.0), multiplicity: 99\", \"(1.0, 2.0), multiplicity: 99\", \"(1.0, 2.0), multiplicity: 99\", \"(1.0, 2.0), multiplicity: 99\", \"(1.0, 2.0), multiplicity: 99\", \"(1.0, 2.0), multiplicity: 99\", \"(1.0, 2.0), multiplicity: 99\", \"(1.0, 2.0), multiplicity: 99\", \"(1.0, 2.0), multiplicity: 99\", \"(1.0, 2.0), multiplicity: 99\", \"(1.0, 2.0), multiplicity: 99\", \"(1.0, 2.0), multiplicity: 99\", \"(1.0, 2.0), multiplicity: 99\", \"(1.0, 2.0), multiplicity: 99\", \"(1.0, 2.0), multiplicity: 99\", \"(1.0, 2.0), multiplicity: 99\", \"(1.0, 2.0), multiplicity: 99\", \"(1.0, 2.0), multiplicity: 99\", \"(1.0, 2.0), multiplicity: 99\", \"(1.0, 2.0), multiplicity: 99\", \"(1.0, 2.0), multiplicity: 99\", \"(1.0, 2.0), multiplicity: 99\", \"(1.0, 2.0), multiplicity: 99\", \"(1.0, 2.0), multiplicity: 99\", \"(1.0, 2.0), multiplicity: 99\", \"(1.0, 2.0), multiplicity: 99\", \"(1.0, 2.0), multiplicity: 99\", \"(1.0, 2.0), multiplicity: 99\", \"(1.0, 2.0), multiplicity: 99\", \"(1.0, 2.0), multiplicity: 99\", \"(1.0, 2.0), multiplicity: 99\", \"(1.0, 2.0), multiplicity: 99\", \"(1.0, 2.0), multiplicity: 99\", \"(1.0, 2.0), multiplicity: 99\", \"(1.0, 2.0), multiplicity: 99\", \"(1.0, 2.0), multiplicity: 99\", \"(1.0, 2.0), multiplicity: 99\", \"(1.0, 2.0), multiplicity: 99\", \"(1.0, 2.0), multiplicity: 99\", \"(1.0, 2.0), multiplicity: 99\", \"(1.0, 2.0), multiplicity: 99\", \"(1.0, 2.0), multiplicity: 99\", \"(1.0, 2.0), multiplicity: 99\", \"(1.0, 2.0), multiplicity: 99\", \"(1.0, 2.0), multiplicity: 99\", \"(1.0, 4.0), multiplicity: 2\"], \"mode\": \"markers\", \"name\": \"H1\", \"type\": \"scatter\", \"x\": [1.0, 1.0, 1.0, 1.0, 1.0, 1.0, 1.0, 1.0, 1.0, 1.0, 1.0, 1.0, 1.0, 1.0, 1.0, 1.0, 1.0, 1.0, 1.0, 1.0, 1.0, 1.0, 1.0, 1.0, 1.0, 1.0, 1.0, 1.0, 1.0, 1.0, 1.0, 1.0, 1.0, 1.0, 1.0, 1.0, 1.0, 1.0, 1.0, 1.0, 1.0, 1.0, 1.0, 1.0, 1.0, 1.0, 1.0, 1.0, 1.0, 1.0, 1.0, 1.0, 1.0, 1.0, 1.0, 1.0, 1.0, 1.0, 1.0, 1.0, 1.0, 1.0, 1.0, 1.0, 1.0, 1.0, 1.0, 1.0, 1.0, 1.0, 1.0, 1.0, 1.0, 1.0, 1.0, 1.0, 1.0, 1.0, 1.0, 1.0, 1.0, 1.0, 1.0, 1.0, 1.0, 1.0, 1.0, 1.0, 1.0, 1.0, 1.0, 1.0, 1.0, 1.0, 1.0, 1.0, 1.0, 1.0, 1.0, 1.0, 1.0], \"y\": [2.0, 2.0, 2.0, 2.0, 2.0, 2.0, 2.0, 2.0, 2.0, 2.0, 2.0, 2.0, 2.0, 2.0, 2.0, 2.0, 2.0, 2.0, 2.0, 2.0, 2.0, 2.0, 2.0, 2.0, 2.0, 2.0, 2.0, 4.0, 2.0, 2.0, 2.0, 2.0, 2.0, 2.0, 2.0, 2.0, 2.0, 2.0, 2.0, 2.0, 2.0, 2.0, 2.0, 2.0, 2.0, 2.0, 2.0, 2.0, 2.0, 2.0, 2.0, 2.0, 2.0, 2.0, 2.0, 2.0, 2.0, 2.0, 2.0, 2.0, 2.0, 2.0, 2.0, 2.0, 2.0, 2.0, 2.0, 2.0, 2.0, 2.0, 2.0, 2.0, 2.0, 2.0, 2.0, 2.0, 2.0, 2.0, 2.0, 2.0, 2.0, 2.0, 2.0, 2.0, 2.0, 2.0, 2.0, 2.0, 2.0, 2.0, 2.0, 2.0, 2.0, 2.0, 2.0, 2.0, 2.0, 2.0, 2.0, 2.0, 4.0]}, {\"hoverinfo\": \"text\", \"hovertext\": [\"(4.0, 5.0)\", \"(2.0, 4.0)\"], \"mode\": \"markers\", \"name\": \"H2\", \"type\": \"scatter\", \"x\": [4.0, 2.0], \"y\": [5.0, 4.0]}],                        {\"height\": 500, \"plot_bgcolor\": \"white\", \"template\": {\"data\": {\"bar\": [{\"error_x\": {\"color\": \"#2a3f5f\"}, \"error_y\": {\"color\": \"#2a3f5f\"}, \"marker\": {\"line\": {\"color\": \"#E5ECF6\", \"width\": 0.5}}, \"type\": \"bar\"}], \"barpolar\": [{\"marker\": {\"line\": {\"color\": \"#E5ECF6\", \"width\": 0.5}}, \"type\": \"barpolar\"}], \"carpet\": [{\"aaxis\": {\"endlinecolor\": \"#2a3f5f\", \"gridcolor\": \"white\", \"linecolor\": \"white\", \"minorgridcolor\": \"white\", \"startlinecolor\": \"#2a3f5f\"}, \"baxis\": {\"endlinecolor\": \"#2a3f5f\", \"gridcolor\": \"white\", \"linecolor\": \"white\", \"minorgridcolor\": \"white\", \"startlinecolor\": \"#2a3f5f\"}, \"type\": \"carpet\"}], \"choropleth\": [{\"colorbar\": {\"outlinewidth\": 0, \"ticks\": \"\"}, \"type\": \"choropleth\"}], \"contour\": [{\"colorbar\": {\"outlinewidth\": 0, \"ticks\": \"\"}, \"colorscale\": [[0.0, \"#0d0887\"], [0.1111111111111111, \"#46039f\"], [0.2222222222222222, \"#7201a8\"], [0.3333333333333333, \"#9c179e\"], [0.4444444444444444, \"#bd3786\"], [0.5555555555555556, \"#d8576b\"], [0.6666666666666666, \"#ed7953\"], [0.7777777777777778, \"#fb9f3a\"], [0.8888888888888888, \"#fdca26\"], [1.0, \"#f0f921\"]], \"type\": \"contour\"}], \"contourcarpet\": [{\"colorbar\": {\"outlinewidth\": 0, \"ticks\": \"\"}, \"type\": \"contourcarpet\"}], \"heatmap\": [{\"colorbar\": {\"outlinewidth\": 0, \"ticks\": \"\"}, \"colorscale\": [[0.0, \"#0d0887\"], [0.1111111111111111, \"#46039f\"], [0.2222222222222222, \"#7201a8\"], [0.3333333333333333, \"#9c179e\"], [0.4444444444444444, \"#bd3786\"], [0.5555555555555556, \"#d8576b\"], [0.6666666666666666, \"#ed7953\"], [0.7777777777777778, \"#fb9f3a\"], [0.8888888888888888, \"#fdca26\"], [1.0, \"#f0f921\"]], \"type\": \"heatmap\"}], \"heatmapgl\": [{\"colorbar\": {\"outlinewidth\": 0, \"ticks\": \"\"}, \"colorscale\": [[0.0, \"#0d0887\"], [0.1111111111111111, \"#46039f\"], [0.2222222222222222, \"#7201a8\"], [0.3333333333333333, \"#9c179e\"], [0.4444444444444444, \"#bd3786\"], [0.5555555555555556, \"#d8576b\"], [0.6666666666666666, \"#ed7953\"], [0.7777777777777778, \"#fb9f3a\"], [0.8888888888888888, \"#fdca26\"], [1.0, \"#f0f921\"]], \"type\": \"heatmapgl\"}], \"histogram\": [{\"marker\": {\"colorbar\": {\"outlinewidth\": 0, \"ticks\": \"\"}}, \"type\": \"histogram\"}], \"histogram2d\": [{\"colorbar\": {\"outlinewidth\": 0, \"ticks\": \"\"}, \"colorscale\": [[0.0, \"#0d0887\"], [0.1111111111111111, \"#46039f\"], [0.2222222222222222, \"#7201a8\"], [0.3333333333333333, \"#9c179e\"], [0.4444444444444444, \"#bd3786\"], [0.5555555555555556, \"#d8576b\"], [0.6666666666666666, \"#ed7953\"], [0.7777777777777778, \"#fb9f3a\"], [0.8888888888888888, \"#fdca26\"], [1.0, \"#f0f921\"]], \"type\": \"histogram2d\"}], \"histogram2dcontour\": [{\"colorbar\": {\"outlinewidth\": 0, \"ticks\": \"\"}, \"colorscale\": [[0.0, \"#0d0887\"], [0.1111111111111111, \"#46039f\"], [0.2222222222222222, \"#7201a8\"], [0.3333333333333333, \"#9c179e\"], [0.4444444444444444, \"#bd3786\"], [0.5555555555555556, \"#d8576b\"], [0.6666666666666666, \"#ed7953\"], [0.7777777777777778, \"#fb9f3a\"], [0.8888888888888888, \"#fdca26\"], [1.0, \"#f0f921\"]], \"type\": \"histogram2dcontour\"}], \"mesh3d\": [{\"colorbar\": {\"outlinewidth\": 0, \"ticks\": \"\"}, \"type\": \"mesh3d\"}], \"parcoords\": [{\"line\": {\"colorbar\": {\"outlinewidth\": 0, \"ticks\": \"\"}}, \"type\": \"parcoords\"}], \"pie\": [{\"automargin\": true, \"type\": \"pie\"}], \"scatter\": [{\"marker\": {\"colorbar\": {\"outlinewidth\": 0, \"ticks\": \"\"}}, \"type\": \"scatter\"}], \"scatter3d\": [{\"line\": {\"colorbar\": {\"outlinewidth\": 0, \"ticks\": \"\"}}, \"marker\": {\"colorbar\": {\"outlinewidth\": 0, \"ticks\": \"\"}}, \"type\": \"scatter3d\"}], \"scattercarpet\": [{\"marker\": {\"colorbar\": {\"outlinewidth\": 0, \"ticks\": \"\"}}, \"type\": \"scattercarpet\"}], \"scattergeo\": [{\"marker\": {\"colorbar\": {\"outlinewidth\": 0, \"ticks\": \"\"}}, \"type\": \"scattergeo\"}], \"scattergl\": [{\"marker\": {\"colorbar\": {\"outlinewidth\": 0, \"ticks\": \"\"}}, \"type\": \"scattergl\"}], \"scattermapbox\": [{\"marker\": {\"colorbar\": {\"outlinewidth\": 0, \"ticks\": \"\"}}, \"type\": \"scattermapbox\"}], \"scatterpolar\": [{\"marker\": {\"colorbar\": {\"outlinewidth\": 0, \"ticks\": \"\"}}, \"type\": \"scatterpolar\"}], \"scatterpolargl\": [{\"marker\": {\"colorbar\": {\"outlinewidth\": 0, \"ticks\": \"\"}}, \"type\": \"scatterpolargl\"}], \"scatterternary\": [{\"marker\": {\"colorbar\": {\"outlinewidth\": 0, \"ticks\": \"\"}}, \"type\": \"scatterternary\"}], \"surface\": [{\"colorbar\": {\"outlinewidth\": 0, \"ticks\": \"\"}, \"colorscale\": [[0.0, \"#0d0887\"], [0.1111111111111111, \"#46039f\"], [0.2222222222222222, \"#7201a8\"], [0.3333333333333333, \"#9c179e\"], [0.4444444444444444, \"#bd3786\"], [0.5555555555555556, \"#d8576b\"], [0.6666666666666666, \"#ed7953\"], [0.7777777777777778, \"#fb9f3a\"], [0.8888888888888888, \"#fdca26\"], [1.0, \"#f0f921\"]], \"type\": \"surface\"}], \"table\": [{\"cells\": {\"fill\": {\"color\": \"#EBF0F8\"}, \"line\": {\"color\": \"white\"}}, \"header\": {\"fill\": {\"color\": \"#C8D4E3\"}, \"line\": {\"color\": \"white\"}}, \"type\": \"table\"}]}, \"layout\": {\"annotationdefaults\": {\"arrowcolor\": \"#2a3f5f\", \"arrowhead\": 0, \"arrowwidth\": 1}, \"autotypenumbers\": \"strict\", \"coloraxis\": {\"colorbar\": {\"outlinewidth\": 0, \"ticks\": \"\"}}, \"colorscale\": {\"diverging\": [[0, \"#8e0152\"], [0.1, \"#c51b7d\"], [0.2, \"#de77ae\"], [0.3, \"#f1b6da\"], [0.4, \"#fde0ef\"], [0.5, \"#f7f7f7\"], [0.6, \"#e6f5d0\"], [0.7, \"#b8e186\"], [0.8, \"#7fbc41\"], [0.9, \"#4d9221\"], [1, \"#276419\"]], \"sequential\": [[0.0, \"#0d0887\"], [0.1111111111111111, \"#46039f\"], [0.2222222222222222, \"#7201a8\"], [0.3333333333333333, \"#9c179e\"], [0.4444444444444444, \"#bd3786\"], [0.5555555555555556, \"#d8576b\"], [0.6666666666666666, \"#ed7953\"], [0.7777777777777778, \"#fb9f3a\"], [0.8888888888888888, \"#fdca26\"], [1.0, \"#f0f921\"]], \"sequentialminus\": [[0.0, \"#0d0887\"], [0.1111111111111111, \"#46039f\"], [0.2222222222222222, \"#7201a8\"], [0.3333333333333333, \"#9c179e\"], [0.4444444444444444, \"#bd3786\"], [0.5555555555555556, \"#d8576b\"], [0.6666666666666666, \"#ed7953\"], [0.7777777777777778, \"#fb9f3a\"], [0.8888888888888888, \"#fdca26\"], [1.0, \"#f0f921\"]]}, \"colorway\": [\"#636efa\", \"#EF553B\", \"#00cc96\", \"#ab63fa\", \"#FFA15A\", \"#19d3f3\", \"#FF6692\", \"#B6E880\", \"#FF97FF\", \"#FECB52\"], \"font\": {\"color\": \"#2a3f5f\"}, \"geo\": {\"bgcolor\": \"white\", \"lakecolor\": \"white\", \"landcolor\": \"#E5ECF6\", \"showlakes\": true, \"showland\": true, \"subunitcolor\": \"white\"}, \"hoverlabel\": {\"align\": \"left\"}, \"hovermode\": \"closest\", \"mapbox\": {\"style\": \"light\"}, \"paper_bgcolor\": \"white\", \"plot_bgcolor\": \"#E5ECF6\", \"polar\": {\"angularaxis\": {\"gridcolor\": \"white\", \"linecolor\": \"white\", \"ticks\": \"\"}, \"bgcolor\": \"#E5ECF6\", \"radialaxis\": {\"gridcolor\": \"white\", \"linecolor\": \"white\", \"ticks\": \"\"}}, \"scene\": {\"xaxis\": {\"backgroundcolor\": \"#E5ECF6\", \"gridcolor\": \"white\", \"gridwidth\": 2, \"linecolor\": \"white\", \"showbackground\": true, \"ticks\": \"\", \"zerolinecolor\": \"white\"}, \"yaxis\": {\"backgroundcolor\": \"#E5ECF6\", \"gridcolor\": \"white\", \"gridwidth\": 2, \"linecolor\": \"white\", \"showbackground\": true, \"ticks\": \"\", \"zerolinecolor\": \"white\"}, \"zaxis\": {\"backgroundcolor\": \"#E5ECF6\", \"gridcolor\": \"white\", \"gridwidth\": 2, \"linecolor\": \"white\", \"showbackground\": true, \"ticks\": \"\", \"zerolinecolor\": \"white\"}}, \"shapedefaults\": {\"line\": {\"color\": \"#2a3f5f\"}}, \"ternary\": {\"aaxis\": {\"gridcolor\": \"white\", \"linecolor\": \"white\", \"ticks\": \"\"}, \"baxis\": {\"gridcolor\": \"white\", \"linecolor\": \"white\", \"ticks\": \"\"}, \"bgcolor\": \"#E5ECF6\", \"caxis\": {\"gridcolor\": \"white\", \"linecolor\": \"white\", \"ticks\": \"\"}}, \"title\": {\"x\": 0.05}, \"xaxis\": {\"automargin\": true, \"gridcolor\": \"white\", \"linecolor\": \"white\", \"ticks\": \"\", \"title\": {\"standoff\": 15}, \"zerolinecolor\": \"white\", \"zerolinewidth\": 2}, \"yaxis\": {\"automargin\": true, \"gridcolor\": \"white\", \"linecolor\": \"white\", \"ticks\": \"\", \"title\": {\"standoff\": 15}, \"zerolinecolor\": \"white\", \"zerolinewidth\": 2}}}, \"width\": 500, \"xaxis\": {\"autorange\": false, \"exponentformat\": \"e\", \"linecolor\": \"black\", \"linewidth\": 1, \"mirror\": false, \"range\": [-0.1, 5.1], \"showexponent\": \"all\", \"showline\": true, \"side\": \"bottom\", \"ticks\": \"outside\", \"title\": {\"text\": \"Birth\"}, \"type\": \"linear\", \"zeroline\": true}, \"yaxis\": {\"autorange\": false, \"exponentformat\": \"e\", \"linecolor\": \"black\", \"linewidth\": 1, \"mirror\": false, \"range\": [-0.1, 5.1], \"scaleanchor\": \"x\", \"scaleratio\": 1, \"showexponent\": \"all\", \"showline\": true, \"side\": \"left\", \"ticks\": \"outside\", \"title\": {\"text\": \"Death\"}, \"type\": \"linear\", \"zeroline\": true}},                        {\"responsive\": true}                    ).then(function(){\n",
       "                            \n",
       "var gd = document.getElementById('c416aebd-a169-4a2d-ac74-9455171098ed');\n",
       "var x = new MutationObserver(function (mutations, observer) {{\n",
       "        var display = window.getComputedStyle(gd).display;\n",
       "        if (!display || display === 'none') {{\n",
       "            console.log([gd, 'removed!']);\n",
       "            Plotly.purge(gd);\n",
       "            observer.disconnect();\n",
       "        }}\n",
       "}});\n",
       "\n",
       "// Listen for the removal of the full notebook cells\n",
       "var notebookContainer = gd.closest('#notebook-container');\n",
       "if (notebookContainer) {{\n",
       "    x.observe(notebookContainer, {childList: true});\n",
       "}}\n",
       "\n",
       "// Listen for the clearing of the current output cell\n",
       "var outputEl = gd.closest('.output');\n",
       "if (outputEl) {{\n",
       "    x.observe(outputEl, {childList: true});\n",
       "}}\n",
       "\n",
       "                        })                };                });            </script>        </div>"
      ]
     },
     "metadata": {},
     "output_type": "display_data"
    }
   ],
   "source": [
    "# This functions prepares the grid matrix with boundary identification\n",
    "def make_klein_matrix(rows, cols):\n",
    "    n = rows * cols\n",
    "    M = np.zeros((n, n))\n",
    "    for r in range(rows):\n",
    "        for c in range(cols):\n",
    "            i = r * cols + c\n",
    "            # Two inner diagonals\n",
    "            if c > 0: M[i - 1, i] = M[i, i - 1] = 1\n",
    "            # Two outer diagonals\n",
    "            if r > 0: M[i - cols, i] = M[i, i - cols] = 1\n",
    "            # vertical boundary identification\n",
    "            if c == 0: M[i + cols - 1, i] = M[i, i + cols - 1] = 1\n",
    "            # horizontal twisted boundary identification\n",
    "            if r == 0: M[n - i - 1, i] = M[i, n - i - 1] = 1\n",
    "                \n",
    "    return M\n",
    "\n",
    "M = make_klein_matrix(10, 10)\n",
    "\n",
    "# computing the distance matrix of the points over the Klein bottle\n",
    "\n",
    "klein = graph_shortest_path(M)\n",
    "\n",
    "# Plot of the distance matrix\n",
    "VietorisRipsPersistence(metric='precomputed', homology_dimensions=[0, 1, 2]).fit_transform_plot([klein]);"
   ]
  },
  {
   "cell_type": "code",
   "execution_count": 199,
   "metadata": {},
   "outputs": [],
   "source": [
    "rips_complex_coll = gudhi.RipsComplex(distance_matrix=klein)\n",
    "simplex_tree_coll = rips_complex_coll.create_simplex_tree(max_dimension=1)  # Only get the 1-skeleton this time"
   ]
  },
  {
   "cell_type": "code",
   "execution_count": 212,
   "metadata": {},
   "outputs": [],
   "source": [
    "simplex_tree_coll.collapse_edges(nb_iterations=100)"
   ]
  },
  {
   "cell_type": "code",
   "execution_count": 213,
   "metadata": {},
   "outputs": [
    {
     "name": "stdout",
     "output_type": "stream",
     "text": [
      "Filtration with 4121 simplices\n"
     ]
    }
   ],
   "source": [
    "filtration_coll = []\n",
    "for s in simplex_tree_coll.get_filtration():\n",
    "    filtration_coll.append(s)\n",
    "\n",
    "print(f\"Filtration with {len(filtration_coll)} simplices\")"
   ]
  },
  {
   "cell_type": "code",
   "execution_count": 214,
   "metadata": {},
   "outputs": [],
   "source": [
    "simplex_tree_coll.expansion(2)"
   ]
  },
  {
   "cell_type": "code",
   "execution_count": 215,
   "metadata": {},
   "outputs": [
    {
     "name": "stdout",
     "output_type": "stream",
     "text": [
      "Filtration with 91949 simplices\n"
     ]
    }
   ],
   "source": [
    "filtration_coll = []\n",
    "for s in simplex_tree_coll.get_filtration():\n",
    "    filtration_coll.append(s)\n",
    "\n",
    "print(f\"Filtration with {len(filtration_coll)} simplices\")"
   ]
  },
  {
   "cell_type": "code",
   "execution_count": 217,
   "metadata": {},
   "outputs": [
    {
     "data": {
      "text/plain": [
       "[[], [], []]"
      ]
     },
     "execution_count": 217,
     "metadata": {},
     "output_type": "execute_result"
    }
   ],
   "source": [
    "barcodes(1, [tuple(s[0]) for s in filtration_coll])[1]"
   ]
  }
 ],
 "metadata": {
  "kernelspec": {
   "display_name": "Python 3",
   "language": "python",
   "name": "python3"
  },
  "language_info": {
   "codemirror_mode": {
    "name": "ipython",
    "version": 3
   },
   "file_extension": ".py",
   "mimetype": "text/x-python",
   "name": "python",
   "nbconvert_exporter": "python",
   "pygments_lexer": "ipython3",
   "version": "3.9.2"
  }
 },
 "nbformat": 4,
 "nbformat_minor": 4
}
