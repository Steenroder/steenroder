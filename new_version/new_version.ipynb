{
 "cells": [
  {
   "cell_type": "code",
   "execution_count": 1,
   "metadata": {},
   "outputs": [],
   "source": [
    "from new_version import *\n",
    "import pickle as pkl"
   ]
  },
  {
   "cell_type": "code",
   "execution_count": 2,
   "metadata": {},
   "outputs": [],
   "source": [
    "def _pivot(column):\n",
    "    try:\n",
    "        return max(column.nonzero()[0])\n",
    "    except ValueError:\n",
    "        return None\n",
    "    \n",
    "def reduce_vector(reduced, vector):\n",
    "    num_col = reduced.shape[1]\n",
    "    i = -1\n",
    "    while i >= -num_col:\n",
    "        if not np.any(vector):\n",
    "            break\n",
    "        else:\n",
    "            piv_v = _pivot(vector)\n",
    "            piv_i = _pivot(reduced[:,i])\n",
    "\n",
    "            if piv_i == piv_v:\n",
    "                np.logical_xor(reduced[:,i], vector, vector)\n",
    "                i = 0\n",
    "            i -= 1"
   ]
  },
  {
   "cell_type": "code",
   "execution_count": 3,
   "metadata": {},
   "outputs": [],
   "source": [
    "k = 1\n",
    "filtration = pkl.load(open(\"rp2.pkl\", \"rb\"))\n",
    "    \n",
    "coboundary = get_coboundary(filtration)\n",
    "reduced, triangular = get_reduced_triangular(coboundary)\n",
    "barcode = get_barcode(reduced, filtration)\n",
    "coho_reps = get_coho_reps(barcode, reduced, triangular, filtration)\n",
    "st_reps = get_steenrod_reps(k, coho_reps, filtration)"
   ]
  },
  {
   "cell_type": "code",
   "execution_count": 6,
   "metadata": {},
   "outputs": [],
   "source": [
    "filt = filtration\n",
    "N = len(filt)\n",
    "dims = [-1+len(filt[-i-1]) for i in range(N)]\n",
    "D = max(dims)\n",
    "B = len(barcode)\n",
    "rep2fil = {i:barcode[i][0] for i in range(len(barcode))}\n",
    "fil2rep = {v:k for k,v in rep2fil.items()}\n",
    "\n",
    "fil_by_dim = {}\n",
    "for d in range(D+1):\n",
    "    fil_by_dim[d] = tuple([i for i in range(N) \n",
    "                           if dims[i] == d])\n",
    "rep_by_dim = {}\n",
    "for d in range(D+1):\n",
    "    rep_by_dim[d] = tuple([i for i in range(B) \n",
    "                           if dims[rep2fil[i]] == d])\n",
    "\n",
    "# print(fil_by_dim)\n",
    "# print(rep_by_dim)\n",
    "# print(fil2rep)\n",
    "# print(rep2fil)"
   ]
  },
  {
   "cell_type": "code",
   "execution_count": 5,
   "metadata": {},
   "outputs": [
    {
     "name": "stdout",
     "output_type": "stream",
     "text": [
      "good\n"
     ]
    }
   ],
   "source": [
    "# just using k = 1\n",
    "\n",
    "for i, col in enumerate(reduced.T):\n",
    "    try:\n",
    "        if fil2rep[i] in rep_by_dim[1]: \n",
    "            reduce_vector(reduced[:,:i], st_reps[:,fil2rep[i]])\n",
    "            reduce_vector(st_reps[:,:fil2rep[i]], st_reps[:,fil2rep[i]])\n",
    "            if np.any(st_reps[:,fil2rep[i]]):\n",
    "                print('good')\n",
    "    except KeyError :\n",
    "        pass"
   ]
  }
 ],
 "metadata": {
  "kernelspec": {
   "display_name": "Python 3",
   "language": "python",
   "name": "python3"
  },
  "language_info": {
   "codemirror_mode": {
    "name": "ipython",
    "version": 3
   },
   "file_extension": ".py",
   "mimetype": "text/x-python",
   "name": "python",
   "nbconvert_exporter": "python",
   "pygments_lexer": "ipython3",
   "version": "3.7.3"
  }
 },
 "nbformat": 4,
 "nbformat_minor": 2
}
