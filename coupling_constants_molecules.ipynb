{
 "cells": [
  {
   "cell_type": "code",
   "execution_count": 1,
   "metadata": {},
   "outputs": [],
   "source": [
    "from _utils import *\n",
    "import pandas as pd\n",
    "from gudhi import SimplexTree\n",
    "import pickle as pkl\n",
    "import matplotlib.pyplot as plt\n",
    "from joblib import Parallel, delayed"
   ]
  },
  {
   "cell_type": "code",
   "execution_count": 2,
   "metadata": {},
   "outputs": [],
   "source": [
    "df = pd.read_csv('/Users/anibal/Downloads/champs-scalar-coupling/train.csv') "
   ]
  },
  {
   "cell_type": "code",
   "execution_count": 3,
   "metadata": {},
   "outputs": [
    {
     "data": {
      "text/html": [
       "<div>\n",
       "<style scoped>\n",
       "    .dataframe tbody tr th:only-of-type {\n",
       "        vertical-align: middle;\n",
       "    }\n",
       "\n",
       "    .dataframe tbody tr th {\n",
       "        vertical-align: top;\n",
       "    }\n",
       "\n",
       "    .dataframe thead th {\n",
       "        text-align: right;\n",
       "    }\n",
       "</style>\n",
       "<table border=\"1\" class=\"dataframe\">\n",
       "  <thead>\n",
       "    <tr style=\"text-align: right;\">\n",
       "      <th></th>\n",
       "      <th>id</th>\n",
       "      <th>molecule_name</th>\n",
       "      <th>atom_index_0</th>\n",
       "      <th>atom_index_1</th>\n",
       "      <th>type</th>\n",
       "      <th>scalar_coupling_constant</th>\n",
       "    </tr>\n",
       "  </thead>\n",
       "  <tbody>\n",
       "    <tr>\n",
       "      <th>0</th>\n",
       "      <td>0</td>\n",
       "      <td>dsgdb9nsd_000001</td>\n",
       "      <td>1</td>\n",
       "      <td>0</td>\n",
       "      <td>1JHC</td>\n",
       "      <td>84.8076</td>\n",
       "    </tr>\n",
       "    <tr>\n",
       "      <th>1</th>\n",
       "      <td>1</td>\n",
       "      <td>dsgdb9nsd_000001</td>\n",
       "      <td>1</td>\n",
       "      <td>2</td>\n",
       "      <td>2JHH</td>\n",
       "      <td>-11.2570</td>\n",
       "    </tr>\n",
       "    <tr>\n",
       "      <th>2</th>\n",
       "      <td>2</td>\n",
       "      <td>dsgdb9nsd_000001</td>\n",
       "      <td>1</td>\n",
       "      <td>3</td>\n",
       "      <td>2JHH</td>\n",
       "      <td>-11.2548</td>\n",
       "    </tr>\n",
       "    <tr>\n",
       "      <th>3</th>\n",
       "      <td>3</td>\n",
       "      <td>dsgdb9nsd_000001</td>\n",
       "      <td>1</td>\n",
       "      <td>4</td>\n",
       "      <td>2JHH</td>\n",
       "      <td>-11.2543</td>\n",
       "    </tr>\n",
       "    <tr>\n",
       "      <th>4</th>\n",
       "      <td>4</td>\n",
       "      <td>dsgdb9nsd_000001</td>\n",
       "      <td>2</td>\n",
       "      <td>0</td>\n",
       "      <td>1JHC</td>\n",
       "      <td>84.8074</td>\n",
       "    </tr>\n",
       "  </tbody>\n",
       "</table>\n",
       "</div>"
      ],
      "text/plain": [
       "   id     molecule_name  atom_index_0  atom_index_1  type  \\\n",
       "0   0  dsgdb9nsd_000001             1             0  1JHC   \n",
       "1   1  dsgdb9nsd_000001             1             2  2JHH   \n",
       "2   2  dsgdb9nsd_000001             1             3  2JHH   \n",
       "3   3  dsgdb9nsd_000001             1             4  2JHH   \n",
       "4   4  dsgdb9nsd_000001             2             0  1JHC   \n",
       "\n",
       "   scalar_coupling_constant  \n",
       "0                   84.8076  \n",
       "1                  -11.2570  \n",
       "2                  -11.2548  \n",
       "3                  -11.2543  \n",
       "4                   84.8074  "
      ]
     },
     "execution_count": 3,
     "metadata": {},
     "output_type": "execute_result"
    }
   ],
   "source": [
    "df.head()"
   ]
  },
  {
   "cell_type": "markdown",
   "metadata": {},
   "source": [
    "### Getting and filtering the interesting molecules"
   ]
  },
  {
   "cell_type": "code",
   "execution_count": null,
   "metadata": {},
   "outputs": [],
   "source": [
    "def get_interesting_molecules(df):\n",
    "    \n",
    "    st = SimplexTree()\n",
    "    interesting_molecules = {}\n",
    "    for i in range(1,len(df)):\n",
    "        if df['molecule_name'][i] == df['molecule_name'][i-1]:\n",
    "\n",
    "            st.insert([df['atom_index_1'][i-1],\n",
    "                       df['atom_index_0'][i-1]], \n",
    "                      df['scalar_coupling_constant'][i-1])\n",
    "\n",
    "        else:\n",
    "            st.expansion(3)\n",
    "            barcode = st.persistence(homology_coeff_field=2)\n",
    "            if len(barcode) > 3 and barcode[0][0]>1:\n",
    "                interesting_molecules[df['molecule_name'][i-1]] = \\\n",
    "                            tuple([tuple(pair[0]) for pair in st.get_filtration()])\n",
    "\n",
    "            st = SimplexTree()\n",
    "\n",
    "    pkl.dump(interesting_molecules, open(\"interesting_filtered_molecules.pkl\", \"wb\"))"
   ]
  },
  {
   "cell_type": "code",
   "execution_count": null,
   "metadata": {},
   "outputs": [],
   "source": [
    "def filter_interesting_molegules():\n",
    "    with open('interesting_molecules.txt') as f:\n",
    "        interesting_names = f.readlines()\n",
    "        interesting_names = [name[:-1] for name in interesting_names]\n",
    "    \n",
    "    interesting_filtered_molecules = {}\n",
    "    for name in interesting_names:\n",
    "        molecule_df = df[df['molecule_name'] == name]\n",
    "        st = SimplexTree()\n",
    "        for index, row in molecule_df.iterrows():\n",
    "            st.insert([row['atom_index_1'],\n",
    "                       row['atom_index_0']], \n",
    "                      -row['scalar_coupling_constant'])\n",
    "\n",
    "        st.expansion(3)\n",
    "        filtration = tuple([tuple(pair[0]) for pair in st.get_filtration()])\n",
    "\n",
    "        interesting_filtered_molecules[name] = filtration\n",
    "        \n",
    "    pkl.dump(interesting_filtered_molecules, open(\"interesting_filtered_molecules.pkl\", \"wb\"))"
   ]
  },
  {
   "cell_type": "markdown",
   "metadata": {},
   "source": [
    "### Main"
   ]
  },
  {
   "cell_type": "code",
   "execution_count": null,
   "metadata": {},
   "outputs": [],
   "source": [
    "get_interesting_molecules(df)"
   ]
  },
  {
   "cell_type": "code",
   "execution_count": null,
   "metadata": {},
   "outputs": [],
   "source": [
    "def save_steenrod_curves():\n",
    "    \n",
    "    interesting_filtered_molecules = pkl.load(open(\"interesting_filtered_molecules.pkl\", \"rb\"))\n",
    "\n",
    "    curves = {}\n",
    "    for name, filtration in interesting_filtered_molecules.items():\n",
    "\n",
    "        coboundary = get_coboundary(filtration)\n",
    "        reduced, triangular = get_reduced_triangular(coboundary)\n",
    "\n",
    "        barcode = get_barcode(reduced, filtration)\n",
    "        coho_reps = get_coho_reps(barcode, reduced, triangular, filtration)\n",
    "        steenrod_reps = get_steenrod_reps(1, coho_reps, filtration)\n",
    "\n",
    "        curves[name] = tuple(get_steenrod_curve(barcode, steenrod_reps, filtration, reduced))\n",
    "\n",
    "    pkl.dump(curves, open(\"steenrod_curves.pkl\", \"wb\"))"
   ]
  },
  {
   "cell_type": "code",
   "execution_count": null,
   "metadata": {},
   "outputs": [],
   "source": [
    "save_steenrod_curves()\n",
    "\n",
    "steenrod_curves = pkl.load(open(\"steenrod_curves.pkl\", \"rb\"))\n",
    "super_interesting_filtered_molecules = {name:curve for name, curve in steenrod_curves.items() if sum(curve)>0}\n",
    "\n",
    "len(super_interesting_filtered_molecules)"
   ]
  }
 ],
 "metadata": {
  "kernelspec": {
   "display_name": "Python 3",
   "language": "python",
   "name": "python3"
  },
  "language_info": {
   "codemirror_mode": {
    "name": "ipython",
    "version": 3
   },
   "file_extension": ".py",
   "mimetype": "text/x-python",
   "name": "python",
   "nbconvert_exporter": "python",
   "pygments_lexer": "ipython3",
   "version": "3.7.3"
  }
 },
 "nbformat": 4,
 "nbformat_minor": 2
}
