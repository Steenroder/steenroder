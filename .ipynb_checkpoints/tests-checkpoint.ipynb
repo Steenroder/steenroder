{
 "cells": [
  {
   "cell_type": "code",
   "execution_count": null,
   "metadata": {},
   "outputs": [],
   "source": [
    "from _utils import *\n",
    "import pickle as pkl\n",
    "import numpy as np\n",
    "import matplotlib.pyplot as plt"
   ]
  },
  {
   "cell_type": "code",
   "execution_count": null,
   "metadata": {},
   "outputs": [],
   "source": [
    "names = ['rp2', 'rp3', 'rp4', \n",
    "         'cone_rp2', 'cone_rp3', 'cone_rp4']"
   ]
  },
  {
   "cell_type": "code",
   "execution_count": null,
   "metadata": {},
   "outputs": [],
   "source": [
    "# choose maximum value of k for Sq^k\n",
    "max_k = 2\n",
    "filtration = pkl.load(open(\"data/\"+names[0]+\".pkl\", \"rb\"))\n",
    "checks = {}\n",
    "betti_curves = {}\n",
    "steenrod_curves = {}\n",
    "\n",
    "coboundary = get_coboundary(filtration)\n",
    "checks['coboundary square is zero'] = \\\n",
    "    check_square_zero(coboundary)\n",
    "\n",
    "reduced, triangular = get_reduced_triangular(coboundary)\n",
    "checks['reduced = coboundary*triangular'] = \\\n",
    "    check_factorization(coboundary, reduced, triangular)\n",
    "\n",
    "barcode = get_barcode(reduced, filtration)\n",
    "checks['H_* barcode = shifted H^* barcode'] = \\\n",
    "    check_duality(filtration)\n",
    "checks['homology barcode = gudhi barcode'] = \\\n",
    "    check_against_gudhi(filtration)\n",
    "\n",
    "betti_curves = get_betti_curves(barcode, filtration)\n",
    "\n",
    "coho_reps = get_coho_reps(barcode, reduced, \n",
    "                          triangular, filtration)\n",
    "checks['coho_reps are cycles'] = \\\n",
    "    check_representatives(coboundary, coho_reps)\n",
    "\n",
    "st_reps = {}\n",
    "for k in range(1,max_k+1):\n",
    "    st_reps[k] = get_steenrod_reps(k, coho_reps, filtration)\n",
    "    checks[f'{k}-st_reps are cycles'] = \\\n",
    "        check_representatives(coboundary, coho_reps)\n",
    "    \n",
    "    steenrod_curves[k] = get_steenrod_curve(barcode, st_reps[k], \n",
    "                                            filtration, reduced)\n",
    "    checks[f'{k}-st_curve <= sum of bettis'] = \\\n",
    "        check_steenrod_lq_betti(steenrod_curves[k], betti_curves, filtration)\n",
    "\n",
    "checks"
   ]
  },
  {
   "cell_type": "code",
   "execution_count": null,
   "metadata": {},
   "outputs": [],
   "source": [
    "len([pair for pair in barcode if pair[1] < np.inf])\n",
    "\n",
    "# D 0:15, 1:104, 2:225, 3:149, 4:0\n",
    "\n",
    "[pair for pair in barcode if pair[1]-pair[0] == 93]\n"
   ]
  },
  {
   "cell_type": "code",
   "execution_count": null,
   "metadata": {},
   "outputs": [],
   "source": [
    "barcode_by_dim = filter_barcode_by_dim(barcode, filtration)    "
   ]
  },
  {
   "cell_type": "code",
   "execution_count": null,
   "metadata": {},
   "outputs": [],
   "source": [
    "1 2\n",
    "3 4\n",
    "6 7\n",
    "12 13\n",
    "22 23\n",
    "32 33\n",
    "47 48\n",
    "69 70\n",
    "96 97\n",
    "130 131\n",
    "206 207\n",
    "309 310\n",
    "439 440\n",
    "596 597\n",
    "780 781"
   ]
  },
  {
   "cell_type": "markdown",
   "metadata": {},
   "source": [
    "### Towards a decomposition by dimensions"
   ]
  },
  {
   "cell_type": "code",
   "execution_count": null,
   "metadata": {},
   "outputs": [],
   "source": [
    "coho_reps_idx2birth = {i:barcode[i][0] for i in range(len(barcode))}\n",
    "coho_reps_idx2deg = {i:len(filtration[-b-1])-1 for i, b \n",
    "                     in coho_reps_idx2birth.items()}\n",
    "\n",
    "barcode\n",
    "coho_reps_idx2deg"
   ]
  }
 ],
 "metadata": {
  "kernelspec": {
   "display_name": "Python 3",
   "language": "python",
   "name": "python3"
  },
  "language_info": {
   "codemirror_mode": {
    "name": "ipython",
    "version": 3
   },
   "file_extension": ".py",
   "mimetype": "text/x-python",
   "name": "python",
   "nbconvert_exporter": "python",
   "pygments_lexer": "ipython3",
   "version": "3.7.3"
  }
 },
 "nbformat": 4,
 "nbformat_minor": 2
}
