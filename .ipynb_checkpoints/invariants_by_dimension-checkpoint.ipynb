{
 "cells": [
  {
   "cell_type": "code",
   "execution_count": 1,
   "metadata": {},
   "outputs": [],
   "source": [
    "from steenroder import *\n",
    "import pickle as pkl\n",
    "import numpy as np"
   ]
  },
  {
   "cell_type": "code",
   "execution_count": 2,
   "metadata": {},
   "outputs": [],
   "source": [
    "#____________________________79________________________________________________\n",
    "\n",
    "filtration = pkl.load(open(\"data/rp2.pkl\", \"rb\"))\n",
    "k = 1\n",
    "\n",
    "coboundary = get_coboundary(filtration)\n",
    "\n",
    "reduced, triangular = get_reduced_triangular(coboundary)\n",
    "\n",
    "barcode = get_barcode(reduced, filtration)\n",
    "\n",
    "coho_reps = get_coho_reps(barcode, reduced, triangular, filtration)\n",
    "\n",
    "st_reps = get_steenrod_reps(k, coho_reps, filtration)\n",
    "\n",
    "betti_curves = get_betti_curves(barcode, filtration)\n",
    "\n",
    "steenrod_curve = get_steenrod_curve(barcode, st_reps, filtration, reduced)"
   ]
  },
  {
   "cell_type": "code",
   "execution_count": 26,
   "metadata": {},
   "outputs": [],
   "source": [
    "#____________________________79________________________________________________\n",
    "column_dimensions = [len(spx)-1 for spx in reversed(filtration)]\n",
    "max_dim = max(column_dimensions)\n",
    "n = len(filtration)"
   ]
  },
  {
   "cell_type": "code",
   "execution_count": null,
   "metadata": {},
   "outputs": [],
   "source": []
  }
 ],
 "metadata": {
  "kernelspec": {
   "display_name": "Python 3",
   "language": "python",
   "name": "python3"
  },
  "language_info": {
   "codemirror_mode": {
    "name": "ipython",
    "version": 3
   },
   "file_extension": ".py",
   "mimetype": "text/x-python",
   "name": "python",
   "nbconvert_exporter": "python",
   "pygments_lexer": "ipython3",
   "version": "3.7.3"
  }
 },
 "nbformat": 4,
 "nbformat_minor": 2
}
