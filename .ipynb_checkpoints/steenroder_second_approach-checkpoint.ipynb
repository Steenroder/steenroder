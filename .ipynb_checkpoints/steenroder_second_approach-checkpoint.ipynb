{
 "cells": [
  {
   "cell_type": "markdown",
   "metadata": {},
   "source": [
    "# Betti and Steenrod curves\n",
    "\n",
    "## Introduction\n",
    "A **filtration** consists of a total order on the simplices $\\{\\sigma_0, \\dots ,\\sigma_{N}\\}$ of a finite simplicial complex $X$ such that $X[n] = \\{\\sigma_i \\,|\\ i \\leq n\\}$ is a subcomplex of $X$.\n",
    "\n",
    "The **d-Betti curve** of a filtration is the function \n",
    "\n",
    "$$\\beta_d : \\{0,\\dots,N\\} \\to \\mathbb N$$\n",
    "\n",
    "sending $i$ to the rank of the [relative cohomology](https://en.wikipedia.org/wiki/Simplicial_homology) vector space\n",
    "\n",
    "$$H^d(X,\\,X[N-i]\\,;\\mathbb F_2).$$\n",
    "\n",
    "The **(k,d)-Steenrod curve** of a filtration is the function \n",
    "\n",
    "$$\\gamma^k_d : \\{0,\\dots,N\\} \\to \\mathbb N$$\n",
    "\n",
    "sending $i$ to the rank of the [Steenrod square](https://en.wikipedia.org/wiki/Steenrod_algebra) \n",
    "\n",
    "$$Sq^k : H^d(X,\\,X[N-i]\\,;\\mathbb F_2) \\to H^{d+k}(X,\\,X[N-i]\\,;\\mathbb F_2).$$\n",
    "\n",
    "We now describe how to construct these invariants given any filtration $X$. Let $\\partial$ be the matrix representing the boundary map \n",
    "\n",
    "$$C_*(X;\\mathbb F_2) \\to C_{*-1}(X;\\mathbb F_2)$$\n",
    "\n",
    "with respect to the canonical basis defined by the filtration. Following De Silva, Morozov, and Vejdemo-Johansson [[1]](https://www.mrzv.org/publications/dualities-persistence/manuscript/) we can compute representatives of $H^d(X,\\,X[N-i]\\,;\\mathbb F_2)$ which are natural with respect to the inclusion maps $X[N-i] \\leftarrow X[N-(i+1)]$ by the following procedure: consider the matrix\n",
    "\n",
    "$$[\\delta]_{p,q} = [\\partial]_{N-q,N-p}$$\n",
    "and obtain a factorization of the form \n",
    "$$R = [\\delta] V$$\n",
    "\n",
    "where $R$ is a reduced matrix and $V$ is an upper-triangular invertible matrix.\n",
    "\n",
    "The **barcode** of the filtration is defined to be the collection of pairs $(b,d)$ such that \n",
    "$R_{b,d}$ is a pivot or $d = +\\infty$, the $b$-th column is zero, and no pivot of $R$ has $b$ as its row coordinate.\n",
    "\n",
    "A basis for $H^*(X,\\,X[N-i]\\,;\\mathbb F_2)$ is in bijection with the number of bars $(b,d)$ satisfying $b \\leq i < d$. The bijection takes a bar $(b,d)$ to the vector $R_d$ and a bar $(b,+\\infty)$ to the vector $V_b$. We refer to the integers $b$ and $d$ as the birth and death times of the class represented by its associated cocycle.\n",
    "\n",
    "From the barcode we can easily obtain the Betti curves. We now describe\n",
    "how to obtain the Steenrod curves.\n",
    "\n",
    "Following Medina-Mardones [[2]](https://arxiv.org/abs/1812.05031), we can effectively construct a cocycle representative of $Sq^k([\\alpha])$ given a cocyle $\\alpha$ representing it. We refer to this as the $k$-Steenrod representative of $[\\alpha]$.\n",
    "\n",
    "Let $R_{\\leq n}$ denote the submatrix of $R$ containing the first $n$-columns. The non-zero columns in $R_{\\leq n}$ define a basis of the image of $\\delta$ restricted to $C^*(X,\\,X[N-n]\\,;\\mathbb F_2)$. The value of the $(k,d)$-Steenrod curve on $i$ is equal to\n",
    "\n",
    "$$ \\mathrm{rank}(A_{\\leq i}) - \\mathrm{rank}(R_{\\leq i})$$\n",
    "\n",
    "where $A_{\\leq i}$ equals $R_{\\leq i}$ augmented by the matrix containing the column vectors of $k$-Steenrod representatives of degree $d$ classes born before or at time $i$.\n",
    "\n",
    "In this notebook, we implement functions computing Betti and Steenrod curves and compute these invariants for certain filtrations of finite approximations of the [real projective space](https://en.wikipedia.org/wiki/Real_projective_space)\n",
    "\n",
    "$$RP^\\infty \\supset \\cdots \\supset RP^2 \\supset RP^1 \\supset RP^0.$$\n",
    "\n",
    "We recall that $H^*(RP^\\infty;\\mathbb F_2) = \\mathbb F_2[x]$ with $|x| = 1$ and that \n",
    "\n",
    "$$Sq^k(x^n) = {n \\choose k} x^{n+k}.$$"
   ]
  },
  {
   "cell_type": "code",
   "execution_count": null,
   "metadata": {},
   "outputs": [],
   "source": [
    "import numpy as np\n",
    "from itertools import combinations\n",
    "import matplotlib.pyplot as plt"
   ]
  },
  {
   "cell_type": "markdown",
   "metadata": {},
   "source": [
    "## Filtered simplicial complexes"
   ]
  },
  {
   "cell_type": "code",
   "execution_count": null,
   "metadata": {},
   "outputs": [],
   "source": [
    "rp2 = ((1,), (2,), (1, 2), (3,), (1, 3), (2, 3), (4,), (1, 4), (2, 4), (1, 2, 4), (3, 4), (2, 3, 4), (5,), (1, 5), (2, 5), (3, 5), (1, 3, 5), (2, 3, 5), (4, 5), (1, 4, 5), (6,), (1, 6), (2, 6), (1, 2, 6), (3, 6), (1, 3, 6), (4, 6), (3, 4, 6), (5, 6), (2, 5, 6), (4, 5, 6))\n",
    "cone_rp2 = rp2 + ((9,),) + tuple([spx+(9,) for spx in rp2])\n",
    "rp3 = ((1,),(2,),(1, 2),(3,),(1, 3),(2, 3),(1, 2, 3),(4,),(1, 4),(2, 4),(1, 2, 4),(3, 4),(1, 3, 4),(2, 3, 4),(1, 2, 3, 4),(5,),(1, 5),(2, 5),(1, 2, 5),(3, 5),(1, 3, 5),(2, 3, 5),(1, 2, 3, 5),(4, 5),(1, 4, 5),(3, 4, 5),(1, 3, 4, 5),(6,),(1, 6),(2, 6),(1, 2, 6),(4, 6),(1, 4, 6),(2, 4, 6),(1, 2, 4, 6),(5, 6),(1, 5, 6),(2, 5, 6),(1, 2, 5, 6),(4, 5, 6),(1, 4, 5, 6),(7,),(2, 7),(3, 7),(2, 3, 7),(4, 7),(2, 4, 7),(3, 4, 7),(2, 3, 4, 7),(8,),(2, 8),(3, 8),(2, 3, 8),(5, 8),(2, 5, 8),(3, 5, 8),(2, 3, 5, 8),(7, 8),(2, 7, 8),(3, 7, 8),(2, 3, 7, 8),(9,),(2, 9),(4, 9),(2, 4, 9),(6, 9),(2, 6, 9),(4, 6, 9),(2, 4, 6, 9),(7, 9),(2, 7, 9),(4, 7, 9),(2, 4, 7, 9),(8, 9),(10,),(2, 10),(5, 10),(2, 5, 10),(6, 10),(2, 6, 10),(5, 6, 10),(2, 5, 6, 10),(7, 10),(8, 10),(2, 8, 10),(5, 8, 10),(2, 5, 8, 10),(9, 10),(2, 9, 10),(6, 9, 10),(2, 6, 9, 10),(11,),(2, 11),(7, 11),(2, 7, 11),(8, 11),(2, 8, 11),(7, 8, 11),(2, 7, 8, 11),(9, 11),(2, 9, 11),(7, 9, 11),(2, 7, 9, 11),(10, 11),(2, 10, 11),(8, 10, 11),(2, 8, 10, 11),(9, 10, 11),(2, 9, 10, 11),(12,),(3, 12),(4, 12),(3, 4, 12),(5, 12),(3, 5, 12),(4, 5, 12),(3, 4, 5, 12),(7, 12),(3, 7, 12),(4, 7, 12),(3, 4, 7, 12),(8, 12),(3, 8, 12),(5, 8, 12),(3, 5, 8, 12),(9, 12),(8, 9, 12),(10, 12),(7, 10, 12),(9, 10, 12),(11, 12),(9, 11, 12),(10, 11, 12),(9, 10, 11, 12),(13,),(3, 13),(6, 13),(7, 13),(3, 7, 13),(8, 13),(3, 8, 13),(7, 8, 13),(3, 7, 8, 13),(9, 13),(6, 9, 13),(8, 9, 13),(10, 13),(6, 10, 13),(7, 10, 13),(9, 10, 13),(6, 9, 10, 13),(12, 13),(3, 12, 13),(7, 12, 13),(3, 7, 12, 13),(8, 12, 13),(3, 8, 12, 13),(9, 12, 13),(8, 9, 12, 13),(10, 12, 13),(7, 10, 12, 13),(9, 10, 12, 13),(14,),(4, 14),(5, 14),(4, 5, 14),(6, 14),(4, 6, 14),(5, 6, 14),(4, 5, 6, 14),(7, 14),(8, 14),(7, 8, 14),(9, 14),(4, 9, 14),(6, 9, 14),(4, 6, 9, 14),(8, 9, 14),(10, 14),(5, 10, 14),(6, 10, 14),(5, 6, 10, 14),(7, 10, 14),(11, 14),(7, 11, 14),(8, 11, 14),(7, 8, 11, 14),(12, 14),(4, 12, 14),(5, 12, 14),(4, 5, 12, 14),(11, 12, 14),(13, 14),(6, 13, 14),(7, 13, 14),(8, 13, 14),(7, 8, 13, 14),(9, 13, 14),(6, 9, 13, 14),(8, 9, 13, 14),(10, 13, 14),(6, 10, 13, 14),(7, 10, 13, 14),(15,),(4, 15),(7, 15),(4, 7, 15),(8, 15),(9, 15),(4, 9, 15),(7, 9, 15),(4, 7, 9, 15),(8, 9, 15),(10, 15),(7, 10, 15),(8, 10, 15),(11, 15),(8, 11, 15),(10, 11, 15),(8, 10, 11, 15),(12, 15),(4, 12, 15),(7, 12, 15),(4, 7, 12, 15),(10, 12, 15),(7, 10, 12, 15),(11, 12, 15),(10, 11, 12, 15),(14, 15),(4, 14, 15),(8, 14, 15),(9, 14, 15),(4, 9, 14, 15),(8, 9, 14, 15),(11, 14, 15),(8, 11, 14, 15),(12, 14, 15),(4, 12, 14, 15),(11, 12, 14, 15),(16,),(5, 16),(7, 16),(8, 16),(5, 8, 16),(9, 16),(7, 9, 16),(8, 9, 16),(10, 16),(5, 10, 16),(7, 10, 16),(8, 10, 16),(5, 8, 10, 16),(11, 16),(7, 11, 16),(9, 11, 16),(7, 9, 11, 16),(12, 16),(5, 12, 16),(8, 12, 16),(5, 8, 12, 16),(9, 12, 16),(8, 9, 12, 16),(11, 12, 16),(9, 11, 12, 16),(14, 16),(5, 14, 16),(7, 14, 16),(10, 14, 16),(5, 10, 14, 16),(7, 10, 14, 16),(11, 14, 16),(7, 11, 14, 16),(12, 14, 16),(5, 12, 14, 16),(11, 12, 14, 16),(15, 16),(7, 15, 16),(8, 15, 16),(9, 15, 16),(7, 9, 15, 16),(8, 9, 15, 16),(10, 15, 16),(7, 10, 15, 16),(8, 10, 15, 16))\n",
    "cone_rp3 = rp3 + ((20,),) + tuple([spx+(20,) for spx in rp3])\n",
    "rp4 = ((1,), (2,), (1, 2), (3,), (1, 3), (2, 3), (4,), (1, 4), (2, 4), (1, 2, 4), (3, 4), (1, 3, 4), (5,), (1, 5), (2, 5), (1, 2, 5), (3, 5), (2, 3, 5), (4, 5), (1, 4, 5), (2, 4, 5), (1, 2, 4, 5), (6,), (1, 6), (2, 6), (3, 6), (4, 6), (2, 4, 6), (3, 4, 6), (5, 6), (1, 5, 6), (3, 5, 6), (7,), (1, 7), (2, 7), (1, 2, 7), (3, 7), (2, 3, 7), (4, 7), (3, 4, 7), (5, 7), (4, 5, 7), (6, 7), (1, 6, 7), (3, 6, 7), (4, 6, 7), (3, 4, 6, 7), (8,), (1, 8), (2, 8), (1, 2, 8), (3, 8), (1, 3, 8), (4, 8), (5, 8), (3, 5, 8), (4, 5, 8), (6, 8), (2, 6, 8), (3, 6, 8), (5, 6, 8), (3, 5, 6, 8), (7, 8), (1, 7, 8), (2, 7, 8), (1, 2, 7, 8), (4, 7, 8), (5, 7, 8), (4, 5, 7, 8), (9,), (1, 9), (2, 9), (3, 9), (1, 3, 9), (2, 3, 9), (4, 9), (2, 4, 9), (5, 9), (1, 5, 9), (6, 9), (1, 6, 9), (2, 6, 9), (4, 6, 9), (2, 4, 6, 9), (5, 6, 9), (1, 5, 6, 9), (7, 9), (2, 7, 9), (3, 7, 9), (2, 3, 7, 9), (5, 7, 9), (8, 9), (1, 8, 9), (3, 8, 9), (1, 3, 8, 9), (4, 8, 9), (10,), (1, 10), (2, 10), (3, 10), (1, 3, 10), (2, 3, 10), (4, 10), (1, 4, 10), (3, 4, 10), (1, 3, 4, 10), (5, 10), (2, 5, 10), (3, 5, 10), (2, 3, 5, 10), (6, 10), (1, 6, 10), (2, 6, 10), (7, 10), (1, 7, 10), (5, 7, 10), (6, 7, 10), (1, 6, 7, 10), (8, 10), (2, 8, 10), (4, 8, 10), (6, 8, 10), (2, 6, 8, 10), (9, 10), (4, 9, 10), (5, 9, 10), (7, 9, 10), (5, 7, 9, 10), (8, 9, 10), (4, 8, 9, 10), (11,), (1, 11), (2, 11), (1, 2, 11), (3, 11), (1, 3, 11), (4, 11), (1, 4, 11), (2, 4, 11), (1, 2, 4, 11), (3, 4, 11), (1, 3, 4, 11), (5, 11), (1, 5, 11), (2, 5, 11), (1, 2, 5, 11), (4, 5, 11), (1, 4, 5, 11), (2, 4, 5, 11), (1, 2, 4, 5, 11), (6, 11), (2, 6, 11), (3, 6, 11), (4, 6, 11), (2, 4, 6, 11), (3, 4, 6, 11), (7, 11), (3, 7, 11), (4, 7, 11), (3, 4, 7, 11), (5, 7, 11), (4, 5, 7, 11), (6, 7, 11), (3, 6, 7, 11), (4, 6, 7, 11), (3, 4, 6, 7, 11), (8, 11), (1, 8, 11), (2, 8, 11), (1, 2, 8, 11), (3, 8, 11), (1, 3, 8, 11), (6, 8, 11), (2, 6, 8, 11), (3, 6, 8, 11), (9, 11), (1, 9, 11), (3, 9, 11), (1, 3, 9, 11), (5, 9, 11), (1, 5, 9, 11), (7, 9, 11), (3, 7, 9, 11), (5, 7, 9, 11), (8, 9, 11), (1, 8, 9, 11), (3, 8, 9, 11), (1, 3, 8, 9, 11), (10, 11), (2, 10, 11), (5, 10, 11), (2, 5, 10, 11), (6, 10, 11), (2, 6, 10, 11), (7, 10, 11), (5, 7, 10, 11), (6, 7, 10, 11), (8, 10, 11), (2, 8, 10, 11), (6, 8, 10, 11), (2, 6, 8, 10, 11), (9, 10, 11), (5, 9, 10, 11), (7, 9, 10, 11), (5, 7, 9, 10, 11), (8, 9, 10, 11), (12,), (1, 12), (2, 12), (3, 12), (1, 3, 12), (2, 3, 12), (4, 12), (2, 4, 12), (5, 12), (2, 5, 12), (3, 5, 12), (2, 3, 5, 12), (4, 5, 12), (2, 4, 5, 12), (6, 12), (1, 6, 12), (2, 6, 12), (4, 6, 12), (2, 4, 6, 12), (7, 12), (1, 7, 12), (4, 7, 12), (5, 7, 12), (4, 5, 7, 12), (6, 7, 12), (1, 6, 7, 12), (4, 6, 7, 12), (8, 12), (1, 8, 12), (3, 8, 12), (1, 3, 8, 12), (4, 8, 12), (5, 8, 12), (3, 5, 8, 12), (4, 5, 8, 12), (7, 8, 12), (1, 7, 8, 12), (4, 7, 8, 12), (5, 7, 8, 12), (4, 5, 7, 8, 12), (9, 12), (1, 9, 12), (2, 9, 12), (3, 9, 12), (1, 3, 9, 12), (2, 3, 9, 12), (4, 9, 12), (2, 4, 9, 12), (6, 9, 12), (1, 6, 9, 12), (2, 6, 9, 12), (4, 6, 9, 12), (2, 4, 6, 9, 12), (8, 9, 12), (1, 8, 9, 12), (3, 8, 9, 12), (1, 3, 8, 9, 12), (4, 8, 9, 12), (10, 12), (1, 10, 12), (2, 10, 12), (3, 10, 12), (1, 3, 10, 12), (2, 3, 10, 12), (5, 10, 12), (2, 5, 10, 12), (3, 5, 10, 12), (2, 3, 5, 10, 12), (6, 10, 12), (1, 6, 10, 12), (2, 6, 10, 12), (7, 10, 12), (1, 7, 10, 12), (5, 7, 10, 12), (6, 7, 10, 12), (1, 6, 7, 10, 12), (11, 12), (2, 11, 12), (4, 11, 12), (2, 4, 11, 12), (5, 11, 12), (2, 5, 11, 12), (4, 5, 11, 12), (2, 4, 5, 11, 12), (6, 11, 12), (2, 6, 11, 12), (4, 6, 11, 12), (2, 4, 6, 11, 12), (7, 11, 12), (4, 7, 11, 12), (5, 7, 11, 12), (4, 5, 7, 11, 12), (6, 7, 11, 12), (4, 6, 7, 11, 12), (10, 11, 12), (2, 10, 11, 12), (5, 10, 11, 12), (2, 5, 10, 11, 12), (6, 10, 11, 12), (2, 6, 10, 11, 12), (7, 10, 11, 12), (5, 7, 10, 11, 12), (6, 7, 10, 11, 12), (13,), (1, 13), (2, 13), (1, 2, 13), (3, 13), (1, 3, 13), (4, 13), (1, 4, 13), (2, 4, 13), (1, 2, 4, 13), (3, 4, 13), (1, 3, 4, 13), (5, 13), (3, 5, 13), (6, 13), (2, 6, 13), (3, 6, 13), (4, 6, 13), (2, 4, 6, 13), (3, 4, 6, 13), (5, 6, 13), (3, 5, 6, 13), (7, 13), (1, 7, 13), (2, 7, 13), (1, 2, 7, 13), (5, 7, 13), (8, 13), (1, 8, 13), (2, 8, 13), (1, 2, 8, 13), (3, 8, 13), (1, 3, 8, 13), (5, 8, 13), (3, 5, 8, 13), (6, 8, 13), (2, 6, 8, 13), (3, 6, 8, 13), (5, 6, 8, 13), (3, 5, 6, 8, 13), (7, 8, 13), (1, 7, 8, 13), (2, 7, 8, 13), (1, 2, 7, 8, 13), (5, 7, 8, 13), (9, 13), (2, 9, 13), (4, 9, 13), (2, 4, 9, 13), (5, 9, 13), (6, 9, 13), (2, 6, 9, 13), (4, 6, 9, 13), (2, 4, 6, 9, 13), (5, 6, 9, 13), (7, 9, 13), (2, 7, 9, 13), (5, 7, 9, 13), (10, 13), (1, 10, 13), (3, 10, 13), (1, 3, 10, 13), (4, 10, 13), (1, 4, 10, 13), (3, 4, 10, 13), (1, 3, 4, 10, 13), (5, 10, 13), (3, 5, 10, 13), (7, 10, 13), (1, 7, 10, 13), (5, 7, 10, 13), (9, 10, 13), (4, 9, 10, 13), (5, 9, 10, 13), (7, 9, 10, 13), (5, 7, 9, 10, 13), (11, 13), (1, 11, 13), (2, 11, 13), (1, 2, 11, 13), (3, 11, 13), (1, 3, 11, 13), (4, 11, 13), (1, 4, 11, 13), (2, 4, 11, 13), (1, 2, 4, 11, 13), (3, 4, 11, 13), (1, 3, 4, 11, 13), (6, 11, 13), (2, 6, 11, 13), (3, 6, 11, 13), (4, 6, 11, 13), (2, 4, 6, 11, 13), (3, 4, 6, 11, 13), (8, 11, 13), (1, 8, 11, 13), (2, 8, 11, 13), (1, 2, 8, 11, 13), (3, 8, 11, 13), (1, 3, 8, 11, 13), (6, 8, 11, 13), (2, 6, 8, 11, 13), (3, 6, 8, 11, 13), (12, 13), (1, 12, 13), (3, 12, 13), (1, 3, 12, 13), (5, 12, 13), (3, 5, 12, 13), (7, 12, 13), (1, 7, 12, 13), (5, 7, 12, 13), (8, 12, 13), (1, 8, 12, 13), (3, 8, 12, 13), (1, 3, 8, 12, 13), (5, 8, 12, 13), (3, 5, 8, 12, 13), (7, 8, 12, 13), (1, 7, 8, 12, 13), (5, 7, 8, 12, 13), (10, 12, 13), (1, 10, 12, 13), (3, 10, 12, 13), (1, 3, 10, 12, 13), (5, 10, 12, 13), (3, 5, 10, 12, 13), (7, 10, 12, 13), (1, 7, 10, 12, 13), (5, 7, 10, 12, 13), (14,), (1, 14), (2, 14), (1, 2, 14), (3, 14), (2, 3, 14), (4, 14), (1, 4, 14), (2, 4, 14), (1, 2, 4, 14), (5, 14), (1, 5, 14), (2, 5, 14), (1, 2, 5, 14), (3, 5, 14), (2, 3, 5, 14), (4, 5, 14), (1, 4, 5, 14), (2, 4, 5, 14), (1, 2, 4, 5, 14), (6, 14), (1, 6, 14), (3, 6, 14), (5, 6, 14), (1, 5, 6, 14), (3, 5, 6, 14), (7, 14), (1, 7, 14), (2, 7, 14), (1, 2, 7, 14), (3, 7, 14), (2, 3, 7, 14), (6, 7, 14), (1, 6, 7, 14), (3, 6, 7, 14), (8, 14), (3, 8, 14), (4, 8, 14), (5, 8, 14), (3, 5, 8, 14), (4, 5, 8, 14), (6, 8, 14), (3, 6, 8, 14), (5, 6, 8, 14), (3, 5, 6, 8, 14), (9, 14), (2, 9, 14), (3, 9, 14), (2, 3, 9, 14), (4, 9, 14), (2, 4, 9, 14), (7, 9, 14), (2, 7, 9, 14), (3, 7, 9, 14), (2, 3, 7, 9, 14), (8, 9, 14), (3, 8, 9, 14), (4, 8, 9, 14), (10, 14), (1, 10, 14), (4, 10, 14), (1, 4, 10, 14), (6, 10, 14), (1, 6, 10, 14), (7, 10, 14), (1, 7, 10, 14), (6, 7, 10, 14), (1, 6, 7, 10, 14), (8, 10, 14), (4, 8, 10, 14), (6, 8, 10, 14), (9, 10, 14), (4, 9, 10, 14), (7, 9, 10, 14), (8, 9, 10, 14), (4, 8, 9, 10, 14), (11, 14), (3, 11, 14), (6, 11, 14), (3, 6, 11, 14), (7, 11, 14), (3, 7, 11, 14), (6, 7, 11, 14), (3, 6, 7, 11, 14), (8, 11, 14), (3, 8, 11, 14), (6, 8, 11, 14), (3, 6, 8, 11, 14), (9, 11, 14), (3, 9, 11, 14), (7, 9, 11, 14), (3, 7, 9, 11, 14), (8, 9, 11, 14), (3, 8, 9, 11, 14), (10, 11, 14), (6, 10, 11, 14), (7, 10, 11, 14), (6, 7, 10, 11, 14), (8, 10, 11, 14), (6, 8, 10, 11, 14), (9, 10, 11, 14), (7, 9, 10, 11, 14), (8, 9, 10, 11, 14), (12, 14), (2, 12, 14), (3, 12, 14), (2, 3, 12, 14), (4, 12, 14), (2, 4, 12, 14), (5, 12, 14), (2, 5, 12, 14), (3, 5, 12, 14), (2, 3, 5, 12, 14), (4, 5, 12, 14), (2, 4, 5, 12, 14), (8, 12, 14), (3, 8, 12, 14), (4, 8, 12, 14), (5, 8, 12, 14), (3, 5, 8, 12, 14), (4, 5, 8, 12, 14), (9, 12, 14), (2, 9, 12, 14), (3, 9, 12, 14), (2, 3, 9, 12, 14), (4, 9, 12, 14), (2, 4, 9, 12, 14), (8, 9, 12, 14), (3, 8, 9, 12, 14), (4, 8, 9, 12, 14), (13, 14), (1, 13, 14), (2, 13, 14), (1, 2, 13, 14), (4, 13, 14), (1, 4, 13, 14), (2, 4, 13, 14), (1, 2, 4, 13, 14), (7, 13, 14), (1, 7, 13, 14), (2, 7, 13, 14), (1, 2, 7, 13, 14), (9, 13, 14), (2, 9, 13, 14), (4, 9, 13, 14), (2, 4, 9, 13, 14), (7, 9, 13, 14), (2, 7, 9, 13, 14), (10, 13, 14), (1, 10, 13, 14), (4, 10, 13, 14), (1, 4, 10, 13, 14), (7, 10, 13, 14), (1, 7, 10, 13, 14), (9, 10, 13, 14), (4, 9, 10, 13, 14), (7, 9, 10, 13, 14), (15,), (1, 15), (2, 15), (1, 2, 15), (3, 15), (2, 3, 15), (4, 15), (3, 4, 15), (5, 15), (1, 5, 15), (2, 5, 15), (1, 2, 5, 15), (3, 5, 15), (2, 3, 5, 15), (6, 15), (1, 6, 15), (3, 6, 15), (4, 6, 15), (3, 4, 6, 15), (5, 6, 15), (1, 5, 6, 15), (3, 5, 6, 15), (7, 15), (1, 7, 15), (2, 7, 15), (1, 2, 7, 15), (3, 7, 15), (2, 3, 7, 15), (4, 7, 15), (3, 4, 7, 15), (6, 7, 15), (1, 6, 7, 15), (3, 6, 7, 15), (4, 6, 7, 15), (3, 4, 6, 7, 15), (8, 15), (1, 8, 15), (2, 8, 15), (1, 2, 8, 15), (4, 8, 15), (7, 8, 15), (1, 7, 8, 15), (2, 7, 8, 15), (1, 2, 7, 8, 15), (4, 7, 8, 15), (9, 15), (1, 9, 15), (4, 9, 15), (5, 9, 15), (1, 5, 9, 15), (6, 9, 15), (1, 6, 9, 15), (4, 6, 9, 15), (5, 6, 9, 15), (1, 5, 6, 9, 15), (8, 9, 15), (1, 8, 9, 15), (4, 8, 9, 15), (10, 15), (2, 10, 15), (3, 10, 15), (2, 3, 10, 15), (4, 10, 15), (3, 4, 10, 15), (5, 10, 15), (2, 5, 10, 15), (3, 5, 10, 15), (2, 3, 5, 10, 15), (8, 10, 15), (2, 8, 10, 15), (4, 8, 10, 15), (9, 10, 15), (4, 9, 10, 15), (5, 9, 10, 15), (8, 9, 10, 15), (4, 8, 9, 10, 15), (11, 15), (1, 11, 15), (2, 11, 15), (1, 2, 11, 15), (5, 11, 15), (1, 5, 11, 15), (2, 5, 11, 15), (1, 2, 5, 11, 15), (8, 11, 15), (1, 8, 11, 15), (2, 8, 11, 15), (1, 2, 8, 11, 15), (9, 11, 15), (1, 9, 11, 15), (5, 9, 11, 15), (1, 5, 9, 11, 15), (8, 9, 11, 15), (1, 8, 9, 11, 15), (10, 11, 15), (2, 10, 11, 15), (5, 10, 11, 15), (2, 5, 10, 11, 15), (8, 10, 11, 15), (2, 8, 10, 11, 15), (9, 10, 11, 15), (5, 9, 10, 11, 15), (8, 9, 10, 11, 15), (12, 15), (1, 12, 15), (4, 12, 15), (6, 12, 15), (1, 6, 12, 15), (4, 6, 12, 15), (7, 12, 15), (1, 7, 12, 15), (4, 7, 12, 15), (6, 7, 12, 15), (1, 6, 7, 12, 15), (4, 6, 7, 12, 15), (8, 12, 15), (1, 8, 12, 15), (4, 8, 12, 15), (7, 8, 12, 15), (1, 7, 8, 12, 15), (4, 7, 8, 12, 15), (9, 12, 15), (1, 9, 12, 15), (4, 9, 12, 15), (6, 9, 12, 15), (1, 6, 9, 12, 15), (4, 6, 9, 12, 15), (8, 9, 12, 15), (1, 8, 9, 12, 15), (4, 8, 9, 12, 15), (13, 15), (3, 13, 15), (4, 13, 15), (3, 4, 13, 15), (5, 13, 15), (3, 5, 13, 15), (6, 13, 15), (3, 6, 13, 15), (4, 6, 13, 15), (3, 4, 6, 13, 15), (5, 6, 13, 15), (3, 5, 6, 13, 15), (9, 13, 15), (4, 9, 13, 15), (5, 9, 13, 15), (6, 9, 13, 15), (4, 6, 9, 13, 15), (5, 6, 9, 13, 15), (10, 13, 15), (3, 10, 13, 15), (4, 10, 13, 15), (3, 4, 10, 13, 15), (5, 10, 13, 15), (3, 5, 10, 13, 15), (9, 10, 13, 15), (4, 9, 10, 13, 15), (5, 9, 10, 13, 15), (14, 15), (1, 14, 15), (2, 14, 15), (1, 2, 14, 15), (3, 14, 15), (2, 3, 14, 15), (5, 14, 15), (1, 5, 14, 15), (2, 5, 14, 15), (1, 2, 5, 14, 15), (3, 5, 14, 15), (2, 3, 5, 14, 15), (6, 14, 15), (1, 6, 14, 15), (3, 6, 14, 15), (5, 6, 14, 15), (1, 5, 6, 14, 15), (3, 5, 6, 14, 15), (7, 14, 15), (1, 7, 14, 15), (2, 7, 14, 15), (1, 2, 7, 14, 15), (3, 7, 14, 15), (2, 3, 7, 14, 15), (6, 7, 14, 15), (1, 6, 7, 14, 15), (3, 6, 7, 14, 15), (16,), (1, 16), (2, 16), (3, 16), (1, 3, 16), (2, 3, 16), (4, 16), (1, 4, 16), (3, 4, 16), (1, 3, 4, 16), (5, 16), (1, 5, 16), (4, 5, 16), (1, 4, 5, 16), (6, 16), (1, 6, 16), (2, 6, 16), (5, 6, 16), (1, 5, 6, 16), (7, 16), (2, 7, 16), (3, 7, 16), (2, 3, 7, 16), (4, 7, 16), (3, 4, 7, 16), (5, 7, 16), (4, 5, 7, 16), (8, 16), (2, 8, 16), (4, 8, 16), (5, 8, 16), (4, 5, 8, 16), (6, 8, 16), (2, 6, 8, 16), (5, 6, 8, 16), (7, 8, 16), (2, 7, 8, 16), (4, 7, 8, 16), (5, 7, 8, 16), (4, 5, 7, 8, 16), (9, 16), (1, 9, 16), (2, 9, 16), (3, 9, 16), (1, 3, 9, 16), (2, 3, 9, 16), (5, 9, 16), (1, 5, 9, 16), (6, 9, 16), (1, 6, 9, 16), (2, 6, 9, 16), (5, 6, 9, 16), (1, 5, 6, 9, 16), (7, 9, 16), (2, 7, 9, 16), (3, 7, 9, 16), (2, 3, 7, 9, 16), (5, 7, 9, 16), (10, 16), (1, 10, 16), (2, 10, 16), (3, 10, 16), (1, 3, 10, 16), (2, 3, 10, 16), (4, 10, 16), (1, 4, 10, 16), (3, 4, 10, 16), (1, 3, 4, 10, 16), (6, 10, 16), (1, 6, 10, 16), (2, 6, 10, 16), (8, 10, 16), (2, 8, 10, 16), (4, 8, 10, 16), (6, 8, 10, 16), (2, 6, 8, 10, 16), (11, 16), (1, 11, 16), (3, 11, 16), (1, 3, 11, 16), (4, 11, 16), (1, 4, 11, 16), (3, 4, 11, 16), (1, 3, 4, 11, 16), (5, 11, 16), (1, 5, 11, 16), (4, 5, 11, 16), (1, 4, 5, 11, 16), (7, 11, 16), (3, 7, 11, 16), (4, 7, 11, 16), (3, 4, 7, 11, 16), (5, 7, 11, 16), (4, 5, 7, 11, 16), (9, 11, 16), (1, 9, 11, 16), (3, 9, 11, 16), (1, 3, 9, 11, 16), (5, 9, 11, 16), (1, 5, 9, 11, 16), (7, 9, 11, 16), (3, 7, 9, 11, 16), (5, 7, 9, 11, 16), (12, 16), (1, 12, 16), (2, 12, 16), (3, 12, 16), (1, 3, 12, 16), (2, 3, 12, 16), (6, 12, 16), (1, 6, 12, 16), (2, 6, 12, 16), (9, 12, 16), (1, 9, 12, 16), (2, 9, 12, 16), (3, 9, 12, 16), (1, 3, 9, 12, 16), (2, 3, 9, 12, 16), (6, 9, 12, 16), (1, 6, 9, 12, 16), (2, 6, 9, 12, 16), (10, 12, 16), (1, 10, 12, 16), (2, 10, 12, 16), (3, 10, 12, 16), (1, 3, 10, 12, 16), (2, 3, 10, 12, 16), (6, 10, 12, 16), (1, 6, 10, 12, 16), (2, 6, 10, 12, 16), (13, 16), (2, 13, 16), (5, 13, 16), (6, 13, 16), (2, 6, 13, 16), (5, 6, 13, 16), (7, 13, 16), (2, 7, 13, 16), (5, 7, 13, 16), (8, 13, 16), (2, 8, 13, 16), (5, 8, 13, 16), (6, 8, 13, 16), (2, 6, 8, 13, 16), (5, 6, 8, 13, 16), (7, 8, 13, 16), (2, 7, 8, 13, 16), (5, 7, 8, 13, 16), (9, 13, 16), (2, 9, 13, 16), (5, 9, 13, 16), (6, 9, 13, 16), (2, 6, 9, 13, 16), (5, 6, 9, 13, 16), (7, 9, 13, 16), (2, 7, 9, 13, 16), (5, 7, 9, 13, 16), (14, 16), (1, 14, 16), (4, 14, 16), (1, 4, 14, 16), (5, 14, 16), (1, 5, 14, 16), (4, 5, 14, 16), (1, 4, 5, 14, 16), (6, 14, 16), (1, 6, 14, 16), (5, 6, 14, 16), (1, 5, 6, 14, 16), (8, 14, 16), (4, 8, 14, 16), (5, 8, 14, 16), (4, 5, 8, 14, 16), (6, 8, 14, 16), (5, 6, 8, 14, 16), (10, 14, 16), (1, 10, 14, 16), (4, 10, 14, 16), (1, 4, 10, 14, 16), (6, 10, 14, 16), (1, 6, 10, 14, 16), (8, 10, 14, 16), (4, 8, 10, 14, 16), (6, 8, 10, 14, 16), (15, 16), (2, 15, 16), (3, 15, 16), (2, 3, 15, 16), (4, 15, 16), (3, 4, 15, 16), (7, 15, 16), (2, 7, 15, 16), (3, 7, 15, 16), (2, 3, 7, 15, 16), (4, 7, 15, 16), (3, 4, 7, 15, 16), (8, 15, 16), (2, 8, 15, 16), (4, 8, 15, 16), (7, 8, 15, 16), (2, 7, 8, 15, 16), (4, 7, 8, 15, 16), (10, 15, 16), (2, 10, 15, 16), (3, 10, 15, 16), (2, 3, 10, 15, 16), (4, 10, 15, 16), (3, 4, 10, 15, 16), (8, 10, 15, 16), (2, 8, 10, 15, 16), (4, 8, 10, 15, 16))\n",
    "cone_rp4 = rp4 + ((20,),) + tuple([spx+(20,) for spx in rp4])\n",
    "\n",
    "filtrations = {'rp2':rp2, 'cone_rp2':cone_rp2, 'rp3':rp3, 'cone_rp3':cone_rp3, 'rp4':rp4, 'cone_rp4':cone_rp4}"
   ]
  },
  {
   "cell_type": "markdown",
   "metadata": {},
   "source": [
    "## Factorization into reduced and triangular"
   ]
  },
  {
   "cell_type": "code",
   "execution_count": null,
   "metadata": {},
   "outputs": [],
   "source": [
    "def _pivot(column):\n",
    "    try:\n",
    "        return max(column.nonzero()[0])\n",
    "    except ValueError:\n",
    "        return None\n",
    "\n",
    "def get_reduced_triangular(matrix):\n",
    "    '''R = MV'''\n",
    "    n = matrix.shape[1]\n",
    "    reduced = np.array(matrix)\n",
    "    triangular = np.eye(n, dtype=np.bool)\n",
    "    for j in range(n):\n",
    "        i = j\n",
    "        while i > 0:\n",
    "            i -= 1\n",
    "            if not np.any(reduced[:,j]):\n",
    "                break\n",
    "            else:\n",
    "                piv_j = _pivot(reduced[:,j])\n",
    "                piv_i = _pivot(reduced[:,i])\n",
    "                \n",
    "                if piv_i == piv_j:\n",
    "                    reduced[:,j] = np.logical_xor(reduced[:,i], reduced[:,j])\n",
    "                    triangular[:,j] = np.logical_xor(triangular[:,i], triangular[:,j])\n",
    "                    i = j\n",
    "                    \n",
    "    return reduced, triangular"
   ]
  },
  {
   "cell_type": "code",
   "execution_count": null,
   "metadata": {},
   "outputs": [],
   "source": [
    "def check_factorization(matrix):\n",
    "    reduced, triangular = get_reduced_triangular(matrix)\n",
    "    test = np.matmul(coboundary.astype(np.int8), \n",
    "                     triangular.astype(np.int8))\n",
    "    test = test%2\n",
    "    return np.all(reduced == test)"
   ]
  },
  {
   "cell_type": "markdown",
   "metadata": {},
   "source": [
    "## Barcode"
   ]
  },
  {
   "cell_type": "code",
   "execution_count": null,
   "metadata": {},
   "outputs": [],
   "source": [
    "def get_barcode(reduced, filtration):\n",
    "    triples = []\n",
    "    all_indices = []\n",
    "    for j in range(len(filtration)):\n",
    "        if np.any(reduced[:,j]):\n",
    "            i = _pivot(reduced[:,j])\n",
    "            triples.append((i,j))\n",
    "            all_indices += [i,j]\n",
    "    \n",
    "    for i in [i for i in range(len(filtration)) if i not in all_indices]:    \n",
    "        if not np.any(reduced[:,i]):\n",
    "            triples.append((i,np.inf))\n",
    "    \n",
    "    barcode = sorted([bar for bar in triples if bar[1]-bar[0]>1])\n",
    "    \n",
    "    return barcode"
   ]
  },
  {
   "cell_type": "markdown",
   "metadata": {},
   "source": [
    "## Absolute Homology"
   ]
  },
  {
   "cell_type": "code",
   "execution_count": null,
   "metadata": {},
   "outputs": [],
   "source": [
    "def get_boundary(filtration):\n",
    "    spx_filtration_idx = {tuple(v): idx for idx, v in enumerate(filtration)}\n",
    "    boundary = np.zeros((len(filtration), len(filtration)), dtype=np.bool)\n",
    "    for idx, spx in enumerate(filtration):\n",
    "        faces_idxs = []\n",
    "        try:\n",
    "            faces_idxs = [spx_filtration_idx[spx[:j]+spx[j+1:]] \n",
    "                          for j in range(len(spx))]\n",
    "        except KeyError:\n",
    "            pass\n",
    "        boundary[faces_idxs,idx] = True\n",
    "    \n",
    "    return boundary"
   ]
  },
  {
   "cell_type": "code",
   "execution_count": null,
   "metadata": {},
   "outputs": [],
   "source": [
    "def checking_against_gudhi(filtration):\n",
    "    \n",
    "    from gudhi import SimplexTree\n",
    "\n",
    "    boundary = get_boundary(filtration)\n",
    "    reduced, triangular = get_reduced_triangular(boundary)\n",
    "    barcode = get_barcode(reduced, filtration)\n",
    "    dimensions = [len(spx)-1 for spx in filtration]\n",
    "    barcode_w_dimensions = sorted(\n",
    "                            [(float(bar[0]), float(bar[1]), dimensions[bar[0]])\n",
    "                            for bar in barcode])\n",
    "    \n",
    "    st = SimplexTree()\n",
    "    for idx, spx in enumerate(filtration):\n",
    "        st.insert(spx,idx)\n",
    "        \n",
    "    gudhi_barcode = sorted([(bar[1][0], bar[1][1], bar[0]) \n",
    "                               for bar in st.persistence(homology_coeff_field=2) \n",
    "                               if bar[1][1]-bar[1][0]>1])\n",
    "    \n",
    "    return [(a == b) for a,b in zip(barcode_w_dimensions, gudhi_barcode)]"
   ]
  },
  {
   "cell_type": "markdown",
   "metadata": {},
   "source": [
    "## Cohomology representatives"
   ]
  },
  {
   "cell_type": "code",
   "execution_count": null,
   "metadata": {},
   "outputs": [],
   "source": [
    "def get_coboundary(filtration):\n",
    "    coboundary = np.flip(get_boundary(filtration), axis=[0,1]).transpose()\n",
    "    return coboundary\n",
    "\n",
    "def get_coho_reps(barcode, reduced, triangular, filtration):\n",
    "    coho_reps = np.empty((len(filtration), len(barcode)),dtype=np.bool)\n",
    "    for col, pair in enumerate(barcode):\n",
    "        if pair[1] < np.inf:\n",
    "            coho_reps[:, col] = reduced[:,pair[1]]\n",
    "        if pair[1] == np.inf:\n",
    "            coho_reps[:, col] = triangular[:,pair[0]]\n",
    "    return coho_reps"
   ]
  },
  {
   "cell_type": "code",
   "execution_count": null,
   "metadata": {},
   "outputs": [],
   "source": [
    "def check_representatives(coboundary, reps):\n",
    "    test = np.matmul(coboundary.astype(np.int8), \n",
    "                     reps.astype(np.int8))\n",
    "    test = test%2\n",
    "    return not np.any(test)"
   ]
  },
  {
   "cell_type": "markdown",
   "metadata": {},
   "source": [
    "## Vector from and to cochain"
   ]
  },
  {
   "cell_type": "code",
   "execution_count": null,
   "metadata": {},
   "outputs": [],
   "source": [
    "def vector_to_cochain(vector, filtration):\n",
    "    cocycle = {filtration[len(filtration)-i-1] for i in vector.nonzero()[0]}\n",
    "    return cocycle\n",
    "\n",
    "def cochain_to_vector(cochain, filtration):\n",
    "    \"\"\"returns a column vector shape (n,1)\"\"\"\n",
    "    simplex_to_index = lambda spx: len(filtration)-filtration.index(spx)-1\n",
    "    nonzero_indices = [simplex_to_index(spx) for spx in cochain]\n",
    "    vector = np.zeros(shape=(len(filtration),1), dtype=np.bool)\n",
    "    vector[nonzero_indices] = True\n",
    "    return vector"
   ]
  },
  {
   "cell_type": "code",
   "execution_count": null,
   "metadata": {},
   "outputs": [],
   "source": [
    "def check_vector_to_cochain(filtration, vector):\n",
    "    new_vector = cochain_to_vector(vector_to_cochain(vector, filtration), filtration)\n",
    "    return np.all(vector == new_vector)\n",
    "\n",
    "def check_cochain_to_vector(filtration, cochain):\n",
    "    new_cochain = vector_to_cochain(cochain_to_vector(cochain, filtration), filtration)\n",
    "    return cochain == new_cochain"
   ]
  },
  {
   "cell_type": "markdown",
   "metadata": {},
   "source": [
    "## Checking duality relation"
   ]
  },
  {
   "cell_type": "code",
   "execution_count": null,
   "metadata": {},
   "outputs": [],
   "source": [
    "def check_duality(filtration):\n",
    "    \n",
    "    boundary = get_boundary(filtration)\n",
    "    barcode = get_barcode(get_reduced_triangular(boundary)[0], filtration)\n",
    "    \n",
    "    coboundary = get_coboundary(filtration)\n",
    "    cobarcode = get_barcode(get_reduced_triangular(coboundary)[0], filtration)\n",
    "\n",
    "    new_barcode = []\n",
    "    for bar in cobarcode:\n",
    "        if bar[1] == np.inf:\n",
    "            new_barcode.append((len(filtration)-bar[0]-1, np.inf))\n",
    "        else:\n",
    "            new_barcode.append((len(filtration)-bar[1]-1, len(filtration)-bar[0]-1))\n",
    "            \n",
    "    return [(bar1 == bar2) for bar1, bar2 in zip(sorted(barcode), sorted(new_barcode))]"
   ]
  },
  {
   "cell_type": "markdown",
   "metadata": {},
   "source": [
    "## Steenrod representatives"
   ]
  },
  {
   "cell_type": "code",
   "execution_count": null,
   "metadata": {},
   "outputs": [],
   "source": [
    "def STSQ(k, vector, filtration):\n",
    "    \n",
    "    # from vector to cochain\n",
    "    cocycle = vector_to_cochain(vector, filtration)\n",
    "    \n",
    "    # bulk of the algorithm\n",
    "    answer = set()\n",
    "    for pair in combinations(cocycle, 2):\n",
    "        a, b = set(pair[0]), set(pair[1])\n",
    "        if ( len(a.union(b)) == len(a)+k and \n",
    "        tuple(sorted(a.union(b))) in filtration ):\n",
    "            a_bar, b_bar = a.difference(b), b.difference(a)\n",
    "            index = dict()\n",
    "            for v in a_bar.union(b_bar):\n",
    "                pos = sorted(a.union(b)).index(v)\n",
    "                pos_bar = sorted(a_bar.union(b_bar)).index(v)\n",
    "                index[v] = (pos + pos_bar)%2\n",
    "            index_a = {index[v] for v in a_bar}\n",
    "            index_b = {index[w] for w in b_bar}\n",
    "            if (index_a == {0} and index_b == {1} \n",
    "            or  index_a == {1} and index_b == {0}):\n",
    "                u = sorted(a.union(b))\n",
    "                answer ^= {tuple(u)}\n",
    "    \n",
    "    # cochain to vector\n",
    "    st_rep = cochain_to_vector(answer, filtration)\n",
    "    \n",
    "    return st_rep\n",
    "\n",
    "def get_steenrod_reps(k, coho_reps, filtration):\n",
    "    steenrod_reps = np.empty(coho_reps.shape ,dtype=np.bool)\n",
    "    for idx, rep in enumerate(np.transpose(coho_reps)):\n",
    "        steenrod_reps[:,idx:idx+1] = STSQ(k,rep,filtration)\n",
    "    return steenrod_reps"
   ]
  },
  {
   "cell_type": "markdown",
   "metadata": {},
   "source": [
    "## Betti curves"
   ]
  },
  {
   "cell_type": "code",
   "execution_count": null,
   "metadata": {},
   "outputs": [],
   "source": [
    "def betti_curves(barcode, filtration):\n",
    "    dim = max([len(spx)-1 for spx in filtration])\n",
    "    betti_curves = {i: np.zeros((len(filtration),), np.int8) \n",
    "                   for i in range(dim+1)}\n",
    "    for bar in barcode:        \n",
    "        degree = len(filtration[-bar[0]-1])-1\n",
    "        end = bar[1]\n",
    "        if end == np.inf:\n",
    "            end = len(filtration)\n",
    "            \n",
    "        betti_curves[degree][bar[0]:end] += 1\n",
    "            \n",
    "    return betti_curves"
   ]
  },
  {
   "cell_type": "markdown",
   "metadata": {},
   "source": [
    "## Steenrod curves"
   ]
  },
  {
   "cell_type": "code",
   "execution_count": null,
   "metadata": {},
   "outputs": [],
   "source": [
    "def get_pivots(matrix):\n",
    "    n = matrix.shape[1]\n",
    "    pivots = []\n",
    "    for i in range(n):\n",
    "        pivots.append(_pivot(matrix[:,i]))\n",
    "    return pivots\n",
    "\n",
    "def reduce_vector(reduced, vector):\n",
    "    num_col = reduced.shape[1]\n",
    "    i = -1\n",
    "    while i >= -num_col:\n",
    "        if not np.any(vector):\n",
    "            break\n",
    "        else:\n",
    "            piv_v = _pivot(vector)\n",
    "            piv_i = _pivot(reduced[:,i])\n",
    "\n",
    "            if piv_i == piv_v:\n",
    "                vector[:,0] = np.logical_xor(reduced[:,i], vector[:,0])\n",
    "                i = -1\n",
    "            i -= 1\n",
    "    return vector\n",
    "\n",
    "def reduce_matrix(reduced, matrix):\n",
    "    num_vector = matrix.shape[1]\n",
    "\n",
    "    for i in range(num_vector):\n",
    "        reduced_vector = reduce_vector(reduced, matrix[:, i:i+1])\n",
    "        reduced = np.concatenate([reduced, reduced_vector], axis=1)\n",
    "    return reduced[:, -num_vector:]\n",
    "\n",
    "def get_rank(matrix):\n",
    "    rank = sum(np.apply_along_axis(np.any, 0, matrix).astype(np.int8))\n",
    "    return rank\n",
    "\n",
    "def steenrod_curve(barcode, steenrod_reps, filtration, reduced):\n",
    "\n",
    "    steenrod_matrix = np.array(steenrod_reps, dtype=np.bool)\n",
    "    births = [triple[0] for triple in barcode] + [len(filtration)]\n",
    "\n",
    "    st_curve = [0]*births[0]\n",
    "    for i, b in enumerate(births[:-1]):\n",
    "        for j in range(b, births[i+1]):\n",
    "            steenrod_matrix[:,:i+1] = reduce_matrix(reduced[:,:j],steenrod_matrix[:,:i+1])\n",
    "            st_curve.append(get_rank(steenrod_matrix[:,:i+1]))\n",
    "            \n",
    "    return st_curve"
   ]
  },
  {
   "cell_type": "code",
   "execution_count": null,
   "metadata": {},
   "outputs": [],
   "source": [
    "def reduce_vector(reduced, vector):\n",
    "    num_col = reduced.shape[1]\n",
    "    i = -1\n",
    "    while i >= -num_col:\n",
    "        #print('i',i)\n",
    "        if not np.any(vector):\n",
    "            break\n",
    "        else:\n",
    "            piv_v = _pivot(vector)\n",
    "            piv_i = _pivot(reduced[:,i])\n",
    "            #print('piv_v',piv_v,'piv_i',piv_i)\n",
    "\n",
    "            if piv_i == piv_v:\n",
    "                vector[:,0] = np.logical_xor(reduced[:,i], vector[:,0])\n",
    "                i = 0\n",
    "                #print(vector[:,0:1].astype(np.int8))\n",
    "            i -= 1\n",
    "            #print('i after', i)\n",
    "    return vector\n",
    "\n",
    "def steenrod_curve(barcode, steenrod_reps, filtration, reduced):\n",
    "    steenrod_matrix = np.array(steenrod_reps)\n",
    "    births = [pair[0] for pair in barcode] + [len(filtration)]\n",
    "    \n",
    "    curve = [0]*births[0]\n",
    "    for i, b in enumerate(births[:-1]):\n",
    "        for j in range(b, births[i+1]):\n",
    "            reducing = np.hstack((reduced[:,:j], steenrod_matrix[:,:i]))\n",
    "            steenrod_matrix[:,i:i+1] = reduce_vector(reducing, steenrod_matrix[:,i:i+1])\n",
    "            curve.append(get_rank(steenrod_matrix[:,:i+1]))\n",
    "\n",
    "    return curve"
   ]
  },
  {
   "cell_type": "code",
   "execution_count": null,
   "metadata": {},
   "outputs": [],
   "source": [
    "name = 'cone_rp3'\n",
    "filtration = filtrations[name]\n",
    "coboundary = get_coboundary(filtration)\n",
    "reduced, triangular = get_reduced_triangular(coboundary)\n",
    "barcode = get_barcode(reduced, filtration)\n",
    "coho_reps = get_coho_reps(barcode, reduced, triangular, filtration)\n",
    "\n",
    "for key, betti_curve in betti_curves(barcode, filtration).items():\n",
    "    plot = plt.plot(range(len(filtration)), betti_curve, label=f'dim {key}')\n",
    "    plt.legend()\n",
    "\n",
    "plt.suptitle(f'{name}')    \n",
    "plt.show()\n",
    "\n",
    "k=1\n",
    "steenrod_reps = get_steenrod_reps(k, coho_reps, filtration)\n",
    "curve = steenrod_curve(barcode, steenrod_reps, filtration, reduced)\n",
    "plot = plt.plot(range(len(filtration)), curve, label=f'Sq^{k}')\n",
    "plt.legend()\n",
    "\n",
    "plt.suptitle(f'{name}')    \n",
    "plt.show()"
   ]
  },
  {
   "cell_type": "markdown",
   "metadata": {},
   "source": [
    "## Main"
   ]
  },
  {
   "cell_type": "code",
   "execution_count": null,
   "metadata": {},
   "outputs": [],
   "source": [
    "# for name, filtration in filtrations.items():\n",
    "#     coboundary = get_coboundary(filtration)\n",
    "#     reduced, triangular = get_reduced_triangular(coboundary)\n",
    "#     barcode = get_barcode(reduced, filtration)\n",
    "#     coho_reps = get_coho_reps(barcode, reduced, triangular, filtration)\n",
    "\n",
    "#     for key, betti_curve in betti_curves(barcode, filtration).items():\n",
    "#         plot = plt.plot(range(len(filtration)), betti_curve, label=f'dim {key}')\n",
    "#         plt.legend()\n",
    "\n",
    "#     plt.suptitle(f'{name}')    \n",
    "#     plt.show()\n",
    "\n",
    "#     for k in range(1,3):\n",
    "#         steenrod_reps = get_steenrod_reps(k, coho_reps, filtration)\n",
    "#         curve = steenrod_curve(barcode, steenrod_reps, filtration, reduced)\n",
    "#         plot = plt.plot(range(len(filtration)), curve, label=f'Sq^{k}')\n",
    "#         plt.legend()\n",
    "\n",
    "#     plt.suptitle(f'{name}')    \n",
    "#     plt.show()"
   ]
  }
 ],
 "metadata": {
  "kernelspec": {
   "display_name": "Python 3",
   "language": "python",
   "name": "python3"
  },
  "language_info": {
   "codemirror_mode": {
    "name": "ipython",
    "version": 3
   },
   "file_extension": ".py",
   "mimetype": "text/x-python",
   "name": "python",
   "nbconvert_exporter": "python",
   "pygments_lexer": "ipython3",
   "version": "3.7.3"
  }
 },
 "nbformat": 4,
 "nbformat_minor": 2
}
