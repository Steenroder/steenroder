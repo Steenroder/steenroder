{
 "cells": [
  {
   "cell_type": "code",
   "execution_count": null,
   "metadata": {},
   "outputs": [],
   "source": [
    "from _utils import *"
   ]
  },
  {
   "cell_type": "code",
   "execution_count": null,
   "metadata": {},
   "outputs": [],
   "source": [
    "rp2 = ((1,), (2,), (1, 2), (3,), (1, 3), (2, 3), (4,), (1, 4), (2, 4), (1, 2, 4), (3, 4), (2, 3, 4), (5,), (1, 5), (2, 5), (3, 5), (1, 3, 5), (2, 3, 5), (4, 5), (1, 4, 5), (6,), (1, 6), (2, 6), (1, 2, 6), (3, 6), (1, 3, 6), (4, 6), (3, 4, 6), (5, 6), (2, 5, 6), (4, 5, 6))\n",
    "cone_rp2 = rp2 + ((9,),) + tuple([spx+(9,) for spx in rp2])\n",
    "rp3 = ((1,),(2,),(1, 2),(3,),(1, 3),(2, 3),(1, 2, 3),(4,),(1, 4),(2, 4),(1, 2, 4),(3, 4),(1, 3, 4),(2, 3, 4),(1, 2, 3, 4),(5,),(1, 5),(2, 5),(1, 2, 5),(3, 5),(1, 3, 5),(2, 3, 5),(1, 2, 3, 5),(4, 5),(1, 4, 5),(3, 4, 5),(1, 3, 4, 5),(6,),(1, 6),(2, 6),(1, 2, 6),(4, 6),(1, 4, 6),(2, 4, 6),(1, 2, 4, 6),(5, 6),(1, 5, 6),(2, 5, 6),(1, 2, 5, 6),(4, 5, 6),(1, 4, 5, 6),(7,),(2, 7),(3, 7),(2, 3, 7),(4, 7),(2, 4, 7),(3, 4, 7),(2, 3, 4, 7),(8,),(2, 8),(3, 8),(2, 3, 8),(5, 8),(2, 5, 8),(3, 5, 8),(2, 3, 5, 8),(7, 8),(2, 7, 8),(3, 7, 8),(2, 3, 7, 8),(9,),(2, 9),(4, 9),(2, 4, 9),(6, 9),(2, 6, 9),(4, 6, 9),(2, 4, 6, 9),(7, 9),(2, 7, 9),(4, 7, 9),(2, 4, 7, 9),(8, 9),(10,),(2, 10),(5, 10),(2, 5, 10),(6, 10),(2, 6, 10),(5, 6, 10),(2, 5, 6, 10),(7, 10),(8, 10),(2, 8, 10),(5, 8, 10),(2, 5, 8, 10),(9, 10),(2, 9, 10),(6, 9, 10),(2, 6, 9, 10),(11,),(2, 11),(7, 11),(2, 7, 11),(8, 11),(2, 8, 11),(7, 8, 11),(2, 7, 8, 11),(9, 11),(2, 9, 11),(7, 9, 11),(2, 7, 9, 11),(10, 11),(2, 10, 11),(8, 10, 11),(2, 8, 10, 11),(9, 10, 11),(2, 9, 10, 11),(12,),(3, 12),(4, 12),(3, 4, 12),(5, 12),(3, 5, 12),(4, 5, 12),(3, 4, 5, 12),(7, 12),(3, 7, 12),(4, 7, 12),(3, 4, 7, 12),(8, 12),(3, 8, 12),(5, 8, 12),(3, 5, 8, 12),(9, 12),(8, 9, 12),(10, 12),(7, 10, 12),(9, 10, 12),(11, 12),(9, 11, 12),(10, 11, 12),(9, 10, 11, 12),(13,),(3, 13),(6, 13),(7, 13),(3, 7, 13),(8, 13),(3, 8, 13),(7, 8, 13),(3, 7, 8, 13),(9, 13),(6, 9, 13),(8, 9, 13),(10, 13),(6, 10, 13),(7, 10, 13),(9, 10, 13),(6, 9, 10, 13),(12, 13),(3, 12, 13),(7, 12, 13),(3, 7, 12, 13),(8, 12, 13),(3, 8, 12, 13),(9, 12, 13),(8, 9, 12, 13),(10, 12, 13),(7, 10, 12, 13),(9, 10, 12, 13),(14,),(4, 14),(5, 14),(4, 5, 14),(6, 14),(4, 6, 14),(5, 6, 14),(4, 5, 6, 14),(7, 14),(8, 14),(7, 8, 14),(9, 14),(4, 9, 14),(6, 9, 14),(4, 6, 9, 14),(8, 9, 14),(10, 14),(5, 10, 14),(6, 10, 14),(5, 6, 10, 14),(7, 10, 14),(11, 14),(7, 11, 14),(8, 11, 14),(7, 8, 11, 14),(12, 14),(4, 12, 14),(5, 12, 14),(4, 5, 12, 14),(11, 12, 14),(13, 14),(6, 13, 14),(7, 13, 14),(8, 13, 14),(7, 8, 13, 14),(9, 13, 14),(6, 9, 13, 14),(8, 9, 13, 14),(10, 13, 14),(6, 10, 13, 14),(7, 10, 13, 14),(15,),(4, 15),(7, 15),(4, 7, 15),(8, 15),(9, 15),(4, 9, 15),(7, 9, 15),(4, 7, 9, 15),(8, 9, 15),(10, 15),(7, 10, 15),(8, 10, 15),(11, 15),(8, 11, 15),(10, 11, 15),(8, 10, 11, 15),(12, 15),(4, 12, 15),(7, 12, 15),(4, 7, 12, 15),(10, 12, 15),(7, 10, 12, 15),(11, 12, 15),(10, 11, 12, 15),(14, 15),(4, 14, 15),(8, 14, 15),(9, 14, 15),(4, 9, 14, 15),(8, 9, 14, 15),(11, 14, 15),(8, 11, 14, 15),(12, 14, 15),(4, 12, 14, 15),(11, 12, 14, 15),(16,),(5, 16),(7, 16),(8, 16),(5, 8, 16),(9, 16),(7, 9, 16),(8, 9, 16),(10, 16),(5, 10, 16),(7, 10, 16),(8, 10, 16),(5, 8, 10, 16),(11, 16),(7, 11, 16),(9, 11, 16),(7, 9, 11, 16),(12, 16),(5, 12, 16),(8, 12, 16),(5, 8, 12, 16),(9, 12, 16),(8, 9, 12, 16),(11, 12, 16),(9, 11, 12, 16),(14, 16),(5, 14, 16),(7, 14, 16),(10, 14, 16),(5, 10, 14, 16),(7, 10, 14, 16),(11, 14, 16),(7, 11, 14, 16),(12, 14, 16),(5, 12, 14, 16),(11, 12, 14, 16),(15, 16),(7, 15, 16),(8, 15, 16),(9, 15, 16),(7, 9, 15, 16),(8, 9, 15, 16),(10, 15, 16),(7, 10, 15, 16),(8, 10, 15, 16))\n",
    "cone_rp3 = rp3 + ((20,),) + tuple([spx+(20,) for spx in rp3])"
   ]
  },
  {
   "cell_type": "code",
   "execution_count": null,
   "metadata": {},
   "outputs": [],
   "source": [
    "filtration = rp3\n",
    "\n",
    "coboundary = get_coboundary(filtration)\n",
    "reduced, triangular = get_reduced_triangular(coboundary)\n",
    "\n"
   ]
  },
  {
   "cell_type": "code",
   "execution_count": null,
   "metadata": {
    "scrolled": true
   },
   "outputs": [],
   "source": [
    "def steenrod_curve_new(barcode, steenrod_reps, filtration, reduced):\n",
    "    s = np.array(steenrod_reps)\n",
    "    r = np.array(reduced)\n",
    "    births = [pair[0] for pair in barcode] + [len(filtration)]\n",
    "    \n",
    "    curve = [0]*births[0]\n",
    "    for i in range(len(births)-1):\n",
    "        for j in range(births[i], births[i+1]):\n",
    "            staked = np.hstack((r[:,:j+1], s[:,:i]))\n",
    "            s[:,i:i+1] = reduce_vector(staked, s[:,i:i+1])\n",
    "            curve.append(get_rank(s[:,:i+1]))\n",
    "\n",
    "    return curve\n",
    "\n",
    "name = 'Cone on RP3'\n",
    "filtration = cone_rp3\n",
    "\n",
    "coboundary = get_coboundary(filtration)\n",
    "reduced, triangular = get_reduced_triangular(coboundary)\n",
    "barcode = get_barcode(reduced, filtration)\n",
    "coho_reps = get_coho_reps(barcode, reduced, triangular, filtration)\n",
    "\n",
    "for key, betti_curve in betti_curves(barcode, filtration).items():\n",
    "    plot = plt.plot(range(len(filtration)), betti_curve, label=f'dim {key}')\n",
    "    plt.legend()\n",
    "\n",
    "plt.suptitle(f'filtration of {name}')    \n",
    "plt.show()\n",
    "\n",
    "for k in range(1,2):\n",
    "    steenrod_reps = get_steenrod_reps(k, coho_reps, filtration)\n",
    "    tata = steenrod_curve_new(barcode, steenrod_reps, filtration, reduced)\n",
    "    plot = plt.plot(range(len(filtration)), tata, label=f'Sq^{k}')\n",
    "    plt.legend()\n",
    "\n",
    "plt.suptitle(f'Filtration of {name}')    \n",
    "plt.show() "
   ]
  },
  {
   "cell_type": "code",
   "execution_count": null,
   "metadata": {},
   "outputs": [],
   "source": [
    "original_rep = np.array(steenrod_reps[:,15:16])\n",
    "original_rep.nonzero()\n",
    "get_rank(original_rep)\n",
    "print(vector_to_cochain(original_rep, filtration))\n",
    "\n"
   ]
  },
  {
   "cell_type": "code",
   "execution_count": null,
   "metadata": {},
   "outputs": [],
   "source": [
    "r = np.array([[1,0,0,0,0],[0,0,0,0,1]])\n",
    "s = np.array([[1,1],[1,0]])\n",
    "print(r)\n",
    "print(s)\n",
    "births = [1,3] + [r.shape[1]]\n",
    "print('births',births)\n",
    "curve = [0]*births[0]\n",
    "print('curve',curve)\n",
    "for i in range(len(births)-1):\n",
    "    print('i',i)\n",
    "    for j in range(births[i],births[i+1]):\n",
    "        print('j',j)\n",
    "        print('r')\n",
    "        print(r[:,:j+1])\n",
    "        print('s1')\n",
    "        print(s[:,:i+1])\n",
    "        print('stack')\n",
    "        print(np.hstack((r[:,:j+1], s[:,:i])))\n",
    "        s[:,i:i+1] = reduce_vector(np.hstack((r[:,:j+1], s[:,:i])), s[:,i:i+1])\n",
    "        print('s2')\n",
    "        print(s[:,:i+1])\n",
    "        print('rank', get_rank(s[:,:i+1]))\n",
    "        curve.append(get_rank(s[:,:i+1]))\n",
    "        print('curve',curve)\n",
    "curve    "
   ]
  },
  {
   "cell_type": "code",
   "execution_count": null,
   "metadata": {},
   "outputs": [],
   "source": [
    "def reduce_matrix(reduced, matrix):\n",
    "    num_vector = matrix.shape[1]\n",
    "\n",
    "    for i in range(num_vector):\n",
    "        reduced_vector = reduce_vector(reduced, matrix[:, i:i+1])\n",
    "        reduced = np.concatenate([reduced, reduced_vector], axis=1)\n",
    "    return reduced[:, -num_vector:]\n",
    "\n",
    "def steenrod_curve_new(barcode, steenrod_reps, filtration, reduced):\n",
    "    s = np.array(steenrod_reps)\n",
    "    r = np.array(reduced)\n",
    "    births = [pair[0] for pair in barcode] + [len(filtration)]\n",
    "    \n",
    "    curve = [0]*births[0]\n",
    "    for i in range(len(births)-1):\n",
    "        for j in range(births[i], births[i+1]):\n",
    "            s[:,:i+1] = reduce_matrix(r[:,:j+1], s[:,:i+1])\n",
    "            curve.append(get_rank(s[:,:i+1]))\n",
    "\n",
    "    return curve"
   ]
  },
  {
   "cell_type": "code",
   "execution_count": null,
   "metadata": {},
   "outputs": [],
   "source": [
    "filtration = [0,0,0,0,0]\n",
    "r = np.array([[1,0,0,0,0],[0,0,0,0,1]])\n",
    "s = np.array([[1,1],[1,0]])\n",
    "barcode = [(1,4),(3,5)]\n",
    "\n",
    "print(steenrod_curve_new(barcode, s, filtration, r))\n",
    "#print(steenrod_curve_new(barcode, s, filtration, r))"
   ]
  }
 ],
 "metadata": {
  "kernelspec": {
   "display_name": "Python 3",
   "language": "python",
   "name": "python3"
  },
  "language_info": {
   "codemirror_mode": {
    "name": "ipython",
    "version": 3
   },
   "file_extension": ".py",
   "mimetype": "text/x-python",
   "name": "python",
   "nbconvert_exporter": "python",
   "pygments_lexer": "ipython3",
   "version": "3.7.3"
  }
 },
 "nbformat": 4,
 "nbformat_minor": 2
}
