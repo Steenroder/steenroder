{
 "cells": [
  {
   "cell_type": "code",
   "execution_count": 1,
   "id": "c4811418",
   "metadata": {},
   "outputs": [],
   "source": [
    "%load_ext autoreload\n",
    "%autoreload 2\n",
    "\n",
    "import time\n",
    "import itertools\n",
    "\n",
    "import numpy as np\n",
    "import pickle as pkl\n",
    "\n",
    "from scipy import spatial as spatial\n",
    "from scipy import sparse as sp\n",
    "from sklearn.preprocessing import scale\n",
    "\n",
    "from steenroder import *\n",
    "import gudhi\n",
    "\n",
    "from matplotlib import pyplot as plt"
   ]
  },
  {
   "cell_type": "code",
   "execution_count": 2,
   "id": "ecac215a",
   "metadata": {},
   "outputs": [],
   "source": [
    "def get_density_filtered_point_cloud(weight_array,\n",
    "                                     k_th_nearest=200,\n",
    "                                     percentage=0.3,\n",
    "                                     user_axis=1):\n",
    "    \"\"\"\n",
    "    Returns a density filtered point cloud of 9-vectors\n",
    "    Parameters\n",
    "    ----------\n",
    "    weight_array: array\n",
    "        An array of 9-dimensional points i.e the weights of 3x3 patches\n",
    "    k_th_nearest : integer, optional, default: 200\n",
    "        Indicates the k-th neighbour used as a density estimator\n",
    "    percentage : integer, optional, default: 0.3\n",
    "        The percentage of the point cloud cardinality to be left after filtration\n",
    "    user_axis :\n",
    "        integer 0 or 1 for scaling axis, 0 is column normalization, 1 is row norm.\n",
    "    \"\"\"\n",
    "    normalized_weight_array = scale(weight_array, axis=user_axis)\n",
    "    m_dimension, n_dimension = normalized_weight_array.shape\n",
    "    number_of_kth_densest_points = int(percentage*m_dimension)\n",
    "    condensed_weight_distance_matrix = spatial.distance.pdist(normalized_weight_array)\n",
    "    redundant_weight_distance_matrix = spatial.distance.squareform(condensed_weight_distance_matrix)\n",
    "    kth_nearest_index_matrix = np.argsort(redundant_weight_distance_matrix, axis=1)\n",
    "    kth_nearest_index_vector = np.zeros((m_dimension, 1), dtype=int)\n",
    "    for i in range(m_dimension):\n",
    "        kth_nearest_index = kth_nearest_index_matrix[i][k_th_nearest]\n",
    "        kth_nearest_index_vector[i] = kth_nearest_index\n",
    "    # kth_nearest_distances = redundant_weight_distance_matrix[kth_nearest_index_vector]\n",
    "    kth_nearest_distances = np.take_along_axis(redundant_weight_distance_matrix,\n",
    "                                               kth_nearest_index_vector, axis=1)\n",
    "    kth_nearest_indices_sorted = np.argsort(kth_nearest_distances, axis=0)\n",
    "    p_of_kth_nearest_indices = kth_nearest_indices_sorted[0:number_of_kth_densest_points]\n",
    "    pth_densest_points = normalized_weight_array[p_of_kth_nearest_indices]\n",
    "    pth_densest_points = np.reshape(pth_densest_points, (-1, n_dimension))\n",
    "\n",
    "    return pth_densest_points"
   ]
  },
  {
   "cell_type": "code",
   "execution_count": 3,
   "id": "fda361c1",
   "metadata": {},
   "outputs": [],
   "source": [
    "def remove_trivial_bars(filtration, barcode):\n",
    "    \"\"\"Note: filtration is as returned by GUDHI, i.e. [(simplex_tuple, filtration value), ...]\"\"\"\n",
    "    N = len(filtration)\n",
    "    barcode_vals = []\n",
    "    for barcode_in_dim in barcode:\n",
    "        barcode_vals_in_dim = []\n",
    "        for tup in barcode_in_dim:\n",
    "            if not np.isinf(tup[1]):\n",
    "                candidate = (filtration[N - 1 - tup[0]][1], filtration[N - 1 - tup[1]][1])\n",
    "                if candidate[0] != candidate[1]:\n",
    "                    barcode_vals_in_dim.append(candidate)\n",
    "            else:\n",
    "                barcode_vals_in_dim.append((filtration[N - 1 - tup[0]][1], -np.inf))\n",
    "        barcode_vals.append(barcode_vals_in_dim)\n",
    "    \n",
    "    return barcode_vals"
   ]
  },
  {
   "cell_type": "code",
   "execution_count": 4,
   "id": "ab1d137a",
   "metadata": {},
   "outputs": [],
   "source": [
    "weights = np.load('weights_100n_86e.npy').reshape(-1, 9)"
   ]
  },
  {
   "cell_type": "code",
   "execution_count": 5,
   "id": "24015c2c",
   "metadata": {},
   "outputs": [
    {
     "data": {
      "image/png": "[encoded data removed]",
      "text/plain": [
       "<Figure size 432x288 with 1 Axes>"
      ]
     },
     "metadata": {
      "needs_background": "light"
     },
     "output_type": "display_data"
    }
   ],
   "source": [
    "X = get_density_filtered_point_cloud(weights, k_th_nearest=200, percentage=0.02, user_axis=1)\n",
    "\n",
    "dm = spatial.distance.pdist(X)\n",
    "plt.hist(dm, bins=100);\n",
    "plt.title(\"Histogram of pairwise distances in X\");\n",
    "plt.show()"
   ]
  },
  {
   "cell_type": "code",
   "execution_count": 6,
   "id": "5f1b6659",
   "metadata": {},
   "outputs": [],
   "source": [
    "k = 1"
   ]
  },
  {
   "cell_type": "markdown",
   "id": "f262c976",
   "metadata": {},
   "source": [
    "# Without edge collapse"
   ]
  },
  {
   "cell_type": "code",
   "execution_count": 107,
   "id": "ac24de33",
   "metadata": {},
   "outputs": [
    {
     "name": "stdout",
     "output_type": "stream",
     "text": [
      "Filtration with 349632 simplices\n"
     ]
    }
   ],
   "source": [
    "rips_complex = gudhi.RipsComplex(points=X)\n",
    "simplex_tree = rips_complex.create_simplex_tree(max_dimension=2)\n",
    "\n",
    "filtration = []\n",
    "for s in simplex_tree.get_filtration():\n",
    "    filtration.append(s)\n",
    "    \n",
    "print(f\"Filtration with {len(filtration)} simplices\")"
   ]
  },
  {
   "cell_type": "code",
   "execution_count": 108,
   "id": "a2372620",
   "metadata": {},
   "outputs": [],
   "source": [
    "barcode, st_barcode = barcodes(k, [tuple(s[0]) for s in filtration])"
   ]
  },
  {
   "cell_type": "code",
   "execution_count": 109,
   "id": "921f2104",
   "metadata": {},
   "outputs": [
    {
     "data": {
      "text/plain": [
       "[[], [], []]"
      ]
     },
     "execution_count": 109,
     "metadata": {},
     "output_type": "execute_result"
    }
   ],
   "source": [
    "st_barcode"
   ]
  },
  {
   "cell_type": "code",
   "execution_count": 132,
   "id": "074e8688",
   "metadata": {},
   "outputs": [],
   "source": [
    "barcode_by_values = remove_trivial_bars(filtration, barcode)"
   ]
  },
  {
   "cell_type": "markdown",
   "id": "051e13bb",
   "metadata": {},
   "source": [
    "# With edge collapse"
   ]
  },
  {
   "cell_type": "code",
   "execution_count": 7,
   "id": "eacc896d",
   "metadata": {},
   "outputs": [],
   "source": [
    "rips_complex_coll = gudhi.RipsComplex(points=X)\n",
    "simplex_tree_coll = rips_complex_coll.create_simplex_tree(max_dimension=1)  # Only get the 1-skeleton this time"
   ]
  },
  {
   "cell_type": "code",
   "execution_count": 59,
   "id": "605e25d6",
   "metadata": {},
   "outputs": [],
   "source": [
    "simplex_tree_coll.collapse_edges(nb_iterations=10000)  # Run this cell several times if you want to iteratively collapse"
   ]
  },
  {
   "cell_type": "code",
   "execution_count": 60,
   "id": "d426f933",
   "metadata": {},
   "outputs": [
    {
     "name": "stdout",
     "output_type": "stream",
     "text": [
      "Filtration with 6764 simplices\n"
     ]
    }
   ],
   "source": [
    "filtration_coll = []\n",
    "for s in simplex_tree_coll.get_filtration():\n",
    "    filtration_coll.append(s)\n",
    "\n",
    "print(f\"Filtration with {len(filtration_coll)} simplices\")"
   ]
  },
  {
   "cell_type": "code",
   "execution_count": 65,
   "id": "69f4751a",
   "metadata": {},
   "outputs": [],
   "source": [
    "simplex_tree_coll.expansion(3)  # Get the three-simplices after collapse"
   ]
  },
  {
   "cell_type": "code",
   "execution_count": 66,
   "id": "c43889ca",
   "metadata": {},
   "outputs": [
    {
     "name": "stdout",
     "output_type": "stream",
     "text": [
      "Filtration with 108662 simplices\n"
     ]
    }
   ],
   "source": [
    "filtration_coll = []\n",
    "for s in simplex_tree_coll.get_filtration():\n",
    "    filtration_coll.append(s)\n",
    "\n",
    "print(f\"Filtration with {len(filtration_coll)} simplices\")"
   ]
  },
  {
   "cell_type": "code",
   "execution_count": 67,
   "id": "80e6a78e",
   "metadata": {},
   "outputs": [],
   "source": [
    "barcode_coll, st_barcode_coll = barcodes(k, [tuple(s[0]) for s in filtration_coll])"
   ]
  },
  {
   "cell_type": "code",
   "execution_count": 69,
   "id": "3d9ccc71",
   "metadata": {},
   "outputs": [
    {
     "data": {
      "text/plain": [
       "[[], [], [], []]"
      ]
     },
     "execution_count": 69,
     "metadata": {},
     "output_type": "execute_result"
    }
   ],
   "source": [
    "st_barcode_coll"
   ]
  },
  {
   "cell_type": "code",
   "execution_count": null,
   "id": "6b9825d3",
   "metadata": {},
   "outputs": [],
   "source": []
  }
 ],
 "metadata": {
  "kernelspec": {
   "display_name": "Python 3",
   "language": "python",
   "name": "python3"
  },
  "language_info": {
   "codemirror_mode": {
    "name": "ipython",
    "version": 3
   },
   "file_extension": ".py",
   "mimetype": "text/x-python",
   "name": "python",
   "nbconvert_exporter": "python",
   "pygments_lexer": "ipython3",
   "version": "3.9.2"
  }
 },
 "nbformat": 4,
 "nbformat_minor": 5
}
