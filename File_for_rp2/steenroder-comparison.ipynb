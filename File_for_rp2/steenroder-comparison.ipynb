{
 "cells": [
  {
   "cell_type": "markdown",
   "metadata": {},
   "source": [
    "## Functions and data"
   ]
  },
  {
   "cell_type": "code",
   "execution_count": null,
   "metadata": {},
   "outputs": [],
   "source": [
    "from steenroder import *\n",
    "import pickle as pkl\n",
    "import numpy as np"
   ]
  },
  {
   "cell_type": "markdown",
   "metadata": {},
   "source": [
    "## Main"
   ]
  },
  {
   "cell_type": "code",
   "execution_count": null,
   "metadata": {
    "scrolled": true
   },
   "outputs": [],
   "source": [
    "k = 1\n",
    "\n",
    "filtration = pkl.load(open(\"rp2.pkl\", \"rb\"))\n",
    "checks = {}\n",
    "\n",
    "coboundary = get_coboundary(filtration)\n",
    "checks['coboundary square is zero'] = \\\n",
    "    check_square_zero(coboundary)\n",
    "\n",
    "reduced, triangular = get_reduced_triangular(coboundary)\n",
    "checks['reduced = coboundary*triangular'] = \\\n",
    "    check_factorization(coboundary, reduced, triangular)\n",
    "\n",
    "barcode = get_barcode(reduced, filtration)\n",
    "checks['H_* barcode = shifted H^* barcode'] = \\\n",
    "    check_duality(filtration)\n",
    "checks['homology barcode = gudhi barcode'] = \\\n",
    "    check_against_gudhi(filtration) #GUDHI fails to detect top class\n",
    "\n",
    "coho_reps = get_coho_reps(barcode, reduced, \n",
    "                          triangular, filtration)\n",
    "checks['coho_reps are cycles'] = \\\n",
    "    check_representatives(coboundary, coho_reps)\n",
    "\n",
    "st_reps = get_steenrod_reps(k, coho_reps, filtration)\n",
    "checks['st_reps are cycles'] = \\\n",
    "    check_representatives(coboundary, coho_reps)\n",
    "\n",
    "if not all(checks.values()):\n",
    "    print('fails:',[n for n, b in checks.items() if not b])\n",
    "\n",
    "betti_curves = get_betti_curves(barcode, filtration)\n",
    "steenrod_curve = get_steenrod_curve(barcode, st_reps, filtration, reduced)"
   ]
  },
  {
   "cell_type": "markdown",
   "metadata": {},
   "source": [
    "## Comparing barcodes: Fails, G(d) = A(d+1) after (a,b) to (30-b,30-a)"
   ]
  },
  {
   "cell_type": "code",
   "execution_count": null,
   "metadata": {},
   "outputs": [],
   "source": [
    "barcode_guigui = {}\n",
    "for i in range(3):\n",
    "    barcode_guigui[i] = np.genfromtxt(f'Rp2_files/rp2_pairs_dim_{i}.dat',\n",
    "                                      skip_header=1)"
   ]
  },
  {
   "cell_type": "code",
   "execution_count": null,
   "metadata": {},
   "outputs": [],
   "source": [
    "pass"
   ]
  },
  {
   "cell_type": "markdown",
   "metadata": {},
   "source": [
    "## Comparing reduced matrices"
   ]
  },
  {
   "cell_type": "code",
   "execution_count": null,
   "metadata": {},
   "outputs": [],
   "source": [
    "from scipy import sparse\n",
    "\n",
    "file  = open('Rp2_files/rp2_reduced.dat', 'r')\n",
    "\n",
    "def guigui_to_dense(file):\n",
    "    row_idx = []\n",
    "    col_idx = []\n",
    "    for i, line in enumerate(file): \n",
    "        splitted = line[2:].split()\n",
    "        cols = [int(l) for l in splitted]\n",
    "        for col in cols:\n",
    "            row_idx.append(col)\n",
    "            col_idx.append(i)\n",
    "\n",
    "    data = np.array([1]*len(row_idx))\n",
    "    mat_coo = sparse.coo_matrix((data, (row_idx, col_idx))) \n",
    "    return mat_coo.todense()\n",
    "    \n",
    "# display_matrix(guigui_to_dense(file))"
   ]
  },
  {
   "cell_type": "code",
   "execution_count": null,
   "metadata": {},
   "outputs": [],
   "source": [
    "B = get_boundary(filtration)\n",
    "cB = get_coboundary(filtration)\n",
    "\n",
    "R, V = get_reduced_triangular(B)\n",
    "cR, cV = get_reduced_triangular(cB)"
   ]
  },
  {
   "cell_type": "code",
   "execution_count": null,
   "metadata": {},
   "outputs": [],
   "source": [
    "def display_matrix(matrix):\n",
    "    for j in range(matrix.shape[1]):\n",
    "        print(j, [i for i in range(matrix.shape[0]) if matrix[i, j] > 0])"
   ]
  },
  {
   "cell_type": "markdown",
   "metadata": {},
   "source": [
    "## Comparing Steenrod representatives"
   ]
  },
  {
   "cell_type": "code",
   "execution_count": null,
   "metadata": {},
   "outputs": [],
   "source": [
    "#display_matrix(st_reps)\n",
    "print(st_reps.astype(np.int8))"
   ]
  }
 ],
 "metadata": {
  "kernelspec": {
   "display_name": "Python 3",
   "language": "python",
   "name": "python3"
  },
  "language_info": {
   "codemirror_mode": {
    "name": "ipython",
    "version": 3
   },
   "file_extension": ".py",
   "mimetype": "text/x-python",
   "name": "python",
   "nbconvert_exporter": "python",
   "pygments_lexer": "ipython3",
   "version": "3.7.3"
  }
 },
 "nbformat": 4,
 "nbformat_minor": 2
}
