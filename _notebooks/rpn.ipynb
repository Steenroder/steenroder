{
 "cells": [
  {
   "cell_type": "markdown",
   "metadata": {},
   "source": [
    "# Real projective spaces\n",
    "\n",
    "In this notebook we illustrate `steenroder` using filtrations of simplicial complex models of $\\mathbb R\\mathrm P^n$ for $n \\in \\{2,3,4\\}$, as well as of models of their cones and their suspensions."
   ]
  },
  {
   "cell_type": "code",
   "execution_count": 1,
   "metadata": {
    "execution": {
     "iopub.execute_input": "2022-04-15T14:36:05.027749Z",
     "iopub.status.busy": "2022-04-15T14:36:05.027550Z",
     "iopub.status.idle": "2022-04-15T14:36:05.357770Z",
     "shell.execute_reply": "2022-04-15T14:36:05.357275Z"
    }
   },
   "outputs": [],
   "source": [
    "from steenroder import barcodes, cone, suspension\n",
    "from examples import rp2, rp3, rp4\n",
    "import numpy as np\n",
    "\n",
    "def print_rel_barcodes(k, filtrations, names):\n",
    "    for filtration, name in zip(filtrations, names):\n",
    "        print(f'\\n**) {name} ({len(filtration)} simplices):')\n",
    "        barcode, steenrod_barcode = barcodes(k, filtration)\n",
    "        print(f'*) Regular (infinite only):')\n",
    "        for d, bars in enumerate(barcode):\n",
    "            print(d, bars[np.where(bars == -1)[0],:])\n",
    "        print(f'*) Sq^{k} (non-zero only):')\n",
    "        for d, bars in enumerate(steenrod_barcode):\n",
    "            if bars.size > 0:\n",
    "                print(d, bars)\n",
    "                \n",
    "def print_abs_barcodes(k, filtrations, names, length=1):\n",
    "    for filtration, name in zip(filtrations, names):\n",
    "        print(f'\\n**) {name} ({len(filtration)} simplices):')\n",
    "        barcode, steenrod_barcode = barcodes(k, filtration, absolute=True)\n",
    "        print(f'*) Regular (length > {length} only):')\n",
    "        for d, bars in enumerate(barcode):\n",
    "            print(d, bars[np.where(bars[:,1]-bars[:,0] > length)])\n",
    "        print(f'*) Sq^{k} (non-zero only):')\n",
    "        for d, bars in enumerate(steenrod_barcode):\n",
    "            if bars.size > 0:\n",
    "                print(d, bars)"
   ]
  },
  {
   "cell_type": "markdown",
   "metadata": {},
   "source": [
    "We focus on $Sq^k$ with"
   ]
  },
  {
   "cell_type": "code",
   "execution_count": 2,
   "metadata": {
    "execution": {
     "iopub.execute_input": "2022-04-15T14:36:05.362112Z",
     "iopub.status.busy": "2022-04-15T14:36:05.361139Z",
     "iopub.status.idle": "2022-04-15T14:36:05.365124Z",
     "shell.execute_reply": "2022-04-15T14:36:05.364730Z"
    }
   },
   "outputs": [],
   "source": [
    "k = 1"
   ]
  },
  {
   "cell_type": "markdown",
   "metadata": {},
   "source": [
    "## $\\mathbb R \\mathrm P^n$"
   ]
  },
  {
   "cell_type": "code",
   "execution_count": 3,
   "metadata": {
    "execution": {
     "iopub.execute_input": "2022-04-15T14:36:05.368702Z",
     "iopub.status.busy": "2022-04-15T14:36:05.367794Z",
     "iopub.status.idle": "2022-04-15T14:37:06.978857Z",
     "shell.execute_reply": "2022-04-15T14:37:06.978364Z"
    }
   },
   "outputs": [
    {
     "name": "stdout",
     "output_type": "stream",
     "text": [
      "Persistent relative cohomology:\n",
      "\n",
      "**) RP2 (31 simplices):\n"
     ]
    },
    {
     "name": "stdout",
     "output_type": "stream",
     "text": [
      "*) Regular (infinite only):\n",
      "0 [[-1  0]]\n",
      "1 [[-1  5]]\n",
      "2 [[-1 30]]\n",
      "*) Sq^1 (non-zero only):\n",
      "2 [[-1  5]]\n",
      "\n",
      "**) RP3 (284 simplices):\n"
     ]
    },
    {
     "name": "stdout",
     "output_type": "stream",
     "text": [
      "*) Regular (infinite only):\n",
      "0 [[-1  0]]\n",
      "1 [[-1 73]]\n",
      "2 [[ -1 191]]\n",
      "3 [[ -1 283]]\n",
      "*) Sq^1 (non-zero only):\n",
      "2 [[-1 73]]\n",
      "\n",
      "**) RP4 (991 simplices):\n"
     ]
    },
    {
     "name": "stdout",
     "output_type": "stream",
     "text": [
      "*) Regular (infinite only):\n",
      "0 [[-1  0]]\n",
      "1 [[-1  5]]\n",
      "2 [[-1 66]]\n",
      "3 [[ -1 473]]\n",
      "4 [[ -1 990]]\n",
      "*) Sq^1 (non-zero only):\n",
      "2 [[-1  5]]\n",
      "4 [[ -1 473]]\n"
     ]
    }
   ],
   "source": [
    "filtrations = [rp2, rp3, rp4]\n",
    "names = ['RP2', 'RP3', 'RP4']\n",
    "\n",
    "print('Persistent relative cohomology:')\n",
    "print_rel_barcodes(k, filtrations, names)"
   ]
  },
  {
   "cell_type": "markdown",
   "metadata": {},
   "source": [
    "## Cones"
   ]
  },
  {
   "cell_type": "code",
   "execution_count": 4,
   "metadata": {
    "execution": {
     "iopub.execute_input": "2022-04-15T14:37:06.982808Z",
     "iopub.status.busy": "2022-04-15T14:37:06.981841Z",
     "iopub.status.idle": "2022-04-15T14:37:19.850615Z",
     "shell.execute_reply": "2022-04-15T14:37:19.850065Z"
    }
   },
   "outputs": [
    {
     "name": "stdout",
     "output_type": "stream",
     "text": [
      "Persistent absolute cohomology:\n",
      "\n",
      "**) cone_RP2 (63 simplices):\n",
      "*) Regular (length > 200 only):\n",
      "0 []\n",
      "1 []\n",
      "2 []\n",
      "3 []\n",
      "*) Sq^1 (non-zero only):\n",
      "2 [[30 37]]\n",
      "\n",
      "**) cone_RP3 (569 simplices):\n",
      "*) Regular (length > 200 only):\n",
      "0 []\n",
      "1 [[ 73 358]]\n",
      "2 [[191 476]]\n",
      "3 [[283 568]]\n",
      "4 []\n",
      "*) Sq^1 (non-zero only):\n",
      "2 [[191 358]]\n",
      "\n",
      "**) cone_RP4$ (1983 simplices):\n"
     ]
    },
    {
     "name": "stdout",
     "output_type": "stream",
     "text": [
      "*) Regular (length > 200 only):\n",
      "0 []\n",
      "1 [[  5 997]]\n",
      "2 [[  66 1058]\n",
      " [ 120  382]\n",
      " [  44  366]]\n",
      "3 [[ 473 1465]\n",
      " [1112 1374]\n",
      " [1036 1358]]\n",
      "4 [[ 990 1982]]\n",
      "5 []\n",
      "*) Sq^1 (non-zero only):\n",
      "2 [[ 66 997]]\n",
      "4 [[ 990 1465]]\n"
     ]
    }
   ],
   "source": [
    "cone_filtrations = [cone(rp2), cone(rp3), cone(rp4)]\n",
    "cone_names = ['cone_RP2', 'cone_RP3', 'cone_RP4$']\n",
    "print('Persistent absolute cohomology:')\n",
    "min_bar_length = 200\n",
    "print_abs_barcodes(k, cone_filtrations, cone_names, min_bar_length)"
   ]
  },
  {
   "cell_type": "markdown",
   "metadata": {},
   "source": [
    "## Suspensions"
   ]
  },
  {
   "cell_type": "code",
   "execution_count": 5,
   "metadata": {
    "execution": {
     "iopub.execute_input": "2022-04-15T14:37:19.853279Z",
     "iopub.status.busy": "2022-04-15T14:37:19.852977Z",
     "iopub.status.idle": "2022-04-15T14:37:20.023753Z",
     "shell.execute_reply": "2022-04-15T14:37:20.022708Z"
    },
    "scrolled": true
   },
   "outputs": [
    {
     "name": "stdout",
     "output_type": "stream",
     "text": [
      "Persistent absolute cohomology:\n",
      "\n",
      "**) suspension_RP2 (95 simplices):\n",
      "*) Regular (infinite only):\n",
      "0 [[-1  0]]\n",
      "1 []\n",
      "2 [[-1 69]]\n",
      "3 [[-1 94]]\n",
      "*) Sq^1 (non-zero only):\n",
      "3 [[30 37]\n",
      " [-1 69]]\n",
      "\n",
      "**) suspension_RP3 (854 simplices):\n",
      "*) Regular (infinite only):\n",
      "0 [[-1  0]]\n",
      "1 []\n",
      "2 [[ -1 643]]\n",
      "3 [[ -1 761]]\n",
      "4 [[ -1 853]]\n",
      "*) Sq^1 (non-zero only):\n",
      "3 [[191 358]\n",
      " [ -1 643]]\n",
      "\n",
      "**) suspension_RP4 (2975 simplices):\n",
      "*) Regular (infinite only):\n",
      "0 [[-1  0]]\n",
      "1 []\n",
      "2 [[  -1 1989]]\n",
      "3 [[  -1 2050]]\n",
      "4 [[  -1 2457]]\n",
      "5 [[  -1 2974]]\n",
      "*) Sq^1 (non-zero only):\n",
      "3 [[  66  997]\n",
      " [  -1 1989]]\n",
      "5 [[ 990 1465]\n",
      " [  -1 2457]]\n"
     ]
    }
   ],
   "source": [
    "sus_filtrations = [suspension(rp2), suspension(rp3), suspension(rp4)]\n",
    "sus_names = ['suspension_RP2', 'suspension_RP3', 'suspension_RP4']\n",
    "print('Persistent absolute cohomology:')\n",
    "print_rel_barcodes(k, sus_filtrations, sus_names)"
   ]
  },
  {
   "cell_type": "markdown",
   "metadata": {},
   "source": [
    "## Cone on suspensions"
   ]
  },
  {
   "cell_type": "code",
   "execution_count": 6,
   "metadata": {
    "execution": {
     "iopub.execute_input": "2022-04-15T14:37:20.026895Z",
     "iopub.status.busy": "2022-04-15T14:37:20.026616Z",
     "iopub.status.idle": "2022-04-15T14:37:33.477775Z",
     "shell.execute_reply": "2022-04-15T14:37:33.477246Z"
    }
   },
   "outputs": [
    {
     "name": "stdout",
     "output_type": "stream",
     "text": [
      "Persistent absolute cohomology:\n",
      "\n",
      "**) cone_sus_RP2 (191 simplices):\n"
     ]
    },
    {
     "name": "stdout",
     "output_type": "stream",
     "text": [
      "*) Regular (length > 500 only):\n",
      "0 []\n",
      "1 []\n",
      "2 []\n",
      "3 []\n",
      "4 []\n",
      "*) Sq^1 (non-zero only):\n",
      "2 [[30 37]]\n",
      "3 [[126 133]\n",
      " [ 94 165]]\n",
      "\n",
      "**) cone_sus_RP3 (1709 simplices):\n",
      "*) Regular (length > 500 only):\n",
      "0 []\n",
      "1 []\n",
      "2 [[ 643 1498]]\n",
      "3 [[ 761 1616]]\n",
      "4 [[ 853 1708]]\n",
      "5 []\n",
      "*) Sq^1 (non-zero only):\n",
      "2 [[191 358]]\n",
      "3 [[1046 1213]\n",
      " [ 761 1498]]\n",
      "\n",
      "**) cone_sus_RP4$ (5951 simplices):\n"
     ]
    },
    {
     "name": "stdout",
     "output_type": "stream",
     "text": [
      "*) Regular (length > 500 only):\n",
      "0 []\n",
      "1 [[  5 997]]\n",
      "2 [[1989 4965]\n",
      " [2981 3973]\n",
      " [  66 1058]]\n",
      "3 [[2050 5026]\n",
      " [3042 4034]\n",
      " [ 473 1465]]\n",
      "4 [[2457 5433]\n",
      " [3449 4441]\n",
      " [ 990 1982]]\n",
      "5 [[2974 5950]\n",
      " [3966 4958]]\n",
      "6 []\n",
      "*) Sq^1 (non-zero only):\n",
      "2 [[ 66 997]]\n",
      "3 [[3042 3973]\n",
      " [2050 4965]]\n",
      "4 [[ 990 1465]]\n",
      "5 [[3966 4441]\n",
      " [2974 5433]]\n"
     ]
    }
   ],
   "source": [
    "cone_sus_filtrations = [cone(suspension(rp2)), cone(suspension(rp3)), cone(suspension(rp4))]\n",
    "cone_sus_names = ['cone_sus_RP2', 'cone_sus_RP3', 'cone_sus_RP4$']\n",
    "print('Persistent absolute cohomology:')\n",
    "min_bar_length = 500\n",
    "print_abs_barcodes(k, cone_sus_filtrations, cone_sus_names, min_bar_length)"
   ]
  }
 ],
 "metadata": {
  "kernelspec": {
   "display_name": "Python 3",
   "language": "python",
   "name": "python3"
  },
  "language_info": {
   "codemirror_mode": {
    "name": "ipython",
    "version": 3
   },
   "file_extension": ".py",
   "mimetype": "text/x-python",
   "name": "python",
   "nbconvert_exporter": "python",
   "pygments_lexer": "ipython3",
   "version": "3.8.12"
  }
 },
 "nbformat": 4,
 "nbformat_minor": 2
}
