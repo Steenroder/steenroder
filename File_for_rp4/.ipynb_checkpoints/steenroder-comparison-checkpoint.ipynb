{
 "cells": [
  {
   "cell_type": "markdown",
   "metadata": {},
   "source": [
    "# Betti and Steenrod curves\n",
    "\n",
    "## Introduction\n",
    "A **filtration** consists of a total order on the simplices $\\{\\sigma_0, \\dots ,\\sigma_{N}\\}$ of a finite simplicial complex $X$ such that $X[n] = \\{\\sigma_i \\,|\\ i \\leq n\\}$ is a subcomplex of $X$.\n",
    "\n",
    "The **d-Betti curve** of a filtration is the function \n",
    "\n",
    "$$\\beta^d : \\{0,\\dots,N\\} \\to \\mathbb N$$\n",
    "\n",
    "sending $i$ to the rank of the [relative cohomology](https://en.wikipedia.org/wiki/Simplicial_homology) vector space\n",
    "\n",
    "$$H^d(X,\\,X[N-i]\\,;\\mathbb F_2).$$\n",
    "\n",
    "The **(k,d)-Steenrod curve** of a filtration is the function \n",
    "\n",
    "$$\\gamma_k^d : \\{0,\\dots,N\\} \\to \\mathbb N$$\n",
    "\n",
    "sending $i$ to the rank of the [Steenrod square](https://en.wikipedia.org/wiki/Steenrod_algebra) \n",
    "\n",
    "$$Sq^k : H^d(X,\\,X[N-i]\\,;\\mathbb F_2) \\to H^{d+k}(X,\\,X[N-i]\\,;\\mathbb F_2).$$\n",
    "\n",
    "We now describe how to construct these invariants given any filtration $X$. Let $\\partial$ be the matrix representing the boundary map \n",
    "\n",
    "$$C_*(X;\\mathbb F_2) \\to C_{*-1}(X;\\mathbb F_2)$$\n",
    "\n",
    "with respect to the canonical basis defined by the filtration. Following De Silva, Morozov, and Vejdemo-Johansson [[1]](https://www.mrzv.org/publications/dualities-persistence/manuscript/) we can compute representatives of $H^d(X,\\,X[N-i]\\,;\\mathbb F_2)$ which are natural with respect to the inclusion maps $X[N-i] \\leftarrow X[N-(i+1)]$ by the following procedure: consider the matrix\n",
    "\n",
    "$$\\delta_{p,q} = \\partial_{N-q+1,N-p+1}$$\n",
    "and obtain a factorization of the form \n",
    "$$R = \\delta V$$\n",
    "\n",
    "where $R$ is a reduced matrix and $V$ is an upper-triangular invertible matrix.\n",
    "\n",
    "The **barcode** of the filtration is defined to be the collection of pairs $(b,d)$ such that \n",
    "$R_{b,d}$ is a pivot or $d = +\\infty$, the $b$-th column is zero, and no pivot of $R$ has $b$ as its row coordinate.\n",
    "\n",
    "A basis for $H^*(X,\\,X[N-i]\\,;\\mathbb F_2)$ is in bijection with the number of bars $(b,d)$ satisfying $b \\leq i < d$. The bijection takes a bar $(b,d)$ to the vector $R_d$ and a bar $(b,+\\infty)$ to the vector $V_b$. We refer to the integers $b$ and $d$ as the birth and death times of the class represented by its associated cocycle.\n",
    "\n",
    "From the barcode we can easily obtain the Betti curves. We now describe\n",
    "how to obtain the Steenrod curves.\n",
    "\n",
    "Following Medina-Mardones [[2]](https://arxiv.org/abs/1812.05031), we can effectively construct a cocycle representative of $Sq^k([\\alpha])$ given a cocyle $\\alpha$ representing it. We refer to this as the $k$-Steenrod representative of $[\\alpha]$.\n",
    "\n",
    "Let $R_{\\leq n}$ denote the submatrix of $R$ containing the first $n$-columns. The non-zero columns in $R_{\\leq n}$ define a basis of the image of $\\delta$ restricted to $C^*(X,\\,X[N-n]\\,;\\mathbb F_2)$. The value of the $(k,d)$-Steenrod curve on $i$ is equal to\n",
    "\n",
    "$$ \\mathrm{rank}(A_{\\leq i}) - \\mathrm{rank}(R_{\\leq i})$$\n",
    "\n",
    "where $A_{\\leq i}$ equals $R_{\\leq i}$ augmented by the matrix containing the column vectors of $k$-Steenrod representatives of degree $d$ classes born before or at time $i$.\n",
    "\n",
    "In this notebook, we implement functions computing Betti and Steenrod curves and compute these invariants for certain filtrations of finite approximations of the [real projective space](https://en.wikipedia.org/wiki/Real_projective_space)\n",
    "\n",
    "$$RP^\\infty \\supset \\cdots \\supset RP^2 \\supset RP^1 \\supset RP^0.$$\n",
    "\n",
    "We recall that $H^*(RP^\\infty;\\mathbb F_2) = \\mathbb F_2[x]$ with $|x| = 1$ and that \n",
    "\n",
    "$$Sq^k(x^n) = {n \\choose k} x^{n+k}.$$"
   ]
  },
  {
   "cell_type": "markdown",
   "metadata": {},
   "source": [
    "## Functions and data"
   ]
  },
  {
   "cell_type": "code",
   "execution_count": 1,
   "metadata": {},
   "outputs": [],
   "source": [
    "from _utils import *\n",
    "import pickle as pkl\n",
    "import numpy as np\n",
    "import matplotlib.pyplot as plt"
   ]
  },
  {
   "cell_type": "code",
   "execution_count": 2,
   "metadata": {},
   "outputs": [],
   "source": [
    "names = ['rp2', 'rp3', 'rp4', \n",
    "         'cone_rp2', 'cone_rp3', 'cone_rp4']"
   ]
  },
  {
   "cell_type": "markdown",
   "metadata": {},
   "source": [
    "## Main"
   ]
  },
  {
   "cell_type": "code",
   "execution_count": 5,
   "metadata": {
    "scrolled": true
   },
   "outputs": [
    {
     "name": "stdout",
     "output_type": "stream",
     "text": [
      "fails: ['homology barcode = gudhi barcode']\n"
     ]
    },
    {
     "data": {
      "image/png": "[encoded data removed]",
      "text/plain": [
       "<Figure size 432x288 with 1 Axes>"
      ]
     },
     "metadata": {
      "needs_background": "light"
     },
     "output_type": "display_data"
    },
    {
     "data": {
      "image/png": "[encoded data removed]",
      "text/plain": [
       "<Figure size 432x288 with 1 Axes>"
      ]
     },
     "metadata": {
      "needs_background": "light"
     },
     "output_type": "display_data"
    }
   ],
   "source": [
    "k = 1\n",
    "\n",
    "for name in names[2:3]:\n",
    "    filtration = pkl.load(open(\"data/\"+name+\".pkl\", \"rb\"))\n",
    "    checks = {}\n",
    "    \n",
    "    filtration += ((20,),)\n",
    "    coboundary = get_coboundary(filtration)\n",
    "    checks['coboundary square is zero'] = \\\n",
    "        check_square_zero(coboundary)\n",
    "\n",
    "    reduced, triangular = get_reduced_triangular(coboundary)\n",
    "    checks['reduced = coboundary*triangular'] = \\\n",
    "        check_factorization(coboundary, reduced, triangular)\n",
    "\n",
    "    barcode = get_barcode(reduced, filtration)\n",
    "    checks['H_* barcode = shifted H^* barcode'] = \\\n",
    "        check_duality(filtration)\n",
    "    checks['homology barcode = gudhi barcode'] = \\\n",
    "        check_against_gudhi(filtration) #GUDHI fails to detect top class\n",
    "\n",
    "    coho_reps = get_coho_reps(barcode, reduced, \n",
    "                              triangular, filtration)\n",
    "    checks['coho_reps are cycles'] = \\\n",
    "        check_representatives(coboundary, coho_reps)\n",
    "\n",
    "    st_reps = get_steenrod_reps(k, coho_reps, filtration)\n",
    "    checks['st_reps are cycles'] = \\\n",
    "        check_representatives(coboundary, coho_reps)\n",
    "    \n",
    "    if not all(checks.values()):\n",
    "        print('fails:',[n for n, b in checks.items() if not b])\n",
    "    \n",
    "    betti_curves = get_betti_curves(barcode, filtration)\n",
    "    steenrod_curve = get_steenrod_curve(barcode, st_reps, filtration, reduced)\n",
    "    \n",
    "    \n",
    "    # plotting\n",
    "    for key, betti_curve in betti_curves.items():\n",
    "        plot = plt.plot(range(len(filtration)), betti_curve, label=f'dim {key}')\n",
    "        plt.legend()\n",
    "\n",
    "    plt.legend()\n",
    "    plt.suptitle(name)    \n",
    "    plt.show()        \n",
    "\n",
    "    plot = plt.plot(range(len(filtration)), \n",
    "                    steenrod_curve, \n",
    "                    label=f'k={k}')\n",
    "    plt.legend()\n",
    "    plt.suptitle(name)    \n",
    "    plt.show()"
   ]
  },
  {
   "cell_type": "code",
   "execution_count": 6,
   "metadata": {},
   "outputs": [
    {
     "data": {
      "text/plain": [
       "72"
      ]
     },
     "execution_count": 6,
     "metadata": {},
     "output_type": "execute_result"
    }
   ],
   "source": [
    "len (barcode)"
   ]
  },
  {
   "cell_type": "code",
   "execution_count": 8,
   "metadata": {},
   "outputs": [
    {
     "ename": "OSError",
     "evalue": ".\\File_for_rp4_-_correct_barcode\rp4_pairs_dim_1.dat not found.",
     "output_type": "error",
     "traceback": [
      "\u001b[0;31m---------------------------------------------------------------------------\u001b[0m",
      "\u001b[0;31mOSError\u001b[0m                                   Traceback (most recent call last)",
      "\u001b[0;32m<ipython-input-8-4d87cf387aca>\u001b[0m in \u001b[0;36m<module>\u001b[0;34m\u001b[0m\n\u001b[1;32m      1\u001b[0m data = np.genfromtxt('.\\File_for_rp4_-_correct_barcode\\rp4_pairs_dim_1.dat',\n\u001b[0;32m----> 2\u001b[0;31m                      skip_header=1)\n\u001b[0m",
      "\u001b[0;32m~/anaconda3/lib/python3.7/site-packages/numpy/lib/npyio.py\u001b[0m in \u001b[0;36mgenfromtxt\u001b[0;34m(fname, dtype, comments, delimiter, skip_header, skip_footer, converters, missing_values, filling_values, usecols, names, excludelist, deletechars, replace_space, autostrip, case_sensitive, defaultfmt, unpack, usemask, loose, invalid_raise, max_rows, encoding)\u001b[0m\n\u001b[1;32m   1757\u001b[0m             \u001b[0mfname\u001b[0m \u001b[0;34m=\u001b[0m \u001b[0mos_fspath\u001b[0m\u001b[0;34m(\u001b[0m\u001b[0mfname\u001b[0m\u001b[0;34m)\u001b[0m\u001b[0;34m\u001b[0m\u001b[0;34m\u001b[0m\u001b[0m\n\u001b[1;32m   1758\u001b[0m         \u001b[0;32mif\u001b[0m \u001b[0misinstance\u001b[0m\u001b[0;34m(\u001b[0m\u001b[0mfname\u001b[0m\u001b[0;34m,\u001b[0m \u001b[0mbasestring\u001b[0m\u001b[0;34m)\u001b[0m\u001b[0;34m:\u001b[0m\u001b[0;34m\u001b[0m\u001b[0;34m\u001b[0m\u001b[0m\n\u001b[0;32m-> 1759\u001b[0;31m             \u001b[0mfid\u001b[0m \u001b[0;34m=\u001b[0m \u001b[0mnp\u001b[0m\u001b[0;34m.\u001b[0m\u001b[0mlib\u001b[0m\u001b[0;34m.\u001b[0m\u001b[0m_datasource\u001b[0m\u001b[0;34m.\u001b[0m\u001b[0mopen\u001b[0m\u001b[0;34m(\u001b[0m\u001b[0mfname\u001b[0m\u001b[0;34m,\u001b[0m \u001b[0;34m'rt'\u001b[0m\u001b[0;34m,\u001b[0m \u001b[0mencoding\u001b[0m\u001b[0;34m=\u001b[0m\u001b[0mencoding\u001b[0m\u001b[0;34m)\u001b[0m\u001b[0;34m\u001b[0m\u001b[0;34m\u001b[0m\u001b[0m\n\u001b[0m\u001b[1;32m   1760\u001b[0m             \u001b[0mfid_ctx\u001b[0m \u001b[0;34m=\u001b[0m \u001b[0mcontextlib\u001b[0m\u001b[0;34m.\u001b[0m\u001b[0mclosing\u001b[0m\u001b[0;34m(\u001b[0m\u001b[0mfid\u001b[0m\u001b[0;34m)\u001b[0m\u001b[0;34m\u001b[0m\u001b[0;34m\u001b[0m\u001b[0m\n\u001b[1;32m   1761\u001b[0m         \u001b[0;32melse\u001b[0m\u001b[0;34m:\u001b[0m\u001b[0;34m\u001b[0m\u001b[0;34m\u001b[0m\u001b[0m\n",
      "\u001b[0;32m~/anaconda3/lib/python3.7/site-packages/numpy/lib/_datasource.py\u001b[0m in \u001b[0;36mopen\u001b[0;34m(path, mode, destpath, encoding, newline)\u001b[0m\n\u001b[1;32m    267\u001b[0m \u001b[0;34m\u001b[0m\u001b[0m\n\u001b[1;32m    268\u001b[0m     \u001b[0mds\u001b[0m \u001b[0;34m=\u001b[0m \u001b[0mDataSource\u001b[0m\u001b[0;34m(\u001b[0m\u001b[0mdestpath\u001b[0m\u001b[0;34m)\u001b[0m\u001b[0;34m\u001b[0m\u001b[0;34m\u001b[0m\u001b[0m\n\u001b[0;32m--> 269\u001b[0;31m     \u001b[0;32mreturn\u001b[0m \u001b[0mds\u001b[0m\u001b[0;34m.\u001b[0m\u001b[0mopen\u001b[0m\u001b[0;34m(\u001b[0m\u001b[0mpath\u001b[0m\u001b[0;34m,\u001b[0m \u001b[0mmode\u001b[0m\u001b[0;34m,\u001b[0m \u001b[0mencoding\u001b[0m\u001b[0;34m=\u001b[0m\u001b[0mencoding\u001b[0m\u001b[0;34m,\u001b[0m \u001b[0mnewline\u001b[0m\u001b[0;34m=\u001b[0m\u001b[0mnewline\u001b[0m\u001b[0;34m)\u001b[0m\u001b[0;34m\u001b[0m\u001b[0;34m\u001b[0m\u001b[0m\n\u001b[0m\u001b[1;32m    270\u001b[0m \u001b[0;34m\u001b[0m\u001b[0m\n\u001b[1;32m    271\u001b[0m \u001b[0;34m\u001b[0m\u001b[0m\n",
      "\u001b[0;32m~/anaconda3/lib/python3.7/site-packages/numpy/lib/_datasource.py\u001b[0m in \u001b[0;36mopen\u001b[0;34m(self, path, mode, encoding, newline)\u001b[0m\n\u001b[1;32m    621\u001b[0m                                       encoding=encoding, newline=newline)\n\u001b[1;32m    622\u001b[0m         \u001b[0;32melse\u001b[0m\u001b[0;34m:\u001b[0m\u001b[0;34m\u001b[0m\u001b[0;34m\u001b[0m\u001b[0m\n\u001b[0;32m--> 623\u001b[0;31m             \u001b[0;32mraise\u001b[0m \u001b[0mIOError\u001b[0m\u001b[0;34m(\u001b[0m\u001b[0;34m\"%s not found.\"\u001b[0m \u001b[0;34m%\u001b[0m \u001b[0mpath\u001b[0m\u001b[0;34m)\u001b[0m\u001b[0;34m\u001b[0m\u001b[0;34m\u001b[0m\u001b[0m\n\u001b[0m\u001b[1;32m    624\u001b[0m \u001b[0;34m\u001b[0m\u001b[0m\n\u001b[1;32m    625\u001b[0m \u001b[0;34m\u001b[0m\u001b[0m\n",
      "\u001b[0;31mOSError\u001b[0m: .\\File_for_rp4_-_correct_barcode\rp4_pairs_dim_1.dat not found."
     ]
    }
   ],
   "source": [
    "data = np.genfromtxt('.\\File_for_rp4_-_correct_barcode\\rp4_pairs_dim_1.dat',\n",
    "                     skip_header=1)"
   ]
  },
  {
   "cell_type": "code",
   "execution_count": null,
   "metadata": {},
   "outputs": [],
   "source": []
  },
  {
   "cell_type": "code",
   "execution_count": null,
   "metadata": {},
   "outputs": [],
   "source": []
  },
  {
   "cell_type": "code",
   "execution_count": null,
   "metadata": {
    "scrolled": false
   },
   "outputs": [],
   "source": [
    "k = 1\n",
    "\n",
    "for name in names[:2]:\n",
    "    filtration = pkl.load(open(\"data/\"+name+\".pkl\", \"rb\"))\n",
    "    \n",
    "    coboundary = get_coboundary(filtration)\n",
    "    reduced, triangular = get_reduced_triangular(coboundary)\n",
    "\n",
    "    barcode = get_barcode(reduced, filtration)\n",
    "    coho_reps = get_coho_reps(barcode, reduced, triangular, filtration)\n",
    "    steenrod_reps = get_steenrod_reps(k, coho_reps, filtration)\n",
    "    \n",
    "    betti_curves = get_betti_curves(barcode, filtration)\n",
    "    steenrod_curve = get_steenrod_curve(barcode, steenrod_reps, filtration, reduced)\n",
    "    \n",
    "    \n",
    "    # plotting\n",
    "    for key, betti_curve in betti_curves.items():\n",
    "        plot = plt.plot(range(len(filtration)), betti_curve, label=f'dim {key}')\n",
    "        plt.legend()\n",
    "\n",
    "    plt.legend()\n",
    "    plt.suptitle(name)    \n",
    "    plt.show()        \n",
    "\n",
    "    plot = plt.plot(range(len(filtration)), \n",
    "                    steenrod_curve, \n",
    "                    label=f'k={k}')\n",
    "    plt.legend()\n",
    "    plt.suptitle(name)    \n",
    "    plt.show()"
   ]
  }
 ],
 "metadata": {
  "kernelspec": {
   "display_name": "Python 3",
   "language": "python",
   "name": "python3"
  },
  "language_info": {
   "codemirror_mode": {
    "name": "ipython",
    "version": 3
   },
   "file_extension": ".py",
   "mimetype": "text/x-python",
   "name": "python",
   "nbconvert_exporter": "python",
   "pygments_lexer": "ipython3",
   "version": "3.7.3"
  }
 },
 "nbformat": 4,
 "nbformat_minor": 2
}
