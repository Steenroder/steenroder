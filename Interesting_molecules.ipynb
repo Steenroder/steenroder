{
 "cells": [
  {
   "cell_type": "code",
   "execution_count": 1,
   "metadata": {},
   "outputs": [],
   "source": [
    "import numpy as np\n",
    "from itertools import combinations\n",
    "import matplotlib.pyplot as plt"
   ]
  },
  {
   "cell_type": "markdown",
   "metadata": {},
   "source": [
    "## Filtered simplicial complexes"
   ]
  },
  {
   "cell_type": "code",
   "execution_count": 2,
   "metadata": {},
   "outputs": [],
   "source": [
    "dsgdb9nsd_037917 = [([4], -115.041), ([5], -115.041), ([15], -115.041), ([4, 15], -115.041), ([16], -115.041), ([5, 16], -115.041), ([0], -96.0627), ([9], -96.0627), ([0, 9], -96.0627), ([10], -96.0287), ([0, 10], -96.0287), ([1], -91.5467), ([11], -91.5467), ([1, 11], -91.5467), ([2], -86.7189), ([12], -86.7189), ([2, 12], -86.7189), ([7], -86.7019), ([19], -86.7019), ([7, 19], -86.7019), ([6], -83.9622), ([17], -83.9622), ([6, 17], -83.9622), ([3], -83.9618), ([13], -83.9618), ([3, 13], -83.9618), ([18], -83.9544), ([6, 18], -83.9544), ([14], -83.9532), ([3, 14], -83.9532), ([2, 10], -12.2181), ([7, 9], -12.2169), ([2, 19], -11.9659), ([7, 12], -11.9626), ([6, 15], -10.8542), ([3, 16], -10.8541), ([1, 18], -9.96761), ([1, 14], -9.964960000000001), ([8], -9.96345), ([8, 17], -9.96345), ([8, 13], -9.9611), ([0, 12], -9.88214), ([0, 19], -9.876510000000001), ([4, 12], -9.200460000000001), ([5, 19], -9.20022), ([15, 16], -8.337860000000001), ([2, 9], -8.12358), ([7, 10], -8.11422), ([7, 16], -8.09263), ([2, 15], -8.09184), ([8, 11], -7.63313), ([20], -7.63248), ([1, 20], -7.63248), ([5, 14], -6.73205), ([4, 18], -6.73165), ([4, 17], -6.7308), ([5, 13], -6.730630000000001), ([6, 16], -5.1176), ([6, 15, 16], -5.1176), ([3, 15], -5.11676), ([3, 15, 16], -5.11676), ([14, 15], -4.024769999999999), ([3, 14, 15], -4.024769999999999), ([16, 18], -4.02457), ([6, 16, 18], -4.02457), ([16, 17], -4.015), ([6, 16, 17], -4.015), ([13, 15], -4.01495), ([3, 13, 15], -4.01495), ([12, 14], -3.4641800000000003), ([18, 19], -3.4640199999999997), ([17, 19], -3.4572), ([12, 13], -3.4568), ([1, 17], -2.69302), ([1, 13], -2.69271), ([8, 18], -2.68768), ([8, 14], -2.68625), ([3, 12], -1.63608), ([3, 12, 13], -1.63608), ([3, 12, 14], -1.63608), ([6, 19], -1.63486), ([6, 17, 19], -1.63486), ([6, 18, 19], -1.63486), ([7, 11], -1.44994), ([7, 20], -1.44885), ([2, 11], -1.4486299999999999), ([2, 20], -1.44755), ([0, 20], -0.708236), ([0, 11], -0.706784), ([10, 11], 0.09992000000000001), ([0, 10, 11], 0.09992000000000001), ([2, 10, 11], 0.09992000000000001), ([7, 10, 11], 0.09992000000000001), ([9, 11], 0.100241), ([0, 9, 11], 0.100241), ([2, 9, 11], 0.100241), ([7, 9, 11], 0.100241), ([10, 20], 0.10043099999999999), ([0, 10, 20], 0.10043099999999999), ([2, 10, 20], 0.10043099999999999), ([7, 10, 20], 0.10043099999999999), ([9, 20], 0.100739), ([0, 9, 20], 0.100739), ([2, 9, 20], 0.100739), ([7, 9, 20], 0.100739), ([3, 11], 0.168067), ([6, 11], 0.168278), ([3, 20], 0.16833499999999998), ([6, 20], 0.168478), ([11, 12], 0.169317), ([0, 11, 12], 0.169317), ([2, 11, 12], 0.169317), ([3, 11, 12], 0.169317), ([7, 11, 12], 0.169317), ([11, 19], 0.16938399999999998), ([0, 11, 19], 0.16938399999999998), ([2, 11, 19], 0.16938399999999998), ([6, 11, 19], 0.16938399999999998), ([7, 11, 19], 0.16938399999999998), ([12, 20], 0.16969800000000002), ([0, 12, 20], 0.16969800000000002), ([2, 12, 20], 0.16969800000000002), ([3, 12, 20], 0.16969800000000002), ([7, 12, 20], 0.16969800000000002), ([19, 20], 0.169729), ([0, 19, 20], 0.169729), ([2, 19, 20], 0.169729), ([6, 19, 20], 0.169729), ([7, 19, 20], 0.169729), ([8, 10], 0.27837399999999995), ([8, 10, 11], 0.27837399999999995), ([8, 9], 0.278424), ([8, 9, 11], 0.278424), ([1, 9], 0.278776), ([1, 9, 11], 0.278776), ([1, 9, 20], 0.278776), ([1, 10], 0.278831), ([1, 10, 11], 0.278831), ([1, 10, 20], 0.278831), ([9, 10], 0.574032), ([0, 9, 10], 0.574032), ([1, 9, 10], 0.574032), ([2, 9, 10], 0.574032), ([7, 9, 10], 0.574032), ([8, 9, 10], 0.574032), ([9, 10, 11], 0.574032), ([0, 9, 10, 11], 0.574032), ([1, 9, 10, 11], 0.574032), ([2, 9, 10, 11], 0.574032), ([7, 9, 10, 11], 0.574032), ([8, 9, 10, 11], 0.574032), ([9, 10, 20], 0.574032), ([0, 9, 10, 20], 0.574032), ([1, 9, 10, 20], 0.574032), ([2, 9, 10, 20], 0.574032), ([7, 9, 10, 20], 0.574032), ([8, 12], 1.46034), ([8, 11, 12], 1.46034), ([8, 12, 13], 1.46034), ([8, 12, 14], 1.46034), ([8, 19], 1.46129), ([8, 11, 19], 1.46129), ([8, 17, 19], 1.46129), ([8, 18, 19], 1.46129), ([1, 12], 1.46175), ([1, 11, 12], 1.46175), ([1, 12, 13], 1.46175), ([1, 12, 14], 1.46175), ([1, 12, 20], 1.46175), ([1, 19], 1.46252), ([1, 11, 19], 1.46252), ([1, 17, 19], 1.46252), ([1, 18, 19], 1.46252), ([1, 19, 20], 1.46252), ([5, 15], 1.63357), ([5, 13, 15], 1.63357), ([5, 14, 15], 1.63357), ([5, 15, 16], 1.63357), ([4, 16], 1.63376), ([4, 15, 16], 1.63376), ([4, 16, 17], 1.63376), ([4, 16, 18], 1.63376), ([7, 17], 2.60533), ([7, 16, 17], 2.60533), ([7, 17, 19], 2.60533), ([2, 13], 2.60548), ([2, 12, 13], 2.60548), ([2, 13, 15], 2.60548), ([2, 14], 2.60738), ([2, 12, 14], 2.60738), ([2, 14, 15], 2.60738), ([7, 18], 2.6076200000000003), ([7, 16, 18], 2.6076200000000003), ([7, 18, 19], 2.6076200000000003), ([5, 17], 6.11648), ([5, 16, 17], 6.11648), ([5, 17, 19], 6.11648), ([4, 13], 6.1166599999999995), ([4, 12, 13], 6.1166599999999995), ([4, 13, 15], 6.1166599999999995), ([4, 14], 6.12836), ([4, 12, 14], 6.12836), ([4, 14, 15], 6.12836), ([5, 18], 6.12867), ([5, 16, 18], 6.12867), ([5, 18, 19], 6.12867), ([13, 14], 19.2173), ([1, 13, 14], 19.2173), ([2, 13, 14], 19.2173), ([3, 13, 14], 19.2173), ([4, 13, 14], 19.2173), ([5, 13, 14], 19.2173), ([8, 13, 14], 19.2173), ([12, 13, 14], 19.2173), ([1, 12, 13, 14], 19.2173), ([2, 12, 13, 14], 19.2173), ([3, 12, 13, 14], 19.2173), ([4, 12, 13, 14], 19.2173), ([8, 12, 13, 14], 19.2173), ([13, 14, 15], 19.2173), ([2, 13, 14, 15], 19.2173), ([3, 13, 14, 15], 19.2173), ([4, 13, 14, 15], 19.2173), ([5, 13, 14, 15], 19.2173), ([17, 18], 19.2176), ([1, 17, 18], 19.2176), ([4, 17, 18], 19.2176), ([5, 17, 18], 19.2176), ([6, 17, 18], 19.2176), ([7, 17, 18], 19.2176), ([8, 17, 18], 19.2176), ([16, 17, 18], 19.2176), ([4, 16, 17, 18], 19.2176), ([5, 16, 17, 18], 19.2176), ([6, 16, 17, 18], 19.2176), ([7, 16, 17, 18], 19.2176), ([17, 18, 19], 19.2176), ([1, 17, 18, 19], 19.2176), ([5, 17, 18, 19], 19.2176), ([6, 17, 18, 19], 19.2176), ([7, 17, 18, 19], 19.2176), ([8, 17, 18, 19], 19.2176)]\n",
    "    \n",
    "filtrations = {'037917': [tuple(pair[0]) for pair in dsgdb9nsd_037917]}"
   ]
  },
  {
   "cell_type": "markdown",
   "metadata": {},
   "source": [
    "## Absolute Homology"
   ]
  },
  {
   "cell_type": "code",
   "execution_count": 3,
   "metadata": {},
   "outputs": [],
   "source": [
    "def get_boundary(filtration):\n",
    "    spx_filtration_idx = {tuple(v): idx for idx, v in enumerate(filtration)}\n",
    "    boundary = np.zeros((len(filtration), len(filtration)), dtype=np.bool)\n",
    "    for idx, spx in enumerate(filtration):\n",
    "        faces_idxs = []\n",
    "        try:\n",
    "            faces_idxs = [spx_filtration_idx[spx[:j]+spx[j+1:]] \n",
    "                          for j in range(len(spx))]\n",
    "        except KeyError:\n",
    "            pass\n",
    "        boundary[faces_idxs,idx] = True\n",
    "    \n",
    "    return boundary\n",
    "\n",
    "def _pivot(column):\n",
    "    try:\n",
    "        return max(column.nonzero()[0])\n",
    "    except ValueError:\n",
    "        return None\n",
    "\n",
    "def get_reduced_triangular(matrix):\n",
    "    '''R = MV'''\n",
    "    n = matrix.shape[1]\n",
    "    reduced = np.array(matrix)\n",
    "    triangular = np.eye(n, dtype=np.bool)\n",
    "    for j in range(n):\n",
    "        i = j\n",
    "        while i > 0:\n",
    "            i -= 1\n",
    "            if not np.any(reduced[:,j]):\n",
    "                break\n",
    "            else:\n",
    "                piv_j = _pivot(reduced[:,j])\n",
    "                piv_i = _pivot(reduced[:,i])\n",
    "                \n",
    "                if piv_i == piv_j:\n",
    "                    reduced[:,j] = np.logical_xor(reduced[:,i], reduced[:,j])\n",
    "                    triangular[:,j] = np.logical_xor(triangular[:,i], triangular[:,j])\n",
    "                    i = j\n",
    "                    \n",
    "    return reduced, triangular\n",
    "\n",
    "def get_barcode(reduced, filtration):\n",
    "    triples = []\n",
    "    all_indices = []\n",
    "    for j in range(len(filtration)):\n",
    "        if np.any(reduced[:,j]):\n",
    "            i = _pivot(reduced[:,j])\n",
    "            triples.append((i,j))\n",
    "            all_indices += [i,j]\n",
    "    \n",
    "    for i in [i for i in range(len(filtration)) if i not in all_indices]:    \n",
    "        if not np.any(reduced[:,i]):\n",
    "            triples.append((i,np.inf))\n",
    "    \n",
    "    barcode = sorted([bar for bar in triples if bar[1]-bar[0]>1])\n",
    "    \n",
    "    return barcode"
   ]
  },
  {
   "cell_type": "markdown",
   "metadata": {},
   "source": [
    "## Checking against Gudhi"
   ]
  },
  {
   "cell_type": "code",
   "execution_count": 4,
   "metadata": {},
   "outputs": [],
   "source": [
    "def checking_against_gudhi(filtration):\n",
    "    \n",
    "    from gudhi import SimplexTree\n",
    "\n",
    "    boundary = get_boundary(filtration)\n",
    "    reduced, triangular = get_reduced_triangular(boundary)\n",
    "    barcode = get_barcode(reduced, filtration)\n",
    "    dimensions = [len(spx)-1 for spx in filtration]\n",
    "    barcode_w_dimensions = sorted(\n",
    "                            [(float(bar[0]), float(bar[1]), dimensions[bar[0]])\n",
    "                            for bar in barcode])\n",
    "    \n",
    "    # Creating SimplexTree\n",
    "    st = SimplexTree()\n",
    "    for idx, spx in enumerate(filtration):\n",
    "        st.insert(spx,idx)\n",
    "        \n",
    "    gudhi_barcode = sorted([(bar[1][0], bar[1][1], bar[0]) \n",
    "                               for bar in st.persistence(homology_coeff_field=2) \n",
    "                               if bar[1][1]-bar[1][0]>1])\n",
    "    \n",
    "    return [(a == b) for a,b in zip(barcode_w_dimensions, gudhi_barcode)]"
   ]
  },
  {
   "cell_type": "markdown",
   "metadata": {},
   "source": [
    "## Cohomology representatives"
   ]
  },
  {
   "cell_type": "code",
   "execution_count": 5,
   "metadata": {},
   "outputs": [],
   "source": [
    "def get_coboundary(filtration):\n",
    "    coboundary = np.flip(get_boundary(filtration), axis=[0,1]).transpose()\n",
    "    return coboundary\n",
    "\n",
    "def get_coho_reps(barcode, reduced, triangular, filtration):\n",
    "    coho_reps = np.empty((len(filtration),len(barcode)),dtype=np.bool)\n",
    "    for col, pair in enumerate(barcode):\n",
    "        if pair[1] < np.inf:\n",
    "            coho_reps[:,col] = reduced[:,pair[1]]\n",
    "        if pair[1] == np.inf:\n",
    "            coho_reps[:,col] = triangular[:,pair[0]]\n",
    "    return coho_reps"
   ]
  },
  {
   "cell_type": "markdown",
   "metadata": {},
   "source": [
    "## Vector from and to cochain"
   ]
  },
  {
   "cell_type": "code",
   "execution_count": 6,
   "metadata": {},
   "outputs": [],
   "source": [
    "def vector_to_cochain(vector, filtration):\n",
    "    cocycle = {filtration[len(filtration)-i-1] for i in vector.nonzero()[0]}\n",
    "    return cocycle\n",
    "\n",
    "def cochain_to_vector(cochain, filtration):\n",
    "    simplex_to_index = lambda spx: len(filtration)-filtration.index(spx)-1\n",
    "    nonzero_indices = [simplex_to_index(spx) for spx in cochain]\n",
    "    vector = np.zeros(shape=(len(filtration),1), dtype=np.bool)\n",
    "    vector[nonzero_indices] = True\n",
    "    return vector"
   ]
  },
  {
   "cell_type": "markdown",
   "metadata": {},
   "source": [
    "## Checking duality relation"
   ]
  },
  {
   "cell_type": "code",
   "execution_count": 7,
   "metadata": {},
   "outputs": [],
   "source": [
    "def check_duality(filtration):\n",
    "    \n",
    "    boundary = get_boundary(filtration)\n",
    "    barcode = get_barcode(get_reduced_triangular(boundary)[0], filtration)\n",
    "    \n",
    "    coboundary = get_coboundary(filtration)\n",
    "    cobarcode = get_barcode(get_reduced_triangular(coboundary)[0], filtration)\n",
    "\n",
    "    new_barcode = []\n",
    "    for bar in cobarcode:\n",
    "        if bar[1] == np.inf:\n",
    "            new_barcode.append((len(filtration)-bar[0]-1, np.inf))\n",
    "        else:\n",
    "            new_barcode.append((len(filtration)-bar[1]-1, len(filtration)-bar[0]-1))\n",
    "            \n",
    "    return [(bar1 == bar2) for bar1, bar2 in zip(sorted(barcode), sorted(new_barcode))]"
   ]
  },
  {
   "cell_type": "markdown",
   "metadata": {},
   "source": [
    "## Steenrod representatives"
   ]
  },
  {
   "cell_type": "code",
   "execution_count": 8,
   "metadata": {},
   "outputs": [],
   "source": [
    "def STSQ(k, vector, filtration):\n",
    "    \n",
    "    # from vector to cochain\n",
    "    cocycle = vector_to_cochain(vector, filtration)\n",
    "    \n",
    "    # bulk of the algorithm\n",
    "    answer = set()\n",
    "    for pair in combinations(cocycle, 2):\n",
    "        a, b = set(pair[0]), set(pair[1])\n",
    "        if ( len(a.union(b)) == len(a)+k and \n",
    "        tuple(sorted(a.union(b))) in filtration ):\n",
    "            a_bar, b_bar = a.difference(b), b.difference(a)\n",
    "            index = dict()\n",
    "            for v in a_bar.union(b_bar):\n",
    "                pos = sorted(a.union(b)).index(v)\n",
    "                pos_bar = sorted(a_bar.union(b_bar)).index(v)\n",
    "                index[v] = (pos + pos_bar)%2\n",
    "            index_a = {index[v] for v in a_bar}\n",
    "            index_b = {index[w] for w in b_bar}\n",
    "            if (index_a == {0} and index_b == {1} \n",
    "            or  index_a == {1} and index_b == {0}):\n",
    "                u = sorted(a.union(b))\n",
    "                answer ^= {tuple(u)}\n",
    "    \n",
    "    # cochain to vector\n",
    "    st_rep = cochain_to_vector(answer, filtration)\n",
    "    \n",
    "    return st_rep\n",
    "\n",
    "def get_steenrod_reps(k, coho_reps, filtration):\n",
    "    steenrod_reps = np.empty(coho_reps.shape ,dtype=np.bool)\n",
    "    for idx, rep in enumerate(np.transpose(coho_reps)):\n",
    "        steenrod_reps[:,idx:idx+1] = STSQ(k,rep,filtration)\n",
    "    return steenrod_reps"
   ]
  },
  {
   "cell_type": "markdown",
   "metadata": {},
   "source": [
    "## Betti curves"
   ]
  },
  {
   "cell_type": "code",
   "execution_count": 9,
   "metadata": {},
   "outputs": [],
   "source": [
    "def betti_curves(barcode, filtration):\n",
    "    dim = max([len(spx)-1 for spx in filtration])\n",
    "    betti_curves = {i: np.zeros((len(filtration),), np.int8) \n",
    "                   for i in range(dim+1)}\n",
    "    for bar in barcode:        \n",
    "        degree = len(filtration[-bar[0]-1])-1\n",
    "        end = bar[1]\n",
    "        if end == np.inf:\n",
    "            end = len(filtration)\n",
    "            \n",
    "        betti_curves[degree][bar[0]:end] += 1\n",
    "            \n",
    "    return betti_curves"
   ]
  },
  {
   "cell_type": "markdown",
   "metadata": {},
   "source": [
    "## Steenrod curves"
   ]
  },
  {
   "cell_type": "code",
   "execution_count": 10,
   "metadata": {},
   "outputs": [],
   "source": [
    "def get_pivots(matrix):\n",
    "    n = matrix.shape[1]\n",
    "    pivots = []\n",
    "    for i in range(n):\n",
    "        pivots.append(_pivot(matrix[:,i]))\n",
    "    return pivots\n",
    "\n",
    "def reduce_vector(reduced, vector):\n",
    "    num_col = reduced.shape[1]\n",
    "    i = -1\n",
    "    while i >= -num_col:\n",
    "        #print('i',i)\n",
    "        if not np.any(vector):\n",
    "            break\n",
    "        else:\n",
    "            piv_v = _pivot(vector)\n",
    "            piv_i = _pivot(reduced[:,i])\n",
    "            #print('piv_v',piv_v,'piv_i',piv_i)\n",
    "\n",
    "            if piv_i == piv_v:\n",
    "                vector[:,0] = np.logical_xor(reduced[:,i], vector[:,0])\n",
    "                i = 0\n",
    "            i -= 1\n",
    "            #print('i after', i)\n",
    "    return vector\n",
    "\n",
    "def reduce_matrix(reduced, matrix):\n",
    "    num_vector = matrix.shape[1]\n",
    "\n",
    "    for i in range(num_vector):\n",
    "        reduced_vector = reduce_vector(reduced, matrix[:, i:i+1])\n",
    "        reduced = np.concatenate([reduced, reduced_vector], axis=1)\n",
    "    return reduced[:, -num_vector:]\n",
    "\n",
    "def get_rank(matrix):\n",
    "    rank = sum(np.apply_along_axis(np.any, 0, matrix).astype(np.int8))\n",
    "    return rank\n",
    "\n",
    "def steenrod_curve(barcode, steenrod_reps, filtration, reduced):\n",
    "\n",
    "    steenrod_matrix = np.array(steenrod_reps, dtype=np.bool)\n",
    "    births = [triple[0] for triple in barcode] + [len(filtration)]\n",
    "\n",
    "    st_curve = [0]*births[0]\n",
    "    for i, b in enumerate(births[:-1]):\n",
    "        for j in range(b, births[i+1]):\n",
    "            steenrod_matrix[:,:i+1] = reduce_vector(reduced[:,:j], steenrod_matrix[:,:i+1])\n",
    "            st_curve.append(get_rank(steenrod_matrix[:,:i+1]))\n",
    "            \n",
    "    return st_curve"
   ]
  },
  {
   "cell_type": "code",
   "execution_count": 11,
   "metadata": {},
   "outputs": [],
   "source": [
    "def reduce_vector(reduced, vector):\n",
    "    num_col = reduced.shape[1]\n",
    "    i = -1\n",
    "    while i >= -num_col:\n",
    "        if not np.any(vector):\n",
    "            break\n",
    "        else:\n",
    "            piv_v = _pivot(vector)\n",
    "            piv_i = _pivot(reduced[:,i])\n",
    "\n",
    "            if piv_i == piv_v:\n",
    "                vector[:,0] = np.logical_xor(reduced[:,i], vector[:,0])\n",
    "                i = 0\n",
    "            i -= 1\n",
    "    return vector\n",
    "\n",
    "def steenrod_curve(barcode, steenrod_reps, filtration, reduced):\n",
    "    steenrod_matrix = np.array(steenrod_reps)\n",
    "    births = [pair[0] for pair in barcode] + [len(filtration)]\n",
    "    \n",
    "    curve = [0]*births[0]\n",
    "    for i, b in enumerate(births[:-1]):\n",
    "        for j in range(b, births[i+1]):\n",
    "            reducing = np.hstack((reduced[:,:j], steenrod_matrix[:,:i]))\n",
    "            steenrod_matrix[:,i:i+1] = reduce_vector(reducing, steenrod_matrix[:,i:i+1])\n",
    "            curve.append(get_rank(steenrod_matrix[:,:i+1]))\n",
    "                          \n",
    "    return curve"
   ]
  },
  {
   "cell_type": "markdown",
   "metadata": {},
   "source": [
    "## Main"
   ]
  },
  {
   "cell_type": "code",
   "execution_count": 12,
   "metadata": {
    "scrolled": true
   },
   "outputs": [
    {
     "data": {
      "image/png": "[encoded data removed]",
      "text/plain": [
       "<Figure size 432x288 with 1 Axes>"
      ]
     },
     "metadata": {
      "needs_background": "light"
     },
     "output_type": "display_data"
    },
    {
     "data": {
      "image/png": "[encoded data removed]",
      "text/plain": [
       "<Figure size 432x288 with 1 Axes>"
      ]
     },
     "metadata": {
      "needs_background": "light"
     },
     "output_type": "display_data"
    }
   ],
   "source": [
    "name = '037917'\n",
    "filtration = filtrations[name]\n",
    "coboundary = get_coboundary(filtration)\n",
    "reduced, triangular = get_reduced_triangular(coboundary)\n",
    "barcode = get_barcode(reduced, filtration)\n",
    "coho_reps = get_coho_reps(barcode, reduced, triangular, filtration)\n",
    "\n",
    "for key, betti_curve in betti_curves(barcode, filtration).items():\n",
    "    plot = plt.plot(range(len(filtration)), betti_curve, label=f'dim {key}')\n",
    "    plt.legend()\n",
    "\n",
    "plt.suptitle(f'{name}')    \n",
    "plt.show()\n",
    "\n",
    "for k in range(1,3):\n",
    "    steenrod_reps = get_steenrod_reps(k, coho_reps, filtration)\n",
    "    curve = steenrod_curve(barcode, steenrod_reps, filtration, reduced)\n",
    "    plot = plt.plot(range(len(filtration)), curve, label=f'Sq^{k}')\n",
    "    plt.legend()\n",
    "\n",
    "plt.suptitle(f'{name}')    \n",
    "plt.show()"
   ]
  },
  {
   "cell_type": "code",
   "execution_count": 13,
   "metadata": {},
   "outputs": [
    {
     "name": "stdout",
     "output_type": "stream",
     "text": [
      "196\n"
     ]
    },
    {
     "data": {
      "text/plain": [
       "(7, 16)"
      ]
     },
     "execution_count": 13,
     "metadata": {},
     "output_type": "execute_result"
    }
   ],
   "source": [
    "steenrod_reps = get_steenrod_reps(1, coho_reps, filtration)\n",
    "curve = steenrod_curve(barcode, steenrod_reps, filtration, reduced)\n",
    "\n",
    "index = len(filtration)-curve.index(1)-1\n",
    "print(curve.index(1))\n",
    "filtration[index]\n",
    "\n",
    "barcode.index((196, np.inf))\n",
    "\n",
    "interesting_coho_rep = vector_to_cochain(coho_reps[:,60], filtration)\n",
    "interesting_steenrod_rep = vector_to_cochain(steenrod_reps[:,60], filtration)\n",
    "filtration[index] in interesting_coho_rep\n",
    "filtration[index+3]"
   ]
  },
  {
   "cell_type": "code",
   "execution_count": 14,
   "metadata": {},
   "outputs": [
    {
     "data": {
      "text/plain": [
       "{(4, 12, 14), (4, 13, 14), (4, 13, 15)}"
      ]
     },
     "execution_count": 14,
     "metadata": {},
     "output_type": "execute_result"
    }
   ],
   "source": [
    "def steenrod_curve(barcode, steenrod_reps, filtration, reduced):\n",
    "\n",
    "    steenrod_matrix = np.array(steenrod_reps, dtype=np.bool)\n",
    "    births = [triple[0] for triple in barcode] + [len(filtration)]\n",
    "\n",
    "    st_curve = [0]*births[0]\n",
    "    for i, b in enumerate(births[:-1]):\n",
    "        for j in range(b, births[i+1]):\n",
    "            steenrod_matrix[:,:i+1] = reduce_matrix(reduced[:,:j],steenrod_matrix[:,:i+1])\n",
    "            st_curve.append(get_rank(steenrod_matrix[:,:i+1]))\n",
    "            \n",
    "    return st_curve\n",
    "\n",
    "vector_to_cochain(triangular[:,196], filtration) == vector_to_cochain(coho_reps[:,60], filtration)\n",
    "\n",
    "vector_to_cochain(steenrod_reps[:,60], filtration)\n",
    "\n",
    "vector_to_cochain(reduce_vector(reduced[:,:198], steenrod_reps[:,60:61]), filtration)\n",
    "\n",
    "vector_to_cochain(reduced[:,197:198], filtration)"
   ]
  }
 ],
 "metadata": {
  "kernelspec": {
   "display_name": "Python 3",
   "language": "python",
   "name": "python3"
  },
  "language_info": {
   "codemirror_mode": {
    "name": "ipython",
    "version": 3
   },
   "file_extension": ".py",
   "mimetype": "text/x-python",
   "name": "python",
   "nbconvert_exporter": "python",
   "pygments_lexer": "ipython3",
   "version": "3.7.3"
  }
 },
 "nbformat": 4,
 "nbformat_minor": 2
}
