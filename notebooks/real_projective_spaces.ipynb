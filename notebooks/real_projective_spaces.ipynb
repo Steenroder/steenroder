{
 "cells": [
  {
   "cell_type": "markdown",
   "metadata": {},
   "source": [
    "# Real projective spaces"
   ]
  },
  {
   "cell_type": "code",
   "execution_count": 9,
   "metadata": {},
   "outputs": [],
   "source": [
    "from steenroder import * \n",
    "import pickle as pkl\n",
    "import numpy as np\n",
    "\n",
    "names = ['rp2', 'rp3', 'rp4', \n",
    "         'cone_rp2', 'cone_rp3', 'cone_rp4']"
   ]
  },
  {
   "cell_type": "code",
   "execution_count": 49,
   "metadata": {},
   "outputs": [
    {
     "name": "stdout",
     "output_type": "stream",
     "text": [
      "0\n",
      "0\n",
      "1 0 1\n",
      "0\n",
      "1 0 3\n",
      "1 1 3\n",
      "0\n",
      "1 0 6\n",
      "1 1 6\n",
      "2 2 7 8\n",
      "1 3 6\n",
      "2 5 8 10\n",
      "0\n",
      "1 0 12\n",
      "1 1 12\n",
      "1 3 12\n",
      "2 4 13 15\n",
      "2 5 14 15\n",
      "1 6 12\n",
      "2 7 13 18\n",
      "0\n",
      "1 0 20\n",
      "1 1 20\n",
      "2 2 21 22\n",
      "1 3 20\n",
      "2 4 21 24\n",
      "1 6 20\n",
      "2 10 24 26\n",
      "1 12 20\n",
      "2 14 22 28\n",
      "2 18 26 28\n"
     ]
    }
   ],
   "source": [
    "name = 'rp2'\n",
    "filtration = pkl.load(open(\"../data/\"+name+\".pkl\", \"rb\"))\n",
    "\n",
    "boundary_matrix = get_boundary(filtration)\n",
    "\n",
    "for boundary in boundary_matrix.T:\n",
    "    sum = np.sum(boundary)\n",
    "    if sum == 0:\n",
    "        dim = 0;\n",
    "        boundary_indices = []\n",
    "    else:\n",
    "        dim = sum - 1\n",
    "        boundary_indices = np.argwhere(boundary).T.reshape(-1, )\n",
    "    print(dim, *boundary_indices)"
   ]
  },
  {
   "cell_type": "code",
   "execution_count": 71,
   "metadata": {},
   "outputs": [
    {
     "name": "stdout",
     "output_type": "stream",
     "text": [
      "# dim 0\n",
      "1\n",
      "30 inf\n",
      "# dim 1\n",
      "6\n",
      "9 10\n",
      "17 18\n",
      "23 24\n",
      "25 inf\n",
      "26 27\n",
      "28 29\n",
      "# dim 2\n",
      "10\n",
      "0 inf\n",
      "1 2\n",
      "3 4\n",
      "5 6\n",
      "7 8\n",
      "11 12\n",
      "13 16\n",
      "14 15\n",
      "19 20\n",
      "21 22\n"
     ]
    }
   ],
   "source": [
    "k = 1\n",
    "\n",
    "coho_barcode, st_barcode = barcodes(k, filtration)\n",
    "coho_reps = get_coho_reps(filtration, barcode=barcode)\n",
    "\n",
    "n_columns = len(filtration)\n",
    "coho_bar_per_dim = {dim : [] for dim in range(0, max([len(simplex) for simplex in filtration]))}\n",
    "\n",
    "for bar in coho_barcode:\n",
    "    birth = n_columns - bar[0] - 1\n",
    "\n",
    "    sum = np.sum(boundary_matrix.T[birth])\n",
    "    if sum == 0:\n",
    "        dim = 0;\n",
    "        boundary_indices = []\n",
    "    else:\n",
    "        dim = sum - 1\n",
    "    coho_bar_per_dim[dim].append(bar)\n",
    "\n",
    "for dim in coho_bar_per_dim.keys():\n",
    "    print('# dim', dim)\n",
    "    print(len(coho_bar_per_dim[dim]))\n",
    "    for bar in coho_bar_per_dim[dim]:\n",
    "          print(*bar)\n"
   ]
  },
  {
   "cell_type": "code",
   "execution_count": 72,
   "metadata": {},
   "outputs": [
    {
     "name": "stdout",
     "output_type": "stream",
     "text": [
      "# dim 2\n",
      "1\n",
      "25 inf\n"
     ]
    }
   ],
   "source": [
    "st_bar_per_dim = {dim : [] for dim in range(1, max([len(simplex)-1 for simplex in filtration]))}\n",
    "\n",
    "for bar in st_barcode:\n",
    "    birth = n_columns - bar[0] - 1\n",
    "\n",
    "    sum = np.sum(boundary_matrix.T[birth])\n",
    "    if sum == 0:\n",
    "        dim = 0;\n",
    "        boundary_indices = []\n",
    "    else:\n",
    "        dim = sum - 1\n",
    "    st_bar_per_dim[dim].append(bar)\n",
    "    \n",
    "for dim in st_bar_per_dim.keys():\n",
    "    print('# dim', dim+k)\n",
    "    print(len(st_bar_per_dim[dim]))\n",
    "\n",
    "    for bar in st_bar_per_dim[dim]:\n",
    "          print(*bar)"
   ]
  },
  {
   "cell_type": "code",
   "execution_count": null,
   "metadata": {},
   "outputs": [],
   "source": [
    "st_bar_per_dim = {dim : [] for dim in range(1, max([len(simplex)-1 for simplex in filtration]))}\n",
    "\n",
    "for bar in st_barcode:\n",
    "    birth = n_columns - bar[0] - 1\n",
    "\n",
    "    sum = np.sum(boundary_matrix.T[birth])\n",
    "    if sum == 0:\n",
    "        dim = 0;\n",
    "        boundary_indices = []\n",
    "    else:\n",
    "        dim = sum - 1\n",
    "    st_bar_per_dim[dim].append(bar)\n",
    "    \n",
    "for dim in st_bar_per_dim.keys():\n",
    "    print('# dim', dim+k)\n",
    "    print(len(st_bar_per_dim[dim]))\n",
    "\n",
    "    for bar in st_bar_per_dim[dim]:\n",
    "          print(*bar)"
   ]
  },
  {
   "cell_type": "code",
   "execution_count": 14,
   "metadata": {},
   "outputs": [
    {
     "name": "stdout",
     "output_type": "stream",
     "text": [
      "[(0, inf), (1, 2), (3, 4), (5, 6), (7, 8), (9, 10), (11, 12), (13, 16), (14, 15), (17, 18), (19, 20), (21, 22), (23, 24), (25, inf), (26, 27), (28, 29), (30, inf)]\n",
      "(0, inf) :\n",
      " set()\n",
      "(25, inf) :\n",
      " {(2, 3, 4), (3, 4, 6), (2, 5, 6)}\n",
      "(30, inf) :\n",
      " set()\n"
     ]
    }
   ],
   "source": [
    "filtration = pkl.load(open(\"../data/\"+ name +\".pkl\", \"rb\"))\n",
    "\n",
    "barcode, st_barcode = barcodes(k, filtration)\n",
    "st_reps = get_st_reps(filtration, k)\n",
    "\n",
    "print(barcode)\n",
    "\n",
    "for i in [0, 13, -1]:\n",
    "    print(barcode[i], ':\\n', vector_to_cochain(filtration, st_reps[:,i]))"
   ]
  },
  {
   "cell_type": "code",
   "execution_count": 7,
   "metadata": {},
   "outputs": [
    {
     "name": "stdout",
     "output_type": "stream",
     "text": [
      "((1,), (2,), (1, 2), (3,), (1, 3), (2, 3), (4,), (1, 4), (2, 4), (1, 2, 4), (3, 4), (2, 3, 4), (5,), (1, 5), (2, 5), (3, 5), (1, 3, 5), (2, 3, 5), (4, 5), (1, 4, 5), (6,), (1, 6), (2, 6), (1, 2, 6), (3, 6), (1, 3, 6), (4, 6), (3, 4, 6), (5, 6), (2, 5, 6), (4, 5, 6))\n"
     ]
    }
   ],
   "source": [
    "print(filtration)"
   ]
  }
 ],
 "metadata": {
  "kernelspec": {
   "display_name": "Python 3",
   "language": "python",
   "name": "python3"
  },
  "language_info": {
   "codemirror_mode": {
    "name": "ipython",
    "version": 3
   },
   "file_extension": ".py",
   "mimetype": "text/x-python",
   "name": "python",
   "nbconvert_exporter": "python",
   "pygments_lexer": "ipython3",
   "version": "3.8.2"
  }
 },
 "nbformat": 4,
 "nbformat_minor": 2
}
