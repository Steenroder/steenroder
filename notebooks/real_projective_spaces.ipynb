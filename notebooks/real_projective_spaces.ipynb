{
 "cells": [
  {
   "cell_type": "markdown",
   "metadata": {},
   "source": [
    "# Real projective spaces"
   ]
  },
  {
   "cell_type": "code",
   "execution_count": null,
   "metadata": {},
   "outputs": [],
   "source": [
    "from steenroder import * \n",
    "import pickle as pkl\n",
    "import numpy as np\n",
    "\n",
    "names = ['rp2', 'rp3', 'rp4', \n",
    "         'cone_rp2', 'cone_rp3', 'cone_rp4']"
   ]
  },
  {
   "cell_type": "code",
   "execution_count": null,
   "metadata": {},
   "outputs": [],
   "source": [
    "name = 'rp2'\n",
    "filtration = pkl.load(open(name + \".pkl\", \"rb\"))\n",
    "k = 1\n",
    "\n",
    "coho_barcode, st_barcode = barcodes(k, filtration)\n",
    "coho_reps = get_coho_reps(filtration, barcode=coho_barcode)\n",
    "st_reps = get_st_reps(filtration, k)\n",
    "n_columns = len(filtration)\n",
    "\n",
    "boundary_matrix = get_boundary(filtration)\n",
    "\n",
    "for boundary in boundary_matrix.T:\n",
    "    sum = np.sum(boundary)\n",
    "    if sum == 0:\n",
    "        dim = 0;\n",
    "        boundary_indices = []\n",
    "    else:\n",
    "        dim = sum - 1\n",
    "        boundary_indices = np.argwhere(boundary).T.reshape(-1, )\n",
    "    print(dim, *boundary_indices)"
   ]
  },
  {
   "cell_type": "code",
   "execution_count": null,
   "metadata": {},
   "outputs": [],
   "source": [
    "coho_bar_per_dim = {dim : [] for dim in range(0, max([len(simplex) for simplex in filtration]))}\n",
    "\n",
    "for bar in coho_barcode:\n",
    "    birth = n_columns - bar[0] - 1\n",
    "\n",
    "    sum = np.sum(boundary_matrix.T[birth])\n",
    "    if sum == 0:\n",
    "        dim = 0;\n",
    "        boundary_indices = []\n",
    "    else:\n",
    "        dim = sum - 1\n",
    "    coho_bar_per_dim[dim].append(bar)\n",
    "\n",
    "for dim in coho_bar_per_dim.keys():\n",
    "    print('# dim', dim)\n",
    "    print(len(coho_bar_per_dim[dim]))\n",
    "    for bar in coho_bar_per_dim[dim]:\n",
    "          print(*bar)"
   ]
  },
  {
   "cell_type": "code",
   "execution_count": null,
   "metadata": {},
   "outputs": [],
   "source": [
    "st_bar_per_dim = {dim : [] for dim in range(1, max([len(simplex)-1 for simplex in filtration]))}\n",
    "\n",
    "for bar in st_barcode:\n",
    "    birth = n_columns - bar[0] - 1\n",
    "\n",
    "    sum = np.sum(boundary_matrix.T[birth])\n",
    "    if sum == 0:\n",
    "        dim = 0;\n",
    "        boundary_indices = []\n",
    "    else:\n",
    "        dim = sum - 1\n",
    "    st_bar_per_dim[dim].append(bar)\n",
    "    \n",
    "for dim in st_bar_per_dim.keys():\n",
    "    print('# dim', dim+k)\n",
    "    print(len(st_bar_per_dim[dim]))\n",
    "\n",
    "    for bar in st_bar_per_dim[dim]:\n",
    "          print(*bar)"
   ]
  },
  {
   "cell_type": "markdown",
   "metadata": {},
   "source": [
    "#### Representatives of cohomology classes"
   ]
  },
  {
   "cell_type": "code",
   "execution_count": null,
   "metadata": {},
   "outputs": [],
   "source": [
    "for coho_rep, bar in zip(coho_reps.T, barcode):\n",
    "    birth = bar[0]\n",
    "    coho_rep_indices = np.argwhere(coho_rep).T.reshape(-1, )\n",
    "    degree = len(filtration[- birth - 1]) - 1\n",
    "    print(degree, *coho_rep_indices)"
   ]
  },
  {
   "cell_type": "markdown",
   "metadata": {},
   "source": [
    "#### Representative of non-zero steenrod representatives"
   ]
  },
  {
   "cell_type": "code",
   "execution_count": null,
   "metadata": {},
   "outputs": [],
   "source": [
    "for st_rep, bar in zip(st_reps.T, barcode):\n",
    "    birth = bar[0]\n",
    "    st_rep_indices = np.argwhere(st_rep).T.reshape(-1, )\n",
    "    degree = len(filtration[- birth - 1]) - 1 + k\n",
    "    if any(st_rep_indices):\n",
    "        print(degree, *st_rep_indices)"
   ]
  }
 ],
 "metadata": {
  "kernelspec": {
   "display_name": "Python 3",
   "language": "python",
   "name": "python3"
  },
  "language_info": {
   "codemirror_mode": {
    "name": "ipython",
    "version": 3
   },
   "file_extension": ".py",
   "mimetype": "text/x-python",
   "name": "python",
   "nbconvert_exporter": "python",
   "pygments_lexer": "ipython3",
   "version": "3.7.3"
  }
 },
 "nbformat": 4,
 "nbformat_minor": 2
}
