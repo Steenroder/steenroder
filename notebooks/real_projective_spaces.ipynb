{
 "cells": [
  {
   "cell_type": "markdown",
   "metadata": {},
   "source": [
    "# Real projective spaces"
   ]
  },
  {
   "cell_type": "code",
<<<<<<< HEAD
<<<<<<< HEAD
   "execution_count": 1,
=======
   "execution_count": 9,
>>>>>>> cbc375b91da1a1b7050aaee5b6c25c8fd8f18a9a
=======
   "execution_count": null,
>>>>>>> 891a94a3f13f21bb9118f4ea20ac7e6fb510259c
   "metadata": {},
   "outputs": [],
   "source": [
    "from steenroder import * \n",
    "import pickle as pkl\n",
    "import numpy as np\n",
    "\n",
    "names = ['rp2', 'rp3', 'rp4', \n",
    "         'cone_rp2', 'cone_rp3', 'cone_rp4']"
   ]
  },
  {
   "cell_type": "code",
<<<<<<< HEAD
<<<<<<< HEAD
   "execution_count": 35,
   "metadata": {},
   "outputs": [],
   "source": [
    "k = 1 # Steenrod Sq^k\n",
    "name = 'rp2'\n",
    "\n",
    "filtration = pkl.load(open(name + \".pkl\", \"rb\"))\n",
    "\n",
    "barcode, st_barcode = barcodes(k, filtration)\n",
    "coho_reps = get_coho_reps(filtration, barcode=barcode)\n",
    "st_reps = get_st_reps(filtration, k)"
=======
   "execution_count": 49,
=======
   "execution_count": null,
>>>>>>> 891a94a3f13f21bb9118f4ea20ac7e6fb510259c
   "metadata": {},
   "outputs": [],
   "source": [
    "name = 'rp2'\n",
    "path = '../data/'\n",
    "filtration = pkl.load(open(path+name+\".pkl\", \"rb\"))\n",
    "k = 1\n",
    "\n",
    "coho_barcode, st_barcode = barcodes(k, filtration)\n",
    "coho_reps = get_coho_reps(filtration, barcode=coho_barcode)\n",
    "st_reps = get_st_reps(filtration, k)\n",
    "n_columns = len(filtration)\n",
    "\n",
    "boundary_matrix = get_boundary(filtration)\n",
    "\n",
    "for boundary in boundary_matrix.T:\n",
    "    sum = np.sum(boundary)\n",
    "    if sum == 0:\n",
    "        dim = 0;\n",
    "        boundary_indices = []\n",
    "    else:\n",
    "        dim = sum - 1\n",
    "        boundary_indices = np.argwhere(boundary).T.reshape(-1, )\n",
    "    print(dim, *boundary_indices)"
   ]
  },
  {
   "cell_type": "code",
   "execution_count": null,
   "metadata": {},
   "outputs": [],
   "source": [
    "coho_bar_per_dim = {dim : [] for dim in range(0, max([len(simplex) for simplex in filtration]))}\n",
    "\n",
    "for bar in coho_barcode:\n",
    "    birth = n_columns - bar[0] - 1\n",
    "\n",
    "    sum = np.sum(boundary_matrix.T[birth])\n",
    "    if sum == 0:\n",
    "        dim = 0;\n",
    "        boundary_indices = []\n",
    "    else:\n",
    "        dim = sum - 1\n",
    "    coho_bar_per_dim[dim].append(bar)\n",
    "\n",
    "for dim in coho_bar_per_dim.keys():\n",
    "    print('# dim', dim)\n",
    "    print(len(coho_bar_per_dim[dim]))\n",
    "    for bar in coho_bar_per_dim[dim]:\n",
    "          print(*bar)\n"
   ]
  },
  {
   "cell_type": "code",
   "execution_count": null,
   "metadata": {},
   "outputs": [],
   "source": [
    "st_bar_per_dim = {dim : [] for dim in range(1, max([len(simplex)-1 for simplex in filtration]))}\n",
    "\n",
    "for bar in st_barcode:\n",
    "    birth = n_columns - bar[0] - 1\n",
    "\n",
    "    sum = np.sum(boundary_matrix.T[birth])\n",
    "    if sum == 0:\n",
    "        dim = 0;\n",
    "        boundary_indices = []\n",
    "    else:\n",
    "        dim = sum - 1\n",
    "    st_bar_per_dim[dim].append(bar)\n",
    "    \n",
    "for dim in st_bar_per_dim.keys():\n",
    "    print('# dim', dim+k)\n",
    "    print(len(st_bar_per_dim[dim]))\n",
    "\n",
    "    for bar in st_bar_per_dim[dim]:\n",
    "          print(*bar)"
   ]
  },
  {
   "cell_type": "code",
   "execution_count": null,
   "metadata": {},
   "outputs": [],
   "source": [
    "coho_reps_per_dim = {dim : [] for dim in range(0, max([len(simplex) for simplex in filtration]))}\n",
    "\n",
    "for bar in coho_barcode:\n",
    "    birth = n_columns - bar[0] - 1\n",
    "\n",
    "    sum = np.sum(boundary_matrix.T[birth])\n",
    "    if sum == 0:\n",
    "        dim = 0;\n",
    "        boundary_indices = []\n",
    "    else:\n",
    "        dim = sum - 1\n",
    "    coho_bar_per_dim[dim].append(bar)\n",
    "\n",
    "for dim in coho_bar_per_dim.keys():\n",
    "    print('# dim', dim)\n",
    "    print(len(coho_bar_per_dim[dim]))\n",
    "    for bar in coho_bar_per_dim[dim]:\n",
    "          print(*bar)"
   ]
  },
  {
   "cell_type": "code",
   "execution_count": null,
   "metadata": {},
   "outputs": [],
   "source": [
    "filtration = pkl.load(open(\"../data/\"+ name +\".pkl\", \"rb\"))\n",
    "\n",
    "barcode, st_barcode = barcodes(k, filtration)\n",
    "st_reps = get_st_reps(filtration, k)\n",
    "\n",
    "print(barcode)\n",
    "\n",
    "for i in [0, 13, -1]:\n",
    "    print(barcode[i], ':\\n', vector_to_cochain(filtration, st_reps[:,i]))"
   ]
  },
  {
   "cell_type": "code",
   "execution_count": null,
   "metadata": {},
   "outputs": [],
   "source": [
    "print(filtration)"
>>>>>>> cbc375b91da1a1b7050aaee5b6c25c8fd8f18a9a
   ]
  }
 ],
 "metadata": {
  "kernelspec": {
   "display_name": "Python 3",
   "language": "python",
   "name": "python3"
  },
  "language_info": {
   "codemirror_mode": {
    "name": "ipython",
    "version": 3
   },
   "file_extension": ".py",
   "mimetype": "text/x-python",
   "name": "python",
   "nbconvert_exporter": "python",
   "pygments_lexer": "ipython3",
   "version": "3.8.2"
  }
 },
 "nbformat": 4,
 "nbformat_minor": 2
}
