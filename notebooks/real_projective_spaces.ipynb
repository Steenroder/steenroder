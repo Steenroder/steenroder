{
 "cells": [
  {
   "cell_type": "markdown",
   "metadata": {},
   "source": [
    "# Real projective spaces"
   ]
  },
  {
   "cell_type": "code",
   "execution_count": 1,
   "metadata": {},
   "outputs": [],
   "source": [
    "from steenroder import * \n",
    "import pickle as pkl\n",
    "import numpy as np\n",
    "\n",
    "names = ['rp2', 'rp3', 'rp4', \n",
    "         'cone_rp2', 'cone_rp3', 'cone_rp4']"
   ]
  },
  {
   "cell_type": "code",
   "execution_count": 35,
   "metadata": {},
   "outputs": [],
   "source": [
    "k = 1 # Steenrod Sq^k\n",
    "name = 'rp2'\n",
    "\n",
    "filtration = pkl.load(open(name + \".pkl\", \"rb\"))\n",
    "\n",
    "barcode, st_barcode = barcodes(k, filtration)\n",
    "coho_reps = get_coho_reps(filtration, barcode=barcode)\n",
    "st_reps = get_st_reps(filtration, k)"
   ]
  }
 ],
 "metadata": {
  "kernelspec": {
   "display_name": "Python 3",
   "language": "python",
   "name": "python3"
  },
  "language_info": {
   "codemirror_mode": {
    "name": "ipython",
    "version": 3
   },
   "file_extension": ".py",
   "mimetype": "text/x-python",
   "name": "python",
   "nbconvert_exporter": "python",
   "pygments_lexer": "ipython3",
   "version": "3.7.3"
  }
 },
 "nbformat": 4,
 "nbformat_minor": 2
}
