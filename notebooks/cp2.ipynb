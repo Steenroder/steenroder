{
 "cells": [
  {
   "cell_type": "code",
   "execution_count": null,
   "id": "encouraging-gauge",
   "metadata": {},
   "outputs": [],
   "source": [
    "from itertools import combinations\n",
    "from steenroder import *\n",
    "import pickle as pkl\n",
    "\n",
    "def print_barcodes(filtration, k):\n",
    "    barcode, st_barcode = barcodes(k, filtration)\n",
    "    print(f'Regular (infinite only):')\n",
    "    for d, bars in enumerate(barcode):\n",
    "        print(d, bars[np.where(bars == -1)[0],:])\n",
    "    print(f'Sq^{k}:')\n",
    "    for d, bars in enumerate(st_barcode):\n",
    "        print(d, bars)\n",
    "\n",
    "def compute_st_matrix(filtration, k):\n",
    "    filtration_by_dim = sort_filtration_by_dim(filtration)\n",
    "    spx2idx, idxs, reduced, triangular = get_reduced_triangular(filtration_by_dim)\n",
    "    barcode, coho_reps = get_barcode_and_coho_reps(idxs, reduced, triangular)\n",
    "    steenrod_matrix = get_steenrod_matrix(k, coho_reps, filtration_by_dim, spx2idx)\n",
    "    return steenrod_matrix"
   ]
  },
  {
   "cell_type": "markdown",
   "id": "supported-buddy",
   "metadata": {},
   "source": [
    "## $S^2 \\vee S^4$ vs $\\mathbb CP^2$"
   ]
  },
  {
   "cell_type": "code",
   "execution_count": null,
   "id": "violent-local",
   "metadata": {},
   "outputs": [],
   "source": [
    "print('Persistent relative cohomology:')\n",
    "print('S^2 v S^4:')\n",
    "s2_s4 = pkl.load(open(\"data/s2_s4.pkl\", \"rb\"))\n",
    "print_barcodes(s2_s4, 2)\n",
    "print('CP^2:')\n",
    "cp2 = pkl.load(open(\"data/cp2.pkl\", \"rb\"))\n",
    "print_barcodes(cp2, 2)"
   ]
  },
  {
   "cell_type": "markdown",
   "id": "metallic-wisconsin",
   "metadata": {},
   "source": [
    "## $\\Sigma(S^2 \\vee S^4)$ vs $\\Sigma\\mathbb CP^2$"
   ]
  },
  {
   "cell_type": "code",
   "execution_count": null,
   "id": "functioning-active",
   "metadata": {},
   "outputs": [],
   "source": [
    "print('suspension of S^2 v S^4:')\n",
    "sus_s2_s4 = pkl.load(open(\"data/sus_s2_s4.pkl\", \"rb\"))\n",
    "print_barcodes(sus_s2_s4, 2)\n",
    "print('suspension of CP^2:')\n",
    "sus_cp2 = pkl.load(open(\"data/sus_cp2.pkl\", \"rb\"))\n",
    "print_barcodes(sus_cp2, 2)"
   ]
  },
  {
   "cell_type": "code",
   "execution_count": null,
   "id": "helpful-amateur",
   "metadata": {},
   "outputs": [],
   "source": [
    "# Plotting - Seaborn plugins\n",
    "import seaborn as sns\n",
    "sns.set_theme()\n",
    "sns.set_style(\"whitegrid\")\n",
    "sns.set_style(\"ticks\")\n",
    "sns.set_palette(\"bright\")\n",
    "\n",
    "import matplotlib.pyplot as plt\n",
    "from matplotlib.collections import LineCollection\n",
    "\n",
    "import matplotlib\n",
    "matplotlib.rcParams['text.usetex'] = True\n",
    "matplotlib.rcParams['font.family'] = \"serif\"\n",
    "matplotlib.rcParams['font.style'] = \"normal\"\n",
    "matplotlib.rcParams['font.variant'] = \"normal\"\n",
    "\n",
    "matplotlib.rcParams['font.serif'] = \"Computer Modern Roman\""
   ]
  }
 ],
 "metadata": {
  "kernelspec": {
   "display_name": "Python 3",
   "language": "python",
   "name": "python3"
  },
  "language_info": {
   "codemirror_mode": {
    "name": "ipython",
    "version": 3
   },
   "file_extension": ".py",
   "mimetype": "text/x-python",
   "name": "python",
   "nbconvert_exporter": "python",
   "pygments_lexer": "ipython3",
   "version": "3.9.1"
  }
 },
 "nbformat": 4,
 "nbformat_minor": 5
}
