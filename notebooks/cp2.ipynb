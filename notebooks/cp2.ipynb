{
 "cells": [
  {
   "cell_type": "code",
   "execution_count": null,
   "id": "encouraging-gauge",
   "metadata": {},
   "outputs": [],
   "source": [
    "from itertools import combinations\n",
    "from steenroder import *"
   ]
  },
  {
   "cell_type": "markdown",
   "id": "supported-buddy",
   "metadata": {},
   "source": [
    "## $\\mathbb CP^2$"
   ]
  },
  {
   "cell_type": "code",
   "execution_count": null,
   "id": "alive-pattern",
   "metadata": {},
   "outputs": [],
   "source": [
    "top_cp2 = [\n",
    "    (1, 2, 4, 5, 6), (2, 3, 5, 6, 4), (3, 1, 6, 4, 5),\n",
    "    (1, 2, 4, 5, 9), (2, 3, 5, 6, 7), (3, 1, 6, 4, 8),\n",
    "    (2, 3, 6, 4, 9), (3, 1, 4, 5, 7), (1, 2, 5, 6, 8),\n",
    "    (3, 1, 5, 6, 9), (1, 2, 6, 4, 7), (2, 3, 4, 5, 8),\n",
    "    (4, 5, 7, 8, 9), (5, 6, 8, 9, 7), (6, 4, 9, 7, 8),\n",
    "    (4, 5, 7, 8, 3), (5, 6, 8, 9, 1), (6, 4, 9, 7, 2),\n",
    "    (5, 6, 9, 7, 3), (6, 4, 7, 8, 1), (4, 5, 8, 9, 2),\n",
    "    (6, 4, 8, 9, 3), (4, 5, 9, 7, 1), (5, 6, 7, 8, 2),\n",
    "    (7, 8, 1, 2, 3), (8, 9, 2, 3, 1), (9, 7, 3, 1, 2),\n",
    "    (7, 8, 1, 2, 6), (8, 9, 2, 3, 4), (9, 7, 3, 1, 5),\n",
    "    (8, 9, 3, 1, 6), (9, 7, 1, 2, 4), (7, 8, 2, 3, 5),\n",
    "    (9, 7, 2, 3, 6), (7, 8, 3, 1, 4), (8, 9, 1, 2, 5)\n",
    "]"
   ]
  },
  {
   "cell_type": "code",
   "execution_count": null,
   "id": "frank-basis",
   "metadata": {},
   "outputs": [],
   "source": [
    "simplices = [set() for _ in range(6)]\n",
    "for top_spx in top_cp2:\n",
    "    for d in range(5):\n",
    "        d_spxs = set(tuple(sorted(spx)) for spx in combinations(top_spx, d+1))\n",
    "        simplices[d] |= d_spxs\n",
    "        \n",
    "filtration = []\n",
    "for d in range(5):\n",
    "    filtration += list(simplices[d])"
   ]
  },
  {
   "cell_type": "code",
   "execution_count": null,
   "id": "fluid-spectacular",
   "metadata": {},
   "outputs": [],
   "source": [
    "from gudhi import SimplexTree\n",
    "from random import shuffle\n",
    "\n",
    "st = SimplexTree()\n",
    "shuffle(filtration)\n",
    "for spx in filtration:\n",
    "    st.insert(spx)\n",
    "\n",
    "st.make_filtration_non_decreasing()\n",
    "filtration = [pair[0] for pair in st.get_filtration()]"
   ]
  },
  {
   "cell_type": "code",
   "execution_count": null,
   "id": "heard-stress",
   "metadata": {},
   "outputs": [],
   "source": [
    "k = 2\n",
    "barcode, st_barcode = barcodes(k, filtration)\n",
    "\n",
    "print('Infinite barcodes (relative cohomology):')\n",
    "print(f'Regular:')\n",
    "for d, bars in enumerate(barcode):\n",
    "    print(d, bars[np.where(bars == -1)[0],:])\n",
    "print(f'Sq^{k}:')\n",
    "for d, bars in enumerate(st_barcode):\n",
    "    print(d, bars[np.where(bars == -1)[0],:])"
   ]
  },
  {
   "cell_type": "code",
   "execution_count": null,
   "id": "retired-staff",
   "metadata": {},
   "outputs": [],
   "source": [
    "filtration_by_dim = sort_filtration_by_dim(filtration)\n",
    "spx2idx, idxs, reduced, triangular = get_reduced_triangular(filtration_by_dim)\n",
    "barcode, coho_reps = get_barcode_and_coho_reps(idxs, reduced, triangular)\n",
    "steenrod_matrix = get_steenrod_matrix(k, coho_reps, filtration_by_dim, spx2idx)"
   ]
  },
  {
   "cell_type": "markdown",
   "id": "superb-cliff",
   "metadata": {},
   "source": [
    "## $S^4 \\vee S^2$"
   ]
  },
  {
   "cell_type": "code",
   "execution_count": null,
   "id": "regulation-firewall",
   "metadata": {},
   "outputs": [],
   "source": [
    "wedge = []\n",
    "n = 2\n",
    "for d in range(1, n+2):\n",
    "    for spx in combinations(range(n+2),d):\n",
    "        wedge.append(spx)\n",
    "for d in range(1, n+4):\n",
    "    for spx in combinations(range(n+1,2*n+5),d):\n",
    "        wedge.append(spx)\n",
    "wedge.pop(3)  # included (3,) twice... remove to glue"
   ]
  },
  {
   "cell_type": "code",
   "execution_count": null,
   "id": "mineral-cleaners",
   "metadata": {},
   "outputs": [],
   "source": [
    "k = 2\n",
    "barcode, st_barcode = barcodes(k, wedge)\n",
    "\n",
    "print('Infinite barcodes (relative cohomology):')\n",
    "print(f'Regular:')\n",
    "for d, bars in enumerate(barcode):\n",
    "    print(d, bars[np.where(bars == -1)[0],:])\n",
    "# print(f'Sq^{k}:')\n",
    "# for d, bars in enumerate(st_barcode):\n",
    "#     print(d, bars[np.where(bars == -1)[0],:])"
   ]
  }
 ],
 "metadata": {
  "kernelspec": {
   "display_name": "Python 3",
   "language": "python",
   "name": "python3"
  },
  "language_info": {
   "codemirror_mode": {
    "name": "ipython",
    "version": 3
   },
   "file_extension": ".py",
   "mimetype": "text/x-python",
   "name": "python",
   "nbconvert_exporter": "python",
   "pygments_lexer": "ipython3",
   "version": "3.9.1"
  }
 },
 "nbformat": 4,
 "nbformat_minor": 5
}
