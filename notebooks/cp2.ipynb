{
 "cells": [
  {
   "cell_type": "markdown",
   "id": "alien-benchmark",
   "metadata": {},
   "source": [
    "# Complex projective space and a wedge of spheres"
   ]
  },
  {
   "cell_type": "code",
   "execution_count": null,
   "id": "encouraging-gauge",
   "metadata": {},
   "outputs": [],
   "source": [
    "from steenroder import barcodes, wedge, sphere, suspension, cone\n",
    "from examples import cp2\n",
    "import numpy as np\n",
    "\n",
    "def print_rel_barcodes(k, filtration):\n",
    "    '''Auxiliary function to print outputs in the\n",
    "    persistent relative cohomology context'''\n",
    "    barcode, st_barcode = barcodes(k, filtration)\n",
    "    print(f'*) Regular (infinite only):')\n",
    "    for d, bars in enumerate(barcode):\n",
    "        print(d, bars[np.where(bars == -1)[0],:])\n",
    "    print(f'*) Sq^{k} (non-zero only):')\n",
    "    for d, bars in enumerate(st_barcode):\n",
    "        if bars.size > 0:\n",
    "            print(d, bars)\n",
    "            \n",
    "def print_abs_barcodes(k, filtration, length=1):\n",
    "    '''Auxiliary function to print outputs in the\n",
    "    persistent absolute cohomology context'''\n",
    "    barcode, st_barcode = barcodes(k, filtration, absolute=True)\n",
    "    print(f'*) Regular (length > {length} only):')\n",
    "    for d, bars in enumerate(barcode):\n",
    "        print(d, bars[np.where(bars[:,1]-bars[:,0] > length)])\n",
    "    print(f'*) Sq^{k} (non-zero only):')\n",
    "    for d, bars in enumerate(st_barcode):\n",
    "        if bars.size > 0:\n",
    "            print(d, bars)"
   ]
  },
  {
   "cell_type": "markdown",
   "id": "amino-buyer",
   "metadata": {},
   "source": [
    "We will be mostly interested in $Sq^k$ when $k = 2$."
   ]
  },
  {
   "cell_type": "code",
   "execution_count": null,
   "id": "associate-pursuit",
   "metadata": {},
   "outputs": [],
   "source": [
    "k = 2"
   ]
  },
  {
   "cell_type": "markdown",
   "id": "supported-buddy",
   "metadata": {},
   "source": [
    "## $\\mathbb CP^2$ and $S^2 \\vee S^4$"
   ]
  },
  {
   "cell_type": "code",
   "execution_count": null,
   "id": "violent-local",
   "metadata": {},
   "outputs": [],
   "source": [
    "print('Persistent relative cohomology:')\n",
    "print('\\n**) CP^2:')\n",
    "print_rel_barcodes(k, cp2)\n",
    "print('\\n**) S^2 v S^4:')\n",
    "s2_s4 = wedge(sphere(2), sphere(4))\n",
    "print_rel_barcodes(k, s2_s4)"
   ]
  },
  {
   "cell_type": "markdown",
   "id": "metallic-wisconsin",
   "metadata": {},
   "source": [
    "## $\\Sigma\\mathbb CP^2$ and $\\Sigma(S^2 \\vee S^4)$"
   ]
  },
  {
   "cell_type": "code",
   "execution_count": null,
   "id": "functioning-active",
   "metadata": {},
   "outputs": [],
   "source": [
    "print('Persistent relative cohomology:')\n",
    "print('**) Suspension of CP^2:')\n",
    "sus_cp2 = suspension(cp2)\n",
    "print_rel_barcodes(2, sus_cp2)\n",
    "\n",
    "print('\\n**) Suspension of S^2 v S^4:')\n",
    "sus_s2_s4 = suspension(s2_s4)\n",
    "print_rel_barcodes(2, sus_s2_s4)"
   ]
  },
  {
   "cell_type": "markdown",
   "id": "martial-implement",
   "metadata": {},
   "source": [
    "## $\\mathrm{C}\\,\\Sigma\\,\\mathbb CP^2$ and $\\mathrm{C}\\,\\Sigma(S^2 \\vee S^4)$"
   ]
  },
  {
   "cell_type": "code",
   "execution_count": null,
   "id": "impaired-might",
   "metadata": {
    "scrolled": true
   },
   "outputs": [],
   "source": [
    "print('Persistent absolute cohomology')\n",
    "min_length_bars = 30\n",
    "\n",
    "print('**) Cone on the suspension of CP^2:')\n",
    "cone_sus_cp2 = cone(sus_cp2)\n",
    "print_abs_barcodes(k, cone_sus_cp2, min_length_bars)\n",
    "\n",
    "print('\\n**) Cone on the suspension of S^2 v S^4:')\n",
    "cone_sus_s2_s4 = cone(sus_s2_s4)\n",
    "print_abs_barcodes(k, cone_sus_s2_s4, min_length_bars)"
   ]
  }
 ],
 "metadata": {
  "kernelspec": {
   "display_name": "Python 3",
   "language": "python",
   "name": "python3"
  },
  "language_info": {
   "codemirror_mode": {
    "name": "ipython",
    "version": 3
   },
   "file_extension": ".py",
   "mimetype": "text/x-python",
   "name": "python",
   "nbconvert_exporter": "python",
   "pygments_lexer": "ipython3",
   "version": "3.9.1"
  }
 },
 "nbformat": 4,
 "nbformat_minor": 5
}
