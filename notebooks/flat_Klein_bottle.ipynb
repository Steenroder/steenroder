{
 "cells": [
  {
   "cell_type": "code",
   "execution_count": null,
   "id": "4a77479b",
   "metadata": {},
   "outputs": [],
   "source": [
    "%load_ext autoreload\n",
    "%autoreload 2\n",
    "\n",
    "import numpy as np\n",
    "from numba import njit\n",
    "\n",
    "from scipy.spatial.distance import squareform\n",
    "\n",
    "from gtda.homology import VietorisRipsPersistence\n",
    "\n",
    "from steenroder import *\n",
    "\n",
    "import gudhi"
   ]
  },
  {
   "cell_type": "code",
   "execution_count": null,
   "id": "1cd44b3d",
   "metadata": {},
   "outputs": [],
   "source": [
    "def cartesian_product(*arrays):\n",
    "    la = len(arrays)\n",
    "    dtype = np.result_type(*arrays)\n",
    "    arr = np.empty([len(a) for a in arrays] + [la], dtype=dtype)\n",
    "    for i, a in enumerate(np.ix_(*arrays)):\n",
    "        arr[...,i] = a\n",
    "    return arr.reshape(-1, la)"
   ]
  },
  {
   "cell_type": "code",
   "execution_count": null,
   "id": "f88e9ca0",
   "metadata": {},
   "outputs": [],
   "source": [
    "num = 15\n",
    "print(f\"The total number of vertices is {num**2}\")"
   ]
  },
  {
   "cell_type": "code",
   "execution_count": null,
   "id": "8298bd89",
   "metadata": {},
   "outputs": [],
   "source": [
    "square = cartesian_product(np.linspace(0, 1, num=num), np.linspace(0, 1, num=num))\n",
    "n = len(square)\n",
    "\n",
    "squares = np.tile(square.T, 9).T\n",
    "\n",
    "squares[n:2 * n] += [0, 1]\n",
    "\n",
    "squares[2 * n:3 * n] += [0, -1]\n",
    "\n",
    "squares[3 * n:4 * n] += [1, 0]\n",
    "squares[3 * n:4 * n, 1] *= -1\n",
    "squares[3 * n:4 * n] += [0, 1]\n",
    "\n",
    "squares[4 * n:5 * n] += [-1, 0]\n",
    "squares[4 * n:5 * n, 1] *= -1\n",
    "squares[4 * n:5 * n] += [0, 1]\n",
    "\n",
    "squares[5 * n:6 * n] = squares[3 * n:4 * n] + [0, 1]\n",
    "squares[6 * n:7 * n] = squares[3 * n:4 * n] + [0, -1]\n",
    "\n",
    "squares[7 * n:8 * n] = squares[4 * n:5 * n] + [0, 1]\n",
    "squares[8 * n:9 * n] = squares[4 * n:5 * n] + [0, -1]"
   ]
  },
  {
   "cell_type": "code",
   "execution_count": null,
   "id": "e5628f2a",
   "metadata": {},
   "outputs": [],
   "source": [
    "@njit\n",
    "def compute_flat_kb_db():\n",
    "    dm_condensed = np.empty((n * (n - 1)) // 2, dtype=np.float64)\n",
    "    k = 0\n",
    "    for i in range(n):\n",
    "        x = square[i]\n",
    "        for j in range(i + 1, n):\n",
    "            sq_dists = np.sum((squares[j::n, :] - x) ** 2, axis=1)\n",
    "            dm_condensed[k] = np.min(sq_dists)\n",
    "            k += 1\n",
    "    return np.sqrt(dm_condensed)"
   ]
  },
  {
   "cell_type": "code",
   "execution_count": null,
   "id": "dd756533",
   "metadata": {},
   "outputs": [],
   "source": [
    "VR = VietorisRipsPersistence(homology_dimensions=(0, 1, 2), metric=\"precomputed\")\n",
    "VR.fit_transform_plot([squareform(compute_flat_kb_db())]);"
   ]
  },
  {
   "cell_type": "code",
   "execution_count": null,
   "id": "7c66659d",
   "metadata": {},
   "outputs": [],
   "source": [
    "RC = gudhi.RipsComplex(distance_matrix=squareform(compute_flat_kb_db()), max_edge_length=0.37)"
   ]
  },
  {
   "cell_type": "code",
   "execution_count": null,
   "id": "20121e6b",
   "metadata": {},
   "outputs": [],
   "source": [
    "spx_tree = RC.create_simplex_tree(max_dimension=1)"
   ]
  },
  {
   "cell_type": "code",
   "execution_count": null,
   "id": "a91770ee",
   "metadata": {},
   "outputs": [],
   "source": [
    "spx_tree.collapse_edges(nb_iterations=1)\n",
    "spx_tree.expansion(3)\n",
    "for i, _ in enumerate(spx_tree.get_filtration()):\n",
    "    pass\n",
    "print(f\"There are now {i} simplices.\")"
   ]
  },
  {
   "cell_type": "code",
   "execution_count": null,
   "id": "606a493b",
   "metadata": {},
   "outputs": [],
   "source": [
    "filtration = []\n",
    "filtration_values = []\n",
    "for t in spx_tree.get_filtration():\n",
    "    filtration.append(tuple(t[0]))\n",
    "    filtration_values.append(t[1])\n",
    "filtration_values = np.asarray(filtration_values)"
   ]
  },
  {
   "cell_type": "code",
   "execution_count": null,
   "id": "b3b457c6",
   "metadata": {},
   "outputs": [],
   "source": [
    "barcode, st_barcodes = barcodes(1, filtration, homology=True, filtration_values=filtration_values, return_filtration_values=True)"
   ]
  },
  {
   "cell_type": "code",
   "execution_count": null,
   "id": "196f6cf1",
   "metadata": {},
   "outputs": [],
   "source": [
    "st_barcodes"
   ]
  }
 ],
 "metadata": {
  "kernelspec": {
   "display_name": "Python 3",
   "language": "python",
   "name": "python3"
  },
  "language_info": {
   "codemirror_mode": {
    "name": "ipython",
    "version": 3
   },
   "file_extension": ".py",
   "mimetype": "text/x-python",
   "name": "python",
   "nbconvert_exporter": "python",
   "pygments_lexer": "ipython3",
   "version": "3.8.5"
  }
 },
 "nbformat": 4,
 "nbformat_minor": 5
}
