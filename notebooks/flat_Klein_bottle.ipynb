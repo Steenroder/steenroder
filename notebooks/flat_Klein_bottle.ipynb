{
 "cells": [
  {
   "cell_type": "code",
   "execution_count": null,
   "id": "ad826d81",
   "metadata": {},
   "outputs": [],
   "source": [
    "%load_ext autoreload\n",
    "%autoreload 2\n",
    "\n",
    "import numpy as np\n",
    "from numba import njit\n",
    "\n",
    "from scipy.spatial.distance import squareform\n",
    "\n",
    "from gtda.homology import VietorisRipsPersistence\n",
    "\n",
    "from steenroder import *\n",
    "\n",
    "import gudhi\n",
    "\n",
    "## Uncomment to use giotto-ph\n",
    "# from scipy import sparse as sp\n",
    "# from gph.modules import gph_collapser"
   ]
  },
  {
   "cell_type": "code",
   "execution_count": null,
   "id": "c2df51af",
   "metadata": {},
   "outputs": [],
   "source": [
    "def cartesian_product(*arrays):\n",
    "    la = len(arrays)\n",
    "    dtype = np.result_type(*arrays)\n",
    "    arr = np.empty([len(a) for a in arrays] + [la], dtype=dtype)\n",
    "    for i, a in enumerate(np.ix_(*arrays)):\n",
    "        arr[...,i] = a\n",
    "    return arr.reshape(-1, la)"
   ]
  },
  {
   "cell_type": "code",
   "execution_count": null,
   "id": "9f01f096",
   "metadata": {},
   "outputs": [],
   "source": [
    "num = 15\n",
    "print(f\"The total number of vertices is {num**2}\")"
   ]
  },
  {
   "cell_type": "code",
   "execution_count": null,
   "id": "b97af449",
   "metadata": {},
   "outputs": [],
   "source": [
    "square = cartesian_product(np.linspace(0, 1, num=num, endpoint=False), np.linspace(0, 1, num=num, endpoint=False))\n",
    "n = len(square)\n",
    "\n",
    "squares = np.tile(square.T, 9).T\n",
    "\n",
    "squares[n:2 * n] += [0, 1]\n",
    "\n",
    "squares[2 * n:3 * n] += [0, -1]\n",
    "\n",
    "squares[3 * n:4 * n] += [1, 0]\n",
    "squares[3 * n:4 * n, 1] *= -1\n",
    "squares[3 * n:4 * n] += [0, 1]\n",
    "\n",
    "squares[4 * n:5 * n] += [-1, 0]\n",
    "squares[4 * n:5 * n, 1] *= -1\n",
    "squares[4 * n:5 * n] += [0, 1]\n",
    "\n",
    "squares[5 * n:6 * n] = squares[3 * n:4 * n] + [0, 1]\n",
    "squares[6 * n:7 * n] = squares[3 * n:4 * n] + [0, -1]\n",
    "\n",
    "squares[7 * n:8 * n] = squares[4 * n:5 * n] + [0, 1]\n",
    "squares[8 * n:9 * n] = squares[4 * n:5 * n] + [0, -1]"
   ]
  },
  {
   "cell_type": "code",
   "execution_count": null,
   "id": "445ccdaf",
   "metadata": {},
   "outputs": [],
   "source": [
    "@njit\n",
    "def compute_flat_kb_db():\n",
    "    dm_condensed = np.empty((n * (n - 1)) // 2, dtype=np.float64)\n",
    "    k = 0\n",
    "    for i in range(n):\n",
    "        x = square[i]\n",
    "        for j in range(i + 1, n):\n",
    "            sq_dists = np.sum((squares[j::n, :] - x) ** 2, axis=1)\n",
    "            dm_condensed[k] = np.min(sq_dists)\n",
    "            k += 1\n",
    "    return np.sqrt(dm_condensed)"
   ]
  },
  {
   "cell_type": "code",
   "execution_count": null,
   "id": "e4846abb-50ed-4da0-9b42-df1311e936ac",
   "metadata": {},
   "outputs": [],
   "source": [
    "dm = squareform(compute_flat_kb_db())"
   ]
  },
  {
   "cell_type": "code",
   "execution_count": null,
   "id": "44a9bbab",
   "metadata": {},
   "outputs": [],
   "source": [
    "VR = VietorisRipsPersistence(homology_dimensions=(0, 1, 2), metric=\"precomputed\")\n",
    "VR.fit_transform_plot([dm]);"
   ]
  },
  {
   "cell_type": "code",
   "execution_count": null,
   "id": "f0847cdc-d472-4869-88aa-c2ca68d32b90",
   "metadata": {},
   "outputs": [],
   "source": [
    "## Uncomment if using giotto-ph\n",
    "# row, col, data = gph_collapser.flag_complex_collapse_edges_dense(dm, thresh=0.37)\n",
    "\n",
    "# spx_tree = gudhi.simplex_tree.SimplexTree()\n",
    "# for i in range(dm.shape[0]):\n",
    "#     spx_tree.insert([i], 0.)\n",
    "# for i, v in enumerate(data):\n",
    "#     spx_tree.insert([row[i], col[i]], v)\n",
    "\n",
    "# spx_tree.expansion(3)\n",
    "# for i, _ in enumerate(spx_tree.get_filtration()):\n",
    "#     pass\n",
    "# print(f\"There are now {i} simplices.\")"
   ]
  },
  {
   "cell_type": "code",
   "execution_count": null,
   "id": "cb32975d-3137-4010-9705-5c29441dd025",
   "metadata": {},
   "outputs": [],
   "source": [
    "RC = gudhi.RipsComplex(distance_matrix=dm, max_edge_length=0.37)\n",
    "spx_tree = RC.create_simplex_tree(max_dimension=1)\n",
    "\n",
    "spx_tree.collapse_edges(nb_iterations=1)\n",
    "\n",
    "spx_tree.expansion(3)\n",
    "for i, _ in enumerate(spx_tree.get_filtration()):\n",
    "    pass\n",
    "print(f\"There are now {i} simplices.\")"
   ]
  },
  {
   "cell_type": "code",
   "execution_count": null,
   "id": "32913d7b",
   "metadata": {},
   "outputs": [],
   "source": [
    "filtration = []\n",
    "filtration_values = []\n",
    "for t in spx_tree.get_filtration():\n",
    "    filtration.append(tuple(t[0]))\n",
    "    filtration_values.append(t[1])\n",
    "filtration_values = np.asarray(filtration_values)"
   ]
  },
  {
   "cell_type": "code",
   "execution_count": null,
   "id": "1bc366f3",
   "metadata": {},
   "outputs": [],
   "source": [
    "k = 1\n",
    "\n",
    "barcode, st_barcodes = barcodes(\n",
    "    k,\n",
    "    filtration,\n",
    "    filtration_values=filtration_values,\n",
    "    return_filtration_values=True,\n",
    "    homology=True,\n",
    "    verbose=True\n",
    ")"
   ]
  },
  {
   "cell_type": "code",
   "execution_count": null,
   "id": "a273d912",
   "metadata": {},
   "outputs": [],
   "source": [
    "st_barcodes"
   ]
  }
 ],
 "metadata": {
  "kernelspec": {
   "display_name": "Python 3 (ipykernel)",
   "language": "python",
   "name": "python3"
  },
  "language_info": {
   "codemirror_mode": {
    "name": "ipython",
    "version": 3
   },
   "file_extension": ".py",
   "mimetype": "text/x-python",
   "name": "python",
   "nbconvert_exporter": "python",
   "pygments_lexer": "ipython3",
   "version": "3.8.11"
  }
 },
 "nbformat": 4,
 "nbformat_minor": 5
}
