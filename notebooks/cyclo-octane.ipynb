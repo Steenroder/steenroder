{
 "cells": [
  {
   "cell_type": "code",
   "execution_count": null,
   "id": "f995da6d",
   "metadata": {},
   "outputs": [],
   "source": [
    "import numpy as np\n",
    "rng = np.random.default_rng(seed=42)\n",
    "\n",
    "from steenroder import *\n",
    "\n",
    "from gtda.homology import VietorisRipsPersistence\n",
    "from gtda.plotting import plot_point_cloud\n",
    "\n",
    "import gudhi\n",
    "\n",
    "from scipy.io import loadmat\n",
    "\n",
    "from sklearn.manifold import Isomap\n",
    "from hdbscan import HDBSCAN\n",
    "\n",
    "# Plotting - Seaborn plugins\n",
    "import seaborn as sns\n",
    "sns.set_theme()\n",
    "sns.set_style(\"whitegrid\")\n",
    "sns.set_style(\"ticks\")\n",
    "sns.set_palette(\"bright\")\n",
    "\n",
    "import matplotlib.pyplot as plt\n",
    "from matplotlib.collections import LineCollection\n",
    "\n",
    "import matplotlib\n",
    "matplotlib.rcParams['text.usetex'] = True\n",
    "matplotlib.rcParams['font.family'] = \"serif\"\n",
    "matplotlib.rcParams['font.style'] = \"normal\"\n",
    "matplotlib.rcParams['font.variant'] = \"normal\"\n",
    "matplotlib.rcParams['font.serif'] = \"Computer Modern Roman\""
   ]
  },
  {
   "cell_type": "markdown",
   "id": "fa63749a",
   "metadata": {},
   "source": [
    "This dataset of 6040 samples from the configuration space of the cyclo-octane molecule $\\text{C}_{8} \\text{H}_{16}$ is described in https://www.frontiersin.org/articles/10.3389/frai.2021.668302/full#B48 as follows:\n",
    "\n",
    "> What do we mean by “global shape”? Consider, for example, conformations of the cyclo-octane molecule $C_8 H_{16}$, which consists of a ring of eight carbons atoms, each bonded to a pair of hydrogen atoms (see Figure 4, left). The locations of the carbon atoms in a conformation approximately determine the locations of the hydrogen atoms via energy minimization, and hence each molecule conformation can be mapped to a point in $\\mathbb{R}^{24} = \\mathbb{R}^{8 \\cdot 3}$, as the location of each carbon atom can be specified by three coordinates. This map realizes the conformation space of cyclo-octane as a subset of $\\mathbb{R}^{24}$, and then we mod out by rigid rotations and translations. Topologically, the conformation space of cyclo-octane turns out to be the union of a sphere with a Klein bottle, glued together along two circles of singularities (see Figure 4, right). This model was obtained by Martin et al. (2010), Martin and Watson (2011), and Brown et al. (2008), who furthermore obtain a triangulation of this dataset (a representation of the dataset as a union of vertices, edges, and triangles)."
   ]
  },
  {
   "cell_type": "code",
   "execution_count": null,
   "id": "e748af94",
   "metadata": {},
   "outputs": [],
   "source": [
    "cyclo_octane = loadmat(\"../data/pointsCycloOctane.mat\")['pointsCycloOctane']\n",
    "cyclo_octane.shape"
   ]
  },
  {
   "cell_type": "markdown",
   "id": "b14e6430",
   "metadata": {},
   "source": [
    "The circles of singularities can be found by several methods. Traditionally, local PCA was used. Here, we use a singular set found by using methods rooted in local persistent cohomology and used in https://www.pnas.org/content/117/33/19664:"
   ]
  },
  {
   "cell_type": "code",
   "execution_count": null,
   "id": "1f98f0c1",
   "metadata": {},
   "outputs": [],
   "source": [
    "singular_indices = loadmat(\"../data/singularity_indicesCycloOctane_PH0.5.mat\")['singularity_indices_PH'].flatten() - 1\n",
    "nonsingular_indices = np.array([x for x in range(len(cyclo_octane)) if x not in singular_indices])\n",
    "print(f\"{len(singular_indices)} points in the singular set\")"
   ]
  },
  {
   "cell_type": "markdown",
   "id": "37387c5f",
   "metadata": {},
   "source": [
    "Let us store the non-singular portion for later use"
   ]
  },
  {
   "cell_type": "code",
   "execution_count": null,
   "id": "2d70c027",
   "metadata": {},
   "outputs": [],
   "source": [
    "nonsingular = cyclo_octane[nonsingular_indices]"
   ]
  },
  {
   "cell_type": "markdown",
   "id": "ced3690e",
   "metadata": {},
   "source": [
    "A dimensionality reduction algorithm such as Isomap can help us visualize the full dataset in 3D:"
   ]
  },
  {
   "cell_type": "code",
   "execution_count": null,
   "id": "88751a20",
   "metadata": {},
   "outputs": [],
   "source": [
    "isomap = Isomap(n_components=3).fit_transform(cyclo_octane)"
   ]
  },
  {
   "cell_type": "code",
   "execution_count": null,
   "id": "e9ffac92",
   "metadata": {},
   "outputs": [],
   "source": [
    "plot_point_cloud(isomap, plotly_params={\"trace\": {\"marker_size\": 1},\n",
    "                                        \"layout\": {\"height\": 600, \"width\": 600}})"
   ]
  },
  {
   "cell_type": "markdown",
   "id": "74f382f9",
   "metadata": {},
   "source": [
    "We can also visualize the singular and non-singular portions:"
   ]
  },
  {
   "cell_type": "code",
   "execution_count": null,
   "id": "c6397192",
   "metadata": {},
   "outputs": [],
   "source": [
    "isomap_nonsingular = isomap[nonsingular_indices]\n",
    "isomap_singular = isomap[singular_indices]"
   ]
  },
  {
   "cell_type": "code",
   "execution_count": null,
   "id": "0991aa34",
   "metadata": {},
   "outputs": [],
   "source": [
    "plot_point_cloud(isomap_nonsingular, plotly_params={\"trace\": {\"marker_size\": 1},\n",
    "                                                    \"layout\": {\"height\": 600, \"width\": 600}})"
   ]
  },
  {
   "cell_type": "markdown",
   "id": "d0c9ec08",
   "metadata": {},
   "source": [
    "We can see that the singular set does look like two circles in the Isomap projection:"
   ]
  },
  {
   "cell_type": "code",
   "execution_count": null,
   "id": "da4337b3",
   "metadata": {},
   "outputs": [],
   "source": [
    "plot_point_cloud(isomap_singular, plotly_params={\"trace\": {\"marker_size\": 1},\n",
    "                                                 \"layout\": {\"height\": 600, \"width\": 600}})"
   ]
  },
  {
   "cell_type": "markdown",
   "id": "37f4a714",
   "metadata": {},
   "source": [
    "From previous literature, we expect the nonsingular part of the data to consist of the union of a 2-sphere and a Klein bottle. Hence, we partition the non-singular part using the clustering algorithm HDBSCAN:"
   ]
  },
  {
   "cell_type": "code",
   "execution_count": null,
   "id": "290c6d4a",
   "metadata": {},
   "outputs": [],
   "source": [
    "HD = HDBSCAN(min_samples=2, min_cluster_size=300, alpha=1., cluster_selection_epsilon=0)\n",
    "HD.fit(nonsingular)"
   ]
  },
  {
   "cell_type": "markdown",
   "id": "b105f045",
   "metadata": {},
   "source": [
    "With these hyperparameters, the portion we are interested in turns out to be the cluster labelled as `3` by `HDBSCAN`:"
   ]
  },
  {
   "cell_type": "code",
   "execution_count": null,
   "id": "e22d8a52",
   "metadata": {},
   "outputs": [],
   "source": [
    "mask_klein = HD.labels_ == 3\n",
    "isomap_klein = isomap_nonsingular[mask_klein]\n",
    "\n",
    "plot_point_cloud(isomap_klein, plotly_params={\"trace\": {\"marker_size\": 1},\n",
    "                                              \"layout\": {\"height\": 600, \"width\": 600}})"
   ]
  },
  {
   "cell_type": "markdown",
   "id": "1791ccec-f0e5-4a1c-a677-29c7138cd8a3",
   "metadata": {},
   "source": [
    "The remaining three clusters (that is, excluding the cluster of noisy points labelled by `HDBSCAN` as `-1`) should presumably make up a 2-sphere.  Indeed, that would seem clear in the *Isomap* embedding:"
   ]
  },
  {
   "cell_type": "code",
   "execution_count": null,
   "id": "a203814d-55aa-4706-ac8b-4e60d282c704",
   "metadata": {},
   "outputs": [],
   "source": [
    "mask_sphere = np.isin(HD.labels_, [0, 1, 2])\n",
    "isomap_sphere = isomap_nonsingular[mask_sphere]\n",
    "\n",
    "plot_point_cloud(isomap_sphere, plotly_params={\"trace\": {\"marker_size\": 1},\n",
    "                                               \"layout\": {\"height\": 600, \"width\": 600}})"
   ]
  },
  {
   "cell_type": "markdown",
   "id": "4b8e4786-c4c8-4b0d-8cd2-18ccf56f5fa2",
   "metadata": {},
   "source": [
    "We can obtain more evidence that these candidate components are indeed a Klein bottle and a 2-sphere by computing persistent homology of the corresponding 24-dimensional point clouds."
   ]
  },
  {
   "cell_type": "code",
   "execution_count": null,
   "id": "65ca437f-d1c4-4e9e-b753-0bc7bb7153c0",
   "metadata": {},
   "outputs": [],
   "source": [
    "klein = nonsingular[mask_klein]\n",
    "sphere = nonsingular[mask_sphere]"
   ]
  },
  {
   "cell_type": "markdown",
   "id": "459cb0b0-102e-464c-8cdd-5798fd8f7c43",
   "metadata": {},
   "source": [
    "# Preliminary checks – regular persistence barcodes"
   ]
  },
  {
   "cell_type": "markdown",
   "id": "623570a1-35e6-401e-8ef3-b47839cf4abe",
   "metadata": {},
   "source": [
    "Computing the persistent homology barcode (without a threshold) up to and including homology degree 2 is quite computationally challenging on the full components. We can use a threshold or subsample the point clouds. In the first case, a threshold of 1.5 suffices to demonstrate that the putative Klein bottle component has the correct mod 2 persistent homology, with two long bars in $H_1$ and one long bar in $H_2$."
   ]
  },
  {
   "cell_type": "code",
   "execution_count": null,
   "id": "602114a3-26c0-45d6-8f90-35e94e5fe02f",
   "metadata": {},
   "outputs": [],
   "source": [
    "max_edge_length = 1.5\n",
    "\n",
    "VR = VietorisRipsPersistence(homology_dimensions=(0, 1, 2),\n",
    "                             max_edge_length=max_edge_length,\n",
    "                             collapse_edges=True,\n",
    "                             infinity_values=np.inf)"
   ]
  },
  {
   "cell_type": "code",
   "execution_count": null,
   "id": "8d49aa8b-37ab-4cd7-bc43-2d1a5a1dd105",
   "metadata": {},
   "outputs": [],
   "source": [
    "# WARNING: VERY LONG COMPUTATION\n",
    "dgm_klein = VR.fit_transform_plot(\n",
    "    [klein],\n",
    "    plotly_params={\"traces\": {\"marker_size\": 3},\n",
    "                   \"layout\": {\"title\": f\"Klein bottle component, thresholding at {max_edge_length}\"}}\n",
    "    )[0]"
   ]
  },
  {
   "cell_type": "code",
   "execution_count": null,
   "id": "f07b2171-b784-4430-bb20-4552ad0f087e",
   "metadata": {},
   "outputs": [],
   "source": [
    "three_longest_bars = np.argsort(dgm_klein[:, 1] - dgm_klein[:, 0])[-3:]\n",
    "two_longest_H1 = []\n",
    "for bar in dgm_klein[three_longest_bars]:\n",
    "    if bar[2] == 1:\n",
    "        two_longest_H1.append(bar[:2])\n",
    "    elif bar[2] == 2:\n",
    "        longest_H2 = bar[:2]\n",
    "\n",
    "print(f\"\"\"The two longest H_1 bars in the Klein bottle component are:\n",
    "  {two_longest_H1[0]}\n",
    "  {two_longest_H1[1]}\n",
    "\n",
    "The longest H_2 bar is:\n",
    "  {longest_H2}\n",
    "\"\"\")"
   ]
  },
  {
   "cell_type": "markdown",
   "id": "c00e5bc1-3a52-45ce-826a-de034e8093ff",
   "metadata": {},
   "source": [
    "With the 2-sphere, we can use a larger threshold and see that there is a long bar in $H_2$:"
   ]
  },
  {
   "cell_type": "code",
   "execution_count": null,
   "id": "7af580ad-473b-4b2f-9500-ba3ef20ea59e",
   "metadata": {},
   "outputs": [],
   "source": [
    "max_edge_length = 2\n",
    "VR.set_params(max_edge_length=max_edge_length);"
   ]
  },
  {
   "cell_type": "code",
   "execution_count": null,
   "id": "6c5c47d9-86a4-44b0-bf10-50244d4ec4f6",
   "metadata": {},
   "outputs": [],
   "source": [
    "# WARNING: VERY LONG COMPUTATION\n",
    "dgm_sphere = VR.fit_transform_plot(\n",
    "    [sphere],\n",
    "    plotly_params={\"traces\": {\"marker_size\": 3},\n",
    "                   \"layout\": {\"title\": f\"Sphere component, thresholding at {max_edge_length}\"}}\n",
    "    )[0]"
   ]
  },
  {
   "cell_type": "markdown",
   "id": "17e9e104-c709-475c-b439-8beadf7c0fee",
   "metadata": {},
   "source": [
    "## Stronger evidence when subsampling"
   ]
  },
  {
   "cell_type": "markdown",
   "id": "85d15a0e-45af-4a94-a8aa-a9ba963096df",
   "metadata": {},
   "source": [
    "By subsampling the point clouds, we can garner evidence that nothing else of note would appear in either component if we removed the threshold completely:"
   ]
  },
  {
   "cell_type": "code",
   "execution_count": null,
   "id": "96d5acd6-9e67-4617-9c17-c7c0a97ffb8f",
   "metadata": {},
   "outputs": [],
   "source": [
    "n_samples = 800\n",
    "\n",
    "random_idxs_klein = rng.choice(np.arange(len(klein)), n_samples, replace=False)\n",
    "random_idxs_sphere = rng.choice(np.arange(len(sphere)), n_samples, replace=False)\n",
    "klein_subsampled = klein[random_idxs_klein]\n",
    "sphere_subsampled = sphere[random_idxs_sphere]"
   ]
  },
  {
   "cell_type": "code",
   "execution_count": null,
   "id": "ad0aebda-d2a3-4314-93cf-0ae271d28a6a",
   "metadata": {},
   "outputs": [],
   "source": [
    "max_edge_length = np.inf\n",
    "VR.set_params(max_edge_length=max_edge_length);"
   ]
  },
  {
   "cell_type": "code",
   "execution_count": null,
   "id": "59a55380-9c52-4dfa-8667-a5d646d01ab5",
   "metadata": {},
   "outputs": [],
   "source": [
    "# WARNING: LONG COMPUTATION\n",
    "dgm_klein_subsampled = VR.fit_transform_plot(\n",
    "    [klein_subsampled],\n",
    "    plotly_params={\"traces\": {\"marker_size\": 3},\n",
    "                   \"layout\": {\"title\": f\"Klein component, {n_samples}-point subsample, no threshold\"}}\n",
    "    )[0]"
   ]
  },
  {
   "cell_type": "code",
   "execution_count": null,
   "id": "2983283f-970b-452a-a61d-039152864b5e",
   "metadata": {},
   "outputs": [],
   "source": [
    "# WARNING: LONG COMPUTATION\n",
    "dgm_sphere_subsampled = VR.fit_transform_plot(\n",
    "    [sphere_subsampled],\n",
    "    plotly_params={\"traces\": {\"marker_size\": 3},\n",
    "                   \"layout\": {\"title\": f\"Sphere component, {n_samples}-point subsample, no threshold\"}}\n",
    "    )[0]"
   ]
  },
  {
   "cell_type": "markdown",
   "id": "d6af4a97",
   "metadata": {
    "tags": []
   },
   "source": [
    "# Steenrod barcodes"
   ]
  },
  {
   "cell_type": "markdown",
   "id": "209faebe-3279-4778-a12a-1819c6dc099b",
   "metadata": {},
   "source": [
    "Here is a utility function for computing ordinary and Steenrod barcodes of (thresholded) Rips filtrations starting from a point cloud. *Note*: some of these filtrations are too large to be handled by *Steenroder* in a reasonable amount of time when expanded all the way to dimension 3, so we apply edge collapses iteratively."
   ]
  },
  {
   "cell_type": "code",
   "execution_count": null,
   "id": "b4977734-e154-449d-8a81-515607220d92",
   "metadata": {},
   "outputs": [],
   "source": [
    "def rips_filtration_barcodes(X, max_simplex_dimension, max_edge_length, k, absolute, verbose=True):\n",
    "    spx_tree = gudhi.RipsComplex(points=X, max_edge_length=max_edge_length).\\\n",
    "        create_simplex_tree(max_dimension=1)\n",
    "\n",
    "    if verbose:\n",
    "        for i, _ in enumerate(spx_tree.get_filtration()):\n",
    "                pass\n",
    "        len_filtration = i + 1\n",
    "        print(f\"Filtration with {len_filtration} simplices up to dimension 1 initially\")    \n",
    "\n",
    "        print(\"Running Edge Collapse...\")\n",
    "        \n",
    "    it = 0\n",
    "    while True:\n",
    "        spx_tree.collapse_edges()\n",
    "\n",
    "        for i, _ in enumerate(spx_tree.get_filtration()):\n",
    "            pass\n",
    "\n",
    "        if i + 1 == len_filtration:\n",
    "            break\n",
    "        else:\n",
    "            len_filtration = i + 1\n",
    "            it += 1\n",
    "            if verbose:\n",
    "                print(f\"  EC iteration {it}: {len_filtration} simplices up to dimension 1\")\n",
    "\n",
    "    # Construct the Rips filtration up to the desired dimension, and run Steenroder\n",
    "    spx_tree.expansion(max_simplex_dimension)\n",
    "    if verbose:\n",
    "        for i, _ in enumerate(spx_tree.get_filtration()):\n",
    "            pass\n",
    "        print(f\"There are {i} simplices up to dimension {max_simplex_dimension} after EC.\")\n",
    "\n",
    "    filtration = []\n",
    "    filtration_values = []\n",
    "    for t in spx_tree.get_filtration():\n",
    "        filtration.append(tuple(t[0]))\n",
    "        filtration_values.append(t[1])\n",
    "    filtration_values = np.asarray(filtration_values, dtype=np.float32)\n",
    "\n",
    "    barcode, st_barcode = barcodes(\n",
    "        k,\n",
    "        filtration,\n",
    "        filtration_values=filtration_values,\n",
    "        absolute=absolute,\n",
    "        return_filtration_values=True,\n",
    "        verbose=verbose\n",
    "    )\n",
    "\n",
    "    return barcode, st_barcode"
   ]
  },
  {
   "cell_type": "markdown",
   "id": "c4c93e1c-9e79-40cb-b8e8-ff6892ad1c79",
   "metadata": {},
   "source": [
    "## Relative cohomology, full Klein bottle component, threshold at $R = 1.2$"
   ]
  },
  {
   "cell_type": "markdown",
   "id": "bed0d073-a5be-48ad-b1f7-2463167d2df2",
   "metadata": {},
   "source": [
    "We now construct a Rips filtration of the alleged \"Klein bottle component\". We set a threshold at 1.2, at which we know that the two $H_1$ bars and the $H_1$ bar are all alive. We compute *relative* (ordinary and Steenrod) barcodes."
   ]
  },
  {
   "cell_type": "code",
   "execution_count": null,
   "id": "ec2aa554-17cd-4ab6-a3b1-30fc02ebfea1",
   "metadata": {},
   "outputs": [],
   "source": [
    "k = 1  # Compute Sq^1\n",
    "max_simplex_dimension = 3\n",
    "max_edge_length = 1.2\n",
    "absolute = False\n",
    "X = klein\n",
    "\n",
    "barcode, st_barcode = rips_filtration_barcodes(\n",
    "    X, max_simplex_dimension, max_edge_length, k, absolute\n",
    ")"
   ]
  },
  {
   "cell_type": "code",
   "execution_count": null,
   "id": "c942238c-401a-4c63-acf8-bef1e5c9e18a",
   "metadata": {},
   "outputs": [],
   "source": [
    "n_dims = len(barcode)\n",
    "\n",
    "lifetime_thresh = 0.2\n",
    "eps = 0.01\n",
    "min_filtration_value = 0\n",
    "\n",
    "fig, (ax_rel_coho, ax_st) = plt.subplots(2, 1,\n",
    "                                         figsize=(16, 8),\n",
    "                                         sharex='col',\n",
    "                                         gridspec_kw={'height_ratios': [2, 1]},\n",
    "                                         tight_layout=True)\n",
    "\n",
    "colors = [\"Orange\", \"Green\", \"Blue\", \"Red\"]\n",
    "labels_rel_coho = [r\"$\\mathcal{H}^0_R$\",\n",
    "                   r\"$\\mathcal{H}^1_R$\",\n",
    "                   r\"$\\mathcal{H}^2_R$\",\n",
    "                   r\"$\\mathcal{H}^3_R$\"]\n",
    "labels_st = [r\"$\\mathrm{img}(Sq^1) \\cap \\mathcal{H}^0_R$\",\n",
    "             r\"$\\mathrm{img}(Sq^1) \\cap \\mathcal{H}^1_R$\",\n",
    "             r\"$\\mathrm{img}(Sq^1) \\cap \\mathcal{H}^2_R$\",\n",
    "             r\"$\\mathrm{img}(Sq^1) \\cap \\mathcal{H}^3_R$\"]\n",
    "\n",
    "counter = 0\n",
    "for dim in range(1, n_dims):\n",
    "    segs = []\n",
    "    multiplicities = {}\n",
    "    dgm = barcode[dim]\n",
    "    dgm = dgm[dgm[:, 1] - dgm[:, 0] > lifetime_thresh]\n",
    "    for p in dgm:\n",
    "        if tuple(p) in multiplicities:\n",
    "            multiplicities[tuple(p)] += 1\n",
    "        else:\n",
    "             multiplicities[tuple(p)] = 1\n",
    "\n",
    "    counter_now = counter\n",
    "    for i, (k, v) in enumerate(multiplicities.items()):\n",
    "        death, birth = k\n",
    "        y = - (counter_now + i)\n",
    "        if death == -np.inf:\n",
    "            ax_rel_coho.arrow(min_filtration_value - eps, y, -0.0000001, 0,\n",
    "                              head_starts_at_zero=False, width=0, head_width=0.2, head_length=0.015,\n",
    "                              color=colors[dim], ec=colors[dim])\n",
    "            death = min_filtration_value - eps\n",
    "        segs.append([[birth, y], [death, y]])\n",
    "        if v > 1:\n",
    "            ax_rel_coho.annotate(f\"{v}\", (death, y + 0.2))\n",
    "        counter += 1\n",
    "\n",
    "    segs = np.array(segs, dtype=np.float64)\n",
    "    if len(segs):\n",
    "        line_segments = LineCollection(segs, linewidths=2,\n",
    "                                       colors=colors[dim],\n",
    "                                       label=labels_rel_coho[dim],\n",
    "                                       linestyle=\"solid\")\n",
    "        ax_rel_coho.add_collection(line_segments)\n",
    "\n",
    "    counter += 1\n",
    "\n",
    "ax_rel_coho.axvline(x=max_edge_length, color=\"gray\", alpha=0.3)\n",
    "ax_rel_coho.text(max_edge_length, y, rf\"thresh = {max_edge_length}\", rotation=90, fontdict={\"fontsize\": 15})\n",
    "\n",
    "ax_rel_coho.autoscale()\n",
    "ax_rel_coho.get_yaxis().set_visible(False)\n",
    "ax_rel_coho.legend(loc=\"upper right\", fontsize=18)\n",
    "ax_rel_coho.margins(y=1/counter)\n",
    "ax_rel_coho.set_title(\"Persistent relative cohomology barcode\", fontdict={\"fontsize\": 22}, pad=15)\n",
    "\n",
    "counter = 0\n",
    "for dim in range(n_dims):\n",
    "    segs = []\n",
    "    multiplicities = {}\n",
    "    dgm = st_barcode[dim]\n",
    "    for p in dgm:\n",
    "        if tuple(p) in multiplicities:\n",
    "            multiplicities[tuple(p)] += 1\n",
    "        else:\n",
    "             multiplicities[tuple(p)] = 1\n",
    "\n",
    "    counter_now = counter\n",
    "    for i, (k, v) in enumerate(multiplicities.items()):\n",
    "        death, birth = k\n",
    "        y = - (counter_now + i)\n",
    "        if death == -np.inf:\n",
    "            ax_st.arrow(min_filtration_value - eps, y, -0.0000001, 0,\n",
    "                        head_starts_at_zero=False, width=0, head_width=0.1, head_length=0.015,\n",
    "                        color=colors[dim], ec=colors[dim])\n",
    "            death = min_filtration_value - eps\n",
    "        segs.append([[birth, y], [death, y]])\n",
    "        if v > 1:\n",
    "            ax_st.annotate(f\"{v}\", (death, y + 0.2))\n",
    "        counter += 1\n",
    "\n",
    "    segs = np.array(segs, dtype=np.float64)\n",
    "    if len(segs):\n",
    "        line_segments = LineCollection(segs, linewidths=2,\n",
    "                                       colors=colors[dim],\n",
    "                                       label=labels_st[dim],\n",
    "                                       linestyle=\"dashed\")\n",
    "        ax_st.add_collection(line_segments)\n",
    "\n",
    "    counter += 1\n",
    "\n",
    "ax_st.axvline(x=max_edge_length, color=\"gray\", alpha=0.3)\n",
    "ax_st.text(max_edge_length, y - 0.65, rf\"thresh = {max_edge_length}\", rotation=90, fontdict={\"fontsize\": 15})\n",
    "\n",
    "ax_st.tick_params(axis=\"x\", labelsize=18) \n",
    "\n",
    "ax_st.autoscale()\n",
    "ax_st.get_yaxis().set_visible(False)\n",
    "ax_st.legend(loc=\"upper right\", fontsize=18)\n",
    "ax_st.margins(y=1)\n",
    "ax_st.set_title(\"Steenrod barcode\", fontdict={\"fontsize\": 22}, pad=15)\n",
    "\n",
    "# plt.savefig(\"cyclo-octane_thresh_relative_barcodes.pdf\")\n",
    "plt.show()"
   ]
  },
  {
   "cell_type": "markdown",
   "id": "7d8a725f-6d7f-4dfc-a27c-a7729028a340",
   "metadata": {},
   "source": [
    "## Absolute cohomology, subsampled Klein bottle component, threshold at $R = 1.5$"
   ]
  },
  {
   "cell_type": "markdown",
   "id": "252386df",
   "metadata": {},
   "source": [
    "We now construct a Rips filtration of our *subsample* of the alleged Klein bottle component. For computational reasons, we set a threshold again at 1.5, which we know to be larger than the death value of the longest $H_2$ bar. We compute *absolute* (ordinary and Steenrod) barcodes."
   ]
  },
  {
   "cell_type": "code",
   "execution_count": null,
   "id": "5c796803-5a30-46eb-a58d-4cbbc347e989",
   "metadata": {},
   "outputs": [],
   "source": [
    "k = 1  # Compute Sq^1\n",
    "max_simplex_dimension = 3\n",
    "max_edge_length = 1.5\n",
    "absolute = True\n",
    "X = klein_subsampled\n",
    "\n",
    "barcode, st_barcode = rips_filtration_barcodes(\n",
    "    X, max_simplex_dimension, max_edge_length, k, absolute\n",
    ")"
   ]
  },
  {
   "cell_type": "code",
   "execution_count": null,
   "id": "abc0c50a-aafc-48d1-85fa-4719279c3603",
   "metadata": {},
   "outputs": [],
   "source": [
    "n_dims = len(barcode)\n",
    "\n",
    "lifetime_thresh = 0.\n",
    "eps = 0.01\n",
    "max_filtration_value = max_edge_length\n",
    "\n",
    "fig, (ax_rel_coho, ax_st) = plt.subplots(2, 1,\n",
    "                                         figsize=(16, 8),\n",
    "                                         sharex='col',\n",
    "                                         gridspec_kw={'height_ratios': [2, 1]},\n",
    "                                         tight_layout=True)\n",
    "\n",
    "colors = [\"Orange\", \"Green\", \"Blue\", \"Red\"]\n",
    "labels_rel_coho = [r\"$\\mathcal{H}^0_A$\",\n",
    "                   r\"$\\mathcal{H}^1_A$\",\n",
    "                   r\"$\\mathcal{H}^2_A$\",\n",
    "                   r\"$\\mathcal{H}^3_A$\"]\n",
    "labels_st = [r\"$\\mathrm{img}(Sq^1) \\cap \\mathcal{H}^0_A$\",\n",
    "             r\"$\\mathrm{img}(Sq^1) \\cap \\mathcal{H}^1_A$\",\n",
    "             r\"$\\mathrm{img}(Sq^1) \\cap \\mathcal{H}^2_A$\",\n",
    "             r\"$\\mathrm{img}(Sq^1) \\cap \\mathcal{H}^3_A$\"]\n",
    "\n",
    "counter = 0\n",
    "for dim in range(1, n_dims - 1):\n",
    "    segs = []\n",
    "    multiplicities = {}\n",
    "    dgm = barcode[dim]\n",
    "    dgm = dgm[dgm[:, 1] - dgm[:, 0] > lifetime_thresh]\n",
    "    for p in dgm:\n",
    "        if tuple(p) in multiplicities:\n",
    "            multiplicities[tuple(p)] += 1\n",
    "        else:\n",
    "             multiplicities[tuple(p)] = 1\n",
    "\n",
    "    counter_now = counter\n",
    "    for i, (k, v) in enumerate(multiplicities.items()):\n",
    "        birth, death = k\n",
    "        y = - (counter_now + i)\n",
    "        if death == np.inf:\n",
    "            ax_rel_coho.arrow(max_filtration_value + eps, y, 0.0000001, 0,\n",
    "                              head_starts_at_zero=False, width=0, head_width=50, head_length=0.01,\n",
    "                              color=colors[dim], ec=colors[dim])\n",
    "            death = max_filtration_value + eps\n",
    "        segs.append([[birth, y], [death, y]])\n",
    "        if v > 1:\n",
    "            ax_rel_coho.annotate(f\"{v}\", (death, y + 0.2))\n",
    "        counter += 1\n",
    "\n",
    "    segs = np.array(segs, dtype=np.float64)\n",
    "    if len(segs):\n",
    "        line_segments = LineCollection(segs, linewidths=2,\n",
    "                                       colors=colors[dim],\n",
    "                                       label=labels_rel_coho[dim],\n",
    "                                       linestyle=\"solid\")\n",
    "        ax_rel_coho.add_collection(line_segments)\n",
    "\n",
    "    counter += 1\n",
    "\n",
    "ax_rel_coho.axvline(x=max_edge_length, color=\"gray\", alpha=0.3)\n",
    "ax_rel_coho.text(max_edge_length, y + 4, rf\"thresh = {max_edge_length}\", rotation=90, fontdict={\"fontsize\": 15})\n",
    "\n",
    "ax_rel_coho.autoscale()\n",
    "ax_rel_coho.get_yaxis().set_visible(False)\n",
    "ax_rel_coho.legend(loc=\"lower left\", fontsize=18)\n",
    "ax_rel_coho.margins(y=1/counter)\n",
    "ax_rel_coho.set_title(\"Persistent absolute cohomology barcode\", fontdict={\"fontsize\": 22}, pad=15)\n",
    "\n",
    "counter = 0\n",
    "for dim in range(n_dims):\n",
    "    segs = []\n",
    "    multiplicities = {}\n",
    "    dgm = st_barcode[dim]\n",
    "    dgm = dgm[dgm[:, 1] - dgm[:, 0] > lifetime_thresh]\n",
    "    for p in dgm:\n",
    "        if tuple(p) in multiplicities:\n",
    "            multiplicities[tuple(p)] += 1\n",
    "        else:\n",
    "             multiplicities[tuple(p)] = 1\n",
    "\n",
    "    counter_now = counter\n",
    "    for i, (k, v) in enumerate(multiplicities.items()):\n",
    "        birth, death = k\n",
    "        y = - (counter_now + i)\n",
    "        if death == np.inf:\n",
    "            ax_st.arrow(max_filtration_value + eps, y, 0.0000001, 0,\n",
    "                        head_starts_at_zero=False, width=0, head_width=0.3, head_length=0.005,\n",
    "                        color=colors[dim], ec=colors[dim])\n",
    "            death = max_filtration_value + eps\n",
    "        segs.append([[birth, y], [death, y]])\n",
    "        if v > 1:\n",
    "            ax_st.annotate(f\"{v}\", (death, y + 0.2))\n",
    "        counter += 1\n",
    "\n",
    "    segs = np.array(segs, dtype=np.float64)\n",
    "    if len(segs):\n",
    "        line_segments = LineCollection(segs, linewidths=2,\n",
    "                                       colors=colors[dim],\n",
    "                                       label=labels_st[dim],\n",
    "                                       linestyle=\"dashed\")\n",
    "        ax_st.add_collection(line_segments)\n",
    "\n",
    "    counter += 1\n",
    "\n",
    "ax_st.axvline(x=max_edge_length, color=\"gray\", alpha=0.3)\n",
    "ax_st.text(max_edge_length, y - 0.085, rf\"thresh = {max_edge_length}\", rotation=90, fontdict={\"fontsize\": 15})\n",
    "\n",
    "ax_st.tick_params(axis=\"x\", labelsize=18) \n",
    "\n",
    "ax_st.autoscale()\n",
    "ax_st.get_yaxis().set_visible(False)\n",
    "ax_st.legend(loc=\"lower left\", fontsize=18)\n",
    "# ax_st.margins(y=1)\n",
    "ax_st.set_title(\"Steenrod barcode\", fontdict={\"fontsize\": 22}, pad=15)\n",
    "\n",
    "# plt.savefig(\"cyclo-octane_subsampled_absolute_barcodes.pdf\")\n",
    "plt.show()"
   ]
  }
 ],
 "metadata": {
  "kernelspec": {
   "display_name": "Python 3 (ipykernel)",
   "language": "python",
   "name": "python3"
  },
  "language_info": {
   "codemirror_mode": {
    "name": "ipython",
    "version": 3
   },
   "file_extension": ".py",
   "mimetype": "text/x-python",
   "name": "python",
   "nbconvert_exporter": "python",
   "pygments_lexer": "ipython3",
   "version": "3.8.11"
  }
 },
 "nbformat": 4,
 "nbformat_minor": 5
}
