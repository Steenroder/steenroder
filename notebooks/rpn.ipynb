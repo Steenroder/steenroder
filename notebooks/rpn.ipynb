{
 "cells": [
  {
   "cell_type": "markdown",
   "metadata": {},
   "source": [
    "# Real projective spaces\n",
    "\n",
    "In this notebook we illustrate `steenroder` using filtrations of simplicial complex models of $\\mathbb R\\mathrm P^n$ for $n \\in \\{2,3,4\\}$, as well as of models of their cones and their suspensions."
   ]
  },
  {
   "cell_type": "code",
   "execution_count": null,
   "metadata": {},
   "outputs": [],
   "source": [
    "from steenroder import *\n",
    "from examples import rp2, rp3, rp4, cone, suspension\n",
    "import pickle as pkl\n",
    "\n",
    "def print_rel_barcodes(k, filtrations, names):\n",
    "    for filtration, name in zip(filtrations, names):\n",
    "        print(f'\\n**) {name} ({len(filtration)} simplices):')\n",
    "        barcode, st_barcode = barcodes(k, filtration)\n",
    "        print(f'*) Regular (infinite only):')\n",
    "        for d, bars in enumerate(barcode):\n",
    "            print(d, bars[np.where(bars == -1)[0],:])\n",
    "        print(f'*) Sq^{k} (non-zero only):')\n",
    "        for d, bars in enumerate(st_barcode):\n",
    "            if bars.size > 0:\n",
    "                print(d, bars)\n",
    "                \n",
    "def print_abs_barcodes(k, filtrations, names, length=1):\n",
    "    for filtration, name in zip(filtrations, names):\n",
    "        print(f'\\n**) {name} ({len(filtration)} simplices):')\n",
    "        barcode, st_barcode = barcodes(k, filtration, absolute=True)\n",
    "        print(f'*) Regular (length > {length} only):')\n",
    "        for d, bars in enumerate(barcode):\n",
    "            print(d, bars[np.where(bars[:,1]-bars[:,0] > length)])\n",
    "        print(f'*) Sq^{k} (non-zero only):')\n",
    "        for d, bars in enumerate(st_barcode):\n",
    "            if bars.size > 0:\n",
    "                print(d, bars)"
   ]
  },
  {
   "cell_type": "markdown",
   "metadata": {},
   "source": [
    "We focus on $Sq^k$ with"
   ]
  },
  {
   "cell_type": "code",
   "execution_count": null,
   "metadata": {},
   "outputs": [],
   "source": [
    "k = 1"
   ]
  },
  {
   "cell_type": "markdown",
   "metadata": {},
   "source": [
    "## $\\mathbb R \\mathrm P^n$"
   ]
  },
  {
   "cell_type": "code",
   "execution_count": null,
   "metadata": {},
   "outputs": [],
   "source": [
    "filtrations = [rp2, rp3, rp4]\n",
    "names = ['RP2', 'RP3', 'RP4']\n",
    "\n",
    "print('Persistent relative cohomology:')\n",
    "print_rel_barcodes(k, filtrations, names)"
   ]
  },
  {
   "cell_type": "markdown",
   "metadata": {},
   "source": [
    "## Cones"
   ]
  },
  {
   "cell_type": "code",
   "execution_count": null,
   "metadata": {},
   "outputs": [],
   "source": [
    "cone_filtrations = [cone(rp2), cone(rp3), cone(rp4)]\n",
    "cone_names = ['cone_RP2', 'cone_RP3', 'cone_RP4$']\n",
    "print('Persistent absolute cohomology:')\n",
    "min_bar_length = 200\n",
    "print_abs_barcodes(k, cone_filtrations, cone_names, min_bar_length)"
   ]
  },
  {
   "cell_type": "markdown",
   "metadata": {},
   "source": [
    "## Suspensions"
   ]
  },
  {
   "cell_type": "code",
   "execution_count": null,
   "metadata": {
    "scrolled": true
   },
   "outputs": [],
   "source": [
    "sus_filtrations = [suspension(rp2), suspension(rp3), suspension(rp4)]\n",
    "sus_names = ['suspension_RP2', 'suspension_RP3', 'suspension_RP4']\n",
    "print('Persistent absolute cohomology:')\n",
    "print_rel_barcodes(k, sus_filtrations, sus_names)"
   ]
  },
  {
   "cell_type": "markdown",
   "metadata": {},
   "source": [
    "## Cone on suspensions"
   ]
  },
  {
   "cell_type": "code",
   "execution_count": null,
   "metadata": {},
   "outputs": [],
   "source": [
    "cone_sus_filtrations = [cone(suspension(rp2)), cone(suspension(rp3)), cone(suspension(rp4))]\n",
    "cone_sus_names = ['cone_sus_RP2', 'cone_sus_RP3', 'cone_sus_RP4$']\n",
    "print('Persistent absolute cohomology:')\n",
    "min_bar_length = 500\n",
    "print_abs_barcodes(k, cone_sus_filtrations, cone_sus_names, min_bar_length)"
   ]
  }
 ],
 "metadata": {
  "kernelspec": {
   "display_name": "Python 3",
   "language": "python",
   "name": "python3"
  },
  "language_info": {
   "codemirror_mode": {
    "name": "ipython",
    "version": 3
   },
   "file_extension": ".py",
   "mimetype": "text/x-python",
   "name": "python",
   "nbconvert_exporter": "python",
   "pygments_lexer": "ipython3",
   "version": "3.9.1"
  }
 },
 "nbformat": 4,
 "nbformat_minor": 2
}
