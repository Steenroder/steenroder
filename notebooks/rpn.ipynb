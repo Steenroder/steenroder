{
 "cells": [
  {
   "cell_type": "markdown",
   "metadata": {},
   "source": [
    "# Real projective spaces"
   ]
  },
  {
   "cell_type": "code",
   "execution_count": null,
   "metadata": {},
   "outputs": [],
   "source": [
    "from steenroder import * \n",
    "import pickle as pkl\n",
    "\n",
    "def print_barcode(names, filtrations, k):\n",
    "    print('Persistent relative cohomology:')\n",
    "    for name, filtration in zip(names, filtrations):\n",
    "        print(f'*) {name}:')\n",
    "        barcode, st_barcode = barcodes(k, filtration)\n",
    "        print(f'Regular (infinite only):')\n",
    "        for d, bars in enumerate(barcode):\n",
    "            print(d, bars[np.where(bars == -1)[0],:])\n",
    "        print(f'Sq^{k}:')\n",
    "        for d, bars in enumerate(st_barcode):\n",
    "            print(d, bars)"
   ]
  },
  {
   "cell_type": "code",
   "execution_count": null,
   "metadata": {},
   "outputs": [],
   "source": [
    "rp2 = pkl.load(open(\"data/rp2.pkl\", \"rb\"))\n",
    "rp3 = pkl.load(open(\"data/rp3.pkl\", \"rb\"))\n",
    "rp4 = pkl.load(open(\"data/rp4.pkl\", \"rb\"))\n",
    "filtrations = [rp2, rp3, rp4]\n",
    "names = ['rp2', 'rp3', 'rp4']"
   ]
  },
  {
   "cell_type": "code",
   "execution_count": null,
   "metadata": {},
   "outputs": [],
   "source": [
    "print(f'Number of simplices:\\n\\\n",
    "rp2 : {len(rp2)}\\n\\\n",
    "rp3 : {len(rp3)}\\n\\\n",
    "rp4 : {len(rp4)}')"
   ]
  },
  {
   "cell_type": "code",
   "execution_count": null,
   "metadata": {
    "scrolled": false
   },
   "outputs": [],
   "source": [
    "print_barcode(names, filtrations, 1)"
   ]
  },
  {
   "cell_type": "markdown",
   "metadata": {},
   "source": [
    "As expected $\\mathrm RP2$ and $\\mathrm RP3$ have a single $Sq^1$ bar in degree $2$, whereas $\\mathrm RP4$ has two; one in degree $2$ and one in degree $4$."
   ]
  },
  {
   "cell_type": "markdown",
   "metadata": {},
   "source": [
    "## Cones"
   ]
  },
  {
   "cell_type": "code",
   "execution_count": null,
   "metadata": {},
   "outputs": [],
   "source": [
    "cone_rp2 = pkl.load(open(\"data/cone_rp2.pkl\", \"rb\"))\n",
    "cone_rp3 = pkl.load(open(\"data/cone_rp3.pkl\", \"rb\"))\n",
    "cone_rp4 = pkl.load(open(\"data/cone_rp4.pkl\", \"rb\"))\n",
    "cone_filtrations = [cone_rp2, cone_rp3, cone_rp4]\n",
    "cone_names = ['cone_rp2', 'cone_rp3', 'cone_rp4']"
   ]
  },
  {
   "cell_type": "code",
   "execution_count": null,
   "metadata": {},
   "outputs": [],
   "source": [
    "print(f'Number of simplices:\\n\\\n",
    "cone_rp2 : {len(cone_rp2)}\\n\\\n",
    "cone_rp3 : {len(cone_rp3)}\\n\\\n",
    "cone_rp4 : {len(cone_rp4)}')"
   ]
  },
  {
   "cell_type": "code",
   "execution_count": null,
   "metadata": {
    "scrolled": true
   },
   "outputs": [],
   "source": [
    "print_barcode(cone_names, cone_filtrations, 1)"
   ]
  }
 ],
 "metadata": {
  "kernelspec": {
   "display_name": "Python 3",
   "language": "python",
   "name": "python3"
  },
  "language_info": {
   "codemirror_mode": {
    "name": "ipython",
    "version": 3
   },
   "file_extension": ".py",
   "mimetype": "text/x-python",
   "name": "python",
   "nbconvert_exporter": "python",
   "pygments_lexer": "ipython3",
   "version": "3.9.1"
  }
 },
 "nbformat": 4,
 "nbformat_minor": 2
}
