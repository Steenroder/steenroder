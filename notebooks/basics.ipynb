{
 "cells": [
  {
   "cell_type": "markdown",
   "metadata": {},
   "source": [
    "# Steenrod barcode of a filtration of $\\mathbb RP^2$\n",
    "\n",
    "In this notebook we use ``steenroder`` to computing the Steenrod barcode of a small filtration.\n",
    "The filtered complex $X$ that we consider is a model for the real projective plane\n",
    "\n",
    "<img src=\"filtered_rp2.png\" width=\"200\" height=\"200\">\n",
    "\n",
    "represented by the following `tuple` of `tuple` of `int`:"
   ]
  },
  {
   "cell_type": "code",
   "execution_count": null,
   "metadata": {},
   "outputs": [],
   "source": [
    "rp2 = (\n",
    "    (0,), \n",
    "    (1,), (0,1), \n",
    "    (2,), (0,2), (1,2), (0,1,2),\n",
    "    (3,), (0,3), (1,3), (0,1,3), (2,3),\n",
    "    (4,), (0,4), (1,4), (2,4), (1,2,4), (3,4), (0,3,4), (2,3,4),\n",
    "    (5,), (0,5), (1,5), (2,5), (0,2,5), (3,5), (1,3,5), (2,3,5), (4,5), (0,4,5), (1,4,5)\n",
    "    )\n",
    "\n",
    "filtration = rp2\n",
    "max_dim = 2"
   ]
  },
  {
   "cell_type": "markdown",
   "metadata": {},
   "source": [
    "## What will be computed\n",
    "\n",
    "### Relative cohomology\n",
    "\n",
    "We will consider the persistent relative cohomology of $X$\n",
    "\n",
    "$$\n",
    "H^\\bullet(X) \\leftarrow H^\\bullet(X, X_{0}) \\leftarrow H^\\bullet(X, X_{1}) \\leftarrow \\cdots \\leftarrow H^\\bullet(X, X_{m})\n",
    "$$\n",
    "as a persistence module.\n",
    "\n",
    "### Regular barcode\n",
    "\n",
    "For $i < j \\in \\{-1,\\dots,m\\}$ let $X_{ij}$ be the unique composition $H^\\bullet(X, X_{i}) \\leftarrow H^\\bullet(X, X_{j})$ with the convention $X_{-1} = \\emptyset$.\n",
    "The barcode of this persistence module is the multiset\n",
    "\n",
    "$$\n",
    "Bar_X =\n",
    "\\big\\{ [p,q] \\mid -1 \\le p < q \\le m \\big\\}\n",
    "$$\n",
    "\n",
    "defined by the property\n",
    "\n",
    "$$\n",
    "\\mathrm{rank} \\, X_{ij} =\n",
    "\\mathrm{card} \\big\\{[p,q] \\in Bar_X \\mid p \\le i < j \\le q \\big\\}.\n",
    "$$\n",
    "\n",
    "### Steenrod barcode\n",
    "\n",
    "For every cohomology operation, say $Sq^k$, we obtain an endomorphism of persistent relative cohomology\n",
    "\n",
    "\\begin{align*}\n",
    "&H^\\bullet(X) \\leftarrow \\cdots \\leftarrow H^\\bullet(X, X_{m}) \\\\\n",
    "& {\\tiny Sq^k} \\uparrow \\kern 2.5cm {\\tiny Sq^k} \\uparrow\\\\\n",
    "&H^\\bullet(X) \\leftarrow \\cdots \\leftarrow H^\\bullet(X, X_{m}).\n",
    "\\end{align*}\n",
    "\n",
    "The $Sq^k$-barcode of $X$ is the barcode of the image of this endomorphism."
   ]
  },
  {
   "cell_type": "code",
   "execution_count": null,
   "metadata": {},
   "outputs": [],
   "source": [
    "from steenroder import *\n",
    "\n",
    "k = 1\n",
    "d = 2\n",
    "barcode, st_barcode = barcodes(k, filtration)\n",
    "\n",
    "for dd in range(d+1):\n",
    "    print(f'Regular barcode in dim {dd}: \\n{barcode[dd]}')\n",
    "for dd in range(d):\n",
    "    print(f'Sq^{k}-barcode in dim {dd+k}: \\n{st_barcode[dd+k]}')"
   ]
  },
  {
   "cell_type": "markdown",
   "metadata": {},
   "source": [
    "There are three infinite bars in the regular barcode:\n",
    "\n",
    "[-1,0] in deg 0,\n",
    "\n",
    "[-1,11] in deg 1, and\n",
    "\n",
    "[-1,30] in deg 2.\n",
    "\n",
    "Additionally, there is one $Sq^1$-bar:\n",
    "\n",
    "[-1,11] in deg 2.\n",
    "\n",
    "This $Sq^1$-bar witnesses in the persistent context the non-trivial relationship $Sq^1 [\\alpha_1] = [\\alpha_2]$ between the degree 1  and 2 generators of the cohomology of $\\mathbb R P^2$."
   ]
  },
  {
   "cell_type": "markdown",
   "metadata": {},
   "source": [
    "## How to compute these invariants\n",
    "\n",
    "### Regular barcode\n",
    "\n",
    "#### Boundary matrix\n",
    "\n",
    "Order the simplices $a_0 < a_1 < \\dots < a_m$ of $X$ so that $X_k = \\{a_i \\mid i \\leq k\\}$.\n",
    "Consider the matrix $D$ representing the boundary map $\\partial \\colon C_\\bullet(X;\\mathbb{F}_2) \\to C_{\\bullet-1}(X;\\mathbb{F}_2)$ with respect to the (ordered) basis determined by the (ordered) simplices.\n",
    "Explicitly,\n",
    "\n",
    "$$\n",
    "\\partial a_j = \\sum_{i=0}^m D_{ij} \\, a_i.\n",
    "$$\n",
    "\n",
    "Notice that the submatrix $D_{\\leq k \\leq k}$ represents the boundary of $C_\\bullet(X_k;\\mathbb F_2)$ for every $k \\in \\{0,\\dots,m\\}$.\n",
    "\n",
    "#### Anti-transpose\n",
    "\n",
    "We will consider the antitranspose $D^\\perp$ of the boundary matrix $D$.\n",
    "It is defined for every $p,q \\in \\{0,\\dots,m\\}$ by\n",
    "\n",
    "$$\n",
    "D^\\perp_{p,\\, q} = D_{m-q,\\ m-p}.\n",
    "$$\n",
    "\n",
    "For any $k \\in \\{0,\\dots,m\\}$ the submatrix $D^\\perp_{\\leq k, \\leq k}$ represents the coboundary map $\\delta \\colon C^\\bullet(X, X_{m-k-1}; \\mathbb{F}_2) \\to C^{\\bullet+1}(X, X_{m-k-1}; \\mathbb{F}_2)$ with respect to the (ordered) dual basis $a_m^\\bullet < \\dots < a_{m-k}^\\bullet$.\n",
    "\n",
    "\n",
    "#### The $R = D^\\perp V$ decomposition\n",
    "\n",
    "Here $V$ is an invertible upper triangular matrix and $R$ is reduced, i.e., no two columns have the same pivot row.\n",
    "\n",
    "Denoting the $i$-th column of $R$ by $R_{i}$ where $i \\in \\{0,\\dots,m\\}$, let\n",
    "\n",
    "$$\n",
    "P = \\{ i \\ |\\ R_i = 0\\}, \\qquad N = \\{ i \\ |\\ R_i \\neq 0\\}, \\qquad E = P \\setminus \\{\\text{pivots of } R\\}.\n",
    "$$\n",
    "\n",
    "#### The regular barcode\n",
    "\n",
    "There exists a canonical bijection between the union of $N$ and $E$ and the persistence relative cohomology barcode of the filtration given by\n",
    "\n",
    "\\begin{align*}\n",
    "N \\ni j &\\mapsto \\big[ (m-j), (m-\\mathrm{pivot}\\,R_j) \\big] \\in Bar^{\\dim(j)+1}_X \\\\\n",
    "E \\ni j &\\mapsto \\big[ -1, (m-j) \\big] \\in Bar^{\\dim(j)}_X\n",
    "\\end{align*}\n",
    "\n",
    "#### Representatives\n",
    "\n",
    "Additionally, a representative cocycle is given by\n",
    "\\begin{equation*}\n",
    "[i,j] \\mapsto\n",
    "\\begin{cases}\n",
    "V_{m-j}, & i = -1, \\\\\n",
    "R_{m-i}, & i \\neq -1.\n",
    "\\end{cases}\n",
    "\\end{equation*}\n",
    "\n",
    "and a basis of coboundaries in $C^\\bullet(X, X_{m-j-1})$ corresponds to non-zero vectors in\n",
    "\n",
    "\\begin{equation*}\n",
    "\\{R_i\\ |\\ i \\in N,\\, i \\leq j\\}.\n",
    "\\end{equation*}"
   ]
  },
  {
   "cell_type": "markdown",
   "metadata": {},
   "source": [
    "### Regular barcode using ``steenroder``\n",
    "\n",
    "We will illustrate the ``steenroder`` implementation of the above algorithm using a small filtration of the circle.\n",
    "\n",
    "<img src=\"filtered_circle.png\" width=\"200\" height=\"200\">"
   ]
  },
  {
   "cell_type": "code",
   "execution_count": null,
   "metadata": {},
   "outputs": [],
   "source": [
    "# circle = (\n",
    "#     (0,), \n",
    "#     (1,), (0,1), \n",
    "#     (2,), (1,2), (0,2)\n",
    "#     )\n",
    "# filtration = circle\n",
    "# max_dim = 1"
   ]
  },
  {
   "cell_type": "markdown",
   "metadata": {},
   "source": [
    "#### Splitting by dimension\n",
    "\n",
    "In `steenroder` all computations are done dimension by dimension. We start by splitting the filtration into collection of simplices of the same dimension."
   ]
  },
  {
   "cell_type": "code",
   "execution_count": null,
   "metadata": {},
   "outputs": [],
   "source": [
    "filtration_by_dim = sort_filtration_by_dim(filtration)"
   ]
  },
  {
   "cell_type": "markdown",
   "metadata": {},
   "source": [
    "The output of ``sort_filtration_by_dim`` is as follows:\n",
    "\n",
    "For each dimension ``d``, a list of 2 aligned int arrays: the first is a 1D array containing the (ordered) positional indices of all ``d``-dimensional simplices in `filtration`; the second is a 2D array whose ``i``-th row is the (sorted) collection of vertices defining the ``i``-th ``d``-dimensional simplex."
   ]
  },
  {
   "cell_type": "code",
   "execution_count": null,
   "metadata": {},
   "outputs": [],
   "source": [
    "d = 1\n",
    "filtration_by_dim[d]"
   ]
  },
  {
   "cell_type": "markdown",
   "metadata": {},
   "source": [
    "#### A note on anti-transposition\n",
    "\n",
    "The anti-transposition operation $(-)^\\perp$ on a matrix $N$ is determined by composing the usual trnasposition\n",
    "\n",
    "$$\n",
    "(-)^\\mathrm{T} \\colon (i,j) \\mapsto (j, i),\n",
    "$$\n",
    "and the horizontal and vertical flips\n",
    "$$\n",
    "(-)^\\mathrm{A} \\colon (i,j) \\mapsto (p-i, q-j)\n",
    "$$\n",
    "\n",
    "where we indexed rows and columns from $0$ to $p$ and $q$ respectively.\n",
    "\n",
    "We remark that\n",
    "\n",
    "$$\n",
    "(M N)^\\mathrm{A} = M^\\mathrm{A} N^\\mathrm{A}.\n",
    "$$\n",
    "\n",
    "for any pair of square matrices $M$ and $N$."
   ]
  },
  {
   "cell_type": "markdown",
   "metadata": {},
   "source": [
    "#### The $R = D^\\perp V$ decomposition\n",
    "\n",
    "To compute the matrices $R$ and $V$ in the decomposition $R = D^\\perp V$ ``steenroder`` uses the method ``get_reduced_triangular``.\n",
    "It actually produces $R^\\mathrm{A}$ and $V^\\mathrm{A}$.\n",
    "More precisely, the output ``reduced`` is a tuple of ``numba.typed.List`` with ``reduced[d]`` the ``d``-dimensional part of $R^\\mathrm{A}$.\n",
    "More explicitly, for an integer $j$ we have that an integer $i$ is in the tuple ``reduced[d][j]`` if and only if $R^\\mathrm{A}_{ij} = 1$. \n",
    "Similarly ``triangular[d]`` is the ``d``-dimensional part of the $V^\\mathrm{A}$. There are also two other auxiliary outputs that will be discussed later, these are ``spx2idx`` and ``idxs``."
   ]
  },
  {
   "cell_type": "code",
   "execution_count": null,
   "metadata": {},
   "outputs": [],
   "source": [
    "spx2idx, idxs, reduced, triangular = get_reduced_triangular(filtration_by_dim)"
   ]
  },
  {
   "cell_type": "markdown",
   "metadata": {},
   "source": [
    "We will verify for our running example that $R = D^\\perp V$ by checking that the coboundary $D^\\mathrm{T}$ of this filtration is equal to $R^\\mathrm{A} U^\\mathrm{A}$ where $U$ is the inverse of $V$."
   ]
  },
  {
   "cell_type": "code",
   "execution_count": null,
   "metadata": {},
   "outputs": [],
   "source": [
    "m = len(filtration)-1\n",
    "\n",
    "# compute coboundary\n",
    "coboundary = np.zeros((m+1,m+1), dtype=int)\n",
    "for j, x in enumerate(filtration):\n",
    "    for i, y in enumerate(filtration):\n",
    "        if len(x)+1 == len(y) and set(x).issubset(set(y)):   \n",
    "            coboundary[i,j] = 1\n",
    "    \n",
    "def to_array(matrix, e=0):\n",
    "    \"\"\"Transforms reduced (e=1) and triangular (e=0) to numpy arrays\"\"\"\n",
    "    array = np.zeros((m+1,m+1), dtype=int)\n",
    "    for d in range(max_dim+1):\n",
    "        for i, col in enumerate(matrix[d]):\n",
    "            for j in col:\n",
    "                array[idxs[d+e][j], idxs[d][i]] = 1\n",
    "    return array\n",
    "\n",
    "antiR, antiV = to_array(reduced, e=1), to_array(triangular, e=0)\n",
    "antiU = np.array(np.linalg.inv(antiV), dtype=int)\n",
    "product = np.matmul(antiR, antiU) % 2\n",
    "print(f'D^T = R^AU^A: {(coboundary == product).all()}')"
   ]
  },
  {
   "cell_type": "markdown",
   "metadata": {},
   "source": [
    "#### Regular barcode and representatives"
   ]
  },
  {
   "cell_type": "code",
   "execution_count": null,
   "metadata": {},
   "outputs": [],
   "source": [
    "barcode, coho_reps = get_barcode_and_coho_reps(idxs, reduced, triangular)"
   ]
  },
  {
   "cell_type": "markdown",
   "metadata": {},
   "source": [
    "For every ``d`` we have that ``barcode[d]`` is a 2D int array of shape ``(n_bars, 2)`` containing the birth (entry 1) and death (entry 0) indices of persistent relative cohomology classes in degree ``d``."
   ]
  },
  {
   "cell_type": "code",
   "execution_count": null,
   "metadata": {},
   "outputs": [],
   "source": [
    "for d in range(max_dim+1):\n",
    "    print(f'The barcode in dim {d}:\\n{barcode[d]}')"
   ]
  },
  {
   "cell_type": "markdown",
   "metadata": {},
   "source": [
    "We can compare to the description\n",
    "\\begin{align*}\n",
    "N \\ni j &\\mapsto \\big[ (m-j), (m-\\mathrm{pivot}\\,R_j) \\big] \\in Bar_{{\\dim(j)+1}}^{\\mathrm{fin}} \\\\\n",
    "E \\ni j &\\mapsto \\big[ -1, (m-j) \\big] \\in Bar_{\\dim(j)}^{\\mathrm{inf}}\n",
    "\\end{align*}\n",
    "where\n",
    "$$\n",
    "P = \\{ i \\ |\\ R_i = 0\\}, \\qquad N = \\{ i \\ |\\ R_i \\neq 0\\}, \\qquad E = P \\setminus \\{\\text{pivots of } R\\}.\n",
    "$$"
   ]
  },
  {
   "cell_type": "code",
   "execution_count": null,
   "metadata": {},
   "outputs": [],
   "source": [
    "R = np.flip(antiR, [0,1])\n",
    "k = m+1  # for the whole matrix use m+1\n",
    "# print(f'R = \\n{R[:k,:k]}')"
   ]
  },
  {
   "cell_type": "code",
   "execution_count": null,
   "metadata": {},
   "outputs": [],
   "source": [
    "def pivot(column):\n",
    "    try:\n",
    "        return max(column.nonzero()[0])\n",
    "    except:\n",
    "        pass\n",
    "\n",
    "P, N, E = [], [], []\n",
    "for i, col in enumerate(R.T):\n",
    "    if pivot(col):\n",
    "        N.append(i)\n",
    "        E.remove(pivot(col))\n",
    "    else:\n",
    "        P.append(i)\n",
    "        E.append(i)\n",
    "\n",
    "print(f'P = {P}\\nN = {N}\\nE = {E}')"
   ]
  },
  {
   "cell_type": "code",
   "execution_count": null,
   "metadata": {},
   "outputs": [],
   "source": [
    "bcode = [[] for d in range(max_dim+1)]\n",
    "\n",
    "for j in N:\n",
    "    d = len(filtration[m-j])\n",
    "    bcode[d].append([m-j, m-pivot(R[:,j])])\n",
    "        \n",
    "for j in E:\n",
    "    d = len(filtration[m-j])-1\n",
    "    bcode[d].append([-1, m-j])\n",
    "\n",
    "for d in range(max_dim+1):\n",
    "    print(f'The barcode in dim {d}:\\n{bcode[d]}')"
   ]
  },
  {
   "cell_type": "markdown",
   "metadata": {},
   "source": [
    "Additionally, ``coho_reps[d][k]`` is a list of positional indices, relative to the ``d``-dimensional portion of the filtration, representing the bar ``barcode[d][k]`` for every ``k``.\n",
    "\n",
    "To express these representatives in terms of cochains, we use that ``idxs[d]`` is an int array containing the (ordered) positional indices of all ``d``-dimensional simplices in the filtration."
   ]
  },
  {
   "cell_type": "code",
   "execution_count": null,
   "metadata": {},
   "outputs": [],
   "source": [
    "d = 1\n",
    "print(f'In dim {d}:')\n",
    "for bar, rel_positions in zip(barcode[d], coho_reps[d]):\n",
    "    coho_rep = []\n",
    "    for p in rel_positions:\n",
    "        coho_rep.append(filtration[idxs[d][p]])\n",
    "    print(f\"{str(bar): <7} rep. by {coho_rep}\")"
   ]
  },
  {
   "cell_type": "markdown",
   "metadata": {},
   "source": [
    "We can compare to the description\n",
    "\\begin{equation*}\n",
    "[i,j] \\mapsto\n",
    "\\begin{cases}\n",
    "V_{m-j}, & i = -1, \\\\\n",
    "R_{m-i}, & i \\neq -1.\n",
    "\\end{cases}\n",
    "\\end{equation*}"
   ]
  },
  {
   "cell_type": "code",
   "execution_count": null,
   "metadata": {},
   "outputs": [],
   "source": [
    "V = np.flip(antiV, [0,1])\n",
    "d = 1\n",
    "print(f'In dim {d}:')\n",
    "for bar in barcode[d]:\n",
    "    i,j = bar\n",
    "    c_rep = []\n",
    "    if i == -1:\n",
    "        nonzeros = np.nonzero(V[:,m-j])[0]\n",
    "    else:\n",
    "        nonzeros = np.nonzero(R[:,m-i])[0]\n",
    "    for p in nonzeros:\n",
    "        c_rep.append(filtration[m-p])\n",
    "    print(f'{str(bar): <7} rep. by {c_rep}')"
   ]
  },
  {
   "cell_type": "markdown",
   "metadata": {},
   "source": [
    "### Steenrod barcodes\n",
    "\n",
    "We will now describe an effective computation of the $Sq^k$-barcode of persistent relative cohomology bulding on the computation of regular barcodes and representatives.\n",
    "Recall that the $Sq^k$-barcode is by definition the barcode of the image persistent module of the endomorphism $Sq^k$.\n",
    "\n",
    "\n",
    "#### Steenrod representatives\n",
    "\n",
    "Given vector $v$ corresponding to a cocycle $\\alpha$, let $SQ^k(v)$ be the vector correponding to cocycle representative of $Sq^k \\big( [\\alpha] \\big)$.\n",
    "For example, the one obtained using the following pseudo-code, where $A$ is the support of $\\alpha$.\n",
    "\n",
    "<img src=\"stsq.png\" width=\"550\" height=\"550\">\n",
    "\n",
    "#### Steenrod matrix\n",
    "\n",
    "Identifying a vector with the support of its associated cochain, define $Q^k$ to be the matrix whose columns are given by\n",
    "\n",
    "\\begin{equation*}\n",
    "Q^k_i = \\begin{cases}\n",
    "SQ^k(V_i) & i \\in E, \\\\\n",
    "SQ^k(R_j) & i = pivot(R_j), \\\\\n",
    "0 & otherwise.\n",
    "\\end{cases}\n",
    "\\end{equation*}\n",
    "\n",
    "#### Reduction\n",
    "\n",
    "Given $R$ and $Q^k$, we denote by $R_{\\le j}$ and $Q^k_{\\le j}$ the submatrices containing all columns with indices less than or equal to $j$, and $R_{\\le j} \\mid Q^k_{\\le j}$ the matrix obtained by concatenating their columns.\n",
    "With this notation the following pseudo-code computes the $k$-Steenrod barcode of the filtration.\n",
    "\n",
    "TYPO\n",
    "\n",
    "<img src=\"st_bars.png\" width=\"600\" height=\"600\">"
   ]
  },
  {
   "cell_type": "markdown",
   "metadata": {},
   "source": [
    "## Steenrod barcodes using ``steenroder``\n",
    "\n",
    "Let us return to the $\\mathbb R P^2$ example."
   ]
  },
  {
   "cell_type": "code",
   "execution_count": null,
   "metadata": {},
   "outputs": [],
   "source": [
    "filtration = rp2\n",
    "filtration_by_dim = sort_filtration_by_dim(filtration)\n",
    "spx2idx, idxs, reduced, triangular = get_reduced_triangular(filtration_by_dim)\n",
    "barcode, coho_reps = get_barcode_and_coho_reps(idxs, reduced, triangular)"
   ]
  },
  {
   "cell_type": "markdown",
   "metadata": {},
   "source": [
    "Using a fast implementation of Algorithm 2, ``steenroder`` constructs the Steenrod matrix using the method ``get_steenrod_matrix``.\n",
    "Its output is a list of ``numba.typed.List``, one list per simplex dimension.\n",
    "Explicitly, ``steenrod_matrix[d][j]`` entry is the result of computing the Steenrod square of ``coho_reps[d][j]``."
   ]
  },
  {
   "cell_type": "code",
   "execution_count": null,
   "metadata": {
    "scrolled": true
   },
   "outputs": [],
   "source": [
    "k = 1\n",
    "steenrod_matrix = get_steenrod_matrix(k, coho_reps, filtration_by_dim, spx2idx, n_jobs=-1)\n",
    "\n",
    "d = 1\n",
    "print(f'In dim {d}:')\n",
    "for bar, rel_pos, st_rel_pos in zip(barcode[d], coho_reps[d], steenrod_matrix[d+1]):\n",
    "    coho_rep = []\n",
    "    for p in rel_pos:\n",
    "        coho_rep.append(filtration[idxs[d][p]])\n",
    "    st_rep = []\n",
    "    for p in st_rel_pos:\n",
    "        st_rep.append(filtration[idxs[d+1][p]])\n",
    "    print(f'bar {bar} rep. by {coho_rep}')\n",
    "    print(f'whose sq^{k} img. is rep. by {st_rep}\\n')"
   ]
  },
  {
   "cell_type": "markdown",
   "metadata": {},
   "source": [
    "Algorithm 2 is carried through in ``get_steenrod_barcode``, whose output is the $Sq^k$-barcode of the filtration."
   ]
  },
  {
   "cell_type": "code",
   "execution_count": null,
   "metadata": {
    "scrolled": true
   },
   "outputs": [],
   "source": [
    "d = 2\n",
    "st_bcode = get_steenrod_barcode(k, steenrod_matrix, idxs, reduced, barcode, filtration_values=None)\n",
    "st_bcode[2]"
   ]
  },
  {
   "cell_type": "code",
   "execution_count": null,
   "metadata": {},
   "outputs": [],
   "source": [
    "len(steenrod_matrix[2])\n",
    "len(idxs[1])\n",
    "barcode[1]"
   ]
  },
  {
   "cell_type": "code",
   "execution_count": null,
   "metadata": {},
   "outputs": [],
   "source": [
    "k=1\n",
    "antiQ = np.zeros((m+1,m+1), dtype=int)\n",
    "for d in range(max_dim-k+1):\n",
    "    for bar, col in zip(barcode[d], steenrod_matrix[d+k]):\n",
    "        for p in col:\n",
    "            antiQ[idxs[d+k][p], m-bar[1]] = 1\n",
    "\n",
    "Q = np.flip(antiQ, [0,1])"
   ]
  },
  {
   "cell_type": "code",
   "execution_count": null,
   "metadata": {},
   "outputs": [],
   "source": [
    "def _pivot(column):\n",
    "    try:\n",
    "        return max(column.nonzero()[0])\n",
    "    except ValueError:\n",
    "        return None\n",
    "\n",
    "def reduce_vector(reduced, vector):\n",
    "    num_col = reduced.shape[1]\n",
    "    i = -1\n",
    "    while i >= -num_col:\n",
    "        if not np.any(vector):\n",
    "            break\n",
    "        else:\n",
    "            piv_v = _pivot(vector)\n",
    "            piv_i = _pivot(reduced[:, i])\n",
    "\n",
    "            if piv_i == piv_v:\n",
    "                vector[:, 0] = np.logical_xor(reduced[:, i], vector[:, 0])\n",
    "                i = 0\n",
    "            i -= 1\n",
    "\n",
    "def reduce_matrix(reduced, matrix):\n",
    "    num_vector = matrix.shape[1]\n",
    "    reducing = reduced.copy()\n",
    "\n",
    "    for i in range(num_vector):\n",
    "        reduce_vector(reducing, matrix[:, i:i + 1])\n",
    "        reducing = np.concatenate([reducing, matrix[:, i:i + 1]], axis=1)\n",
    "\n",
    "def get_steenrod_barcode(reduced, steenrod_matrix):\n",
    "    num_col = reduced.shape[1]\n",
    "    alive = {i: True for i in range(num_col)}\n",
    "    R = reduced\n",
    "    Q = steenrod_matrix\n",
    "    st_barcode = []\n",
    "    for j in range(num_col):\n",
    "        reduce_matrix(R[:, :j+1], Q[:, :j+1])\n",
    "        for i in range(j+1):\n",
    "            if alive[i] and not np.any(Q[:, i]):\n",
    "                alive[i] = False\n",
    "                if j > i:\n",
    "                    st_barcode.append([i, j])\n",
    "    st_barcode += [[-1,i] for i in alive if alive[i]]\n",
    "    return sorted([bar for bar in st_barcode if bar[1] > bar[0]])"
   ]
  },
  {
   "cell_type": "code",
   "execution_count": null,
   "metadata": {},
   "outputs": [],
   "source": [
    "get_steenrod_barcode(R,Q)"
   ]
  }
 ],
 "metadata": {
  "kernelspec": {
   "display_name": "Python 3",
   "language": "python",
   "name": "python3"
  },
  "language_info": {
   "codemirror_mode": {
    "name": "ipython",
    "version": 3
   },
   "file_extension": ".py",
   "mimetype": "text/x-python",
   "name": "python",
   "nbconvert_exporter": "python",
   "pygments_lexer": "ipython3",
   "version": "3.9.1"
  }
 },
 "nbformat": 4,
 "nbformat_minor": 2
}
