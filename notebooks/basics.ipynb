{
 "cells": [
  {
   "cell_type": "markdown",
   "metadata": {},
   "source": [
    "# Steenrod barcode of a filtration of $\\mathbb RP^2$\n",
    "<img src=\"triangulation.png\" width=\"200\" height=\"200\">"
   ]
  },
  {
   "cell_type": "markdown",
   "metadata": {},
   "source": [
    "### Total order\n",
    "Induced by the order of vertices and the clique principle."
   ]
  },
  {
   "cell_type": "code",
   "execution_count": null,
   "metadata": {},
   "outputs": [],
   "source": [
    "filtration = (\n",
    "    (0,), \n",
    "    (1,), (0,1), \n",
    "    (2,), (0,2), (1,2), (0,1,2),\n",
    "    (3,), (0,3), (1,3), (0,1,3), (2,3),\n",
    "    (4,), (0,4), (1,4), (2,4), (1,2,4), (3,4), (0,3,4), (2,3,4),\n",
    "    (5,), (0,5), (1,5), (2,5), (0,2,5), (3,5), (1,3,5), (2,3,5), (4,5), (0,4,5), (1,4,5)\n",
    "    )"
   ]
  },
  {
   "cell_type": "markdown",
   "metadata": {},
   "source": [
    "### Barcodes"
   ]
  },
  {
   "cell_type": "code",
   "execution_count": null,
   "metadata": {},
   "outputs": [],
   "source": [
    "from steenroder import barcodes\n",
    "\n",
    "k = 1\n",
    "barcode, st_barcode = barcodes(k, filtration)\n",
    "\n",
    "print(f'Usual barcode \\n{barcode}\\n\\n' +\n",
    "      f'Steenrod barcode for k={k} \\n{st_barcode}')"
   ]
  },
  {
   "cell_type": "markdown",
   "metadata": {},
   "source": [
    "## How is it computed?\n",
    "\n",
    "### Step 1: the $R = MV$ decomposition\n",
    "\n",
    "Here $V$ is an invertible upper triangular matrix and $R$ is reduced, i.e., no two columns have the same pivot row.\n",
    "\n",
    "Assume $M$ is the boundary matrix of the filtration. Denoting the $i$-th column of $R$ by $R_{i}$, let\n",
    "\n",
    "\\begin{equation*}\n",
    "P = \\{ i \\ |\\ R_i = 0\\} \\qquad N = \\{ i \\ |\\ R_i \\neq 0\\} \\qquad E = P \\setminus \\{\\text{pivots of } R\\}.\n",
    "\\end{equation*}\n",
    "\n",
    "There exists a canonical bijection between the union of $N$ and $E$ and the persistence homology barcode of the filtration given by\n",
    "\n",
    "\\begin{align*}\n",
    "& N \\ni i \\mapsto [i, \\text{pivot }R_i)\\\\\n",
    "& E \\ni i \\mapsto [i, \\infty).\n",
    "\\end{align*}"
   ]
  },
  {
   "cell_type": "markdown",
   "metadata": {},
   "source": [
    "### Anti-transpose\n",
    "\n",
    "We will consider the antitranspose $D^\\perp$ of the boundary matrix $D$\n",
    "\n",
    "\\begin{equation*}\n",
    "D^\\perp_{p,\\, q} = D_{m+1-p,\\ m+1-q}\n",
    "\\end{equation*}\n",
    "\n",
    "where $m$ is the total number of simplices. The above procedure applied to $D^\\perp$ produces the barcode of the persistence relative cohomology\n",
    "\n",
    "$$H^\\bullet(X, X_{m-1}) \\to \\cdots \\to H^\\bullet(X, X_{2}) \\to H^\\bullet(X, X_{1})$$\n",
    "of the filtration."
   ]
  },
  {
   "cell_type": "code",
   "execution_count": null,
   "metadata": {},
   "outputs": [],
   "source": [
    "from steenroder import get_coboundary\n",
    "import numpy as np\n",
    "\n",
    "antitransposed = get_coboundary(filtration)\n",
    "\n",
    "print('The first 6x6 minor of the antitranspose boundary matrix:')\n",
    "print(antitransposed[:6,:6].astype(np.int8))"
   ]
  },
  {
   "cell_type": "markdown",
   "metadata": {},
   "source": [
    "### Representatives\n",
    "\n",
    "Additionally, a representative cocycle for each bar in the barcode is given by the set of cochains corresponding to the vectors in\n",
    "\n",
    "\\begin{equation*}\n",
    "\\{R_i\\ |\\ i \\in N\\} \\cup\\{V_i\\, |\\ i \\in E\\},\n",
    "\\end{equation*}\n",
    "\n",
    "and a basis for coboundaries of $H^\\bullet(X, X_j)$ corresponds with the vectors in\n",
    "\n",
    "\\begin{equation*}\n",
    "\\{R_i\\ |\\ i \\in N,\\, i \\leq j\\}.\n",
    "\\end{equation*}"
   ]
  },
  {
   "cell_type": "code",
   "execution_count": null,
   "metadata": {},
   "outputs": [],
   "source": [
    "from steenroder import get_coho_reps, vector_to_cochain\n",
    "\n",
    "coho_reps = get_coho_reps(filtration, barcode=barcode)\n",
    "print('Cohomology representatives of infinite length')\n",
    "for i in [0, 10, -1]:\n",
    "    print(barcode[i], ':\\n', vector_to_cochain(filtration, coho_reps[:,i]))"
   ]
  },
  {
   "cell_type": "markdown",
   "metadata": {},
   "source": [
    "### Representatives of the image of $Sq^k$\n",
    "\n",
    "Given vector $v$ corresponding to a cocycle $\\alpha$, we denote by $SQ^k(v)$ any vector correponding to a cocycle representing $Sq^k([\\alpha])$."
   ]
  },
  {
   "cell_type": "code",
   "execution_count": null,
   "metadata": {
    "scrolled": true
   },
   "outputs": [],
   "source": [
    "from steenroder import get_st_reps\n",
    "\n",
    "st_reps = get_st_reps(filtration, k)\n",
    "\n",
    "print('Let us consider the cocycle associated to the bar (19, inf) \\n' +\n",
    "      f'{vector_to_cochain(filtration, coho_reps[:,i])} \\n' + \n",
    "      f'Then, Sq^{k}(a) is represented by \\n' + \n",
    "      f'{vector_to_cochain(filtration, st_reps[:10])}')"
   ]
  },
  {
   "cell_type": "markdown",
   "metadata": {},
   "source": [
    "### Step 2: Steenrod matrix\n",
    "\n",
    "Let $Q^k$ the $m \\times m$ matrix\n",
    "\\begin{equation*}\n",
    "Q^k_i = \\begin{cases}\n",
    "SQ^k(V_i) & i \\in E, \\\\\n",
    "SQ^k(R_j) & i = pivot(R_j), \\\\\n",
    "0 & otherwise.\n",
    "\\end{cases}\n",
    "\\end{equation*}"
   ]
  },
  {
   "cell_type": "code",
   "execution_count": null,
   "metadata": {},
   "outputs": [],
   "source": [
    "from steenroder import get_steenrod_matrix\n",
    "\n",
    "st_matrix = get_steenrod_matrix(k, coho_reps, barcode, filtration)\n",
    "\n",
    "print(f'A 6x6 part of the steenrod matrix \\n{st_matrix[:6, 16:22].astype(np.int8)}')"
   ]
  },
  {
   "cell_type": "markdown",
   "metadata": {},
   "source": [
    "Given $R$ and $Q^k$, the following pseudo code computes the $k$-Steenrod barcode of the filtration\n",
    "\n",
    "<img src=\"algorithm.png\" width=\"600\" height=\"600\">"
   ]
  }
 ],
 "metadata": {
  "kernelspec": {
   "display_name": "Python 3",
   "language": "python",
   "name": "python3"
  },
  "language_info": {
   "codemirror_mode": {
    "name": "ipython",
    "version": 3
   },
   "file_extension": ".py",
   "mimetype": "text/x-python",
   "name": "python",
   "nbconvert_exporter": "python",
   "pygments_lexer": "ipython3",
   "version": "3.7.3"
  }
 },
 "nbformat": 4,
 "nbformat_minor": 2
}
