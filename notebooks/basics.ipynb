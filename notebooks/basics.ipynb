{
 "cells": [
  {
   "cell_type": "markdown",
   "metadata": {},
   "source": [
    "## A triangulation of $\\mathbb RP^2$\n",
    "<img src=\"triangulation.png\" width=\"200\" height=\"200\">"
   ]
  },
  {
   "cell_type": "code",
   "execution_count": null,
   "metadata": {},
   "outputs": [],
   "source": [
    "import pickle as pkl\n",
    "\n",
    "k = 1\n",
    "filtration = pkl.load(open(\"data/rp2.pkl\", \"rb\"))\n",
    "print(filtration)"
   ]
  },
  {
   "cell_type": "code",
   "execution_count": null,
   "metadata": {},
   "outputs": [],
   "source": [
    "from steenroder import barcodes\n",
    "\n",
    "barcode, st_barcode = barcodes(k, filtration)\n",
    "\n",
    "print(f'Usual barcode \\n{barcode}\\n\\n' +\n",
    "      f'Steenrod barcode for k={k} \\n{st_barcode}')"
   ]
  },
  {
   "cell_type": "code",
   "execution_count": null,
   "metadata": {},
   "outputs": [],
   "source": [
    "from steenroder import get_coho_reps, vector_to_cochain\n",
    "\n",
    "coho_reps = get_coho_reps(filtration, barcode=barcode)\n",
    "print('Cohomology representatives of infinite length')\n",
    "for i in [0, 13, 16]:\n",
    "    print(vector_to_cochain(filtration, coho_reps[:,i]))"
   ]
  },
  {
   "cell_type": "code",
   "execution_count": null,
   "metadata": {},
   "outputs": [],
   "source": [
    "from steenroder import get_st_reps\n",
    "\n",
    "st_reps = get_st_reps(filtration, k)\n",
    "\n",
    "print(vector_to_cochain(filtration, st_reps[13]))"
   ]
  }
 ],
 "metadata": {
  "kernelspec": {
   "display_name": "Python 3",
   "language": "python",
   "name": "python3"
  },
  "language_info": {
   "codemirror_mode": {
    "name": "ipython",
    "version": 3
   },
   "file_extension": ".py",
   "mimetype": "text/x-python",
   "name": "python",
   "nbconvert_exporter": "python",
   "pygments_lexer": "ipython3",
   "version": "3.7.3"
  }
 },
 "nbformat": 4,
 "nbformat_minor": 2
}
