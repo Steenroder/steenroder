{
 "cells": [
  {
   "cell_type": "code",
   "execution_count": null,
   "id": "f995da6d",
   "metadata": {},
   "outputs": [],
   "source": [
    "import numpy as np\n",
    "\n",
    "from steenroder import *\n",
    "import gudhi\n",
    "\n",
    "from matplotlib import pyplot as plt\n",
    "\n",
    "from scipy.io import loadmat\n",
    "\n",
    "from sklearn.manifold import Isomap\n",
    "from hdbscan import HDBSCAN\n",
    "\n",
    "from gtda.homology import VietorisRipsPersistence\n",
    "from gtda.plotting import plot_point_cloud"
   ]
  },
  {
   "cell_type": "markdown",
   "id": "fa63749a",
   "metadata": {},
   "source": [
    "This dataset of 6040 samples from the configuration space of the cyclo-octane molecule $C_{8} H_{16}$ is described in https://www.frontiersin.org/articles/10.3389/frai.2021.668302/full#B48 as follows:\n",
    "\n",
    "> What do we mean by “global shape”? Consider, for example, conformations of the cyclo-octane molecule $C_8 H_{16}$, which consists of a ring of eight carbons atoms, each bonded to a pair of hydrogen atoms (see Figure 4, left). The locations of the carbon atoms in a conformation approximately determine the locations of the hydrogen atoms via energy minimization, and hence each molecule conformation can be mapped to a point in $\\mathbb{R}^{24} = \\mathbb{R}^{8 \\cdot 3}$, as the location of each carbon atom can be specified by three coordinates. This map realizes the conformation space of cyclo-octane as a subset of $\\mathbb{R}^{24}$, and then we mod out by rigid rotations and translations. Topologically, the conformation space of cyclo-octane turns out to be the union of a sphere with a Klein bottle, glued together along two circles of singularities (see Figure 4, right). This model was obtained by Martin et al. (2010), Martin and Watson (2011), and Brown et al. (2008), who furthermore obtain a triangulation of this dataset (a representation of the dataset as a union of vertices, edges, and triangles)."
   ]
  },
  {
   "cell_type": "code",
   "execution_count": null,
   "id": "e748af94",
   "metadata": {},
   "outputs": [],
   "source": [
    "cyclo_octane = loadmat(\"../data/pointsCycloOctane.mat\")['pointsCycloOctane']\n",
    "cyclo_octane.shape"
   ]
  },
  {
   "cell_type": "markdown",
   "id": "b14e6430",
   "metadata": {},
   "source": [
    "The circles of singularities can be found by several methods. Traditionally, local PCA was used. Here, we use the singular set found by using the methods in https://www.pnas.org/content/117/33/19664:"
   ]
  },
  {
   "cell_type": "code",
   "execution_count": null,
   "id": "1f98f0c1",
   "metadata": {},
   "outputs": [],
   "source": [
    "singular_indices = loadmat(\"../data/singularity_indicesCycloOctane_PH0.5.mat\")['singularity_indices_PH'].flatten() - 1\n",
    "nonsingular_indices = np.array([x for x in range(len(cyclo_octane)) if x not in singular_indices])\n",
    "print(f\"{len(singular_indices)} points in the singular set\")"
   ]
  },
  {
   "cell_type": "markdown",
   "id": "37387c5f",
   "metadata": {},
   "source": [
    "Let us store the non-singular portion for later use"
   ]
  },
  {
   "cell_type": "code",
   "execution_count": null,
   "id": "2d70c027",
   "metadata": {},
   "outputs": [],
   "source": [
    "cyclo_octane_nonsingular = cyclo_octane[nonsingular_indices]"
   ]
  },
  {
   "cell_type": "markdown",
   "id": "ced3690e",
   "metadata": {},
   "source": [
    "A dimensionality reduction algorithm such as ISOMAP can help us visualize the full dataset in 3D:"
   ]
  },
  {
   "cell_type": "code",
   "execution_count": null,
   "id": "88751a20",
   "metadata": {},
   "outputs": [],
   "source": [
    "isomap = Isomap(n_components=3).fit_transform(cyclo_octane)"
   ]
  },
  {
   "cell_type": "code",
   "execution_count": null,
   "id": "e9ffac92",
   "metadata": {},
   "outputs": [],
   "source": [
    "plot_point_cloud(isomap, plotly_params={\"trace\": {\"marker_size\": 1},\n",
    "                                        \"layout\": {\"height\": 600, \"width\": 600}})"
   ]
  },
  {
   "cell_type": "markdown",
   "id": "74f382f9",
   "metadata": {},
   "source": [
    "We can also visualize the singular and non-singular portions:"
   ]
  },
  {
   "cell_type": "code",
   "execution_count": null,
   "id": "c6397192",
   "metadata": {},
   "outputs": [],
   "source": [
    "isomap_nonsingular = isomap[nonsingular_indices]\n",
    "isomap_singular = isomap[singular_indices]"
   ]
  },
  {
   "cell_type": "code",
   "execution_count": null,
   "id": "0991aa34",
   "metadata": {},
   "outputs": [],
   "source": [
    "plot_point_cloud(isomap_nonsingular, plotly_params={\"trace\": {\"marker_size\": 1},\n",
    "                                                    \"layout\": {\"height\": 600, \"width\": 600}})"
   ]
  },
  {
   "cell_type": "markdown",
   "id": "d0c9ec08",
   "metadata": {},
   "source": [
    "We can see that the singular set does look like two circles in the ISOMAP projection:"
   ]
  },
  {
   "cell_type": "code",
   "execution_count": null,
   "id": "da4337b3",
   "metadata": {},
   "outputs": [],
   "source": [
    "plot_point_cloud(isomap_singular, plotly_params={\"trace\": {\"marker_size\": 1},\n",
    "                                                 \"layout\": {\"height\": 600, \"width\": 600}})"
   ]
  },
  {
   "cell_type": "markdown",
   "id": "37f4a714",
   "metadata": {},
   "source": [
    "From previous literature, we expect the nonsingular part of the data to be the union of a 2-sphere and a Klein bottle. We partition the non-singular part using the clustering algorithm HDBSCAN:"
   ]
  },
  {
   "cell_type": "code",
   "execution_count": null,
   "id": "290c6d4a",
   "metadata": {},
   "outputs": [],
   "source": [
    "HD = HDBSCAN(min_samples=2, min_cluster_size=300, alpha=1., cluster_selection_epsilon=0)\n",
    "HD.fit(cyclo_octane_nonsingular)"
   ]
  },
  {
   "cell_type": "markdown",
   "id": "b105f045",
   "metadata": {},
   "source": [
    "With these hyperparameters, the portion we are interested in turns out to be the cluster labelled as `3` by HDBSCAN:"
   ]
  },
  {
   "cell_type": "code",
   "execution_count": null,
   "id": "e22d8a52",
   "metadata": {},
   "outputs": [],
   "source": [
    "mask_klein = HD.labels_ == 3\n",
    "isomap_klein = isomap_nonsingular[mask_klein]\n",
    "\n",
    "plot_point_cloud(isomap_klein, plotly_params={\"trace\": {\"marker_size\": 1},\n",
    "                                              \"layout\": {\"height\": 600, \"width\": 600}})"
   ]
  },
  {
   "cell_type": "code",
   "execution_count": null,
   "id": "a203814d-55aa-4706-ac8b-4e60d282c704",
   "metadata": {},
   "outputs": [],
   "source": [
    "mask_sphere = np.isin(HD.labels_, [0, 1, 2])\n",
    "isomap_sphere = isomap_nonsingular[mask_sphere]\n",
    "\n",
    "plot_point_cloud(isomap_sphere, plotly_params={\"trace\": {\"marker_size\": 1},\n",
    "                                               \"layout\": {\"height\": 600, \"width\": 600}})"
   ]
  },
  {
   "cell_type": "markdown",
   "id": "d6af4a97",
   "metadata": {
    "tags": []
   },
   "source": [
    "# Steenrod barcode"
   ]
  },
  {
   "cell_type": "code",
   "execution_count": null,
   "id": "cd266960",
   "metadata": {},
   "outputs": [],
   "source": [
    "cyclo_octane_klein = cyclo_octane_nonsingular[mask_klein]\n",
    "cyclo_octane_sphere = cyclo_octane_nonsingular[mask_sphere]\n",
    "\n",
    "VietorisRipsPersistence(max_edge_length=1.5, infinity_values=np.inf).fit_transform_plot(\n",
    "    [cyclo_octane_klein],\n",
    "    plotly_params={\"traces\": {\"marker_size\": 2},\n",
    "                   \"layout\": {\"title\": \"Klein bottle component\"}}\n",
    ");\n",
    "VietorisRipsPersistence(max_edge_length=1.5, infinity_values=np.inf).fit_transform_plot(\n",
    "    [cyclo_octane_sphere],\n",
    "    plotly_params={\"traces\": {\"marker_size\": 2},\n",
    "                   \"layout\": {\"title\": \"Sphere component\"}}\n",
    ");"
   ]
  },
  {
   "cell_type": "markdown",
   "id": "252386df",
   "metadata": {},
   "source": [
    "We construct a Rips filtration of the selected dataset, allegedly a Klein bottle."
   ]
  },
  {
   "cell_type": "code",
   "execution_count": null,
   "id": "7cd179d4-0d90-4294-8ebe-7ed35571e62b",
   "metadata": {},
   "outputs": [],
   "source": [
    "max_edge_length = 1.2"
   ]
  },
  {
   "cell_type": "code",
   "execution_count": null,
   "id": "8d44367f",
   "metadata": {},
   "outputs": [],
   "source": [
    "simplex_tree = gudhi.RipsComplex(points=cyclo_octane_klein, max_edge_length=max_edge_length).\\\n",
    "    create_simplex_tree(max_dimension=1)\n",
    "\n",
    "for i, _ in enumerate(simplex_tree.get_filtration()):\n",
    "        pass\n",
    "\n",
    "len_filtration = i + 1\n",
    "print(f\"Filtration with {len_filtration} simplices up to dimension 1 initially\")"
   ]
  },
  {
   "cell_type": "markdown",
   "id": "5aee5413",
   "metadata": {},
   "source": [
    "This filtration is too large to be handled by Steenroder in a reasonable amount of time when expanded all the way to dimension 3, so we apply edge collapses iteratively. *Caution: this step may take a while to run*"
   ]
  },
  {
   "cell_type": "code",
   "execution_count": null,
   "id": "75b56a50",
   "metadata": {},
   "outputs": [],
   "source": [
    "while True:\n",
    "    simplex_tree.collapse_edges()\n",
    "\n",
    "    for i, _ in enumerate(simplex_tree.get_filtration()):\n",
    "        pass\n",
    "\n",
    "    if i + 1 == len_filtration:\n",
    "        break\n",
    "    else:\n",
    "        len_filtration = i + 1\n",
    "        print(f\"{len_filtration} simplices up to dimension 1\")"
   ]
  },
  {
   "cell_type": "markdown",
   "id": "d6aac2ef",
   "metadata": {},
   "source": [
    "We now construct the full Rips filtration up to dimension-3 simplices, and run Steenroder:"
   ]
  },
  {
   "cell_type": "code",
   "execution_count": null,
   "id": "3c0a6ca6",
   "metadata": {},
   "outputs": [],
   "source": [
    "simplex_tree.expansion(3)  # Get the three-simplices after collapse\n",
    "\n",
    "filtration = []\n",
    "filtration_values = []\n",
    "for s in simplex_tree.get_filtration():\n",
    "    filtration.append(tuple(s[0]))\n",
    "    filtration_values.append(s[1])\n",
    "\n",
    "filtration_values = np.asarray(filtration_values, dtype=np.float64)\n",
    "\n",
    "print(f\"Filtration with {len(filtration)} simplices up to dimension 3\")"
   ]
  },
  {
   "cell_type": "code",
   "execution_count": null,
   "id": "7b802738",
   "metadata": {},
   "outputs": [],
   "source": [
    "k = 1\n",
    "\n",
    "barcode, st_barcode = barcodes(\n",
    "    k,\n",
    "    filtration,\n",
    "    homology=True,\n",
    "    filtration_values=filtration_values,\n",
    "    return_filtration_values=True,\n",
    "    verbose=True\n",
    "    )\n",
    "\n",
    "st_barcode"
   ]
  }
 ],
 "metadata": {
  "kernelspec": {
   "display_name": "Python 3",
   "language": "python",
   "name": "python3"
  },
  "language_info": {
   "codemirror_mode": {
    "name": "ipython",
    "version": 3
   },
   "file_extension": ".py",
   "mimetype": "text/x-python",
   "name": "python",
   "nbconvert_exporter": "python",
   "pygments_lexer": "ipython3",
   "version": "3.9.2"
  }
 },
 "nbformat": 4,
 "nbformat_minor": 5
}
