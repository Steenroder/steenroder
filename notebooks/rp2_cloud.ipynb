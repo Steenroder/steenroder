{
 "cells": [
  {
   "cell_type": "code",
   "execution_count": 182,
   "id": "secondary-mixer",
   "metadata": {},
   "outputs": [
    {
     "name": "stdout",
     "output_type": "stream",
     "text": [
      "The autoreload extension is already loaded. To reload it, use:\n",
      "  %reload_ext autoreload\n"
     ]
    }
   ],
   "source": [
    "%load_ext autoreload\n",
    "%autoreload 2\n",
    "\n",
    "import time\n",
    "import itertools\n",
    "\n",
    "import numpy as np\n",
    "import pickle as pkl\n",
    "\n",
    "from scipy import spatial as spatial\n",
    "from scipy import sparse as sp\n",
    "from sklearn.preprocessing import scale\n",
    "\n",
    "from steenroder import *\n",
    "import gudhi\n",
    "\n",
    "from matplotlib import pyplot as plt"
   ]
  },
  {
   "cell_type": "code",
   "execution_count": 183,
   "id": "prescription-ordinary",
   "metadata": {},
   "outputs": [],
   "source": [
    "def sphere(n=100, r=1, noise=None):\n",
    "    '''(r, u, v) \\mapsto (r sin u cos v, y = r sin u sin v, z = r cos u)'''\n",
    "    u = np.random.random((n,)) * 2.0 * np.pi\n",
    "    v = np.random.random((n,)) * np.pi\n",
    "    rad = np.ones((n,)) * r\n",
    "\n",
    "    data = np.zeros((n, 3))\n",
    "\n",
    "    data[:, 0] = rad * np.cos(u) * np.cos(v)\n",
    "    data[:, 1] = rad * np.cos(u) * np.sin(v)\n",
    "    data[:, 2] = rad * np.sin(u)\n",
    "\n",
    "    if noise: \n",
    "        data += noise * np.random.randn(*data.shape)\n",
    "\n",
    "    return data\n",
    "\n",
    "def real_proj(S):\n",
    "    \"\"\"(x,y,z) \\mapsto (xy, xz, y^2−z^2, 2yz)\"\"\"\n",
    "    RP = np.empty((n, 4))\n",
    "\n",
    "    RP[:,0] = S[:,0]*S[:,1]\n",
    "    RP[:,1] = S[:,0]*S[:,2]\n",
    "    RP[:,2] = S[:,1]*S[:,1] - S[:,2]*S[:,2]\n",
    "    RP[:,3] = 2*S[:,1]*S[:,2]\n",
    "\n",
    "    return RP"
   ]
  },
  {
   "cell_type": "code",
   "execution_count": 184,
   "id": "eacc896d",
   "metadata": {},
   "outputs": [],
   "source": [
    "n, r, noise = 115, 1, 0\n",
    "s2 = sphere(n, r, noise)\n",
    "rp2 = real_proj(s2)\n",
    "\n",
    "rips_complex_rp2 = gudhi.RipsComplex(points=rp2)\n",
    "simplex_tree_rp2 = rips_complex_rp2.create_simplex_tree(max_dimension=1)  # Only get the 1-skeleton this time"
   ]
  },
  {
   "cell_type": "code",
   "execution_count": 185,
   "id": "d426f933",
   "metadata": {},
   "outputs": [
    {
     "name": "stdout",
     "output_type": "stream",
     "text": [
      "Filtration with 1267 simplices\n"
     ]
    }
   ],
   "source": [
    "simplex_tree_rp2.collapse_edges(nb_iterations=10)  # Run this cell several times if you want to iteratively collapse\n",
    "\n",
    "filtration_rp2 = []\n",
    "for s in simplex_tree_rp2.get_filtration():\n",
    "    filtration_rp2.append(s)\n",
    "\n",
    "print(f\"Filtration with {len(filtration_rp2)} simplices\")"
   ]
  },
  {
   "cell_type": "code",
   "execution_count": 186,
   "id": "c43889ca",
   "metadata": {},
   "outputs": [
    {
     "name": "stdout",
     "output_type": "stream",
     "text": [
      "Filtration with 20967 simplices\n"
     ]
    }
   ],
   "source": [
    "simplex_tree_rp2.expansion(3)  # Get the three-simplices after collapse\n",
    "\n",
    "filtration_rp2 = []\n",
    "for s in simplex_tree_rp2.get_filtration():\n",
    "    filtration_rp2.append(s)\n",
    "\n",
    "print(f\"Filtration with {len(filtration_rp2)} simplices\")"
   ]
  },
  {
   "cell_type": "code",
   "execution_count": 187,
   "id": "polyphonic-legislature",
   "metadata": {},
   "outputs": [
    {
     "data": {
      "text/plain": [
       "[(0, (0.0, inf)), (0, (0.0, 0.5416194778902602))]"
      ]
     },
     "execution_count": 187,
     "metadata": {},
     "output_type": "execute_result"
    }
   ],
   "source": [
    "barcode = simplex_tree_rp2.persistence(homology_coeff_field=2)\n",
    "filtered_barcode = [bar for bar in barcode if bar[1][1]-bar[1][0] > r*0.5]\n",
    "filtered_barcode"
   ]
  },
  {
   "cell_type": "code",
   "execution_count": 188,
   "id": "80e6a78e",
   "metadata": {},
   "outputs": [
    {
     "name": "stdout",
     "output_type": "stream",
     "text": [
      "time: 5.902426719665527\n",
      "[[], [], [], [(20255, 20270)]]\n"
     ]
    }
   ],
   "source": [
    "import time\n",
    "\n",
    "t0 = time.time()\n",
    "barcode_rp2, st_barcode_rp2 = barcodes(1, [tuple(s[0]) for s in filtration_rp2])\n",
    "t1 = time.time()\n",
    "\n",
    "print('time:', t1-t0)\n",
    "print(st_barcode_rp2)"
   ]
  }
 ],
 "metadata": {
  "kernelspec": {
   "display_name": "Python 3",
   "language": "python",
   "name": "python3"
  },
  "language_info": {
   "codemirror_mode": {
    "name": "ipython",
    "version": 3
   },
   "file_extension": ".py",
   "mimetype": "text/x-python",
   "name": "python",
   "nbconvert_exporter": "python",
   "pygments_lexer": "ipython3",
   "version": "3.9.1"
  }
 },
 "nbformat": 4,
 "nbformat_minor": 5
}
