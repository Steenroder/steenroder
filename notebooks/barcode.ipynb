{
 "cells": [
  {
   "cell_type": "markdown",
   "metadata": {},
   "source": [
    "# The regular barcode of persistent relative cohomology\n",
    "\n",
    "In this notebook we illustrate the use of ``steenroder`` for the computation of the regular barcode of persistent relative cohomology with mod 2 coefficients.\n",
    "The filtered simplicial complex $X$ that we consider is a model for the circle\n",
    "\n",
    "<img src=\"filtered_circle.png\" width=\"150\" height=\"150\">\n",
    "\n",
    "given by the following `tuple` of `tuple` of `int`:"
   ]
  },
  {
   "cell_type": "code",
   "execution_count": null,
   "metadata": {},
   "outputs": [],
   "source": [
    "circle = (\n",
    "    (0,), \n",
    "    (1,), (0,1), \n",
    "    (2,), (1,2), (0,2)\n",
    "    )\n",
    "\n",
    "filtration = circle\n",
    "maxdim = max([len(spx)-1 for spx in filtration])\n",
    "m = len(filtration)-1"
   ]
  },
  {
   "cell_type": "markdown",
   "metadata": {},
   "source": [
    "### Relative cohomology\n",
    "\n",
    "We will consider the persistent relative cohomology of $X$\n",
    "\n",
    "$$\n",
    "H^\\bullet(X) \\leftarrow H^\\bullet(X, X_{0}) \\leftarrow H^\\bullet(X, X_{1}) \\leftarrow \\cdots \\leftarrow H^\\bullet(X, X_{m})\n",
    "$$\n",
    "as a persistence module.\n",
    "\n",
    "### Its regular barcode\n",
    "\n",
    "For $i < j \\in \\{-1,\\dots,m\\}$ let $X_{ij}$ be the unique composition $H^\\bullet(X, X_{i}) \\leftarrow H^\\bullet(X, X_{j})$ with the convention $X_{-1} = \\emptyset$.\n",
    "The barcode of this persistence module is the multiset\n",
    "\n",
    "$$\n",
    "Bar_X =\n",
    "\\big\\{ [p,q] \\mid -1 \\le p < q \\le m \\big\\}\n",
    "$$\n",
    "\n",
    "defined by the property\n",
    "\n",
    "$$\n",
    "\\mathrm{rank} \\, X_{ij} =\n",
    "\\mathrm{card} \\big\\{[p,q] \\in Bar_X \\mid p \\le i < j \\le q \\big\\}.\n",
    "$$"
   ]
  },
  {
   "cell_type": "code",
   "execution_count": null,
   "metadata": {
    "scrolled": true
   },
   "outputs": [],
   "source": [
    "from steenroder import *\n",
    "\n",
    "barcode, st_barcode = barcodes(0, filtration)\n",
    "\n",
    "print(f'Barcode of persistent relative cohomology:')\n",
    "for d in range(maxdim + 1):\n",
    "    print(f'dim {d}: \\n{barcode[d]}')"
   ]
  },
  {
   "cell_type": "markdown",
   "metadata": {},
   "source": [
    "## How is it computed\n",
    "\n",
    "#### Boundary matrix\n",
    "\n",
    "Order the simplices $a_0 < a_1 < \\dots < a_m$ of $X$ so that $X_k = \\{a_i \\mid i \\leq k\\}$.\n",
    "Consider the matrix $D$ representing the boundary map $\\partial \\colon C_\\bullet(X;\\mathbb{F}_2) \\to C_{\\bullet-1}(X;\\mathbb{F}_2)$ with respect to the (ordered) basis determined by the (ordered) simplices.\n",
    "Explicitly,\n",
    "\n",
    "$$\n",
    "\\partial a_j = \\sum_{i=0}^m D_{ij} \\, a_i.\n",
    "$$\n",
    "\n",
    "Notice that the submatrix $D_{\\leq k \\leq k}$ represents the boundary of $C_\\bullet(X_k;\\mathbb F_2)$ for every $k \\in \\{0,\\dots,m\\}$.\n",
    "\n",
    "#### Anti-transpose\n",
    "\n",
    "We will consider the antitranspose $D^\\perp$ of the boundary matrix $D$.\n",
    "It is defined for every $p,q \\in \\{0,\\dots,m\\}$ by\n",
    "\n",
    "$$\n",
    "D^\\perp_{p,\\, q} = D_{\\bar q,\\ \\bar p}\n",
    "$$\n",
    "where $\\bar j = m-j$ for $j \\in \\{0,\\dots,m\\}$\n",
    "\n",
    "For any $k \\in \\{0,\\dots,m\\}$ the submatrix $D^\\perp_{\\leq k, \\leq k}$ represents the coboundary map $\\delta \\colon C^\\bullet(X, X_{m-k-1}; \\mathbb{F}_2) \\to C^{\\bullet+1}(X, X_{m-k-1}; \\mathbb{F}_2)$ with respect to the (ordered) dual basis $a_m^\\bullet < \\dots < a_{m-k}^\\bullet$.\n",
    "\n",
    "\n",
    "#### The $R = D^\\perp V$ decomposition\n",
    "\n",
    "Here $V$ is an invertible upper triangular matrix and $R$ is reduced, i.e., no two columns have the same pivot row.\n",
    "\n",
    "Denoting the $i$-th column of $R$ by $R_{i}$ where $i \\in \\{0,\\dots,m\\}$, let\n",
    "\n",
    "$$\n",
    "P = \\{ i \\ |\\ R_i = 0\\}, \\qquad N = \\{ i \\ |\\ R_i \\neq 0\\}, \\qquad E = P \\setminus \\{\\text{pivots of } R\\}.\n",
    "$$\n",
    "\n",
    "#### The regular barcode\n",
    "\n",
    "There exists a canonical bijection between the union of $N$ and $E$ and the persistence relative cohomology barcode of the filtration given by\n",
    "\n",
    "\\begin{align*}\n",
    "N \\ni j &\\mapsto \\big[ \\bar j, \\overline{\\mathrm{pivot}\\,R_j}\\, \\big] \\in Bar^{\\dim(j)+1}_X \\\\\n",
    "E \\ni j &\\mapsto \\big[ -1, \\bar j \\big] \\in Bar^{\\dim(j)}_X\n",
    "\\end{align*}\n",
    "\n",
    "#### Representatives\n",
    "\n",
    "Additionally, a representative cocycle is given by\n",
    "\\begin{equation*}\n",
    "[i,j] \\mapsto\n",
    "\\begin{cases}\n",
    "V_{\\bar j}, & i = -1, \\\\\n",
    "R_{\\bar i}, & i \\neq -1.\n",
    "\\end{cases}\n",
    "\\end{equation*}\n",
    "\n",
    "and a basis of coboundaries in $C^\\bullet(X, X_{m-j-1})$ corresponds to non-zero vectors in\n",
    "\n",
    "\\begin{equation*}\n",
    "\\{R_i\\ |\\ i \\in N,\\, i \\leq j\\}.\n",
    "\\end{equation*}"
   ]
  },
  {
   "cell_type": "markdown",
   "metadata": {},
   "source": [
    "## Using ``steenroder``\n",
    "\n",
    "#### Splitting by dimension\n",
    "\n",
    "In `steenroder` all computations are done dimension by dimension. We start by splitting the filtration into collection of simplices of the same dimension."
   ]
  },
  {
   "cell_type": "code",
   "execution_count": null,
   "metadata": {},
   "outputs": [],
   "source": [
    "filtration_by_dim = sort_filtration_by_dim(filtration)"
   ]
  },
  {
   "cell_type": "markdown",
   "metadata": {},
   "source": [
    "The output of ``sort_filtration_by_dim`` is as follows:\n",
    "\n",
    "For each dimension ``d``, a list of 2 aligned int arrays: the first is a 1D array containing the (ordered) positional indices of all ``d``-dimensional simplices in `filtration`; the second is a 2D array whose ``i``-th row is the (sorted) collection of vertices defining the ``i``-th ``d``-dimensional simplex."
   ]
  },
  {
   "cell_type": "code",
   "execution_count": null,
   "metadata": {},
   "outputs": [],
   "source": [
    "print(f'Simplices:')\n",
    "for d in range(maxdim + 1):\n",
    "    positions, simplices = filtration_by_dim[d]\n",
    "    print(f'dim {d}:\\n{simplices}\\nin positions {positions}.')"
   ]
  },
  {
   "cell_type": "markdown",
   "metadata": {},
   "source": [
    "#### A note on anti-transposition\n",
    "\n",
    "The anti-transposition operation $(-)^\\perp$ is determined by composing the usual trnasposition\n",
    "\n",
    "$$\n",
    "(-)^\\mathrm{T} \\colon (i, j) \\mapsto (j, i),\n",
    "$$\n",
    "and the horizontal and vertical flips\n",
    "$$\n",
    "(-)^\\mathrm{A} \\colon (i,j) \\mapsto (m-i, m-j).\n",
    "$$\n",
    "We remark that\n",
    "$$\n",
    "(M N)^\\mathrm{A} = M^\\mathrm{A} N^\\mathrm{A}.\n",
    "$$\n",
    "for any pair of square matrices $M$ and $N$."
   ]
  },
  {
   "cell_type": "markdown",
   "metadata": {},
   "source": [
    "#### The $R = D^\\perp V$ decomposition\n",
    "\n",
    "To compute the matrices $R$ and $V$ in the decomposition $R = D^\\perp V$ ``steenroder`` uses the method ``get_reduced_triangular``.\n",
    "It actually produces $R^\\mathrm{A}$ and $V^\\mathrm{A}$.\n",
    "More precisely, the output ``reduced`` is a tuple of ``numba.typed.List`` with ``reduced[d]`` the ``d``-dimensional part of $R^\\mathrm{A}$.\n",
    "More explicitly, for an integer $j$ we have that an integer $i$ is in the tuple ``reduced[d][j]`` if and only if $R^\\mathrm{A}_{ij} = 1$. \n",
    "Similarly ``triangular[d]`` is the ``d``-dimensional part of the $V^\\mathrm{A}$. There are also two other auxiliary outputs that will be discussed later, these are ``spx2idx`` and ``idxs``."
   ]
  },
  {
   "cell_type": "code",
   "execution_count": null,
   "metadata": {},
   "outputs": [],
   "source": [
    "spx2idx, idxs, reduced, triangular = get_reduced_triangular(filtration_by_dim)"
   ]
  },
  {
   "cell_type": "markdown",
   "metadata": {},
   "source": [
    "We will verify for our running example that $R = D^\\perp V$ by checking that the coboundary $D^\\mathrm{T}$ of this filtration is equal to $R^\\mathrm{A} U^\\mathrm{A}$ where $U$ is the inverse of $V$.\n",
    "\n",
    "Let us start by contructing the coboundary matrix $D^\\mathrm{T}$."
   ]
  },
  {
   "cell_type": "code",
   "execution_count": null,
   "metadata": {},
   "outputs": [],
   "source": [
    "coboundary = np.zeros((m+1,m+1), dtype=int)\n",
    "for j, x in enumerate(filtration):\n",
    "    for i, y in enumerate(filtration):\n",
    "        if len(x)+1 == len(y) and set(x).issubset(set(y)):   \n",
    "            coboundary[i,j] = 1\n",
    "print(f'D^T =\\n{coboundary}')"
   ]
  },
  {
   "cell_type": "markdown",
   "metadata": {},
   "source": [
    "We now represent $R^{\\mathrm{A}}$ and $V^{\\mathrm{A}}$ as instances of ``np.array``, compute $U^{\\mathrm{A}}$ and verify that $U^{\\mathrm{A}} R^{\\mathrm{A}}$ is equal to $D^{\\mathrm{T}}$ as claimed."
   ]
  },
  {
   "cell_type": "code",
   "execution_count": null,
   "metadata": {},
   "outputs": [],
   "source": [
    "def to_array(matrix, e=0):\n",
    "    \"\"\"Transforms reduced (e=1) and triangular (e=0) to numpy arrays\"\"\"\n",
    "    array = np.zeros((m+1,m+1), dtype=int)\n",
    "    for d in range(maxdim+1):\n",
    "        for i, col in enumerate(matrix[d]):\n",
    "            for j in col:\n",
    "                array[idxs[d+e][j], idxs[d][i]] = 1\n",
    "    return array\n",
    "\n",
    "antiR, antiV = to_array(reduced, e=1), to_array(triangular, e=0)\n",
    "antiU = np.array(np.linalg.inv(antiV), dtype=int)\n",
    "product = np.matmul(antiR, antiU) % 2\n",
    "print(f'D^T = R^AU^A: {(coboundary == product).all()}')"
   ]
  },
  {
   "cell_type": "markdown",
   "metadata": {},
   "source": [
    "#### Regular barcode and persistent cocycle representatives"
   ]
  },
  {
   "cell_type": "code",
   "execution_count": null,
   "metadata": {},
   "outputs": [],
   "source": [
    "barcode, coho_reps = get_barcode_and_coho_reps(idxs, reduced, triangular)"
   ]
  },
  {
   "cell_type": "markdown",
   "metadata": {},
   "source": [
    "For every ``d`` we have that ``barcode[d]`` is a 2D int array of shape ``(n_bars, 2)`` containing the birth (entry 1) and death (entry 0) indices of persistent relative cohomology classes in degree ``d``."
   ]
  },
  {
   "cell_type": "code",
   "execution_count": null,
   "metadata": {},
   "outputs": [],
   "source": [
    "for d in range(maxdim+1):\n",
    "    print(f'The barcode in dim {d}:\\n{barcode[d]}')"
   ]
  },
  {
   "cell_type": "markdown",
   "metadata": {},
   "source": [
    "We will compare this barcode with its description as\n",
    "\n",
    "\\begin{align*}\n",
    "N \\ni j &\\mapsto \\big[ \\bar j, (m-\\mathrm{pivot}\\,R_j) \\big] \\in Bar_{{\\dim(j)+1}}^{\\mathrm{fin}} \\\\\n",
    "E \\ni j &\\mapsto \\big[ -1, \\bar j \\big] \\in Bar_{\\dim(j)}^{\\mathrm{inf}}\n",
    "\\end{align*}\n",
    "where\n",
    "$$\n",
    "P = \\{ i \\ |\\ R_i = 0\\}, \\qquad N = \\{ i \\ |\\ R_i \\neq 0\\}, \\qquad E = P \\setminus \\{\\text{pivots of } R\\}.\n",
    "$$\n",
    "Let us start by obtaining $R$ from $R^{\\mathrm{A}}$."
   ]
  },
  {
   "cell_type": "code",
   "execution_count": null,
   "metadata": {},
   "outputs": [],
   "source": [
    "R = np.flip(antiR, [0,1])\n",
    "print(f'R =\\n{R}')"
   ]
  },
  {
   "cell_type": "markdown",
   "metadata": {},
   "source": [
    "We can not construct the sets $P$, $N$ and $E$."
   ]
  },
  {
   "cell_type": "code",
   "execution_count": null,
   "metadata": {},
   "outputs": [],
   "source": [
    "def pivot(column):\n",
    "    try:\n",
    "        return max(column.nonzero()[0])\n",
    "    except ValueError:\n",
    "        pass\n",
    "\n",
    "P, N, E = [], [], []\n",
    "for i, col in enumerate(R.T):\n",
    "    if pivot(col):\n",
    "        N.append(i)\n",
    "        E.remove(pivot(col))\n",
    "    else:\n",
    "        P.append(i)\n",
    "        E.append(i)\n",
    "\n",
    "print(f'P = {P}\\nN = {N}\\nE = {E}')"
   ]
  },
  {
   "cell_type": "markdown",
   "metadata": {},
   "source": [
    "Finally we deduce the barcode from these."
   ]
  },
  {
   "cell_type": "code",
   "execution_count": null,
   "metadata": {},
   "outputs": [],
   "source": [
    "bcode = [[] for d in range(maxdim+1)]\n",
    "\n",
    "for j in N:\n",
    "    d = len(filtration[m-j])\n",
    "    bcode[d].append([m-j, m-pivot(R[:,j])])\n",
    "        \n",
    "for j in E:\n",
    "    d = len(filtration[m-j])-1\n",
    "    bcode[d].append([-1, m-j])\n",
    "\n",
    "for d in range(maxdim+1):\n",
    "    print(f'The barcode in dim {d}:\\n{bcode[d]}')"
   ]
  },
  {
   "cell_type": "markdown",
   "metadata": {},
   "source": [
    "Let us now consider the other output ``coho_reps[d][k]``.\n",
    "It is a list of positional indices, relative to the ``d``-dimensional portion of the filtration, representing the bar ``barcode[d][k]`` for every ``k``.\n",
    "\n",
    "To express these representatives in terms of cochains, we use that ``idxs[d]`` is an int array containing the (ordered) positional indices of all ``d``-dimensional simplices in the filtration."
   ]
  },
  {
   "cell_type": "code",
   "execution_count": null,
   "metadata": {},
   "outputs": [],
   "source": [
    "for d in range(maxdim+1):\n",
    "    for bar, rel_positions in zip(barcode[d], coho_reps[d]):\n",
    "        coho_rep = []\n",
    "        for p in rel_positions:\n",
    "            coho_rep.append(filtration[idxs[d][p]])\n",
    "        print(f\"{str(bar): <7} rep. by {coho_rep}\")"
   ]
  },
  {
   "cell_type": "markdown",
   "metadata": {},
   "source": [
    "We will now compare these representatives to their description as\n",
    "\\begin{equation*}\n",
    "[i,j] \\mapsto\n",
    "\\begin{cases}\n",
    "V_{\\bar j}, & i = -1, \\\\\n",
    "R_{\\bar i}, & i \\neq -1.\n",
    "\\end{cases}\n",
    "\\end{equation*}"
   ]
  },
  {
   "cell_type": "code",
   "execution_count": null,
   "metadata": {
    "scrolled": false
   },
   "outputs": [],
   "source": [
    "V = np.flip(antiV, [0,1])\n",
    "\n",
    "for d in range(maxdim+1):\n",
    "    for bar in barcode[d]:\n",
    "        i,j = bar\n",
    "        c_rep = []\n",
    "        if i == -1:\n",
    "            nonzeros = np.nonzero(V[:,m-j])[0]\n",
    "        else:\n",
    "            nonzeros = np.nonzero(R[:,m-i])[0]\n",
    "        for p in nonzeros:\n",
    "            c_rep.append(filtration[m-p])\n",
    "        print(f'{str(bar): <7} rep. by {c_rep}')"
   ]
  },
  {
   "cell_type": "markdown",
   "metadata": {},
   "source": [
    "#### To-Do\n",
    "Explain duality between persistent relative cohomology and persistent homology."
   ]
  }
 ],
 "metadata": {
  "kernelspec": {
   "display_name": "Python 3",
   "language": "python",
   "name": "python3"
  },
  "language_info": {
   "codemirror_mode": {
    "name": "ipython",
    "version": 3
   },
   "file_extension": ".py",
   "mimetype": "text/x-python",
   "name": "python",
   "nbconvert_exporter": "python",
   "pygments_lexer": "ipython3",
   "version": "3.9.1"
  }
 },
 "nbformat": 4,
 "nbformat_minor": 2
}
