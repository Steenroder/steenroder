{
 "cells": [
  {
   "cell_type": "code",
   "execution_count": null,
   "id": "b61c6b02",
   "metadata": {},
   "outputs": [],
   "source": [
    "from torchvision.models import vgg16"
   ]
  },
  {
   "cell_type": "code",
   "execution_count": null,
   "id": "21c71a8c",
   "metadata": {},
   "outputs": [],
   "source": [
    "m = vgg16(pretrained=True)"
   ]
  },
  {
   "cell_type": "code",
   "execution_count": null,
   "id": "e9771e3a",
   "metadata": {},
   "outputs": [],
   "source": [
    "weights = []\n",
    "for l in m.features:\n",
    "    if type(l) == torch.nn.modules.conv.Conv2d:\n",
    "        weights.append(l.weight.detach().numpy())"
   ]
  },
  {
   "cell_type": "code",
   "execution_count": null,
   "id": "9f395527",
   "metadata": {},
   "outputs": [],
   "source": [
    "# weights_flattened = []\n",
    "for I, weight in enumerate(weights):\n",
    "    arr = np.empty((weight.shape[0] * weight.shape[1], weight.shape[2] * weight.shape[3]), dtype=weight.dtype)\n",
    "    k = 0\n",
    "    for i in range(weight.shape[0]):\n",
    "        for j in range(weight.shape[1]):\n",
    "            arr[k] = weight[i, j].flatten()\n",
    "            k += 1\n",
    "    np.save(f\"vgg16_lay{I+13.npy\", weights_flattened[3])"
   ]
  },
  {
   "cell_type": "code",
   "execution_count": null,
   "id": "32d73934",
   "metadata": {},
   "outputs": [],
   "source": [
    "np.save(\"vgg16_lay3.npy\", weights_flattened[3])"
   ]
  }
 ],
 "metadata": {
  "kernelspec": {
   "display_name": "Python 3",
   "language": "python",
   "name": "python3"
  },
  "language_info": {
   "codemirror_mode": {
    "name": "ipython",
    "version": 3
   },
   "file_extension": ".py",
   "mimetype": "text/x-python",
   "name": "python",
   "nbconvert_exporter": "python",
   "pygments_lexer": "ipython3",
   "version": "3.9.2"
  }
 },
 "nbformat": 4,
 "nbformat_minor": 5
}
