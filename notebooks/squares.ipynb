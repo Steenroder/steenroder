{
 "cells": [
  {
   "cell_type": "markdown",
   "metadata": {},
   "source": [
    "# Steenrod squares\n",
    "\n",
    "For any complex $X$ we have maps\n",
    "\\begin{equation*}\n",
    "Sq^k : H^\\bullet(X; \\mathbb F_2) \\to H^{\\bullet + k}(X; \\mathbb F_2)\n",
    "\\end{equation*}\n",
    "\n",
    "for each $k \\geq 0$ satisfying $f^* \\circ Sq^k = Sq^k \\circ f^*$ for any map $X \\to Y$.\n",
    "\n",
    "The ranks of these detect finner information beyond the Betti numbers, e.g.:\n",
    "\n",
    "1. The real projective plane and the wedge of a circle and a sphere have, with $\\mathbb F_2$-coefficients, the same Betti numbers, yet the rank of $Sq^1$ tells them apart.\n",
    "\n",
    "2. The complex projective plane and the wedge of a 2-sphere and a 4-sphere have the same Betti numbers with any coefficients, yet the rank of $Sq^2$ tells them apart.\n",
    "\n",
    "3. The suspensions of the two spaces above have the same Betti numbers and also isomorphic cohomology rings, yet the rank of $Sq^2$ tells them apart.\n",
    "\n",
    "These cohomology operations are induced from structure defined at the cochain level. Given $\\alpha$ a degree $q$ cocycle, we can construct a cocycle $SQ^k(\\alpha)$ representing $Sq^k([\\alpha])$. In the simplicial and cubical context the construction of $SQ^k(\\alpha)$ is effective.\n",
    "\n",
    "Given a basis element of dimension $q+k$, we will describe a decomposition of it into pairs of basis elements contained in the original one. \n",
    "\n",
    "\\begin{equation*}\n",
    "\\sigma \\mapsto \\{\\sigma_i^1 \\times \\sigma_i^2\\}_{i = 1}^p\n",
    "\\end{equation*}\n",
    "\n",
    "The desired cocycle is defined by \n",
    "\\begin{equation*}\n",
    "SQ^k(\\alpha)(\\sigma) = \\sum_{i = 1}^p \\alpha(\\sigma_i^1)\\ \\alpha(\\sigma_i^2).\n",
    "\\end{equation*}"
   ]
  },
  {
   "cell_type": "code",
   "execution_count": null,
   "metadata": {},
   "outputs": [],
   "source": [
    "from clesto import SteenrodOperation"
   ]
  },
  {
   "cell_type": "code",
   "execution_count": null,
   "metadata": {
    "scrolled": true
   },
   "outputs": [],
   "source": [
    "p = 2  # prime\n",
    "k = 2  # exponent of operation\n",
    "n = 1  # degree acted on\n",
    "SQ = SteenrodOperation(p, k, n, convention='cochain')\n",
    "print(f'{tuple(range(n+k+1))} --> {SQ.as_EilenbergZilber_element()(n+k)}')"
   ]
  },
  {
   "cell_type": "markdown",
   "metadata": {},
   "source": [
    "**Remark**. For any $\\alpha$ of degree $n$ \n",
    "\n",
    "1. $SQ^0(\\alpha) = \\alpha$,\n",
    "2. $SQ^k(\\alpha) = 0$ if $k > n$,\n",
    "3. We mostly care about $\\alpha$ a homogeneous cocycle"
   ]
  },
  {
   "cell_type": "code",
   "execution_count": null,
   "metadata": {},
   "outputs": [],
   "source": [
    "from clesto import EilenbergZilber_element\n",
    "\n",
    "p = 2  # prime\n",
    "k = 2  # exponent of operation\n",
    "n = 3  # acted on degree\n",
    "SQ = SteenrodOperation(p, k, n, convention='cochain')\n",
    "SQ = SQ.as_EilenbergZilber_element()\n",
    "\n",
    "# filter out assuming a is a homogenous cochain\n",
    "SQ = EilenbergZilber_element({k: v for k, v in SQ.items()\n",
    "    if len(set((len(x) for x in k))) == 1})\n",
    "\n",
    "print(f'{tuple(range(n+k+1))} --> {SQ(n+k)}')"
   ]
  }
 ],
 "metadata": {
  "kernelspec": {
   "display_name": "Python 3",
   "language": "python",
   "name": "python3"
  },
  "language_info": {
   "codemirror_mode": {
    "name": "ipython",
    "version": 3
   },
   "file_extension": ".py",
   "mimetype": "text/x-python",
   "name": "python",
   "nbconvert_exporter": "python",
   "pygments_lexer": "ipython3",
   "version": "3.7.3"
  }
 },
 "nbformat": 4,
 "nbformat_minor": 2
}
