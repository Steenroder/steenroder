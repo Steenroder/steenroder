{
 "cells": [
  {
   "cell_type": "code",
   "execution_count": null,
   "id": "6b969cea",
   "metadata": {},
   "outputs": [],
   "source": [
    "%load_ext autoreload\n",
    "%autoreload 2\n",
    "\n",
    "import time\n",
    "import itertools\n",
    "\n",
    "import numpy as np\n",
    "import pickle as pkl\n",
    "\n",
    "from scipy import spatial as spatial\n",
    "from scipy import sparse as sp\n",
    "from sklearn.preprocessing import scale\n",
    "\n",
    "from gtda.homology import VietorisRipsPersistence\n",
    "\n",
    "from steenroder import *\n",
    "import gudhi\n",
    "\n",
    "from matplotlib import pyplot as plt"
   ]
  },
  {
   "cell_type": "code",
   "execution_count": null,
   "id": "b3e9f6c0",
   "metadata": {},
   "outputs": [],
   "source": [
    "def get_density_filtered_point_cloud(weight_array,\n",
    "                                     k_th_nearest=200,\n",
    "                                     percentage=0.3,\n",
    "                                     user_axis=1):\n",
    "    \"\"\"\n",
    "    Returns a density filtered point cloud of 9-vectors\n",
    "    Parameters\n",
    "    ----------\n",
    "    weight_array: array\n",
    "        An array of 9-dimensional points i.e the weights of 3x3 patches\n",
    "    k_th_nearest : integer, optional, default: 200\n",
    "        Indicates the k-th neighbour used as a density estimator\n",
    "    percentage : integer, optional, default: 0.3\n",
    "        The percentage of the point cloud cardinality to be left after filtration\n",
    "    user_axis :\n",
    "        integer 0 or 1 for scaling axis, 0 is column normalization, 1 is row norm.\n",
    "    \"\"\"\n",
    "    normalized_weight_array = scale(weight_array, axis=user_axis)\n",
    "    m_dimension, n_dimension = normalized_weight_array.shape\n",
    "    number_of_kth_densest_points = int(percentage*m_dimension)\n",
    "    condensed_weight_distance_matrix = spatial.distance.pdist(normalized_weight_array)\n",
    "    redundant_weight_distance_matrix = spatial.distance.squareform(condensed_weight_distance_matrix)\n",
    "    kth_nearest_index_matrix = np.argsort(redundant_weight_distance_matrix, axis=1)\n",
    "    kth_nearest_index_vector = np.zeros((m_dimension, 1), dtype=int)\n",
    "    for i in range(m_dimension):\n",
    "        kth_nearest_index = kth_nearest_index_matrix[i][k_th_nearest]\n",
    "        kth_nearest_index_vector[i] = kth_nearest_index\n",
    "    # kth_nearest_distances = redundant_weight_distance_matrix[kth_nearest_index_vector]\n",
    "    kth_nearest_distances = np.take_along_axis(redundant_weight_distance_matrix,\n",
    "                                               kth_nearest_index_vector, axis=1)\n",
    "    kth_nearest_indices_sorted = np.argsort(kth_nearest_distances, axis=0)\n",
    "    p_of_kth_nearest_indices = kth_nearest_indices_sorted[0:number_of_kth_densest_points]\n",
    "    pth_densest_points = normalized_weight_array[p_of_kth_nearest_indices]\n",
    "    pth_densest_points = np.reshape(pth_densest_points, (-1, n_dimension))\n",
    "\n",
    "    return pth_densest_points"
   ]
  },
  {
   "cell_type": "code",
   "execution_count": null,
   "id": "e47def84",
   "metadata": {},
   "outputs": [],
   "source": [
    "weights = np.load('data/vgg16_lay2.npy')"
   ]
  },
  {
   "cell_type": "code",
   "execution_count": null,
   "id": "09f40f6c",
   "metadata": {},
   "outputs": [],
   "source": [
    "X = get_density_filtered_point_cloud(weights, k_th_nearest=200, percentage=0.2, user_axis=1)\n",
    "print(len(X))\n",
    "\n",
    "dm = spatial.distance.pdist(X)\n",
    "plt.hist(dm, bins=100);\n",
    "plt.title(\"Histogram of pairwise distances in X\");\n",
    "plt.show()"
   ]
  },
  {
   "cell_type": "code",
   "execution_count": null,
   "id": "f5f7e1a2",
   "metadata": {},
   "outputs": [],
   "source": [
    "max_edge_length = 5\n",
    "\n",
    "VietorisRipsPersistence(homology_dimensions=(0, 1),\n",
    "#                         collapse_edges=True,\n",
    "                        max_edge_length=max_edge_length,\n",
    "                        infinity_values=np.inf).fit_transform_plot([X]);"
   ]
  },
  {
   "cell_type": "code",
   "execution_count": null,
   "id": "e49729d0",
   "metadata": {},
   "outputs": [],
   "source": [
    "k = 1"
   ]
  },
  {
   "cell_type": "code",
   "execution_count": null,
   "id": "5b89a72f",
   "metadata": {},
   "outputs": [],
   "source": [
    "rips_complex_coll = gudhi.RipsComplex(points=X, max_edge_length=max_edge_length)\n",
    "simplex_tree_coll = rips_complex_coll.create_simplex_tree(max_dimension=1)  # Only get the 1-skeleton this time"
   ]
  },
  {
   "cell_type": "code",
   "execution_count": null,
   "id": "6c0108b5",
   "metadata": {},
   "outputs": [],
   "source": [
    "simplex_tree_coll.collapse_edges(nb_iterations=10)\n",
    "\n",
    "filtration_coll = []\n",
    "for s in simplex_tree_coll.get_filtration():\n",
    "    filtration_coll.append(s)\n",
    "\n",
    "print(f\"Filtration with {len(filtration_coll)} simplices\")"
   ]
  },
  {
   "cell_type": "code",
   "execution_count": null,
   "id": "a169ffa8",
   "metadata": {},
   "outputs": [],
   "source": [
    "simplex_tree_coll.expansion(2)  # Get the three-simplices after collapse"
   ]
  },
  {
   "cell_type": "code",
   "execution_count": null,
   "id": "e6d06dbc",
   "metadata": {},
   "outputs": [],
   "source": [
    "filtration_coll = []\n",
    "for s in simplex_tree_coll.get_filtration():\n",
    "    filtration_coll.append(s)\n",
    "\n",
    "print(f\"Filtration with {len(filtration_coll)} simplices\")"
   ]
  },
  {
   "cell_type": "code",
   "execution_count": null,
   "id": "4b8a0d7a",
   "metadata": {},
   "outputs": [],
   "source": [
    "barcode_coll, st_barcode_coll = barcodes(\n",
    "    k,\n",
    "    [tuple(s[0]) for s in filtration_coll], \n",
    "    homology=True,\n",
    "    filtration_values=np.array([s[1] for s in filtration_coll]),\n",
    "    return_filtration_values=True,\n",
    "    maxdim=2\n",
    ")"
   ]
  },
  {
   "cell_type": "code",
   "execution_count": null,
   "id": "7500a614",
   "metadata": {},
   "outputs": [],
   "source": [
    "gudhi_barcode = simplex_tree_coll.persistence(homology_coeff_field=2, persistence_dim_max=True)\n",
    "check_agreement_with_gudhi(gudhi_barcode, barcode_coll)"
   ]
  }
 ],
 "metadata": {
  "kernelspec": {
   "display_name": "Python 3",
   "language": "python",
   "name": "python3"
  },
  "language_info": {
   "codemirror_mode": {
    "name": "ipython",
    "version": 3
   },
   "file_extension": ".py",
   "mimetype": "text/x-python",
   "name": "python",
   "nbconvert_exporter": "python",
   "pygments_lexer": "ipython3",
   "version": "3.9.2"
  }
 },
 "nbformat": 4,
 "nbformat_minor": 5
}
