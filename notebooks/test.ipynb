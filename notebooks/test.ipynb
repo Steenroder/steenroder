{
 "cells": [
  {
   "cell_type": "code",
   "execution_count": null,
   "id": "later-weekly",
   "metadata": {},
   "outputs": [],
   "source": [
    "from steenroder import * \n",
    "import pickle as pkl\n",
    "\n",
    "filtration = pkl.load(open(\"data/rp2.pkl\", \"rb\"))"
   ]
  },
  {
   "cell_type": "code",
   "execution_count": null,
   "id": "amended-commonwealth",
   "metadata": {
    "scrolled": true
   },
   "outputs": [],
   "source": [
    "k = 2\n",
    "print('Infinite barcodes (relative cohomology):')\n",
    "barcode, st_barcode = barcodes(k, filtration)\n",
    "print(f'Regular:')\n",
    "for d, bars in enumerate(barcode):\n",
    "    print(d, bars[np.where(bars == -1)[0],:])\n",
    "print(f'Sq^{k}:')\n",
    "for d, bars in enumerate(st_barcode):\n",
    "    print(d, bars[np.where(bars == -1)[0],:])"
   ]
  },
  {
   "cell_type": "markdown",
   "id": "imposed-energy",
   "metadata": {},
   "source": [
    "The $Sq^2$-barcode should have been completely empty."
   ]
  },
  {
   "cell_type": "code",
   "execution_count": null,
   "id": "announced-corpus",
   "metadata": {},
   "outputs": [],
   "source": [
    "filtration_by_dim = sort_filtration_by_dim(filtration)\n",
    "spx2idx, idxs, reduced, triangular = get_reduced_triangular(filtration_by_dim)\n",
    "barcode, coho_reps = get_barcode_and_coho_reps(idxs, reduced, triangular)\n",
    "steenrod_matrix = get_steenrod_matrix(k, coho_reps, filtration_by_dim, spx2idx)"
   ]
  },
  {
   "cell_type": "code",
   "execution_count": null,
   "id": "frozen-slovakia",
   "metadata": {},
   "outputs": [],
   "source": [
    "steenrod_matrix"
   ]
  },
  {
   "cell_type": "markdown",
   "id": "baking-lightweight",
   "metadata": {},
   "source": [
    "It seems to me that `steenrod_matrix[1]` and `steenrod_matrix[2]` should be equal. In other words, we are missing that $Sq^k([\\alpha]) = 0$ for $|\\alpha| < k$."
   ]
  }
 ],
 "metadata": {
  "kernelspec": {
   "display_name": "Python 3",
   "language": "python",
   "name": "python3"
  },
  "language_info": {
   "codemirror_mode": {
    "name": "ipython",
    "version": 3
   },
   "file_extension": ".py",
   "mimetype": "text/x-python",
   "name": "python",
   "nbconvert_exporter": "python",
   "pygments_lexer": "ipython3",
   "version": "3.9.1"
  }
 },
 "nbformat": 4,
 "nbformat_minor": 5
}
